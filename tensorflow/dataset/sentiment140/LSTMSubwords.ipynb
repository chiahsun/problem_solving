{
 "cells": [
  {
   "cell_type": "code",
   "execution_count": 1,
   "id": "868c8a2a-b69b-4437-81de-775d9b4d9cea",
   "metadata": {},
   "outputs": [
    {
     "data": {
      "text/plain": [
       "'2.5.0'"
      ]
     },
     "execution_count": 1,
     "metadata": {},
     "output_type": "execute_result"
    }
   ],
   "source": [
    "import tensorflow as tf\n",
    "\n",
    "keras = tf.keras\n",
    "\n",
    "tf.__version__"
   ]
  },
  {
   "cell_type": "markdown",
   "id": "1262b2cc-13de-4bed-989d-617265957736",
   "metadata": {},
   "source": [
    "# Prepare Data"
   ]
  },
  {
   "cell_type": "code",
   "execution_count": 2,
   "id": "77d36f0c-abe2-470a-87e6-a5ee215c45a5",
   "metadata": {},
   "outputs": [],
   "source": [
    "import tensorflow_datasets as tfds\n",
    "\n",
    "(train_ds, valid_ds, test_ds), info = tfds.load(\n",
    "    'sentiment140',\n",
    "#    split = ['train[0:10%]', 'train[10%:12%]', 'test'],\n",
    "    split = ['train[0:5%]', 'train[5%:6%]', 'test'],\n",
    "    as_supervised = True,\n",
    "    with_info = True,\n",
    ")"
   ]
  },
  {
   "cell_type": "code",
   "execution_count": 3,
   "id": "11ea07b6-dd46-42b2-8d59-dd6fbc6a0b0a",
   "metadata": {},
   "outputs": [
    {
     "name": "stdout",
     "output_type": "stream",
     "text": [
      "<dtype: 'string'>\n",
      "<dtype: 'int32'>\n",
      "1600000\n",
      "498\n"
     ]
    }
   ],
   "source": [
    "print(info.features['text'].dtype)\n",
    "print(info.features['polarity'].dtype) # 0 ~ 4\n",
    "\n",
    "print(info.splits['train'].num_examples)\n",
    "print(info.splits['test'].num_examples)"
   ]
  },
  {
   "cell_type": "code",
   "execution_count": 4,
   "id": "a488d109-c920-49a9-9c85-c1a59a986231",
   "metadata": {},
   "outputs": [
    {
     "name": "stdout",
     "output_type": "stream",
     "text": [
      "4\ti'm 10x cooler than all of you! \n",
      "0\tO.kk? Thats weird I cant stop following people on twitter... I have tons of people to unfollow \n",
      "4\twhat a beautiful day not to got to my first class \n",
      "4\t.@HildyGottlieb &amp; I was just saying to Maha'al yesterday, everything we ever needed to know was in Beatles' lyrics - you prove my point! \n",
      "0\tkinda sad and confused  why do guys do this?\n"
     ]
    }
   ],
   "source": [
    "def decode_text(tensor):\n",
    "    return tensor.numpy().decode('utf-8')\n",
    "\n",
    "for text, label in train_ds.take(5):\n",
    "    print(label.numpy(), decode_text(text), sep = '\\t')"
   ]
  },
  {
   "cell_type": "code",
   "execution_count": 5,
   "id": "0b0df96a-af23-420a-ad06-c94c87e7dc1e",
   "metadata": {},
   "outputs": [
    {
     "data": {
      "text/plain": [
       "3748"
      ]
     },
     "execution_count": 5,
     "metadata": {},
     "output_type": "execute_result"
    }
   ],
   "source": [
    "vocab_size = 4000\n",
    "test_sentences = []\n",
    "\n",
    "for binary_text, _ in test_ds:\n",
    "    test_sentences.append(decode_text(binary_text))\n",
    "\n",
    "# https://www.tensorflow.org/datasets/api_docs/python/tfds/deprecated/text/SubwordTextEncoder\n",
    "tokenizer = tfds.deprecated.text.SubwordTextEncoder.build_from_corpus(\n",
    "    test_sentences,\n",
    "    vocab_size,\n",
    "    max_subword_length = 5,\n",
    ")\n",
    "tokenizer.vocab_size"
   ]
  },
  {
   "cell_type": "code",
   "execution_count": 6,
   "id": "0da58894-839c-4225-a2bb-1503b1dc270f",
   "metadata": {},
   "outputs": [
    {
     "name": "stdout",
     "output_type": "stream",
     "text": [
      "looks like summize has gone down. too many tweets from WWDC perhaps?\n"
     ]
    },
    {
     "data": {
      "text/plain": [
       "array(['looks', ' ', 'like ', 'summi', 'ze ', 'has ', 'gone ', 'down',\n",
       "       '. ', 'too ', 'many ', 'tweet', 's ', 'from ', 'WWDC ', 'perha',\n",
       "       'ps', '?'], dtype='<U5')"
      ]
     },
     "execution_count": 6,
     "metadata": {},
     "output_type": "execute_result"
    }
   ],
   "source": [
    "import numpy as np\n",
    "\n",
    "pos = 0\n",
    "print(test_sentences[pos])\n",
    "encoded = tokenizer.encode(test_sentences[pos])\n",
    "np.array(list(map(lambda i: tokenizer.decode([i]), encoded)))"
   ]
  },
  {
   "cell_type": "code",
   "execution_count": 7,
   "id": "8eaab4e8-aa8f-4402-bece-b8c08c120e3e",
   "metadata": {},
   "outputs": [
    {
     "name": "stdout",
     "output_type": "stream",
     "text": [
      "(32, 50)\n",
      "tf.Tensor(\n",
      "[ 284 3524  102  691  425  136 2051  301    1  263  795  262    9   50\n",
      " 2602 1579  742 3555    0    0    0    0    0    0    0    0    0    0\n",
      "    0    0    0    0    0    0    0    0    0    0    0    0    0    0\n",
      "    0    0    0    0    0    0    0    0], shape=(50,), dtype=int32)\n",
      "[ 284 3524  102  691  425  136 2051  301    1  263  795  262    9   50\n",
      " 2602 1579  742 3555    0    0    0    0    0    0    0    0    0    0\n",
      "    0    0    0    0    0    0    0    0    0    0    0    0    0    0\n",
      "    0    0    0    0    0    0    0    0]\n"
     ]
    }
   ],
   "source": [
    "from keras.preprocessing.sequence import pad_sequences\n",
    "\n",
    "batch_size = 32\n",
    "maxlen = 50\n",
    "\n",
    "def encode_and_pad_sequence(tensors):\n",
    "    texts = map(lambda t: t.numpy().decode('utf-8'), tensors)\n",
    "    encoded = list(map(lambda t: tokenizer.encode(t), texts))\n",
    "#    print(f'Encoded: {encoded}')\n",
    "    padded = pad_sequences(\n",
    "        encoded,\n",
    "        maxlen = maxlen,\n",
    "        truncating = 'post',\n",
    "        padding = 'post',\n",
    "    )\n",
    "#    print(f'Padded: {padded}')\n",
    "#    print(padded.shape)\n",
    "    return padded\n",
    "\n",
    "# https://stackoverflow.com/questions/56122670/how-to-get-string-value-out-of-tf-tensor-which-dtype-is-string\n",
    "@tf.function\n",
    "def encoder(text):\n",
    "    return tf.py_function(func=encode_and_pad_sequence, inp=[text], Tout = tf.int32)\n",
    "\n",
    "def create_test_batch_ds(ds):\n",
    "    ds = ds.batch(batch_size)\n",
    "    ds = ds.map(lambda text, label: (encoder(text), label))\n",
    "    return ds.cache().prefetch(tf.data.AUTOTUNE)\n",
    "\n",
    "test_batch_ds = create_test_batch_ds(test_ds)\n",
    "valid_batch_ds = create_test_batch_ds(valid_ds)\n",
    "\n",
    "for text_batch, _ in test_batch_ds.take(2):\n",
    "    print(text_batch.shape)\n",
    "    print(text_batch[0])\n",
    "    print(text_batch[0].numpy())\n",
    "    break"
   ]
  },
  {
   "cell_type": "code",
   "execution_count": 8,
   "id": "d3fb419f-5114-47f6-b493-40b42188c527",
   "metadata": {},
   "outputs": [
    {
     "name": "stdout",
     "output_type": "stream",
     "text": [
      "(32, 50)\n",
      "tf.Tensor(\n",
      "[3556  286 3600 3609 3598  767 3563 1869   28   47   10   75 3594 1902\n",
      "  300   30    0    0    0    0    0    0    0    0    0    0    0    0\n",
      "    0    0    0    0    0    0    0    0    0    0    0    0    0    0\n",
      "    0    0    0    0    0    0    0    0], shape=(50,), dtype=int32)\n",
      "[3556  286 3600 3609 3598  767 3563 1869   28   47   10   75 3594 1902\n",
      "  300   30    0    0    0    0    0    0    0    0    0    0    0    0\n",
      "    0    0    0    0    0    0    0    0    0    0    0    0    0    0\n",
      "    0    0    0    0    0    0    0    0]\n"
     ]
    }
   ],
   "source": [
    "def create_train_batch_ds(ds):\n",
    "    ds = ds.batch(batch_size)\n",
    "    ds = ds.map(lambda text, label: (encoder(text), label))\n",
    "    ds = ds.cache()\n",
    "    return ds.shuffle(1000).prefetch(tf.data.AUTOTUNE)\n",
    "\n",
    "train_batch_ds = create_train_batch_ds(train_ds)\n",
    "for text_batch, _ in train_batch_ds.take(2):\n",
    "    print(text_batch.shape)\n",
    "    print(text_batch[0])\n",
    "    print(text_batch[0].numpy())\n",
    "    break"
   ]
  },
  {
   "cell_type": "markdown",
   "id": "abbcf72e-e4b2-4202-b675-78267048c482",
   "metadata": {},
   "source": [
    "# Build and Train Model"
   ]
  },
  {
   "cell_type": "code",
   "execution_count": 9,
   "id": "a73a3921-8cda-49b5-810d-9db273754503",
   "metadata": {},
   "outputs": [],
   "source": [
    "import pandas as pd\n",
    "import matplotlib.pyplot as plt\n",
    "\n",
    "def plot_item(history_df, colname = 'loss', f = np.min, ax = None):\n",
    "    val_colname = f'val_{colname}'\n",
    "    print(f'{colname}: {f(history_df[colname]):.4f} - {val_colname}: {f(history_df[val_colname]):.4f}')\n",
    "    history_df.loc[:, [colname, val_colname]].plot(title = colname.capitalize() , ax = ax)\n",
    "\n",
    "def show_history(history):\n",
    "    history_df = pd.DataFrame(history.history)\n",
    "    \n",
    "    fig, axes = plt.subplots(nrows = 1, ncols = 2, figsize = (15, 5))\n",
    "    plot_item(history_df, 'loss', ax = axes[0])\n",
    "    plot_item(history_df, 'accuracy', ax = axes[1], f = np.max)"
   ]
  },
  {
   "cell_type": "markdown",
   "id": "56afe708-98d4-49f8-84fd-23bd09a99031",
   "metadata": {},
   "source": [
    "## DNN"
   ]
  },
  {
   "cell_type": "code",
   "execution_count": 10,
   "id": "532575fd-9c4a-4012-8bfc-8357af01f4c3",
   "metadata": {},
   "outputs": [
    {
     "name": "stdout",
     "output_type": "stream",
     "text": [
      "Model: \"sequential\"\n",
      "_________________________________________________________________\n",
      "Layer (type)                 Output Shape              Param #   \n",
      "=================================================================\n",
      "embedding (Embedding)        (None, 50, 16)            64000     \n",
      "_________________________________________________________________\n",
      "global_average_pooling1d (Gl (None, 16)                0         \n",
      "_________________________________________________________________\n",
      "dense (Dense)                (None, 32)                544       \n",
      "_________________________________________________________________\n",
      "dropout (Dropout)            (None, 32)                0         \n",
      "_________________________________________________________________\n",
      "dense_1 (Dense)              (None, 16)                528       \n",
      "_________________________________________________________________\n",
      "dropout_1 (Dropout)          (None, 16)                0         \n",
      "_________________________________________________________________\n",
      "dense_2 (Dense)              (None, 5)                 85        \n",
      "=================================================================\n",
      "Total params: 65,157\n",
      "Trainable params: 65,157\n",
      "Non-trainable params: 0\n",
      "_________________________________________________________________\n"
     ]
    }
   ],
   "source": [
    "embedding_dim = 16\n",
    "\n",
    "model = keras.Sequential([\n",
    "    keras.layers.Embedding(vocab_size, embedding_dim, input_length = maxlen),\n",
    "    keras.layers.GlobalAveragePooling1D(),\n",
    "    keras.layers.Dense(32, activation = 'relu'),\n",
    "    keras.layers.Dropout(0.3),\n",
    "    keras.layers.Dense(16, activation = 'relu'),\n",
    "    keras.layers.Dropout(0.3),\n",
    "    keras.layers.Dense(5),\n",
    "])\n",
    "model.summary()"
   ]
  },
  {
   "cell_type": "code",
   "execution_count": 11,
   "id": "47846d6b-396e-4f4c-9cc5-ae6b77ab52b9",
   "metadata": {},
   "outputs": [],
   "source": [
    "def fit_model(model, epochs = 500, patience = 2):\n",
    "    \n",
    "    model.compile(\n",
    "        optimizer = 'adam',\n",
    "        loss = keras.losses.SparseCategoricalCrossentropy(from_logits = True),\n",
    "        metrics = ['accuracy'],\n",
    "    )\n",
    "\n",
    "    early_stopping = keras.callbacks.EarlyStopping(\n",
    "        patience = patience,\n",
    "        restore_best_weights = True,\n",
    "    )\n",
    "\n",
    "    history = model.fit(\n",
    "        train_batch_ds, \n",
    "        validation_data = valid_batch_ds,\n",
    "        epochs = epochs,\n",
    "        callbacks = [early_stopping],\n",
    "    )\n",
    "    return history "
   ]
  },
  {
   "cell_type": "code",
   "execution_count": 12,
   "id": "ededd0a7-08c0-412d-9318-f354943af483",
   "metadata": {},
   "outputs": [
    {
     "name": "stdout",
     "output_type": "stream",
     "text": [
      "Epoch 1/500\n",
      "2500/2500 [==============================] - 19s 5ms/step - loss: 0.7320 - accuracy: 0.5321 - val_loss: 0.5828 - val_accuracy: 0.7051\n",
      "Epoch 2/500\n",
      "2500/2500 [==============================] - 2s 858us/step - loss: 0.5572 - accuracy: 0.7290 - val_loss: 0.5224 - val_accuracy: 0.7411\n",
      "Epoch 3/500\n",
      "2500/2500 [==============================] - 2s 852us/step - loss: 0.5149 - accuracy: 0.7561 - val_loss: 0.5128 - val_accuracy: 0.7448\n",
      "Epoch 4/500\n",
      "2500/2500 [==============================] - 2s 844us/step - loss: 0.5018 - accuracy: 0.7619 - val_loss: 0.5098 - val_accuracy: 0.7479\n",
      "Epoch 5/500\n",
      "2500/2500 [==============================] - 2s 840us/step - loss: 0.4927 - accuracy: 0.7651 - val_loss: 0.5100 - val_accuracy: 0.7464\n",
      "Epoch 6/500\n",
      "2500/2500 [==============================] - 2s 848us/step - loss: 0.4863 - accuracy: 0.7676 - val_loss: 0.5097 - val_accuracy: 0.7475\n",
      "Epoch 7/500\n",
      "2500/2500 [==============================] - 2s 881us/step - loss: 0.4825 - accuracy: 0.7697 - val_loss: 0.5142 - val_accuracy: 0.7464\n",
      "Epoch 8/500\n",
      "2500/2500 [==============================] - 2s 835us/step - loss: 0.4784 - accuracy: 0.7722 - val_loss: 0.5106 - val_accuracy: 0.7474\n",
      "loss: 0.4784 - val_loss: 0.5097\n",
      "accuracy: 0.7722 - val_accuracy: 0.7479\n"
     ]
    },
    {
     "data": {
      "image/png": "[encoded data removed]",
      "text/plain": [
       "<Figure size 1080x360 with 2 Axes>"
      ]
     },
     "metadata": {
      "needs_background": "light"
     },
     "output_type": "display_data"
    }
   ],
   "source": [
    "history = fit_model(model)  \n",
    "show_history(history)"
   ]
  },
  {
   "cell_type": "markdown",
   "id": "ad22fa83-0e62-457d-a8ee-993e504556f0",
   "metadata": {},
   "source": [
    "## LSTM"
   ]
  },
  {
   "cell_type": "code",
   "execution_count": 13,
   "id": "1b719c44-5cfd-4473-bcc9-896a754b468e",
   "metadata": {},
   "outputs": [
    {
     "name": "stdout",
     "output_type": "stream",
     "text": [
      "Model: \"sequential_1\"\n",
      "_________________________________________________________________\n",
      "Layer (type)                 Output Shape              Param #   \n",
      "=================================================================\n",
      "embedding_1 (Embedding)      (None, 50, 16)            64000     \n",
      "_________________________________________________________________\n",
      "bidirectional (Bidirectional (None, 32)                4224      \n",
      "_________________________________________________________________\n",
      "dense_3 (Dense)              (None, 32)                1056      \n",
      "_________________________________________________________________\n",
      "dense_4 (Dense)              (None, 5)                 165       \n",
      "=================================================================\n",
      "Total params: 69,445\n",
      "Trainable params: 69,445\n",
      "Non-trainable params: 0\n",
      "_________________________________________________________________\n"
     ]
    }
   ],
   "source": [
    "model_bi = keras.Sequential([\n",
    "    keras.layers.Embedding(vocab_size, embedding_dim, input_length = maxlen),\n",
    "    keras.layers.Bidirectional(keras.layers.LSTM(embedding_dim)),\n",
    "    keras.layers.Dense(32, activation = 'relu'),\n",
    "    keras.layers.Dense(5),\n",
    "])\n",
    "\n",
    "model_bi.summary()"
   ]
  },
  {
   "cell_type": "code",
   "execution_count": 14,
   "id": "1ede3335-d955-4b36-86d2-dda99067705c",
   "metadata": {},
   "outputs": [
    {
     "name": "stdout",
     "output_type": "stream",
     "text": [
      "Epoch 1/500\n",
      "2500/2500 [==============================] - 32s 12ms/step - loss: 0.5684 - accuracy: 0.7052 - val_loss: 0.5104 - val_accuracy: 0.7504\n",
      "Epoch 2/500\n",
      "2500/2500 [==============================] - 30s 12ms/step - loss: 0.4821 - accuracy: 0.7689 - val_loss: 0.5084 - val_accuracy: 0.7458\n",
      "Epoch 3/500\n",
      "2500/2500 [==============================] - 31s 13ms/step - loss: 0.4567 - accuracy: 0.7823 - val_loss: 0.5016 - val_accuracy: 0.7619\n",
      "Epoch 4/500\n",
      "2500/2500 [==============================] - 31s 12ms/step - loss: 0.4373 - accuracy: 0.7931 - val_loss: 0.4849 - val_accuracy: 0.7639\n",
      "Epoch 5/500\n",
      "2500/2500 [==============================] - 31s 12ms/step - loss: 0.4224 - accuracy: 0.8027 - val_loss: 0.4923 - val_accuracy: 0.7642\n",
      "Epoch 6/500\n",
      "2500/2500 [==============================] - 31s 12ms/step - loss: 0.4087 - accuracy: 0.8107 - val_loss: 0.4935 - val_accuracy: 0.7623\n",
      "loss: 0.4087 - val_loss: 0.4849\n",
      "accuracy: 0.8107 - val_accuracy: 0.7642\n"
     ]
    },
    {
     "data": {
      "image/png": "[encoded data removed]",
      "text/plain": [
       "<Figure size 1080x360 with 2 Axes>"
      ]
     },
     "metadata": {
      "needs_background": "light"
     },
     "output_type": "display_data"
    }
   ],
   "source": [
    "history_bi = fit_model(model_bi)   \n",
    "show_history(history_bi)"
   ]
  },
  {
   "cell_type": "code",
   "execution_count": 15,
   "id": "4c943f98-bda1-4c62-9201-c255be3596e4",
   "metadata": {},
   "outputs": [
    {
     "name": "stdout",
     "output_type": "stream",
     "text": [
      "Model: \"sequential_2\"\n",
      "_________________________________________________________________\n",
      "Layer (type)                 Output Shape              Param #   \n",
      "=================================================================\n",
      "embedding_2 (Embedding)      (None, 50, 16)            64000     \n",
      "_________________________________________________________________\n",
      "bidirectional_1 (Bidirection (None, 50, 32)            4224      \n",
      "_________________________________________________________________\n",
      "bidirectional_2 (Bidirection (None, 32)                6272      \n",
      "_________________________________________________________________\n",
      "dense_5 (Dense)              (None, 32)                1056      \n",
      "_________________________________________________________________\n",
      "dense_6 (Dense)              (None, 5)                 165       \n",
      "=================================================================\n",
      "Total params: 75,717\n",
      "Trainable params: 75,717\n",
      "Non-trainable params: 0\n",
      "_________________________________________________________________\n"
     ]
    }
   ],
   "source": [
    "model_multiple_bi = keras.Sequential([\n",
    "    keras.layers.Embedding(vocab_size, embedding_dim, input_length = maxlen),\n",
    "    keras.layers.Bidirectional(keras.layers.LSTM(embedding_dim, return_sequences = True)),\n",
    "    keras.layers.Bidirectional(keras.layers.LSTM(embedding_dim)),\n",
    "    keras.layers.Dense(32, activation = 'relu'),\n",
    "    keras.layers.Dense(5),\n",
    "])\n",
    "model_multiple_bi.summary()"
   ]
  },
  {
   "cell_type": "code",
   "execution_count": 16,
   "id": "67d6c234-af14-4551-bc11-df3dff29de54",
   "metadata": {},
   "outputs": [
    {
     "name": "stdout",
     "output_type": "stream",
     "text": [
      "Epoch 1/500\n",
      "2500/2500 [==============================] - 62s 24ms/step - loss: 0.5800 - accuracy: 0.6899 - val_loss: 0.5140 - val_accuracy: 0.7494\n",
      "Epoch 2/500\n",
      "2500/2500 [==============================] - 59s 24ms/step - loss: 0.4830 - accuracy: 0.7690 - val_loss: 0.4930 - val_accuracy: 0.7604\n",
      "Epoch 3/500\n",
      "2500/2500 [==============================] - 59s 24ms/step - loss: 0.4579 - accuracy: 0.7832 - val_loss: 0.4863 - val_accuracy: 0.7657\n",
      "Epoch 4/500\n",
      "2500/2500 [==============================] - 60s 24ms/step - loss: 0.4401 - accuracy: 0.7940 - val_loss: 0.4811 - val_accuracy: 0.7664\n",
      "Epoch 5/500\n",
      "2500/2500 [==============================] - 59s 24ms/step - loss: 0.4236 - accuracy: 0.8027 - val_loss: 0.4853 - val_accuracy: 0.7653\n",
      "Epoch 6/500\n",
      "2500/2500 [==============================] - 60s 24ms/step - loss: 0.4095 - accuracy: 0.8123 - val_loss: 0.4915 - val_accuracy: 0.7687\n",
      "loss: 0.4095 - val_loss: 0.4811\n",
      "accuracy: 0.8123 - val_accuracy: 0.7687\n"
     ]
    },
    {
     "data": {
      "image/png": "[encoded data removed]",
      "text/plain": [
       "<Figure size 1080x360 with 2 Axes>"
      ]
     },
     "metadata": {
      "needs_background": "light"
     },
     "output_type": "display_data"
    }
   ],
   "source": [
    "history_multiple_bi = fit_model(model_multiple_bi)   \n",
    "show_history(history_multiple_bi)"
   ]
  },
  {
   "cell_type": "markdown",
   "id": "2ba775ab-c7c1-48ef-96d8-66213c2eb722",
   "metadata": {},
   "source": [
    "# Reference\n",
    "\n",
    "[Udacity 187 -  Intro to TensorFlow for Deep Learning - Lession 10: NLP: Recurrent Neural Network](https://classroom.udacity.com/courses/ud187)\n",
    "\n",
    "* [Colab: Using LSTMs with the Subwords Dataset](https://colab.research.google.com/github/tensorflow/examples/blob/master/courses/udacity_intro_to_tensorflow_for_deep_learning/l10c01_nlp_lstms_with_reviews_subwords_dataset.ipynb)"
   ]
  }
 ],
 "metadata": {
  "kernelspec": {
   "display_name": "Python 3",
   "language": "python",
   "name": "python3"
  },
  "language_info": {
   "codemirror_mode": {
    "name": "ipython",
    "version": 3
   },
   "file_extension": ".py",
   "mimetype": "text/x-python",
   "name": "python",
   "nbconvert_exporter": "python",
   "pygments_lexer": "ipython3",
   "version": "3.9.6"
  }
 },
 "nbformat": 4,
 "nbformat_minor": 5
}
