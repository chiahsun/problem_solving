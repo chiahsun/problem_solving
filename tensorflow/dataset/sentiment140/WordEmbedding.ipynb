{
 "cells": [
  {
   "cell_type": "markdown",
   "id": "37322ee1-af1c-45f3-98ee-d19b7041a71d",
   "metadata": {},
   "source": [
    "# Tensorflow Dataset (sentiment140)\n",
    "\n",
    "[Catalog for sentiment140](https://www.tensorflow.org/datasets/catalog/sentiment140)"
   ]
  },
  {
   "cell_type": "code",
   "execution_count": 1,
   "id": "5599d70a-7e9e-4601-b119-1e6f72079d2f",
   "metadata": {},
   "outputs": [
    {
     "data": {
      "text/plain": [
       "'2.5.0'"
      ]
     },
     "execution_count": 1,
     "metadata": {},
     "output_type": "execute_result"
    }
   ],
   "source": [
    "# https://www.tensorflow.org/datasets/overview?hl=zh-tw\n",
    "\n",
    "import tensorflow as tf\n",
    "\n",
    "keras = tf.keras\n",
    "tf.__version__"
   ]
  },
  {
   "cell_type": "markdown",
   "id": "4c76bf4d-888f-45e3-9d1f-9e9866a97133",
   "metadata": {},
   "source": [
    "# Prepare Data"
   ]
  },
  {
   "cell_type": "code",
   "execution_count": 2,
   "id": "1c194a29-1e3f-4e7e-b477-103e52eea265",
   "metadata": {},
   "outputs": [],
   "source": [
    "import tensorflow_datasets as tfds\n",
    "\n",
    "# https://www.tensorflow.org/datasets/splits?hl=zh-tw\n",
    "# https://www.tensorflow.org/datasets/overview?hl=zh-tw#as_tuple_as_supervisedtrue\n",
    "\n",
    "# train_ds, valid_ds = tfds.load('sentiment140', split = ['train', 'test'])\n",
    "train_ds = tfds.load('sentiment140', split = 'train[0:5%]', as_supervised = True)\n",
    "valid_ds = tfds.load('sentiment140', split = 'train[5%:6%]', as_supervised = True)\n",
    "test_ds = tfds.load('sentiment140', split = 'train[-20:]', as_supervised = True)"
   ]
  },
  {
   "cell_type": "code",
   "execution_count": 3,
   "id": "9a9f16d3-1744-4227-9c23-041bf5e5b210",
   "metadata": {},
   "outputs": [
    {
     "data": {
      "text/plain": [
       "<PrefetchDataset shapes: ((), ()), types: (tf.string, tf.int32)>"
      ]
     },
     "execution_count": 3,
     "metadata": {},
     "output_type": "execute_result"
    }
   ],
   "source": [
    "train_ds"
   ]
  },
  {
   "cell_type": "code",
   "execution_count": 4,
   "id": "6fc4cd1d-ccf3-48fc-a186-cf739ba8f26e",
   "metadata": {},
   "outputs": [
    {
     "name": "stdout",
     "output_type": "stream",
     "text": [
      "tf.Tensor(b\"i'm 10x cooler than all of you! \", shape=(), dtype=string)\n",
      "tf.Tensor(4, shape=(), dtype=int32)\n",
      "i'm 10x cooler than all of you! \n"
     ]
    }
   ],
   "source": [
    "# https://www.tensorflow.org/api_docs/python/tf/data/Dataset#take\n",
    "for text, label in train_ds.take(1):\n",
    "    print(text)\n",
    "    print(label)\n",
    "    print(text.numpy().decode('utf-8'))"
   ]
  },
  {
   "cell_type": "code",
   "execution_count": 5,
   "id": "88ff19bf-085f-4bae-b0f7-5d823a655a41",
   "metadata": {},
   "outputs": [
    {
     "data": {
      "text/plain": [
       "\"i'm 10x cooler than all of you! \""
      ]
     },
     "execution_count": 5,
     "metadata": {},
     "output_type": "execute_result"
    }
   ],
   "source": [
    "lines = [text.numpy().decode('utf-8') for text, _ in train_ds]\n",
    "lines[0]"
   ]
  },
  {
   "cell_type": "code",
   "execution_count": 6,
   "id": "76c99383-808b-4ac6-87ec-4dc0a6e3b60c",
   "metadata": {},
   "outputs": [
    {
     "data": {
      "text/plain": [
       "146196"
      ]
     },
     "execution_count": 6,
     "metadata": {},
     "output_type": "execute_result"
    }
   ],
   "source": [
    "word_set = set()\n",
    "\n",
    "for l in lines:\n",
    "    for w in l.split(' '):\n",
    "        word_set.add(w)\n",
    "    \n",
    "VOCAB_SIZE = len(word_set)   \n",
    "VOCAB_SIZE"
   ]
  },
  {
   "cell_type": "code",
   "execution_count": 7,
   "id": "69fb2c85-a0c0-4124-a16e-41dd3795e19e",
   "metadata": {},
   "outputs": [
    {
     "name": "stdout",
     "output_type": "stream",
     "text": [
      "  0: \n",
      "  1: fruits\n",
      "  2: whose\n",
      "  3: terrified.\n",
      "  4: @therealpharrell\n",
      "  5: kum\n",
      "  6: workplace\n",
      "  7: @SheriSalata,\n",
      "  8: @mattskint\n",
      "  9: twitter...\n"
     ]
    }
   ],
   "source": [
    "for index, w in enumerate(word_set):\n",
    "    if index >= 10:\n",
    "        break\n",
    "    print(f'{index:3}: {w}')"
   ]
  },
  {
   "cell_type": "code",
   "execution_count": 8,
   "id": "2341d045-643f-421a-b0c3-6c79416af67b",
   "metadata": {},
   "outputs": [
    {
     "name": "stdout",
     "output_type": "stream",
     "text": [
      "<OOV> 1\n",
      "i 2\n",
      "to 3\n",
      "the 4\n",
      "a 5\n"
     ]
    }
   ],
   "source": [
    "from tensorflow.keras.preprocessing.text import Tokenizer\n",
    "\n",
    "tokenizer = Tokenizer(num_words = VOCAB_SIZE, oov_token = '<OOV>')\n",
    "tokenizer.fit_on_texts(lines)\n",
    "word_index = tokenizer.word_index\n",
    "for index, (a, b) in enumerate(word_index.items()):\n",
    "    if index >= 5:\n",
    "        break\n",
    "    print(a, b)"
   ]
  },
  {
   "cell_type": "code",
   "execution_count": 9,
   "id": "9c5891ae-8036-466c-8d49-aa78c6e0f79d",
   "metadata": {},
   "outputs": [
    {
     "name": "stdout",
     "output_type": "stream",
     "text": [
      "80000\n"
     ]
    },
    {
     "data": {
      "text/plain": [
       "36"
      ]
     },
     "execution_count": 9,
     "metadata": {},
     "output_type": "execute_result"
    }
   ],
   "source": [
    "maxlen = 0\n",
    "cnt = 0\n",
    "\n",
    "# If batch_size cannot divide total size, the remainder will be skipped\n",
    "for text_batch, label in train_ds.batch(1):\n",
    "    text_batch = map(lambda text: text.numpy().decode('utf-8'), text_batch)\n",
    "    sequences = tokenizer.texts_to_sequences(text_batch)\n",
    "    len_of_sequences = list(map(len, sequences))\n",
    "    maxlen = max(maxlen, *len_of_sequences)\n",
    "    cnt = cnt + 1\n",
    "\n",
    "print(cnt)\n",
    "maxlen"
   ]
  },
  {
   "cell_type": "code",
   "execution_count": 10,
   "id": "64db17b6-3f08-41b4-b3f2-12329dc76593",
   "metadata": {},
   "outputs": [
    {
     "name": "stdout",
     "output_type": "stream",
     "text": [
      "[[   20 11880  3026   199    32    13     8     0     0     0     0     0\n",
      "      0     0     0     0     0     0     0     0     0     0     0     0\n",
      "      0     0     0     0     0     0     0     0     0     0     0     0]\n",
      " [  321  4307   282   686     2   174   374   444   149    14   103     2\n",
      "     17  1772    13   149     3  2851     0     0     0     0     0     0\n",
      "      0     0     0     0     0     0     0     0     0     0     0     0]]\n",
      "\n",
      "\n",
      "tf.Tensor([4 0], shape=(2,), dtype=int32)\n",
      "\n",
      "\n",
      "\n",
      "(2, 36) (2,)\n"
     ]
    }
   ],
   "source": [
    "from tensorflow.keras.preprocessing.sequence import pad_sequences\n",
    "\n",
    "def tokenize_and_pad(text_batch, label_batch):\n",
    "    text_batch = map(lambda s: s.numpy().decode('utf-8'), text_batch)\n",
    "    sequences = tokenizer.texts_to_sequences(text_batch)\n",
    "    padded = pad_sequences(sequences, \n",
    "                           maxlen = maxlen, \n",
    "                           padding ='post', \n",
    "                           truncating = 'post')\n",
    "    return padded, label_batch\n",
    "\n",
    "for text_batch, label_batch in train_ds.batch(2).take(1):\n",
    "    text_batch, label_batch = tokenize_and_pad(text_batch, label_batch)\n",
    "    print(text_batch)\n",
    "    print('\\n')\n",
    "    print(label_batch)\n",
    "    print('\\n\\n')\n",
    "    print(text_batch.shape, label_batch.shape)"
   ]
  },
  {
   "cell_type": "code",
   "execution_count": 11,
   "id": "3c90290c-ba4f-46b8-8ef4-a028020af30c",
   "metadata": {},
   "outputs": [
    {
     "name": "stdout",
     "output_type": "stream",
     "text": [
      "(4, 36)  ->  (4,)\n",
      "tf.Tensor(\n",
      "[[   20 11880  3026   199    32    13     8     0     0     0     0     0\n",
      "      0     0     0     0     0     0     0     0     0     0     0     0\n",
      "      0     0     0     0     0     0     0     0     0     0     0     0]\n",
      " [  321  4307   282   686     2   174   374   444   149    14   103     2\n",
      "     17  1772    13   149     3  2851     0     0     0     0     0     0\n",
      "      0     0     0     0     0     0     0     0     0     0     0     0]\n",
      " [   56     5   305    31    25     3    49     3     6   173   434     0\n",
      "      0     0     0     0     0     0     0     0     0     0     0     0\n",
      "      0     0     0     0     0     0     0     0     0     0     0     0]\n",
      " [24058    66     2    26    21   754     3 24059   313   378    60   233\n",
      "    995     3    58    26    11 15380  3027     8  4521     6   897     0\n",
      "      0     0     0     0     0     0     0     0     0     0     0     0]], shape=(4, 36), dtype=int32)  ->  tf.Tensor([4 0 4 4], shape=(4,), dtype=int32)\n",
      "\n",
      "(4, 36)\n"
     ]
    },
    {
     "data": {
      "text/plain": [
       "array([[   20, 11880,  3026,   199,    32,    13,     8,     0,     0,\n",
       "            0,     0,     0,     0,     0,     0,     0,     0,     0,\n",
       "            0,     0,     0,     0,     0,     0,     0,     0,     0,\n",
       "            0,     0,     0,     0,     0,     0,     0,     0,     0],\n",
       "       [  321,  4307,   282,   686,     2,   174,   374,   444,   149,\n",
       "           14,   103,     2,    17,  1772,    13,   149,     3,  2851,\n",
       "            0,     0,     0,     0,     0,     0,     0,     0,     0,\n",
       "            0,     0,     0,     0,     0,     0,     0,     0,     0],\n",
       "       [   56,     5,   305,    31,    25,     3,    49,     3,     6,\n",
       "          173,   434,     0,     0,     0,     0,     0,     0,     0,\n",
       "            0,     0,     0,     0,     0,     0,     0,     0,     0,\n",
       "            0,     0,     0,     0,     0,     0,     0,     0,     0],\n",
       "       [24058,    66,     2,    26,    21,   754,     3, 24059,   313,\n",
       "          378,    60,   233,   995,     3,    58,    26,    11, 15380,\n",
       "         3027,     8,  4521,     6,   897,     0,     0,     0,     0,\n",
       "            0,     0,     0,     0,     0,     0,     0,     0,     0]],\n",
       "      dtype=int32)"
      ]
     },
     "execution_count": 11,
     "metadata": {},
     "output_type": "execute_result"
    }
   ],
   "source": [
    "import numpy as np\n",
    "\n",
    "def get_dataset_from_original_ds(ds, batch_size = 32, max_index = None):\n",
    "    text_batch_slices = []\n",
    "    label_batch_slices = []\n",
    "    for index, (text_batch, label_batch) in enumerate(ds.batch(2)):\n",
    "        if (max_index != None) and (index >= max_index):\n",
    "            break\n",
    "        text_batch, label_batch = tokenize_and_pad(text_batch, label_batch)\n",
    "        text_batch_slices.append(text_batch)\n",
    "        label_batch_slices.append(label_batch)\n",
    "    text_slices = np.concatenate(text_batch_slices)\n",
    "    label_slices = np.concatenate(label_batch_slices)\n",
    "    \n",
    "    # https://stackoverflow.com/questions/65230657/tensorflow-how-to-create-a-dataset-which-is-an-array-of-tuples\n",
    "    return tf.data.Dataset.from_tensor_slices((text_slices, label_slices)).batch(batch_size).prefetch(1)\n",
    "\n",
    "ds = get_dataset_from_original_ds(train_ds, max_index = 2)\n",
    "sample_x = None\n",
    "for x, y in ds:\n",
    "    sample_x = x\n",
    "    print(x.shape, ' -> ', y.shape)\n",
    "    print(x, ' -> ', y, end = '\\n\\n')\n",
    "    \n",
    "print(sample_x.numpy().shape)\n",
    "sample_x.numpy()"
   ]
  },
  {
   "cell_type": "code",
   "execution_count": 12,
   "id": "21651ef4-2045-44a5-9121-46e94ebbb4ed",
   "metadata": {},
   "outputs": [
    {
     "data": {
      "text/plain": [
       "(TensorSpec(shape=(None, 36), dtype=tf.int32, name=None),\n",
       " TensorSpec(shape=(None,), dtype=tf.int32, name=None))"
      ]
     },
     "execution_count": 12,
     "metadata": {},
     "output_type": "execute_result"
    }
   ],
   "source": [
    "final_train_ds = get_dataset_from_original_ds(train_ds)\n",
    "final_valid_ds = get_dataset_from_original_ds(valid_ds)\n",
    "final_train_ds.element_spec"
   ]
  },
  {
   "cell_type": "markdown",
   "id": "f4d06175-ab07-4725-847e-443abc24303e",
   "metadata": {},
   "source": [
    "# Build Model"
   ]
  },
  {
   "cell_type": "code",
   "execution_count": 13,
   "id": "f7123d00-a61a-4eb1-b659-a6035c1621de",
   "metadata": {},
   "outputs": [
    {
     "name": "stdout",
     "output_type": "stream",
     "text": [
      "Model: \"sequential\"\n",
      "_________________________________________________________________\n",
      "Layer (type)                 Output Shape              Param #   \n",
      "=================================================================\n",
      "embedding (Embedding)        (None, 36, 16)            2339136   \n",
      "_________________________________________________________________\n",
      "flatten (Flatten)            (None, 576)               0         \n",
      "_________________________________________________________________\n",
      "dense (Dense)                (None, 6)                 3462      \n",
      "_________________________________________________________________\n",
      "dense_1 (Dense)              (None, 5)                 35        \n",
      "=================================================================\n",
      "Total params: 2,342,633\n",
      "Trainable params: 2,342,633\n",
      "Non-trainable params: 0\n",
      "_________________________________________________________________\n"
     ]
    }
   ],
   "source": [
    "tf.random.set_seed(1)\n",
    "np.random.seed(1)\n",
    "model = keras.Sequential([\n",
    "    keras.layers.Embedding(VOCAB_SIZE, 16, input_length = maxlen),\n",
    "    keras.layers.Flatten(),\n",
    "    keras.layers.Dense(6, activation = 'relu'),\n",
    "    keras.layers.Dense(5),\n",
    "])\n",
    "\n",
    "model.compile(\n",
    "    optimizer = 'adam',\n",
    "    loss = keras.losses.SparseCategoricalCrossentropy(from_logits = True),\n",
    "    metrics = ['accuracy'],\n",
    ")\n",
    "model.summary()"
   ]
  },
  {
   "cell_type": "code",
   "execution_count": 14,
   "id": "fd33d65d-ff75-4773-847b-ede3a554d0f9",
   "metadata": {},
   "outputs": [
    {
     "name": "stdout",
     "output_type": "stream",
     "text": [
      "Epoch 1/500\n",
      "2500/2500 [==============================] - 26s 10ms/step - loss: 0.5630 - accuracy: 0.7198 - val_loss: 0.4964 - val_accuracy: 0.7614\n",
      "Epoch 2/500\n",
      "2500/2500 [==============================] - 26s 10ms/step - loss: 0.3513 - accuracy: 0.8539 - val_loss: 0.5597 - val_accuracy: 0.7487\n",
      "Epoch 3/500\n",
      "2500/2500 [==============================] - 26s 10ms/step - loss: 0.1941 - accuracy: 0.9253 - val_loss: 0.6777 - val_accuracy: 0.7363\n",
      "Epoch 4/500\n",
      "2500/2500 [==============================] - 25s 10ms/step - loss: 0.1079 - accuracy: 0.9613 - val_loss: 0.8167 - val_accuracy: 0.7302\n",
      "Epoch 5/500\n",
      "2500/2500 [==============================] - 25s 10ms/step - loss: 0.0628 - accuracy: 0.9780 - val_loss: 0.9855 - val_accuracy: 0.7230\n",
      "Epoch 6/500\n",
      "2500/2500 [==============================] - 26s 10ms/step - loss: 0.0386 - accuracy: 0.9868 - val_loss: 1.1640 - val_accuracy: 0.7156\n"
     ]
    }
   ],
   "source": [
    "early_stopping = keras.callbacks.EarlyStopping(\n",
    "    patience = 5,\n",
    "    restore_best_weights = True,\n",
    ")\n",
    "\n",
    "history = model.fit(\n",
    "    final_train_ds,\n",
    "    epochs = 500,\n",
    "    validation_data = (final_valid_ds),\n",
    "    callbacks = [early_stopping],\n",
    "    # verbose = 0,\n",
    ")"
   ]
  },
  {
   "cell_type": "markdown",
   "id": "f62f3b1d-8375-4454-90cf-8329b66f7e58",
   "metadata": {},
   "source": [
    "# Predict on Test Data"
   ]
  },
  {
   "cell_type": "code",
   "execution_count": 15,
   "id": "ed3df1b1-134c-4af6-9027-e64d4e6679f8",
   "metadata": {},
   "outputs": [],
   "source": [
    "final_test_ds = get_dataset_from_original_ds(test_ds)"
   ]
  },
  {
   "cell_type": "code",
   "execution_count": 16,
   "id": "bc678118-3ea9-4d9b-8e6e-82a8376321ea",
   "metadata": {},
   "outputs": [
    {
     "name": "stdout",
     "output_type": "stream",
     "text": [
      "[4, 0, 0, 4, 4, 4, 4, 4, 4, 0, 0, 0, 0, 0, 0, 0, 4, 4, 4, 4]\n"
     ]
    }
   ],
   "source": [
    "predicted = map(tf.argmax, model.predict(final_test_ds))\n",
    "predicted = list(map(lambda x: x.numpy(), predicted))\n",
    "print(predicted)"
   ]
  },
  {
   "cell_type": "code",
   "execution_count": 17,
   "id": "5f079f6c-c829-4dad-8b3f-ba86469b8cbc",
   "metadata": {},
   "outputs": [
    {
     "data": {
      "text/html": [
       "<div>\n",
       "<style scoped>\n",
       "    .dataframe tbody tr th:only-of-type {\n",
       "        vertical-align: middle;\n",
       "    }\n",
       "\n",
       "    .dataframe tbody tr th {\n",
       "        vertical-align: top;\n",
       "    }\n",
       "\n",
       "    .dataframe thead th {\n",
       "        text-align: right;\n",
       "    }\n",
       "</style>\n",
       "<table border=\"1\" class=\"dataframe\">\n",
       "  <thead>\n",
       "    <tr style=\"text-align: right;\">\n",
       "      <th></th>\n",
       "      <th>real</th>\n",
       "      <th>predicted</th>\n",
       "      <th>text</th>\n",
       "    </tr>\n",
       "  </thead>\n",
       "  <tbody>\n",
       "    <tr>\n",
       "      <th>0</th>\n",
       "      <td>4</td>\n",
       "      <td>4</td>\n",
       "      <td>@allygodinez How was the meet &amp;amp; greet?</td>\n",
       "    </tr>\n",
       "    <tr>\n",
       "      <th>1</th>\n",
       "      <td>0</td>\n",
       "      <td>0</td>\n",
       "      <td>off to the malll ; i really dont want to do swimming in gym tomorrow</td>\n",
       "    </tr>\n",
       "    <tr>\n",
       "      <th>2</th>\n",
       "      <td>0</td>\n",
       "      <td>0</td>\n",
       "      <td>chemistry revision is absolute balls</td>\n",
       "    </tr>\n",
       "    <tr>\n",
       "      <th>3</th>\n",
       "      <td>4</td>\n",
       "      <td>4</td>\n",
       "      <td>heading out to CA where the waether looks sunny</td>\n",
       "    </tr>\n",
       "    <tr>\n",
       "      <th>4</th>\n",
       "      <td>4</td>\n",
       "      <td>4</td>\n",
       "      <td>Ate subway yum</td>\n",
       "    </tr>\n",
       "    <tr>\n",
       "      <th>5</th>\n",
       "      <td>4</td>\n",
       "      <td>4</td>\n",
       "      <td>@NKAirplay That gives me visions of a Wahlberg sandwich.</td>\n",
       "    </tr>\n",
       "    <tr>\n",
       "      <th>6</th>\n",
       "      <td>4</td>\n",
       "      <td>4</td>\n",
       "      <td>@brighit Says it's 'unavailable'-i'll have a look on Boombox</td>\n",
       "    </tr>\n",
       "    <tr>\n",
       "      <th>7</th>\n",
       "      <td>4</td>\n",
       "      <td>4</td>\n",
       "      <td>Watchin charm school  @lalavazquez @riskybizness23  looooove you guys</td>\n",
       "    </tr>\n",
       "    <tr>\n",
       "      <th>8</th>\n",
       "      <td>4</td>\n",
       "      <td>4</td>\n",
       "      <td>I am also being a lazy bum this morning and currently sat with Pjs on and cuppa watching said rain while twittering  ahhhhh bliss......</td>\n",
       "    </tr>\n",
       "    <tr>\n",
       "      <th>9</th>\n",
       "      <td>0</td>\n",
       "      <td>0</td>\n",
       "      <td>Watching HGTV on DVD before I go to work.  I don't wanna go anywhere</td>\n",
       "    </tr>\n",
       "    <tr>\n",
       "      <th>10</th>\n",
       "      <td>0</td>\n",
       "      <td>0</td>\n",
       "      <td>@AK618 ...fans starting asking for his autograph and he had to sign for them too. and he was not happy at all. I felt bad...</td>\n",
       "    </tr>\n",
       "    <tr>\n",
       "      <th>11</th>\n",
       "      <td>0</td>\n",
       "      <td>0</td>\n",
       "      <td>@Jessicaveronica haha what a dumbass.... People lie about the stupidest shit!! My fam lives in Houston but I'm not there, sorry!</td>\n",
       "    </tr>\n",
       "    <tr>\n",
       "      <th>12</th>\n",
       "      <td>0</td>\n",
       "      <td>0</td>\n",
       "      <td>I got million mental and physical things to do  would 24 hours be enough?</td>\n",
       "    </tr>\n",
       "    <tr>\n",
       "      <th>13</th>\n",
       "      <td>4</td>\n",
       "      <td>0</td>\n",
       "      <td>@Jasmine1993 i have attempted and it didnt go to well hehe i might have another go soon though</td>\n",
       "    </tr>\n",
       "    <tr>\n",
       "      <th>14</th>\n",
       "      <td>0</td>\n",
       "      <td>0</td>\n",
       "      <td>@GertieGamer Still a bit rubbish  decided to stay home today. Bit fed up.</td>\n",
       "    </tr>\n",
       "    <tr>\n",
       "      <th>15</th>\n",
       "      <td>0</td>\n",
       "      <td>0</td>\n",
       "      <td>@nicolerichie I too sleep diagonally with my boyfriend.  In my defense, he steals the covers!</td>\n",
       "    </tr>\n",
       "    <tr>\n",
       "      <th>16</th>\n",
       "      <td>4</td>\n",
       "      <td>4</td>\n",
       "      <td>@Leah923 &amp;quot;Yeah Eric&amp;quot; is an inside joke that only 1 percent of the listeners get (and none in syndication) but it always cracks us up!</td>\n",
       "    </tr>\n",
       "    <tr>\n",
       "      <th>17</th>\n",
       "      <td>4</td>\n",
       "      <td>4</td>\n",
       "      <td>@cswtham Growl is a kind of notification thing. So, when someone starts chatting, a notification pops up on screen. It's fine to get</td>\n",
       "    </tr>\n",
       "    <tr>\n",
       "      <th>18</th>\n",
       "      <td>0</td>\n",
       "      <td>4</td>\n",
       "      <td>A coffee and some formula diet pulver is a good start into a week. Why diet drink? If I will get a permanent job I have to loose 9 kilos</td>\n",
       "    </tr>\n",
       "    <tr>\n",
       "      <th>19</th>\n",
       "      <td>4</td>\n",
       "      <td>4</td>\n",
       "      <td>@rodney91 http://twitpic.com/4i3g6 - i love that game  xxxx</td>\n",
       "    </tr>\n",
       "  </tbody>\n",
       "</table>\n",
       "</div>"
      ],
      "text/plain": [
       "    real  predicted  \\\n",
       "0   4     4           \n",
       "1   0     0           \n",
       "2   0     0           \n",
       "3   4     4           \n",
       "4   4     4           \n",
       "5   4     4           \n",
       "6   4     4           \n",
       "7   4     4           \n",
       "8   4     4           \n",
       "9   0     0           \n",
       "10  0     0           \n",
       "11  0     0           \n",
       "12  0     0           \n",
       "13  4     0           \n",
       "14  0     0           \n",
       "15  0     0           \n",
       "16  4     4           \n",
       "17  4     4           \n",
       "18  0     4           \n",
       "19  4     4           \n",
       "\n",
       "                                                                                                                                                 text  \n",
       "0   @allygodinez How was the meet &amp; greet?                                                                                                         \n",
       "1   off to the malll ; i really dont want to do swimming in gym tomorrow                                                                               \n",
       "2   chemistry revision is absolute balls                                                                                                               \n",
       "3   heading out to CA where the waether looks sunny                                                                                                    \n",
       "4   Ate subway yum                                                                                                                                     \n",
       "5   @NKAirplay That gives me visions of a Wahlberg sandwich.                                                                                           \n",
       "6   @brighit Says it's 'unavailable'-i'll have a look on Boombox                                                                                       \n",
       "7   Watchin charm school  @lalavazquez @riskybizness23  looooove you guys                                                                              \n",
       "8   I am also being a lazy bum this morning and currently sat with Pjs on and cuppa watching said rain while twittering  ahhhhh bliss......            \n",
       "9   Watching HGTV on DVD before I go to work.  I don't wanna go anywhere                                                                               \n",
       "10  @AK618 ...fans starting asking for his autograph and he had to sign for them too. and he was not happy at all. I felt bad...                       \n",
       "11  @Jessicaveronica haha what a dumbass.... People lie about the stupidest shit!! My fam lives in Houston but I'm not there, sorry!                   \n",
       "12  I got million mental and physical things to do  would 24 hours be enough?                                                                          \n",
       "13  @Jasmine1993 i have attempted and it didnt go to well hehe i might have another go soon though                                                     \n",
       "14  @GertieGamer Still a bit rubbish  decided to stay home today. Bit fed up.                                                                          \n",
       "15  @nicolerichie I too sleep diagonally with my boyfriend.  In my defense, he steals the covers!                                                      \n",
       "16  @Leah923 &quot;Yeah Eric&quot; is an inside joke that only 1 percent of the listeners get (and none in syndication) but it always cracks us up!    \n",
       "17  @cswtham Growl is a kind of notification thing. So, when someone starts chatting, a notification pops up on screen. It's fine to get               \n",
       "18  A coffee and some formula diet pulver is a good start into a week. Why diet drink? If I will get a permanent job I have to loose 9 kilos           \n",
       "19  @rodney91 http://twitpic.com/4i3g6 - i love that game  xxxx                                                                                        "
      ]
     },
     "metadata": {},
     "output_type": "display_data"
    }
   ],
   "source": [
    "import pandas as pd\n",
    "\n",
    "xs, ys = [], []\n",
    "\n",
    "for x, _ in test_ds:\n",
    "    xs.append(x.numpy().decode('utf-8')) \n",
    "    \n",
    "for _, y in final_test_ds:\n",
    "    ys.append(y.numpy())\n",
    "\n",
    "real = np.concatenate(ys)\n",
    "\n",
    "pd.set_option('display.max_colwidth', None)\n",
    "df = pd.DataFrame({'real': real, 'predicted': predicted, 'text': xs})\n",
    "# https://stackoverflow.com/questions/25351968/how-can-i-display-full-non-truncated-dataframe-information-in-html-when-conver\n",
    "with pd.option_context('display.max_colwidth', -1):     \n",
    "    display(df)"
   ]
  },
  {
   "cell_type": "markdown",
   "id": "c3100bc3-89a8-43b5-8bf0-6d6ce6656f8c",
   "metadata": {},
   "source": [
    "# Reference\n",
    "\n",
    "[UD187 Intro to TensorFlow for Deep Learning - Lession 9: NLP Tokenization and Embedding](https://classroom.udacity.com/courses/ud187)"
   ]
  }
 ],
 "metadata": {
  "kernelspec": {
   "display_name": "Python 3",
   "language": "python",
   "name": "python3"
  },
  "language_info": {
   "codemirror_mode": {
    "name": "ipython",
    "version": 3
   },
   "file_extension": ".py",
   "mimetype": "text/x-python",
   "name": "python",
   "nbconvert_exporter": "python",
   "pygments_lexer": "ipython3",
   "version": "3.9.6"
  }
 },
 "nbformat": 4,
 "nbformat_minor": 5
}
