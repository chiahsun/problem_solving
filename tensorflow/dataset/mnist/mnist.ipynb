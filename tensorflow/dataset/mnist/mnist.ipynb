{
 "cells": [
  {
   "cell_type": "markdown",
   "id": "1e1322a4-25b9-402e-8bf3-53d9cd64b371",
   "metadata": {},
   "source": [
    "# Mnist\n",
    "\n",
    "First part follows [Tensorflow dataset guide](https://www.tensorflow.org/datasets/overview) to demonstrate TFDS usage."
   ]
  },
  {
   "cell_type": "code",
   "execution_count": 1,
   "id": "590f5ce9-bb7e-490d-aa80-ed47268c2020",
   "metadata": {},
   "outputs": [
    {
     "data": {
      "text/plain": [
       "'2.5.0'"
      ]
     },
     "execution_count": 1,
     "metadata": {},
     "output_type": "execute_result"
    }
   ],
   "source": [
    "import tensorflow as tf\n",
    "import tensorflow_datasets as tfds\n",
    "\n",
    "keras = tf.keras\n",
    "tf.__version__"
   ]
  },
  {
   "cell_type": "markdown",
   "id": "c71570e4-41e2-4681-a67a-3f65e5a17376",
   "metadata": {},
   "source": [
    "# Demonstration of Different Data Loaders"
   ]
  },
  {
   "cell_type": "code",
   "execution_count": 2,
   "id": "af1808bb-78b2-486c-af3e-ab6a08899eb9",
   "metadata": {},
   "outputs": [
    {
     "data": {
      "text/plain": [
       "['abstract_reasoning', 'accentdb', 'aeslc', 'aflw2k3d', 'ag_news_subset']"
      ]
     },
     "execution_count": 2,
     "metadata": {},
     "output_type": "execute_result"
    }
   ],
   "source": [
    "builders = tfds.list_builders()\n",
    "builders[:5]"
   ]
  },
  {
   "cell_type": "code",
   "execution_count": 3,
   "id": "addb2c83-f134-413a-8b79-5994f242a7a5",
   "metadata": {},
   "outputs": [
    {
     "data": {
      "text/plain": [
       "<_OptionsDataset shapes: {image: (28, 28, 1), label: ()}, types: {image: tf.uint8, label: tf.int64}>"
      ]
     },
     "execution_count": 3,
     "metadata": {},
     "output_type": "execute_result"
    }
   ],
   "source": [
    "ds = tfds.load('mnist', split = 'train', shuffle_files = True)\n",
    "ds"
   ]
  },
  {
   "cell_type": "code",
   "execution_count": 4,
   "id": "59587fe6-0368-4dc2-a994-09da3ee4d7f7",
   "metadata": {},
   "outputs": [
    {
     "data": {
      "text/plain": [
       "<_OptionsDataset shapes: {image: (28, 28, 1), label: ()}, types: {image: tf.uint8, label: tf.int64}>"
      ]
     },
     "execution_count": 4,
     "metadata": {},
     "output_type": "execute_result"
    }
   ],
   "source": [
    "# Use tfds.builder\n",
    "\n",
    "builder = tfds.builder('mnist')\n",
    "builder.download_and_prepare()\n",
    "ds = builder.as_dataset(split = 'train', shuffle_files = True)\n",
    "ds"
   ]
  },
  {
   "cell_type": "code",
   "execution_count": 5,
   "id": "99f11cbe-887e-42e1-9798-5d4d382737e5",
   "metadata": {},
   "outputs": [
    {
     "name": "stdout",
     "output_type": "stream",
     "text": [
      "['image', 'label']\n",
      "(28, 28, 1) tf.Tensor(1, shape=(), dtype=int64)\n",
      "['image', 'label']\n",
      "(28, 28, 1) tf.Tensor(7, shape=(), dtype=int64)\n"
     ]
    }
   ],
   "source": [
    "## As dict\n",
    "for example in ds.take(2):\n",
    "    print(list(example.keys()))\n",
    "    image = example['image']\n",
    "    label = example['label']\n",
    "    print(image.shape, label)"
   ]
  },
  {
   "cell_type": "code",
   "execution_count": 6,
   "id": "a57ef213-0678-410a-ba4c-642c336eca0d",
   "metadata": {},
   "outputs": [
    {
     "name": "stdout",
     "output_type": "stream",
     "text": [
      "(28, 28, 1) tf.Tensor(4, shape=(), dtype=int64)\n"
     ]
    }
   ],
   "source": [
    "## As tuple (as_supervised = True)\n",
    "ds = tfds.load('mnist', split = 'train', as_supervised = True)\n",
    "for image, label in ds.take(1):\n",
    "    print(image.shape, label)"
   ]
  },
  {
   "cell_type": "code",
   "execution_count": 7,
   "id": "7077d292-3b91-4c5a-bb34-0af610d97a2a",
   "metadata": {},
   "outputs": [
    {
     "name": "stdout",
     "output_type": "stream",
     "text": [
      "(28, 28, 1) 4\n",
      "<class 'numpy.ndarray'> <class 'numpy.int64'>\n",
      "(28, 28, 1) 1\n",
      "<class 'numpy.ndarray'> <class 'numpy.int64'>\n"
     ]
    }
   ],
   "source": [
    "## As numpy\n",
    "\n",
    "for image, label in tfds.as_numpy(ds.take(2)):\n",
    "    print(image.shape, label)\n",
    "    print(type(image), type(label))"
   ]
  },
  {
   "cell_type": "code",
   "execution_count": 8,
   "id": "ecc8ae40-1902-4ddd-9e7f-f50d4f3b20d8",
   "metadata": {},
   "outputs": [
    {
     "name": "stdout",
     "output_type": "stream",
     "text": [
      "(2, 28, 28, 1)\n",
      "(2, 28, 28, 1)\n",
      "(2, 28, 28, 1)\n",
      "(10000, 28, 28, 1)\n"
     ]
    }
   ],
   "source": [
    "## Load full dataset in a single batch (batch_size = -1)\n",
    "ds = tfds.load('mnist', split = 'train', batch_size = 2, as_supervised = True)\n",
    "for image, label in tfds.as_numpy(ds.take(3)):\n",
    "    print(image.shape)\n",
    "\n",
    "ds = tfds.load('mnist', split = 'test', batch_size = -1, as_supervised = True)\n",
    "image, label = tfds.as_numpy(ds)\n",
    "print(image.shape)"
   ]
  },
  {
   "cell_type": "markdown",
   "id": "c2e90e6c-1652-49f5-a6f5-32b81a931108",
   "metadata": {},
   "source": [
    "# Benchmark Datasets"
   ]
  },
  {
   "cell_type": "code",
   "execution_count": 9,
   "id": "1688f506-c24e-4e49-8959-8f3d33f05369",
   "metadata": {},
   "outputs": [
    {
     "data": {
      "application/vnd.jupyter.widget-view+json": {
       "model_id": "e93c3d2f8da246699bb864f62f6ec3ba",
       "version_major": 2,
       "version_minor": 0
      },
      "text/plain": [
       "  0%|          | 1/1875 [00:00<?, ?it/s]"
      ]
     },
     "metadata": {},
     "output_type": "display_data"
    },
    {
     "name": "stdout",
     "output_type": "stream",
     "text": [
      "\n",
      "************ Summary ************\n",
      "\n",
      "Examples/sec (First included) 57111.48 ex/sec (total: 60000 ex, 1.05 sec)\n",
      "Examples/sec (First only) 1317.78 ex/sec (total: 32 ex, 0.02 sec)\n",
      "Examples/sec (First excluded) 58431.62 ex/sec (total: 59968 ex, 1.03 sec)\n"
     ]
    },
    {
     "data": {
      "application/vnd.jupyter.widget-view+json": {
       "model_id": "290c6d69050e4265a100303c5885fd83",
       "version_major": 2,
       "version_minor": 0
      },
      "text/plain": [
       "  0%|          | 1/1875 [00:00<?, ?it/s]"
      ]
     },
     "metadata": {},
     "output_type": "display_data"
    },
    {
     "name": "stdout",
     "output_type": "stream",
     "text": [
      "\n",
      "************ Summary ************\n",
      "\n",
      "Examples/sec (First included) 309057.17 ex/sec (total: 60000 ex, 0.19 sec)\n",
      "Examples/sec (First only) 2434.41 ex/sec (total: 32 ex, 0.01 sec)\n",
      "Examples/sec (First excluded) 331325.95 ex/sec (total: 59968 ex, 0.18 sec)\n"
     ]
    },
    {
     "data": {
      "text/html": [
       "<strong>BenchmarkResult:</strong><br/><div>\n",
       "<style scoped>\n",
       "    .dataframe tbody tr th:only-of-type {\n",
       "        vertical-align: middle;\n",
       "    }\n",
       "\n",
       "    .dataframe tbody tr th {\n",
       "        vertical-align: top;\n",
       "    }\n",
       "\n",
       "    .dataframe thead th {\n",
       "        text-align: right;\n",
       "    }\n",
       "</style>\n",
       "<table border=\"1\" class=\"dataframe\">\n",
       "  <thead>\n",
       "    <tr style=\"text-align: right;\">\n",
       "      <th></th>\n",
       "      <th>duration</th>\n",
       "      <th>num_examples</th>\n",
       "      <th>avg</th>\n",
       "    </tr>\n",
       "  </thead>\n",
       "  <tbody>\n",
       "    <tr>\n",
       "      <th>first+lasts</th>\n",
       "      <td>0.194139</td>\n",
       "      <td>60000</td>\n",
       "      <td>309057.167541</td>\n",
       "    </tr>\n",
       "    <tr>\n",
       "      <th>first</th>\n",
       "      <td>0.013145</td>\n",
       "      <td>32</td>\n",
       "      <td>2434.410144</td>\n",
       "    </tr>\n",
       "    <tr>\n",
       "      <th>lasts</th>\n",
       "      <td>0.180994</td>\n",
       "      <td>59968</td>\n",
       "      <td>331325.951563</td>\n",
       "    </tr>\n",
       "  </tbody>\n",
       "</table>\n",
       "</div>"
      ],
      "text/plain": [
       "BenchmarkResult(stats=             duration  num_examples            avg\n",
       "first+lasts  0.194139         60000  309057.167541\n",
       "first        0.013145            32    2434.410144\n",
       "lasts        0.180994         59968  331325.951563, raw_stats=                     duration\n",
       "start_time           6.303971\n",
       "first_batch_time     6.317116\n",
       "end_time             6.498110\n",
       "num_iter          1875.000000)"
      ]
     },
     "execution_count": 9,
     "metadata": {},
     "output_type": "execute_result"
    }
   ],
   "source": [
    "batch_size = 32\n",
    "ds = tfds.load('mnist', split = 'train')\n",
    "# ds = ds.prefetch(1)\n",
    "ds = ds.batch(batch_size).prefetch(1)\n",
    "\n",
    "# https://www.tensorflow.org/datasets/api_docs/python/tfds/benchmark\n",
    "tfds.benchmark(ds, batch_size = batch_size)\n",
    "tfds.benchmark(ds, batch_size = batch_size)"
   ]
  },
  {
   "cell_type": "markdown",
   "id": "694a7ca8-2ba5-423b-8f8c-5fab236171d5",
   "metadata": {},
   "source": [
    "# Visualization"
   ]
  },
  {
   "cell_type": "code",
   "execution_count": 10,
   "id": "ae51f655-a96e-42dd-a1c8-dc79c1843975",
   "metadata": {},
   "outputs": [
    {
     "data": {
      "text/html": [
       "<style  type=\"text/css\" >\n",
       "</style><table id=\"T_2cf8d_\" ><thead>    <tr>        <th class=\"blank level0\" ></th>        <th class=\"col_heading level0 col0\" >image</th>        <th class=\"col_heading level0 col1\" >label</th>    </tr></thead><tbody>\n",
       "                <tr>\n",
       "                        <th id=\"T_2cf8d_level0_row0\" class=\"row_heading level0 row0\" >0</th>\n",
       "                        <td id=\"T_2cf8d_row0_col0\" class=\"data row0 col0\" ><img src=\"data:image/png;base64,iVBORw0KGgoAAAANSUhEUgAAABwAAAAcCAAAAABXZoBIAAAAzElEQVR4nGNgGPQg5F8qjMmEIRn1XwinRvnvp2QxdTIyMjAwMDDksd17jCnpeN6CgYGBQZfhAhbzLP+WMzAwyPz8IAkXQuh8ycDAwMAQyHr1ORZJYQYGBgYGKYYDDFgkAxgZGBikMxnnISQZYQz2J0KXjwvpqV00+YfpnsS/f//++/v3bxiSGAuMYfp97rN3b1cz7MDiEQgI+bcGmYsatlH/T+PUyPD2jwVOOaOP23Br3P3vZyZOO///v7qGARd4/EkBt7FvbuOWoyIAAPBxN9oBRuu9AAAAAElFTkSuQmCC\" alt=\"Img\" /></td>\n",
       "                        <td id=\"T_2cf8d_row0_col1\" class=\"data row0 col1\" >4</td>\n",
       "            </tr>\n",
       "            <tr>\n",
       "                        <th id=\"T_2cf8d_level0_row1\" class=\"row_heading level0 row1\" >1</th>\n",
       "                        <td id=\"T_2cf8d_row1_col0\" class=\"data row1 col0\" ><img src=\"data:image/png;base64,iVBORw0KGgoAAAANSUhEUgAAABwAAAAcCAAAAABXZoBIAAAAmklEQVR4nGNgGOyAc/5KJlxyjIv+/TPEJan9798HWRgH3YhQBoZHj3HpfP/vVxQuOYF//54ieGjGNjEwXMalkeHbv3+eeCTfseAy1oCVYeofXBp3/f8lgUtO/su/azhtnPLvXwJOycv//uGU0//5bx1OySP//hngkuN5+u8tG4oIkj/VJBmO/8Il6cvAMBunlSIvX3DjlKQmAACHtTHZmy2LVAAAAABJRU5ErkJggg==\" alt=\"Img\" /></td>\n",
       "                        <td id=\"T_2cf8d_row1_col1\" class=\"data row1 col1\" >1</td>\n",
       "            </tr>\n",
       "            <tr>\n",
       "                        <th id=\"T_2cf8d_level0_row2\" class=\"row_heading level0 row2\" >2</th>\n",
       "                        <td id=\"T_2cf8d_row2_col0\" class=\"data row2 col0\" ><img src=\"data:image/png;base64,iVBORw0KGgoAAAANSUhEUgAAABwAAAAcCAAAAABXZoBIAAAA+0lEQVR4nM3QvyuEARzH8feVniSFiTBcKf8A85ESNqwkdbeY5NdmY/UXiM0z+Ad0SXZ1g0vJjw0Xi86pc13eD8NleJ47q3zG76tv3x/wJxk+jQ7bf8NldT9obdNl1fWW1nGh6mtLPIm0oJVWlvuIvOvMWx1qtqWa0U2aULNNNnCtT+MQapi0waK6CoR6mcS8Wuhq4Fqj1PZjU5NQnX0DUine433dD1qZBwjOrM/EsVc9AmCj6c5MWT8XADjX2mgMi+otABN1k0/YVncAFu/VLWLbPgNBduRxLBMQHe/FZ+Zs5EtLm8kP9F81MHrZTScNelZK6sFcXzP9o3wDadaKxdoXqEQAAAAASUVORK5CYII=\" alt=\"Img\" /></td>\n",
       "                        <td id=\"T_2cf8d_row2_col1\" class=\"data row2 col1\" >0</td>\n",
       "            </tr>\n",
       "            <tr>\n",
       "                        <th id=\"T_2cf8d_level0_row3\" class=\"row_heading level0 row3\" >3</th>\n",
       "                        <td id=\"T_2cf8d_row3_col0\" class=\"data row3 col0\" ><img src=\"data:image/png;base64,iVBORw0KGgoAAAANSUhEUgAAABwAAAAcCAAAAABXZoBIAAAA40lEQVR4nGNgGJpg//8OdCEWKM2obvgv/++6/zcZnJQebPuNqkjvLxI4IIgiJ3/v79/3b//9/fvv7993f/9NQzE2TZ6hc8J3JwYGBgaGK7cYeJE12n79+1cCxlH9+/cVB5LOlxy/pryHSUYyMO78gSR5W/vzU7gxfAz/cfq36fvfDw445Fr+/P3bg12KMebb37+7WbDKKSz89/fvNRmscjpb//79u0YBq5z0yb9//2bhcEvXv78fs1ixyzX//PsuHYc+gbvwAMcEmX//3kFzJxOc9YCRoesJLp3sx9+p4JIjGQAAnrpmBs0pxioAAAAASUVORK5CYII=\" alt=\"Img\" /></td>\n",
       "                        <td id=\"T_2cf8d_row3_col1\" class=\"data row3 col1\" >7</td>\n",
       "            </tr>\n",
       "    </tbody></table>"
      ],
      "text/plain": [
       "                                               image  label\n",
       "0  [[[0], [0], [0], [0], [0], [0], [0], [0], [0],...      4\n",
       "1  [[[0], [0], [0], [0], [0], [0], [0], [0], [0],...      1\n",
       "2  [[[0], [0], [0], [0], [0], [0], [0], [0], [0],...      0\n",
       "3  [[[0], [0], [0], [0], [0], [0], [0], [0], [0],...      7"
      ]
     },
     "execution_count": 10,
     "metadata": {},
     "output_type": "execute_result"
    }
   ],
   "source": [
    "# Set with_info = True for visualization\n",
    "ds, info = tfds.load('mnist', split = 'train', with_info = True)\n",
    "\n",
    "tfds.as_dataframe(ds.take(4), info)"
   ]
  },
  {
   "cell_type": "code",
   "execution_count": 11,
   "id": "4e236d93-1b9e-4f39-b47c-3a664a97890c",
   "metadata": {},
   "outputs": [
    {
     "data": {
      "image/png": "[encoded data removed]",
      "text/plain": [
       "<Figure size 648x648 with 9 Axes>"
      ]
     },
     "metadata": {},
     "output_type": "display_data"
    }
   ],
   "source": [
    "ds, info = tfds.load('mnist', split = 'train', with_info = True)\n",
    "\n",
    "fig = tfds.show_examples(ds, info)"
   ]
  },
  {
   "cell_type": "markdown",
   "id": "bd973ed2-99b7-44d3-bd19-80d3d1fa2c4b",
   "metadata": {},
   "source": [
    "# Access the Dataset Metadata"
   ]
  },
  {
   "cell_type": "code",
   "execution_count": 12,
   "id": "da4e47c0-f377-4a22-a73c-98bf881a3434",
   "metadata": {},
   "outputs": [
    {
     "data": {
      "text/plain": [
       "ClassLabel(shape=(), dtype=tf.int64, num_classes=10)"
      ]
     },
     "execution_count": 12,
     "metadata": {},
     "output_type": "execute_result"
    }
   ],
   "source": [
    "ds, info = tfds.load('mnist', with_info = True)\n",
    "info.features['label']"
   ]
  },
  {
   "cell_type": "code",
   "execution_count": 13,
   "id": "3527d93d-2cf2-4348-966d-472eee260a4e",
   "metadata": {},
   "outputs": [
    {
     "name": "stdout",
     "output_type": "stream",
     "text": [
      "10\n",
      "['0', '1', '2', '3', '4', '5', '6', '7', '8', '9']\n",
      "7\n"
     ]
    }
   ],
   "source": [
    "print(info.features['label'].num_classes)\n",
    "print(info.features['label'].names)\n",
    "print(info.features['label'].int2str(7))"
   ]
  },
  {
   "cell_type": "code",
   "execution_count": 14,
   "id": "75104bc2-d509-414d-8599-006d03518c39",
   "metadata": {},
   "outputs": [
    {
     "name": "stdout",
     "output_type": "stream",
     "text": [
      "{'image': (28, 28, 1), 'label': ()}\n",
      "Image(shape=(28, 28, 1), dtype=tf.uint8)\n"
     ]
    }
   ],
   "source": [
    "print(info.features.shape)\n",
    "print(info.features['image'])"
   ]
  },
  {
   "cell_type": "code",
   "execution_count": 15,
   "id": "a193ee06-c8a9-4b90-b4d5-1eb997a217a5",
   "metadata": {},
   "outputs": [
    {
     "name": "stdout",
     "output_type": "stream",
     "text": [
      "{'test': <SplitInfo num_examples=10000, num_shards=1>, 'train': <SplitInfo num_examples=60000, num_shards=1>}\n"
     ]
    }
   ],
   "source": [
    "print(info.splits)"
   ]
  },
  {
   "cell_type": "code",
   "execution_count": 16,
   "id": "0d77ce05-5550-4799-a088-848da4235fab",
   "metadata": {},
   "outputs": [
    {
     "name": "stdout",
     "output_type": "stream",
     "text": [
      "36000\n"
     ]
    }
   ],
   "source": [
    "print(info.splits['train[15%:75%]'].num_examples)"
   ]
  },
  {
   "cell_type": "markdown",
   "id": "3781d936-58d4-46ca-aa13-6a2a3f20bc30",
   "metadata": {},
   "source": [
    "# From TFDS to Keras\n",
    "\n",
    "The second part mainly follows [Keras Example Guide](https://www.tensorflow.org/datasets/keras_example)."
   ]
  },
  {
   "cell_type": "code",
   "execution_count": 17,
   "id": "b3787a3d-1f93-4cc3-a436-5007f8cafc65",
   "metadata": {},
   "outputs": [],
   "source": [
    "# https://www.tensorflow.org/datasets/api_docs/python/tfds/load\n",
    "(train_ds, valid_ds, test_ds), info = tfds.load(\n",
    "    'mnist',\n",
    "    split = ['train[:80%]', 'train[80%:]', 'test'],\n",
    "    shuffle_files = True, \n",
    "    as_supervised = True, # Make it supervised tuples\n",
    "    with_info = True,     # Retrieve metadata\n",
    ")"
   ]
  },
  {
   "cell_type": "code",
   "execution_count": 18,
   "id": "a54dbf18-8452-4dd5-b278-abe82fd30140",
   "metadata": {},
   "outputs": [
    {
     "name": "stdout",
     "output_type": "stream",
     "text": [
      "<dtype: 'uint8'>\n",
      "60000\n",
      "(28, 28, 1)\n",
      "(28, 28, 1)\n"
     ]
    }
   ],
   "source": [
    "print(info.features['image'].dtype)\n",
    "print(info.splits['train'].num_examples)\n",
    "print(info.features['image'].shape)\n",
    "input_shape = (info.features['image'].shape)\n",
    "print(input_shape)"
   ]
  },
  {
   "cell_type": "code",
   "execution_count": 19,
   "id": "f3f74e30-d91f-4020-bd6d-2c54213e7c67",
   "metadata": {},
   "outputs": [],
   "source": [
    "# Normalize the uint8 to float\n",
    "def normalize_image(image, label):\n",
    "    return tf.cast(image, tf.float32) / 255.0, label\n",
    "\n",
    "batch_size = 128\n",
    "\n",
    "# reshuffle_each_iteration = False, since we want to test for different model(or rebuild the model), the input sequence should be the same\n",
    "# However, it would make input sequence for each iteration same.\n",
    "# Origally, I think True can still make the first input same, but it doesn't.\n",
    "def create_train_set(ds, seed = 1, reshuffle_each_iteration = False):\n",
    "    # https://www.tensorflow.org/api_docs/python/tf/data/Dataset#map\n",
    "    ds = ds.map(normalize_image, num_parallel_calls = tf.data.AUTOTUNE)\n",
    "    # Transformation should be called before cache\n",
    "    ds = ds.cache()\n",
    "    # https://www.tensorflow.org/api_docs/python/tf/data/Dataset#shuffle\n",
    "    # Use 1000 for bigger larger set to fit in memory\n",
    "    # If we set seed, then the first epoch for this dataset would always start from the same sequence\n",
    "    ds = ds.shuffle(info.splits['train'].num_examples, seed = seed, reshuffle_each_iteration = reshuffle_each_iteration)\n",
    "    ds = ds.batch(batch_size)\n",
    "    # https://www.tensorflow.org/api_docs/python/tf/data/Dataset\n",
    "    ds = ds.prefetch(tf.data.AUTOTUNE)\n",
    "    return ds\n"
   ]
  },
  {
   "cell_type": "code",
   "execution_count": 20,
   "id": "68d51ac9-2ce5-4a90-8a6b-51745e91000e",
   "metadata": {},
   "outputs": [],
   "source": [
    "# We don't call shuffle on validation/test set\n",
    "def create_valid_test_set(ds):    \n",
    "    ds = ds.map(normalize_image, num_parallel_calls = tf.data.AUTOTUNE)\n",
    "    ds = ds.batch(batch_size)\n",
    "    # https://www.tensorflow.org/api_docs/python/tf/data/Dataset#cache\n",
    "    # For test/test set, we cache after batch\n",
    "    ds = ds.cache()\n",
    "    test_ds = ds.prefetch(tf.data.AUTOTUNE)\n",
    "    return ds\n"
   ]
  },
  {
   "cell_type": "code",
   "execution_count": 21,
   "id": "9cd4ba7b-e7a4-4a12-88f3-1d875daad654",
   "metadata": {},
   "outputs": [],
   "source": [
    "train_ds_batched = create_train_set(train_ds)\n",
    "valid_ds_batched = create_valid_test_set(valid_ds)\n",
    "test_ds_batched = create_valid_test_set(test_ds)"
   ]
  },
  {
   "cell_type": "code",
   "execution_count": 22,
   "id": "d67b6916-c5aa-47e3-9e10-aec3a61517cc",
   "metadata": {},
   "outputs": [
    {
     "name": "stdout",
     "output_type": "stream",
     "text": [
      "Epoch 1/500\n",
      "375/375 [==============================] - 2s 2ms/step - loss: 0.4658 - sparse_categorical_accuracy: 0.8646 - val_loss: 0.2349 - val_sparse_categorical_accuracy: 0.9327\n",
      "Epoch 2/500\n",
      "375/375 [==============================] - 0s 1ms/step - loss: 0.2260 - sparse_categorical_accuracy: 0.9354 - val_loss: 0.1759 - val_sparse_categorical_accuracy: 0.9504\n",
      "Epoch 3/500\n",
      "375/375 [==============================] - 0s 1ms/step - loss: 0.1735 - sparse_categorical_accuracy: 0.9493 - val_loss: 0.1483 - val_sparse_categorical_accuracy: 0.9557\n",
      "Epoch 4/500\n",
      "375/375 [==============================] - 0s 1ms/step - loss: 0.1444 - sparse_categorical_accuracy: 0.9575 - val_loss: 0.1288 - val_sparse_categorical_accuracy: 0.9625\n",
      "Epoch 5/500\n",
      "375/375 [==============================] - 0s 1ms/step - loss: 0.1290 - sparse_categorical_accuracy: 0.9614 - val_loss: 0.1186 - val_sparse_categorical_accuracy: 0.9655\n",
      "Epoch 6/500\n",
      "375/375 [==============================] - 0s 1ms/step - loss: 0.1109 - sparse_categorical_accuracy: 0.9665 - val_loss: 0.1062 - val_sparse_categorical_accuracy: 0.9687\n",
      "Epoch 7/500\n",
      "375/375 [==============================] - 0s 1ms/step - loss: 0.0997 - sparse_categorical_accuracy: 0.9699 - val_loss: 0.1056 - val_sparse_categorical_accuracy: 0.9693\n",
      "Epoch 8/500\n",
      "375/375 [==============================] - 0s 1ms/step - loss: 0.0913 - sparse_categorical_accuracy: 0.9724 - val_loss: 0.0988 - val_sparse_categorical_accuracy: 0.9710\n",
      "Epoch 9/500\n",
      "375/375 [==============================] - 0s 1ms/step - loss: 0.0852 - sparse_categorical_accuracy: 0.9737 - val_loss: 0.0952 - val_sparse_categorical_accuracy: 0.9721\n",
      "Epoch 10/500\n",
      "375/375 [==============================] - 0s 1ms/step - loss: 0.0790 - sparse_categorical_accuracy: 0.9759 - val_loss: 0.0923 - val_sparse_categorical_accuracy: 0.9729\n",
      "Epoch 11/500\n",
      "375/375 [==============================] - 0s 1ms/step - loss: 0.0718 - sparse_categorical_accuracy: 0.9781 - val_loss: 0.0910 - val_sparse_categorical_accuracy: 0.9747\n",
      "Epoch 12/500\n",
      "375/375 [==============================] - 0s 1ms/step - loss: 0.0669 - sparse_categorical_accuracy: 0.9793 - val_loss: 0.0894 - val_sparse_categorical_accuracy: 0.9732\n",
      "Epoch 13/500\n",
      "375/375 [==============================] - 0s 1ms/step - loss: 0.0626 - sparse_categorical_accuracy: 0.9800 - val_loss: 0.0884 - val_sparse_categorical_accuracy: 0.9757\n",
      "Epoch 14/500\n",
      "375/375 [==============================] - 0s 1ms/step - loss: 0.0595 - sparse_categorical_accuracy: 0.9817 - val_loss: 0.0855 - val_sparse_categorical_accuracy: 0.9753\n",
      "Epoch 15/500\n",
      "375/375 [==============================] - 0s 1ms/step - loss: 0.0543 - sparse_categorical_accuracy: 0.9829 - val_loss: 0.0846 - val_sparse_categorical_accuracy: 0.9758\n",
      "Epoch 16/500\n",
      "375/375 [==============================] - 0s 1ms/step - loss: 0.0524 - sparse_categorical_accuracy: 0.9836 - val_loss: 0.0845 - val_sparse_categorical_accuracy: 0.9753\n",
      "Epoch 17/500\n",
      "375/375 [==============================] - 0s 1ms/step - loss: 0.0489 - sparse_categorical_accuracy: 0.9840 - val_loss: 0.0880 - val_sparse_categorical_accuracy: 0.9753\n",
      "Epoch 18/500\n",
      "375/375 [==============================] - 0s 1ms/step - loss: 0.0488 - sparse_categorical_accuracy: 0.9837 - val_loss: 0.0842 - val_sparse_categorical_accuracy: 0.9765\n",
      "Epoch 19/500\n",
      "375/375 [==============================] - 0s 1ms/step - loss: 0.0460 - sparse_categorical_accuracy: 0.9853 - val_loss: 0.0841 - val_sparse_categorical_accuracy: 0.9758\n",
      "Epoch 20/500\n",
      "375/375 [==============================] - 0s 1ms/step - loss: 0.0427 - sparse_categorical_accuracy: 0.9859 - val_loss: 0.0879 - val_sparse_categorical_accuracy: 0.9767\n",
      "Epoch 21/500\n",
      "375/375 [==============================] - 0s 1ms/step - loss: 0.0401 - sparse_categorical_accuracy: 0.9871 - val_loss: 0.0846 - val_sparse_categorical_accuracy: 0.9776\n",
      "Epoch 22/500\n",
      "375/375 [==============================] - 0s 1ms/step - loss: 0.0394 - sparse_categorical_accuracy: 0.9871 - val_loss: 0.0843 - val_sparse_categorical_accuracy: 0.9772\n",
      "Epoch 23/500\n",
      "375/375 [==============================] - 0s 1ms/step - loss: 0.0381 - sparse_categorical_accuracy: 0.9876 - val_loss: 0.0895 - val_sparse_categorical_accuracy: 0.9762\n",
      "Epoch 24/500\n",
      "375/375 [==============================] - 0s 1ms/step - loss: 0.0387 - sparse_categorical_accuracy: 0.9871 - val_loss: 0.0861 - val_sparse_categorical_accuracy: 0.9770\n",
      "Epoch 25/500\n",
      "375/375 [==============================] - 0s 1ms/step - loss: 0.0354 - sparse_categorical_accuracy: 0.9880 - val_loss: 0.0858 - val_sparse_categorical_accuracy: 0.9778\n",
      "Epoch 26/500\n",
      "375/375 [==============================] - 0s 1ms/step - loss: 0.0365 - sparse_categorical_accuracy: 0.9879 - val_loss: 0.0884 - val_sparse_categorical_accuracy: 0.9779\n",
      "Epoch 27/500\n",
      "375/375 [==============================] - 0s 1ms/step - loss: 0.0336 - sparse_categorical_accuracy: 0.9890 - val_loss: 0.0845 - val_sparse_categorical_accuracy: 0.9779\n",
      "Epoch 28/500\n",
      "375/375 [==============================] - 0s 1ms/step - loss: 0.0304 - sparse_categorical_accuracy: 0.9899 - val_loss: 0.0857 - val_sparse_categorical_accuracy: 0.9777\n",
      "Epoch 29/500\n",
      "375/375 [==============================] - 1s 1ms/step - loss: 0.0313 - sparse_categorical_accuracy: 0.9899 - val_loss: 0.0865 - val_sparse_categorical_accuracy: 0.9779\n",
      "val_loss: 0.0841 - val_sparse_categorical_accuracy: 0.9779\n"
     ]
    }
   ],
   "source": [
    "import pandas as pd\n",
    "import numpy as np\n",
    "\n",
    "tf.random.set_seed(1)\n",
    "np.random.seed(1)\n",
    "\n",
    "model = keras.models.Sequential([\n",
    "    keras.layers.Flatten(input_shape = input_shape),\n",
    "    keras.layers.Dense(128, activation = 'relu'),\n",
    "    keras.layers.Dropout(0.3),\n",
    "    keras.layers.Dense(10)\n",
    "])\n",
    "\n",
    "model.compile(\n",
    "    optimizer = 'adam',\n",
    "    loss = keras.losses.SparseCategoricalCrossentropy(from_logits = True),\n",
    "    metrics = [keras.metrics.SparseCategoricalAccuracy()],\n",
    ")\n",
    "\n",
    "early_stopping = keras.callbacks.EarlyStopping(patience = 10, restore_best_weights = True)\n",
    "\n",
    "history = model.fit(\n",
    "    train_ds_batched,\n",
    "    epochs = 500,\n",
    "    validation_data = valid_ds_batched,\n",
    "    callbacks = [early_stopping],\n",
    ")\n",
    "\n",
    "history_df = pd.DataFrame(history.history)\n",
    "print(f'val_loss: {history_df.val_loss.min():.4f} - val_sparse_categorical_accuracy: {history_df.val_sparse_categorical_accuracy.max():.4f}')"
   ]
  },
  {
   "cell_type": "code",
   "execution_count": 23,
   "id": "ddde0566-b972-4def-b85d-4c3ed32fb352",
   "metadata": {},
   "outputs": [
    {
     "name": "stdout",
     "output_type": "stream",
     "text": [
      "79/79 [==============================] - 0s 3ms/step - loss: 0.0759 - sparse_categorical_accuracy: 0.9792\n"
     ]
    },
    {
     "data": {
      "text/plain": [
       "[0.07592277228832245, 0.979200005531311]"
      ]
     },
     "execution_count": 23,
     "metadata": {},
     "output_type": "execute_result"
    }
   ],
   "source": [
    "model.evaluate(test_ds_batched)"
   ]
  },
  {
   "cell_type": "code",
   "execution_count": 24,
   "id": "44b64c75-b65f-4aad-a57f-b202d9c5ad6f",
   "metadata": {},
   "outputs": [
    {
     "name": "stdout",
     "output_type": "stream",
     "text": [
      "(128, 10)\n",
      "[[-14.500157   -6.972598   14.633423   -2.306548   -5.9908423  -6.6004353\n",
      "   -6.8253746  -8.3344345  -3.8601477 -12.037413 ]]\n",
      "[2, 0, 4, 8, 7, 0, 6, 3, 1, 8]\n",
      "[2 0 4 8 7 0 6 3 1 8]\n"
     ]
    },
    {
     "data": {
      "text/html": [
       "<div>\n",
       "<style scoped>\n",
       "    .dataframe tbody tr th:only-of-type {\n",
       "        vertical-align: middle;\n",
       "    }\n",
       "\n",
       "    .dataframe tbody tr th {\n",
       "        vertical-align: top;\n",
       "    }\n",
       "\n",
       "    .dataframe thead th {\n",
       "        text-align: right;\n",
       "    }\n",
       "</style>\n",
       "<table border=\"1\" class=\"dataframe\">\n",
       "  <thead>\n",
       "    <tr style=\"text-align: right;\">\n",
       "      <th></th>\n",
       "      <th>real</th>\n",
       "      <th>predicted</th>\n",
       "    </tr>\n",
       "  </thead>\n",
       "  <tbody>\n",
       "    <tr>\n",
       "      <th>0</th>\n",
       "      <td>2</td>\n",
       "      <td>2</td>\n",
       "    </tr>\n",
       "    <tr>\n",
       "      <th>1</th>\n",
       "      <td>0</td>\n",
       "      <td>0</td>\n",
       "    </tr>\n",
       "    <tr>\n",
       "      <th>2</th>\n",
       "      <td>4</td>\n",
       "      <td>4</td>\n",
       "    </tr>\n",
       "    <tr>\n",
       "      <th>3</th>\n",
       "      <td>8</td>\n",
       "      <td>8</td>\n",
       "    </tr>\n",
       "    <tr>\n",
       "      <th>4</th>\n",
       "      <td>7</td>\n",
       "      <td>7</td>\n",
       "    </tr>\n",
       "    <tr>\n",
       "      <th>5</th>\n",
       "      <td>0</td>\n",
       "      <td>0</td>\n",
       "    </tr>\n",
       "    <tr>\n",
       "      <th>6</th>\n",
       "      <td>6</td>\n",
       "      <td>6</td>\n",
       "    </tr>\n",
       "    <tr>\n",
       "      <th>7</th>\n",
       "      <td>3</td>\n",
       "      <td>3</td>\n",
       "    </tr>\n",
       "    <tr>\n",
       "      <th>8</th>\n",
       "      <td>1</td>\n",
       "      <td>1</td>\n",
       "    </tr>\n",
       "    <tr>\n",
       "      <th>9</th>\n",
       "      <td>8</td>\n",
       "      <td>8</td>\n",
       "    </tr>\n",
       "  </tbody>\n",
       "</table>\n",
       "</div>"
      ],
      "text/plain": [
       "   real  predicted\n",
       "0     2          2\n",
       "1     0          0\n",
       "2     4          4\n",
       "3     8          8\n",
       "4     7          7\n",
       "5     0          0\n",
       "6     6          6\n",
       "7     3          3\n",
       "8     1          1\n",
       "9     8          8"
      ]
     },
     "execution_count": 24,
     "metadata": {},
     "output_type": "execute_result"
    }
   ],
   "source": [
    "for image, label in test_ds_batched.take(1):\n",
    "    predicted = model.predict(image)\n",
    "    true_labels = label\n",
    "    break\n",
    "    \n",
    "print(predicted.shape)\n",
    "print(predicted[:1])\n",
    "print(list(map(np.argmax, predicted[:10])))\n",
    "print(true_labels[:10].numpy())\n",
    "\n",
    "pd.DataFrame({'real': true_labels[:10].numpy(), 'predicted': map(np.argmax, predicted[:10])})"
   ]
  },
  {
   "cell_type": "markdown",
   "id": "1b3923b6-2227-462d-99de-553cd82aa0f3",
   "metadata": {},
   "source": [
    "# Other Tests"
   ]
  },
  {
   "cell_type": "code",
   "execution_count": 25,
   "id": "414d87d8-f410-45a0-ab21-38222de0b790",
   "metadata": {},
   "outputs": [
    {
     "name": "stdout",
     "output_type": "stream",
     "text": [
      "[0, 2, 1]\n",
      "[1, 0, 2]\n"
     ]
    }
   ],
   "source": [
    "# https://www.tensorflow.org/api_docs/python/tf/data/Dataset#shuffle\n",
    "\n",
    "ds = tf.data.Dataset.range(3)\n",
    "dataset = ds.shuffle(2, seed = 1)\n",
    "print(list(dataset.as_numpy_iterator()))\n",
    "print(list(dataset.as_numpy_iterator()))"
   ]
  },
  {
   "cell_type": "code",
   "execution_count": 26,
   "id": "46a2591a-75ca-4049-9089-c33b8745a960",
   "metadata": {},
   "outputs": [
    {
     "name": "stdout",
     "output_type": "stream",
     "text": [
      "[0, 2, 1]\n"
     ]
    }
   ],
   "source": [
    "dataset = ds.shuffle(2, seed = 1)\n",
    "print(list(dataset.as_numpy_iterator()))"
   ]
  }
 ],
 "metadata": {
  "kernelspec": {
   "display_name": "Python 3",
   "language": "python",
   "name": "python3"
  },
  "language_info": {
   "codemirror_mode": {
    "name": "ipython",
    "version": 3
   },
   "file_extension": ".py",
   "mimetype": "text/x-python",
   "name": "python",
   "nbconvert_exporter": "python",
   "pygments_lexer": "ipython3",
   "version": "3.9.6"
  }
 },
 "nbformat": 4,
 "nbformat_minor": 5
}
