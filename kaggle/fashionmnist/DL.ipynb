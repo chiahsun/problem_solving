{
 "cells": [
  {
   "cell_type": "code",
   "execution_count": 1,
   "id": "ec9e2ee7-9cec-4dea-88f8-fd16ca2a8aa8",
   "metadata": {},
   "outputs": [
    {
     "data": {
      "text/plain": [
       "'2.5.0'"
      ]
     },
     "execution_count": 1,
     "metadata": {},
     "output_type": "execute_result"
    }
   ],
   "source": [
    "import tensorflow as tf\n",
    "tf.__version__"
   ]
  },
  {
   "cell_type": "code",
   "execution_count": 2,
   "id": "4daba02c-39bf-497b-908e-23312f4f0c98",
   "metadata": {},
   "outputs": [],
   "source": [
    "import pandas as pd\n",
    "\n",
    "train = pd.read_csv('./input/fashion-mnist/fashion-mnist_train.csv')\n",
    "test = pd.read_csv('./input/fashion-mnist/fashion-mnist_test.csv')"
   ]
  },
  {
   "cell_type": "code",
   "execution_count": 3,
   "id": "aa3f60cf-4496-4e53-b06b-f65e9d430ee8",
   "metadata": {},
   "outputs": [
    {
     "name": "stdout",
     "output_type": "stream",
     "text": [
      "(60000, 785)\n"
     ]
    },
    {
     "data": {
      "text/plain": [
       "Index(['label', 'pixel1', 'pixel2', 'pixel3', 'pixel4', 'pixel5', 'pixel6',\n",
       "       'pixel7', 'pixel8', 'pixel9',\n",
       "       ...\n",
       "       'pixel775', 'pixel776', 'pixel777', 'pixel778', 'pixel779', 'pixel780',\n",
       "       'pixel781', 'pixel782', 'pixel783', 'pixel784'],\n",
       "      dtype='object', length=785)"
      ]
     },
     "execution_count": 3,
     "metadata": {},
     "output_type": "execute_result"
    }
   ],
   "source": [
    "print(train.shape)\n",
    "train.columns"
   ]
  },
  {
   "cell_type": "code",
   "execution_count": 4,
   "id": "e4e5b4b0-34d6-4305-a027-532da5e9af52",
   "metadata": {},
   "outputs": [
    {
     "name": "stdout",
     "output_type": "stream",
     "text": [
      "(10000, 785)\n"
     ]
    },
    {
     "data": {
      "text/plain": [
       "Index(['label', 'pixel1', 'pixel2', 'pixel3', 'pixel4', 'pixel5', 'pixel6',\n",
       "       'pixel7', 'pixel8', 'pixel9',\n",
       "       ...\n",
       "       'pixel775', 'pixel776', 'pixel777', 'pixel778', 'pixel779', 'pixel780',\n",
       "       'pixel781', 'pixel782', 'pixel783', 'pixel784'],\n",
       "      dtype='object', length=785)"
      ]
     },
     "execution_count": 4,
     "metadata": {},
     "output_type": "execute_result"
    }
   ],
   "source": [
    "print(test.shape)\n",
    "test.columns"
   ]
  },
  {
   "cell_type": "code",
   "execution_count": 5,
   "id": "e1c7d84c-2b4c-43ca-8e54-6633f32cf980",
   "metadata": {},
   "outputs": [
    {
     "data": {
      "text/plain": [
       "label       int64\n",
       "pixel1      int64\n",
       "pixel2      int64\n",
       "pixel3      int64\n",
       "pixel4      int64\n",
       "            ...  \n",
       "pixel780    int64\n",
       "pixel781    int64\n",
       "pixel782    int64\n",
       "pixel783    int64\n",
       "pixel784    int64\n",
       "Length: 785, dtype: object"
      ]
     },
     "execution_count": 5,
     "metadata": {},
     "output_type": "execute_result"
    }
   ],
   "source": [
    "train.dtypes"
   ]
  },
  {
   "cell_type": "code",
   "execution_count": 6,
   "id": "cf38fc6e-b6cd-42a0-a400-1ac80b22de1f",
   "metadata": {},
   "outputs": [
    {
     "name": "stdout",
     "output_type": "stream",
     "text": [
      "(42000, 785)\n",
      "(18000, 785)\n"
     ]
    }
   ],
   "source": [
    "df = train.copy()\n",
    "\n",
    "train = df.sample(frac = 0.7, random_state = 0)\n",
    "valid = df.drop(train.index)\n",
    "\n",
    "print(train.shape)\n",
    "print(valid.shape)"
   ]
  },
  {
   "cell_type": "code",
   "execution_count": 7,
   "id": "31cb5800-969f-42f9-a225-4d7a0dcb55b1",
   "metadata": {},
   "outputs": [
    {
     "name": "stdout",
     "output_type": "stream",
     "text": [
      "(42000, 784) (42000,)\n"
     ]
    }
   ],
   "source": [
    "def split_Xy(df):\n",
    "    X = df\n",
    "    y = X.pop('label')\n",
    "    return X, y\n",
    "\n",
    "X_train, y_train = split_Xy(train)\n",
    "print(X_train.shape, y_train.shape)"
   ]
  },
  {
   "cell_type": "code",
   "execution_count": 8,
   "id": "57d9eabd-0859-4a9e-a342-e5f4a938f4fc",
   "metadata": {},
   "outputs": [
    {
     "name": "stdout",
     "output_type": "stream",
     "text": [
      "(18000, 784) (18000,)\n"
     ]
    }
   ],
   "source": [
    "X_valid , y_valid = split_Xy(valid)\n",
    "print(X_valid.shape, y_valid.shape)"
   ]
  },
  {
   "cell_type": "code",
   "execution_count": 9,
   "id": "9b914ab0-1b11-4e06-948a-ab80baccacbc",
   "metadata": {},
   "outputs": [
    {
     "name": "stdout",
     "output_type": "stream",
     "text": [
      "(10000, 784) (10000,)\n"
     ]
    }
   ],
   "source": [
    "X_test , y_test = split_Xy(test)\n",
    "print(X_test.shape, y_test.shape)"
   ]
  },
  {
   "cell_type": "code",
   "execution_count": 10,
   "id": "440e7fd7-90d1-4998-9c5a-822088b20b0e",
   "metadata": {},
   "outputs": [
    {
     "data": {
      "text/plain": [
       "array([1, 6, 8, 7, 0, 5, 2, 9, 4, 3])"
      ]
     },
     "execution_count": 10,
     "metadata": {},
     "output_type": "execute_result"
    }
   ],
   "source": [
    "y_train.unique()"
   ]
  },
  {
   "cell_type": "code",
   "execution_count": 11,
   "id": "64f49605-ed88-44b0-920a-2b9314a441f4",
   "metadata": {},
   "outputs": [
    {
     "name": "stdout",
     "output_type": "stream",
     "text": [
      "[784]\n"
     ]
    }
   ],
   "source": [
    "input_shape = [X_train.shape[1]]\n",
    "print(input_shape)"
   ]
  },
  {
   "cell_type": "code",
   "execution_count": 12,
   "id": "9a5e4d29-ee51-42e0-bbc7-1e91e059e2f2",
   "metadata": {},
   "outputs": [],
   "source": [
    "import numpy as np\n",
    "\n",
    "# https://numpy.org/doc/stable/reference/generated/numpy.reshape.html\n",
    "img1 = np.reshape(list(X_train.iloc[0]), (28, 28))"
   ]
  },
  {
   "cell_type": "code",
   "execution_count": 13,
   "id": "e9299bcc-c4ad-4ce1-b626-5d19ce9a5a76",
   "metadata": {},
   "outputs": [
    {
     "data": {
      "image/png": "[encoded data removed]",
      "text/plain": [
       "<Figure size 432x288 with 2 Axes>"
      ]
     },
     "metadata": {
      "needs_background": "light"
     },
     "output_type": "display_data"
    }
   ],
   "source": [
    "# https://www.tensorflow.org/tutorials/keras/classification\n",
    "import matplotlib.pyplot as plt\n",
    "\n",
    "plt.figure()\n",
    "plt.imshow(img1, cmap = plt.cm.binary)\n",
    "plt.colorbar()\n",
    "plt.grid(False)\n",
    "plt.show()"
   ]
  },
  {
   "cell_type": "code",
   "execution_count": 14,
   "id": "b05b217c-e775-42fc-9e14-0547961c4dc3",
   "metadata": {},
   "outputs": [
    {
     "data": {
      "text/plain": [
       "\"\\nmodel = tf.keras.Sequential([\\n    tf.keras.layers.Flatten(input_shape= input_shape),\\n    tf.keras.layers.Dense(128, activation='relu'),\\n    tf.keras.layers.Dense(10, activation = 'softmax')\\n])\\n\""
      ]
     },
     "execution_count": 14,
     "metadata": {},
     "output_type": "execute_result"
    }
   ],
   "source": [
    "from tensorflow import keras\n",
    "from tensorflow.keras import layers\n",
    "\n",
    "# val: 0.852, test: 0.862\n",
    "\"\"\"\n",
    "model = tf.keras.Sequential([\n",
    "    tf.keras.layers.Flatten(input_shape= input_shape),\n",
    "    tf.keras.layers.Dense(128, activation='relu'),\n",
    "    tf.keras.layers.Dense(10, activation = 'softmax')\n",
    "])\n",
    "\"\"\""
   ]
  },
  {
   "cell_type": "code",
   "execution_count": 15,
   "id": "c4ac17d7-3cd6-4797-9698-0e1a7d45717a",
   "metadata": {},
   "outputs": [],
   "source": [
    "# val: 0.8287222385406494, test: 0.8965\n",
    "\n",
    "model = keras.Sequential([\n",
    "    layers.BatchNormalization(input_shape = input_shape),\n",
    "    layers.Dense(512, activation = 'relu'),\n",
    "    layers.BatchNormalization(),\n",
    "    layers.Dropout(0.3),\n",
    "    layers.Dense(512, activation = 'relu'),\n",
    "    layers.BatchNormalization(),\n",
    "    layers.Dropout(0.3),\n",
    "    layers.Dense(512, activation = 'relu'),\n",
    "    layers.BatchNormalization(),\n",
    "    layers.Dropout(0.3),\n",
    "    layers.Dense(10, activation = 'softmax'),\n",
    "])"
   ]
  },
  {
   "cell_type": "code",
   "execution_count": 16,
   "id": "774329ce-7f51-4ec5-8cc7-a324dc55fc9d",
   "metadata": {},
   "outputs": [],
   "source": [
    "from tensorflow.keras import callbacks\n",
    "\n",
    "early_stopping = callbacks.EarlyStopping(\n",
    "    patience = 5,\n",
    "    min_delta = 0.001,\n",
    "    restore_best_weights = True,\n",
    ")"
   ]
  },
  {
   "cell_type": "code",
   "execution_count": 17,
   "id": "23a0f9c3-2154-45e1-a476-b94b32a850b1",
   "metadata": {},
   "outputs": [],
   "source": [
    "# https://www.tensorflow.org/api_docs/python/tf/keras/losses/SparseCategoricalCrossentropy\n",
    "# https://stackoverflow.com/questions/34240703/what-are-logits-what-is-the-difference-between-softmax-and-softmax-cross-entrop\n",
    "\n",
    "model.compile(optimizer = 'adam',\n",
    "              loss = 'sparse_categorical_crossentropy',\n",
    "              # If you don't use softmax for the last layer, you need to set from_logits as True\n",
    "#              loss=tf.keras.losses.SparseCategoricalCrossentropy(from_logits=True),\n",
    "              metrics = ['accuracy'])\n",
    "\n",
    "history = model.fit(\n",
    "    X_train, y_train,\n",
    "    validation_data = (X_valid, y_valid),\n",
    "    batch_size = 256,\n",
    "    epochs = 500,\n",
    "    callbacks = [early_stopping],\n",
    "    verbose = 0,\n",
    ")"
   ]
  },
  {
   "cell_type": "code",
   "execution_count": 18,
   "id": "16890238-26dd-46b8-a798-e8509504b7d0",
   "metadata": {},
   "outputs": [
    {
     "data": {
      "text/html": [
       "<div>\n",
       "<style scoped>\n",
       "    .dataframe tbody tr th:only-of-type {\n",
       "        vertical-align: middle;\n",
       "    }\n",
       "\n",
       "    .dataframe tbody tr th {\n",
       "        vertical-align: top;\n",
       "    }\n",
       "\n",
       "    .dataframe thead th {\n",
       "        text-align: right;\n",
       "    }\n",
       "</style>\n",
       "<table border=\"1\" class=\"dataframe\">\n",
       "  <thead>\n",
       "    <tr style=\"text-align: right;\">\n",
       "      <th></th>\n",
       "      <th>loss</th>\n",
       "      <th>accuracy</th>\n",
       "      <th>val_loss</th>\n",
       "      <th>val_accuracy</th>\n",
       "    </tr>\n",
       "  </thead>\n",
       "  <tbody>\n",
       "    <tr>\n",
       "      <th>0</th>\n",
       "      <td>0.616424</td>\n",
       "      <td>0.787405</td>\n",
       "      <td>0.422871</td>\n",
       "      <td>0.851556</td>\n",
       "    </tr>\n",
       "    <tr>\n",
       "      <th>1</th>\n",
       "      <td>0.433273</td>\n",
       "      <td>0.843810</td>\n",
       "      <td>0.363476</td>\n",
       "      <td>0.868389</td>\n",
       "    </tr>\n",
       "    <tr>\n",
       "      <th>2</th>\n",
       "      <td>0.375605</td>\n",
       "      <td>0.863214</td>\n",
       "      <td>0.344510</td>\n",
       "      <td>0.875222</td>\n",
       "    </tr>\n",
       "    <tr>\n",
       "      <th>3</th>\n",
       "      <td>0.355234</td>\n",
       "      <td>0.869262</td>\n",
       "      <td>0.333250</td>\n",
       "      <td>0.881556</td>\n",
       "    </tr>\n",
       "    <tr>\n",
       "      <th>4</th>\n",
       "      <td>0.336782</td>\n",
       "      <td>0.874833</td>\n",
       "      <td>0.338851</td>\n",
       "      <td>0.879556</td>\n",
       "    </tr>\n",
       "  </tbody>\n",
       "</table>\n",
       "</div>"
      ],
      "text/plain": [
       "       loss  accuracy  val_loss  val_accuracy\n",
       "0  0.616424  0.787405  0.422871      0.851556\n",
       "1  0.433273  0.843810  0.363476      0.868389\n",
       "2  0.375605  0.863214  0.344510      0.875222\n",
       "3  0.355234  0.869262  0.333250      0.881556\n",
       "4  0.336782  0.874833  0.338851      0.879556"
      ]
     },
     "execution_count": 18,
     "metadata": {},
     "output_type": "execute_result"
    }
   ],
   "source": [
    "history_df = pd.DataFrame(history.history)\n",
    "history_df.head()"
   ]
  },
  {
   "cell_type": "code",
   "execution_count": 19,
   "id": "8481ae2a-9585-47c9-8483-e951baa888f5",
   "metadata": {},
   "outputs": [
    {
     "name": "stdout",
     "output_type": "stream",
     "text": [
      "0.30752870440483093\n"
     ]
    },
    {
     "data": {
      "image/png": "[encoded data removed]",
      "text/plain": [
       "<Figure size 432x288 with 1 Axes>"
      ]
     },
     "metadata": {
      "needs_background": "light"
     },
     "output_type": "display_data"
    }
   ],
   "source": [
    "history_df.loc[:, ['loss', 'val_loss']].plot(title = 'Loss')\n",
    "print(history_df.val_loss.min())"
   ]
  },
  {
   "cell_type": "code",
   "execution_count": 20,
   "id": "de9f8b32-ba22-44df-8959-3684eff5ea14",
   "metadata": {},
   "outputs": [
    {
     "name": "stdout",
     "output_type": "stream",
     "text": [
      "0.8914999961853027\n"
     ]
    },
    {
     "data": {
      "image/png": "[encoded data removed]",
      "text/plain": [
       "<Figure size 432x288 with 1 Axes>"
      ]
     },
     "metadata": {
      "needs_background": "light"
     },
     "output_type": "display_data"
    }
   ],
   "source": [
    "history_df.loc[:, ['accuracy', 'val_accuracy']].plot(title = 'Accuracy')\n",
    "print(history_df.val_accuracy.max())"
   ]
  },
  {
   "cell_type": "code",
   "execution_count": 21,
   "id": "65d086d4-c8dc-4d1a-aa4d-35ec02df1952",
   "metadata": {},
   "outputs": [
    {
     "name": "stdout",
     "output_type": "stream",
     "text": [
      "[8.6097133e-01 9.1057484e-07 8.2688441e-04 7.9999409e-05 8.7240129e-05\n",
      " 1.0928179e-06 1.3795617e-01 2.3996046e-07 7.5647637e-05 5.0428582e-07]\n"
     ]
    },
    {
     "data": {
      "text/plain": [
       "1.000000023047562"
      ]
     },
     "execution_count": 21,
     "metadata": {},
     "output_type": "execute_result"
    }
   ],
   "source": [
    "import numpy as np\n",
    "\n",
    "predictions = model.predict(test)\n",
    "print(predictions[0])\n",
    "sum(predictions[0])"
   ]
  },
  {
   "cell_type": "code",
   "execution_count": 22,
   "id": "5d0f1dba-a3ed-4478-ad11-c58de0d89e23",
   "metadata": {},
   "outputs": [
    {
     "data": {
      "text/plain": [
       "0    0\n",
       "1    1\n",
       "2    2\n",
       "3    2\n",
       "4    3\n",
       "dtype: int64"
      ]
     },
     "execution_count": 22,
     "metadata": {},
     "output_type": "execute_result"
    }
   ],
   "source": [
    "pred_test = list(map(np.argmax, predictions))\n",
    "pd.Series(pred_test[:5])"
   ]
  },
  {
   "cell_type": "code",
   "execution_count": 23,
   "id": "69fe13da-1189-463c-b388-5b6f83eebd3e",
   "metadata": {},
   "outputs": [
    {
     "data": {
      "text/plain": [
       "0    0\n",
       "1    1\n",
       "2    2\n",
       "3    2\n",
       "4    3\n",
       "Name: label, dtype: int64"
      ]
     },
     "execution_count": 23,
     "metadata": {},
     "output_type": "execute_result"
    }
   ],
   "source": [
    "y_test[:5]"
   ]
  },
  {
   "cell_type": "code",
   "execution_count": 24,
   "id": "de712931-92e9-44e9-a83d-33e3872e87bc",
   "metadata": {},
   "outputs": [
    {
     "data": {
      "text/plain": [
       "0.8917"
      ]
     },
     "execution_count": 24,
     "metadata": {},
     "output_type": "execute_result"
    }
   ],
   "source": [
    "(pd.Series(pred_test) == y_test).sum()/len(y_test)"
   ]
  },
  {
   "cell_type": "code",
   "execution_count": 25,
   "id": "c54df617-2d06-45ef-838c-1abc257f0734",
   "metadata": {},
   "outputs": [
    {
     "name": "stdout",
     "output_type": "stream",
     "text": [
      "313/313 [==============================] - 0s 920us/step - loss: 0.3041 - accuracy: 0.8917\n",
      "Test loss: 0.3041037321090698, Test accuracy: 0.891700029373169\n"
     ]
    }
   ],
   "source": [
    "# https://www.tensorflow.org/tutorials/keras/classification#evaluate_accuracy\n",
    "\n",
    "test_loss, test_acc = model.evaluate(X_test, y_test)\n",
    "print(f\"Test loss: {test_loss}, Test accuracy: {test_acc}\")"
   ]
  },
  {
   "cell_type": "markdown",
   "id": "7adb7a17-06f2-4306-a3c9-496b9dc72657",
   "metadata": {},
   "source": [
    "# Reference\n",
    "\n",
    "[Kaggle - Intro to Deep Learning - Dropout and Batch Normalization](https://www.kaggle.com/ryanholbrook/dropout-and-batch-normalization)\n",
    "\n",
    "[Kaggle - Intro to Deep Learning - Binary Classification](https://www.kaggle.com/ryanholbrook/binary-classification)\n",
    "\n",
    "[Tensorflow - Tutorial - Basic classification: Classify images of clothing](https://www.tensorflow.org/tutorials/keras/classification)\n",
    "\n",
    "[UD187 - Lesson 3: Your First Model - Fashion MNIST](https://classroom.udacity.com/courses/ud187/lessons)"
   ]
  }
 ],
 "metadata": {
  "kernelspec": {
   "display_name": "Python 3",
   "language": "python",
   "name": "python3"
  },
  "language_info": {
   "codemirror_mode": {
    "name": "ipython",
    "version": 3
   },
   "file_extension": ".py",
   "mimetype": "text/x-python",
   "name": "python",
   "nbconvert_exporter": "python",
   "pygments_lexer": "ipython3",
   "version": "3.9.5"
  }
 },
 "nbformat": 4,
 "nbformat_minor": 5
}
