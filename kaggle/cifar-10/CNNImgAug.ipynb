{
 "cells": [
  {
   "cell_type": "code",
   "execution_count": 1,
   "id": "0f18f3ca-b3d3-4682-9964-682f4eb295b3",
   "metadata": {},
   "outputs": [
    {
     "data": {
      "text/plain": [
       "'2.5.0'"
      ]
     },
     "execution_count": 1,
     "metadata": {},
     "output_type": "execute_result"
    }
   ],
   "source": [
    "import tensorflow as tf\n",
    "\n",
    "tf.__version__"
   ]
  },
  {
   "cell_type": "code",
   "execution_count": 3,
   "id": "1d462237-c87e-4556-8852-1d4cd6276030",
   "metadata": {},
   "outputs": [
    {
     "data": {
      "text/plain": [
       "50000"
      ]
     },
     "execution_count": 3,
     "metadata": {},
     "output_type": "execute_result"
    }
   ],
   "source": [
    "import os\n",
    "\n",
    "input_train_dir = './input/cifar-10/train'\n",
    "\n",
    "train_image_filenames = [f for f in os.listdir(input_train_dir) if f.endswith('.png')]\n",
    "len(train_image_filenames)"
   ]
  },
  {
   "cell_type": "code",
   "execution_count": 10,
   "id": "93cb68aa-bde9-4486-acf6-32f049283785",
   "metadata": {},
   "outputs": [],
   "source": [
    "label_names = ['airplane', 'automobile', 'bird', 'cat', 'deer', \n",
    "               'dog', 'frog', 'horse', 'ship', 'truck']"
   ]
  },
  {
   "cell_type": "code",
   "execution_count": 5,
   "id": "414be3a0-1da9-4af2-b1db-fec57cbf07d4",
   "metadata": {},
   "outputs": [],
   "source": [
    "import pandas as pd\n",
    "train_labels_df = pd.read_csv('./input/cifar-10/trainLabels.csv')"
   ]
  },
  {
   "cell_type": "code",
   "execution_count": 6,
   "id": "d953b21a-4e42-422e-a768-0462afecc613",
   "metadata": {},
   "outputs": [
    {
     "data": {
      "text/html": [
       "<div>\n",
       "<style scoped>\n",
       "    .dataframe tbody tr th:only-of-type {\n",
       "        vertical-align: middle;\n",
       "    }\n",
       "\n",
       "    .dataframe tbody tr th {\n",
       "        vertical-align: top;\n",
       "    }\n",
       "\n",
       "    .dataframe thead th {\n",
       "        text-align: right;\n",
       "    }\n",
       "</style>\n",
       "<table border=\"1\" class=\"dataframe\">\n",
       "  <thead>\n",
       "    <tr style=\"text-align: right;\">\n",
       "      <th></th>\n",
       "      <th>id</th>\n",
       "      <th>label</th>\n",
       "    </tr>\n",
       "  </thead>\n",
       "  <tbody>\n",
       "    <tr>\n",
       "      <th>0</th>\n",
       "      <td>1</td>\n",
       "      <td>frog</td>\n",
       "    </tr>\n",
       "    <tr>\n",
       "      <th>1</th>\n",
       "      <td>2</td>\n",
       "      <td>truck</td>\n",
       "    </tr>\n",
       "    <tr>\n",
       "      <th>2</th>\n",
       "      <td>3</td>\n",
       "      <td>truck</td>\n",
       "    </tr>\n",
       "    <tr>\n",
       "      <th>3</th>\n",
       "      <td>4</td>\n",
       "      <td>deer</td>\n",
       "    </tr>\n",
       "    <tr>\n",
       "      <th>4</th>\n",
       "      <td>5</td>\n",
       "      <td>automobile</td>\n",
       "    </tr>\n",
       "  </tbody>\n",
       "</table>\n",
       "</div>"
      ],
      "text/plain": [
       "   id       label\n",
       "0   1        frog\n",
       "1   2       truck\n",
       "2   3       truck\n",
       "3   4        deer\n",
       "4   5  automobile"
      ]
     },
     "execution_count": 6,
     "metadata": {},
     "output_type": "execute_result"
    }
   ],
   "source": [
    "train_labels_df.head()"
   ]
  },
  {
   "cell_type": "code",
   "execution_count": 97,
   "id": "e92f9ae4-dc59-4a24-8dde-2675b46ab6cf",
   "metadata": {},
   "outputs": [
    {
     "name": "stdout",
     "output_type": "stream",
     "text": [
      "Make dir ./processed/cifar-10/train/airplane\n",
      "Make dir ./processed/cifar-10/validation/airplane\n",
      "Make dir ./processed/cifar-10/train/automobile\n",
      "Make dir ./processed/cifar-10/validation/automobile\n",
      "Make dir ./processed/cifar-10/train/bird\n",
      "Make dir ./processed/cifar-10/validation/bird\n",
      "Make dir ./processed/cifar-10/train/cat\n",
      "Make dir ./processed/cifar-10/validation/cat\n",
      "Make dir ./processed/cifar-10/train/deer\n",
      "Make dir ./processed/cifar-10/validation/deer\n",
      "Make dir ./processed/cifar-10/train/dog\n",
      "Make dir ./processed/cifar-10/validation/dog\n",
      "Make dir ./processed/cifar-10/train/frog\n",
      "Make dir ./processed/cifar-10/validation/frog\n",
      "Make dir ./processed/cifar-10/train/horse\n",
      "Make dir ./processed/cifar-10/validation/horse\n",
      "Make dir ./processed/cifar-10/train/ship\n",
      "Make dir ./processed/cifar-10/validation/ship\n",
      "Make dir ./processed/cifar-10/train/truck\n",
      "Make dir ./processed/cifar-10/validation/truck\n"
     ]
    }
   ],
   "source": [
    "TRAIN = 'train'\n",
    "VALIDATION = 'validation'\n",
    "processed_dir = './processed/cifar-10'\n",
    "for l in label_names:\n",
    "    cur_label_train_dir = os.path.join(processed_dir, TRAIN, l)\n",
    "    cur_label_validation_dir = os.path.join(processed_dir, VALIDATION, l)\n",
    "    if not os.path.exists(cur_label_train_dir):\n",
    "        os.makedirs(cur_label_train_dir)\n",
    "        print(f\"Make dir {cur_label_train_dir}\")\n",
    "    if not os.path.exists(cur_label_validation_dir):\n",
    "        os.makedirs(cur_label_validation_dir)    \n",
    "        print(f\"Make dir {cur_label_validation_dir}\")"
   ]
  },
  {
   "cell_type": "code",
   "execution_count": 98,
   "id": "bbc98c2f-b3a9-4865-909d-5a1c8d4894b8",
   "metadata": {},
   "outputs": [],
   "source": [
    "import shutil\n",
    "\n",
    "train_prefix = os.path.join(processed_dir, TRAIN)\n",
    "validation_prefix = os.path.join(processed_dir, VALIDATION)\n",
    "\n",
    "N = len(train_labels_df)\n",
    "used = N\n",
    "# used = 3000\n",
    "pivot = round(used * 0.8)\n",
    "\n",
    "\n",
    "df = train_labels_df.sample(frac = 1, random_state = 0)\n",
    "\n",
    "for i in range(used):\n",
    "    prefix = train_prefix\n",
    "    if i > pivot:\n",
    "        prefix = validation_prefix\n",
    "    cur_id = df.iloc[i].id\n",
    "    cur_label = df.iloc[i].label\n",
    "    # print(f'id: {cur_id} label: {cur_label}')\n",
    "    img_file = os.path.join(input_train_dir, str(cur_id) + '.png')\n",
    "    target_dir = os.path.join(prefix, cur_label)\n",
    "    # print(f'Copy: {img_file} to {target_dir}')\n",
    "    shutil.copy(img_file, target_dir)"
   ]
  },
  {
   "cell_type": "code",
   "execution_count": 99,
   "id": "229417fc-d41a-458f-abd5-74cc24edfd8b",
   "metadata": {},
   "outputs": [
    {
     "name": "stdout",
     "output_type": "stream",
     "text": [
      "  airplane\t# trains:  3995\t\t# validation:  1005\n",
      "automobile\t# trains:  4003\t\t# validation:   997\n",
      "      bird\t# trains:  3981\t\t# validation:  1019\n",
      "       cat\t# trains:  4008\t\t# validation:   992\n",
      "      deer\t# trains:  4006\t\t# validation:   994\n",
      "       dog\t# trains:  3979\t\t# validation:  1021\n",
      "      frog\t# trains:  4021\t\t# validation:   979\n",
      "     horse\t# trains:  4014\t\t# validation:   986\n",
      "      ship\t# trains:  3941\t\t# validation:  1059\n",
      "     truck\t# trains:  4053\t\t# validation:   947\n"
     ]
    },
    {
     "data": {
      "text/plain": [
       "(40001, 9999)"
      ]
     },
     "execution_count": 99,
     "metadata": {},
     "output_type": "execute_result"
    }
   ],
   "source": [
    "total_train = 0\n",
    "total_validation = 0\n",
    "for l in label_names:\n",
    "    n_train = len(os.listdir(os.path.join(train_prefix, l)))\n",
    "    n_validation = len(os.listdir(os.path.join(validation_prefix, l)))\n",
    "    total_train += n_train\n",
    "    total_validation += n_validation\n",
    "    print(f'{l:>10}\\t# trains: {n_train:>5}\\t\\t# validation: { n_validation:>5}')\n",
    "    \n",
    "total_train, total_validation"
   ]
  },
  {
   "cell_type": "code",
   "execution_count": 111,
   "id": "0d3a038a-d16d-4781-ae26-f1e3f653998b",
   "metadata": {},
   "outputs": [],
   "source": [
    "batch_size = 256\n",
    "image_shape = 32"
   ]
  },
  {
   "cell_type": "code",
   "execution_count": 132,
   "id": "cf9fc745-9ac5-4f60-bef4-5a4f5ab1d559",
   "metadata": {},
   "outputs": [
    {
     "name": "stdout",
     "output_type": "stream",
     "text": [
      "Found 40001 images belonging to 10 classes.\n"
     ]
    }
   ],
   "source": [
    "from tensorflow.keras.preprocessing.image import ImageDataGenerator\n",
    "\n",
    "# https://keras.io/api/preprocessing/image/\n",
    "image_gen = ImageDataGenerator(\n",
    "    rescale = 1. / 255,\n",
    "    rotation_range = 25,\n",
    "    zoom_range = 0.1,\n",
    "    horizontal_flip = True,\n",
    "    width_shift_range = 0.15,\n",
    "    height_shift_range = 0.15,\n",
    "    shear_range = 0.1,\n",
    ")\n",
    "train_data_gen = image_gen.flow_from_directory(\n",
    "    batch_size = batch_size,\n",
    "    directory = train_prefix,\n",
    "    shuffle = True,\n",
    "    target_size = (image_shape, image_shape),\n",
    "    class_mode = 'sparse',\n",
    ")"
   ]
  },
  {
   "cell_type": "code",
   "execution_count": 133,
   "id": "dc36b38d-8f70-4d9c-b342-84914fa4dd75",
   "metadata": {},
   "outputs": [],
   "source": [
    "import matplotlib.pyplot as plt\n",
    "\n",
    "def plot_images(images_arr):\n",
    "    fig, axes = plt.subplots(1, 5, figsize = (20 ,20))\n",
    "    axes = axes.flatten()\n",
    "    for img, ax in zip(images_arr, axes):\n",
    "        ax.imshow(img)\n",
    "    plt.tight_layout()\n",
    "    plt.show()"
   ]
  },
  {
   "cell_type": "code",
   "execution_count": 134,
   "id": "502953ee-bacf-4bb5-80d5-bb03ba12ad23",
   "metadata": {},
   "outputs": [
    {
     "data": {
      "image/png": "[encoded data removed]",
      "text/plain": [
       "<Figure size 1440x1440 with 5 Axes>"
      ]
     },
     "metadata": {
      "needs_background": "light"
     },
     "output_type": "display_data"
    }
   ],
   "source": [
    "plot_images([train_data_gen[0][0][0] for i in range(5)])"
   ]
  },
  {
   "cell_type": "code",
   "execution_count": 135,
   "id": "099aca28-fd17-473d-8652-de4ec5a130ed",
   "metadata": {},
   "outputs": [
    {
     "name": "stdout",
     "output_type": "stream",
     "text": [
      "Found 9999 images belonging to 10 classes.\n"
     ]
    }
   ],
   "source": [
    "image_gen = ImageDataGenerator(\n",
    "    rescale = 1. / 255,\n",
    ")\n",
    "validation_data_gen = image_gen.flow_from_directory(\n",
    "    batch_size = batch_size,\n",
    "    directory = validation_prefix,\n",
    "    target_size = (image_shape, image_shape),\n",
    "    class_mode = 'sparse',\n",
    ")"
   ]
  },
  {
   "cell_type": "code",
   "execution_count": 136,
   "id": "0e6c07f2-0969-4bf7-b517-7b64dfb75598",
   "metadata": {},
   "outputs": [
    {
     "data": {
      "image/png": "[encoded data removed]",
      "text/plain": [
       "<Figure size 1440x1440 with 5 Axes>"
      ]
     },
     "metadata": {
      "needs_background": "light"
     },
     "output_type": "display_data"
    }
   ],
   "source": [
    "plot_images([validation_data_gen[0][0][0] for i in range(5)])"
   ]
  },
  {
   "cell_type": "code",
   "execution_count": 185,
   "id": "17095632-04d3-41d4-b1c2-48a9076380c6",
   "metadata": {},
   "outputs": [],
   "source": [
    "from tensorflow.keras import layers, losses, models\n",
    "\n",
    "model = models.Sequential([\n",
    "    layers.Conv2D(64, (3, 3), activation = 'relu', input_shape = (image_shape, image_shape, 3)),\n",
    "    layers.MaxPooling2D(2, 2),\n",
    "#    layers.Dropout(0.3),\n",
    "    \n",
    "    layers.Conv2D(128, (3, 3), activation = 'relu'),\n",
    "    layers.MaxPooling2D(2, 2),\n",
    "    \n",
    "    layers.Conv2D(256, (3, 3), activation = 'relu'),\n",
    "    layers.MaxPooling2D(2, 2),\n",
    "#    layers.Dropout(0.3),\n",
    "    \n",
    "    layers.Flatten(),\n",
    "    layers.Dense(128, activation = 'relu'),\n",
    "    layers.BatchNormalization(),\n",
    "    layers.Dropout(0.3),\n",
    "    \n",
    "    layers.Dense(128, activation = 'relu'),\n",
    "    layers.BatchNormalization(),\n",
    "    layers.Dropout(0.3),\n",
    "    \n",
    "    layers.Dense(len(label_names), activation = 'relu'),\n",
    "])"
   ]
  },
  {
   "cell_type": "code",
   "execution_count": 186,
   "id": "5bfff977-c81c-4d4a-bebf-9c4b02401abf",
   "metadata": {},
   "outputs": [
    {
     "data": {
      "text/plain": [
       "\"\\nmodel = models.Sequential([\\n    layers.Conv2D(64, (3, 3), padding = 'same', activation = 'relu', input_shape = (image_shape, image_shape, 3)),\\n    layers.MaxPooling2D(2, 2),\\n    layers.Dropout(0.3),\\n    \\n    layers.Conv2D(64, (3, 3), padding = 'same', activation = 'relu'),\\n    layers.MaxPooling2D(2, 2),\\n    layers.Dropout(0.3),\\n    \\n    layers.Conv2D(64, (3, 3), padding = 'same', activation = 'relu'),\\n    layers.MaxPooling2D(2, 2),\\n    layers.Dropout(0.3),\\n  \\n    layers.Flatten(),\\n    layers.Dense(64, activation = 'relu'),\\n    layers.Dropout(0.3),\\n    layers.Dense(64, activation = 'relu'),\\n    layers.Dropout(0.3),\\n    \\n    layers.Dense(len(label_names), activation = 'relu'),\\n])\\n\""
      ]
     },
     "execution_count": 186,
     "metadata": {},
     "output_type": "execute_result"
    }
   ],
   "source": [
    "\"\"\"\n",
    "model = models.Sequential([\n",
    "    layers.Conv2D(64, (3, 3), padding = 'same', activation = 'relu', input_shape = (image_shape, image_shape, 3)),\n",
    "    layers.MaxPooling2D(2, 2),\n",
    "    layers.Dropout(0.3),\n",
    "    \n",
    "    layers.Conv2D(64, (3, 3), padding = 'same', activation = 'relu'),\n",
    "    layers.MaxPooling2D(2, 2),\n",
    "    layers.Dropout(0.3),\n",
    "    \n",
    "    layers.Conv2D(64, (3, 3), padding = 'same', activation = 'relu'),\n",
    "    layers.MaxPooling2D(2, 2),\n",
    "    layers.Dropout(0.3),\n",
    "  \n",
    "    layers.Flatten(),\n",
    "    layers.Dense(64, activation = 'relu'),\n",
    "    layers.Dropout(0.3),\n",
    "    layers.Dense(64, activation = 'relu'),\n",
    "    layers.Dropout(0.3),\n",
    "    \n",
    "    layers.Dense(len(label_names), activation = 'relu'),\n",
    "])\n",
    "\"\"\""
   ]
  },
  {
   "cell_type": "code",
   "execution_count": 187,
   "id": "977a1f0a-571d-4e72-89e6-c983855a06c9",
   "metadata": {},
   "outputs": [
    {
     "data": {
      "text/plain": [
       "\"\\nmodel = models.Sequential([\\n    layers.Conv2D(32, (3, 3), padding = 'same', activation = 'relu', input_shape = (image_shape, image_shape, 3)),\\n    layers.MaxPooling2D(2, 2),\\n    layers.Dropout(0.2),\\n    \\n    layers.Conv2D(64, (3, 3), padding = 'same', activation = 'relu'),\\n    layers.MaxPooling2D(2, 2),\\n    layers.Dropout(0.2),\\n  \\n    layers.Flatten(),\\n    layers.Dense(128, activation = 'relu'),\\n    layers.Dropout(0.2),\\n    \\n    layers.Dense(len(label_names)),\\n])\\n\""
      ]
     },
     "execution_count": 187,
     "metadata": {},
     "output_type": "execute_result"
    }
   ],
   "source": [
    "\"\"\"\n",
    "model = models.Sequential([\n",
    "    layers.Conv2D(32, (3, 3), padding = 'same', activation = 'relu', input_shape = (image_shape, image_shape, 3)),\n",
    "    layers.MaxPooling2D(2, 2),\n",
    "    layers.Dropout(0.2),\n",
    "    \n",
    "    layers.Conv2D(64, (3, 3), padding = 'same', activation = 'relu'),\n",
    "    layers.MaxPooling2D(2, 2),\n",
    "    layers.Dropout(0.2),\n",
    "  \n",
    "    layers.Flatten(),\n",
    "    layers.Dense(128, activation = 'relu'),\n",
    "    layers.Dropout(0.2),\n",
    "    \n",
    "    layers.Dense(len(label_names)),\n",
    "])\n",
    "\"\"\""
   ]
  },
  {
   "cell_type": "code",
   "execution_count": 188,
   "id": "077a6e13-9b20-4aa0-92d5-a048544d5b05",
   "metadata": {},
   "outputs": [
    {
     "data": {
      "text/plain": [
       "\"\\nmodel = models.Sequential([\\n    layers.Conv2D(16, (3, 3), padding = 'same', activation = 'relu', input_shape = (image_shape, image_shape, 3)),\\n    layers.MaxPooling2D(2, 2),\\n    layers.Dropout(0.2),\\n    \\n    layers.Conv2D(32, (3, 3), padding = 'same', activation = 'relu'),\\n    layers.MaxPooling2D(2, 2),\\n    layers.Dropout(0.2),\\n    \\n    layers.Conv2D(64, (3, 3), padding = 'same', activation = 'relu'),\\n    layers.MaxPooling2D(2, 2),\\n    layers.Dropout(0.2),\\n  \\n    layers.Flatten(),\\n    layers.Dense(512, activation = 'relu'),\\n    layers.Dropout(0.2),\\n    layers.Dense(256, activation = 'relu'),\\n    layers.Dropout(0.2),\\n    \\n    layers.Dense(len(label_names)),\\n])\\n\""
      ]
     },
     "execution_count": 188,
     "metadata": {},
     "output_type": "execute_result"
    }
   ],
   "source": [
    "\"\"\"\n",
    "model = models.Sequential([\n",
    "    layers.Conv2D(16, (3, 3), padding = 'same', activation = 'relu', input_shape = (image_shape, image_shape, 3)),\n",
    "    layers.MaxPooling2D(2, 2),\n",
    "    layers.Dropout(0.2),\n",
    "    \n",
    "    layers.Conv2D(32, (3, 3), padding = 'same', activation = 'relu'),\n",
    "    layers.MaxPooling2D(2, 2),\n",
    "    layers.Dropout(0.2),\n",
    "    \n",
    "    layers.Conv2D(64, (3, 3), padding = 'same', activation = 'relu'),\n",
    "    layers.MaxPooling2D(2, 2),\n",
    "    layers.Dropout(0.2),\n",
    "  \n",
    "    layers.Flatten(),\n",
    "    layers.Dense(512, activation = 'relu'),\n",
    "    layers.Dropout(0.2),\n",
    "    layers.Dense(256, activation = 'relu'),\n",
    "    layers.Dropout(0.2),\n",
    "    \n",
    "    layers.Dense(len(label_names)),\n",
    "])\n",
    "\"\"\""
   ]
  },
  {
   "cell_type": "code",
   "execution_count": 189,
   "id": "dea03dfd-a324-4775-8db6-4de8e7751ee5",
   "metadata": {},
   "outputs": [],
   "source": [
    "from tensorflow.keras import callbacks\n",
    "\n",
    "early_stopping = callbacks.EarlyStopping(\n",
    "    patience = 5,\n",
    "    min_delta = 0.001,\n",
    "    restore_best_weights = True,\n",
    ")"
   ]
  },
  {
   "cell_type": "code",
   "execution_count": 190,
   "id": "c0a818e4-63b0-4e24-a8fb-e9039220268e",
   "metadata": {},
   "outputs": [
    {
     "name": "stderr",
     "output_type": "stream",
     "text": [
      "/usr/local/Cellar/jupyterlab/3.0.16_1/libexec/lib/python3.9/site-packages/tensorflow/python/keras/engine/training.py:1940: UserWarning: `Model.fit_generator` is deprecated and will be removed in a future version. Please use `Model.fit`, which supports generators.\n",
      "  warnings.warn('`Model.fit_generator` is deprecated and '\n"
     ]
    },
    {
     "name": "stdout",
     "output_type": "stream",
     "text": [
      "Epoch 1/500\n",
      "157/157 [==============================] - 41s 261ms/step - loss: 2.0731 - accuracy: 0.2735 - val_loss: 2.1962 - val_accuracy: 0.2318\n",
      "Epoch 2/500\n",
      "157/157 [==============================] - 40s 254ms/step - loss: 1.6901 - accuracy: 0.3934 - val_loss: 1.8055 - val_accuracy: 0.3838\n",
      "Epoch 3/500\n",
      "157/157 [==============================] - 42s 266ms/step - loss: 1.5265 - accuracy: 0.4524 - val_loss: 1.3561 - val_accuracy: 0.5377\n",
      "Epoch 4/500\n",
      "157/157 [==============================] - 44s 283ms/step - loss: 1.4215 - accuracy: 0.4935 - val_loss: 2.3112 - val_accuracy: 0.3426\n",
      "Epoch 5/500\n",
      "157/157 [==============================] - 42s 267ms/step - loss: 1.3466 - accuracy: 0.5208 - val_loss: 1.3734 - val_accuracy: 0.5395\n",
      "Epoch 6/500\n",
      "157/157 [==============================] - 40s 255ms/step - loss: 1.2802 - accuracy: 0.5477 - val_loss: 1.1871 - val_accuracy: 0.5985\n",
      "Epoch 7/500\n",
      "157/157 [==============================] - 40s 256ms/step - loss: 1.2351 - accuracy: 0.5656 - val_loss: 1.2828 - val_accuracy: 0.5757\n",
      "Epoch 8/500\n",
      "157/157 [==============================] - 43s 275ms/step - loss: 1.1846 - accuracy: 0.5847 - val_loss: 1.3740 - val_accuracy: 0.5423\n",
      "Epoch 9/500\n",
      "157/157 [==============================] - 46s 291ms/step - loss: 1.1512 - accuracy: 0.5993 - val_loss: 1.1767 - val_accuracy: 0.6027\n",
      "Epoch 10/500\n",
      "157/157 [==============================] - 44s 278ms/step - loss: 1.1129 - accuracy: 0.6123 - val_loss: 1.0846 - val_accuracy: 0.6306\n",
      "Epoch 11/500\n",
      "157/157 [==============================] - 42s 266ms/step - loss: 1.0854 - accuracy: 0.6219 - val_loss: 1.1212 - val_accuracy: 0.6381\n",
      "Epoch 12/500\n",
      "157/157 [==============================] - 45s 286ms/step - loss: 1.0564 - accuracy: 0.6343 - val_loss: 1.4043 - val_accuracy: 0.5628\n",
      "Epoch 13/500\n",
      "157/157 [==============================] - 41s 262ms/step - loss: 1.0297 - accuracy: 0.6420 - val_loss: 0.8973 - val_accuracy: 0.6991\n",
      "Epoch 14/500\n",
      "157/157 [==============================] - 43s 275ms/step - loss: 1.0010 - accuracy: 0.6542 - val_loss: 0.8897 - val_accuracy: 0.6989\n",
      "Epoch 15/500\n",
      "157/157 [==============================] - 46s 293ms/step - loss: 0.9893 - accuracy: 0.6585 - val_loss: 1.2717 - val_accuracy: 0.6075\n",
      "Epoch 16/500\n",
      "157/157 [==============================] - 44s 282ms/step - loss: 0.9774 - accuracy: 0.6610 - val_loss: 1.0482 - val_accuracy: 0.6513\n",
      "Epoch 17/500\n",
      "157/157 [==============================] - 43s 275ms/step - loss: 0.9467 - accuracy: 0.6745 - val_loss: 0.9366 - val_accuracy: 0.6876\n",
      "Epoch 18/500\n",
      "157/157 [==============================] - 44s 279ms/step - loss: 0.9356 - accuracy: 0.6749 - val_loss: 0.9681 - val_accuracy: 0.6880\n",
      "Epoch 19/500\n",
      "157/157 [==============================] - 41s 260ms/step - loss: 0.9175 - accuracy: 0.6835 - val_loss: 0.8762 - val_accuracy: 0.7025\n",
      "Epoch 20/500\n",
      "157/157 [==============================] - 43s 273ms/step - loss: 0.9124 - accuracy: 0.6842 - val_loss: 1.0700 - val_accuracy: 0.6563\n",
      "Epoch 21/500\n",
      "157/157 [==============================] - 47s 298ms/step - loss: 0.9026 - accuracy: 0.6889 - val_loss: 0.7588 - val_accuracy: 0.7375\n",
      "Epoch 22/500\n",
      "157/157 [==============================] - 56s 357ms/step - loss: 0.8867 - accuracy: 0.6985 - val_loss: 0.8381 - val_accuracy: 0.7146\n",
      "Epoch 23/500\n",
      "157/157 [==============================] - 55s 348ms/step - loss: 0.8818 - accuracy: 0.6960 - val_loss: 0.7550 - val_accuracy: 0.7432\n",
      "Epoch 24/500\n",
      "157/157 [==============================] - 57s 366ms/step - loss: 0.8591 - accuracy: 0.7050 - val_loss: 0.9021 - val_accuracy: 0.6971\n",
      "Epoch 25/500\n",
      "157/157 [==============================] - 57s 363ms/step - loss: 0.8559 - accuracy: 0.7058 - val_loss: 0.7216 - val_accuracy: 0.7576\n",
      "Epoch 26/500\n",
      "157/157 [==============================] - 56s 360ms/step - loss: 0.8381 - accuracy: 0.7116 - val_loss: 0.8929 - val_accuracy: 0.7074\n",
      "Epoch 27/500\n",
      "157/157 [==============================] - 43s 273ms/step - loss: 0.8364 - accuracy: 0.7126 - val_loss: 0.7661 - val_accuracy: 0.7459\n",
      "Epoch 28/500\n",
      "157/157 [==============================] - 50s 321ms/step - loss: 0.8213 - accuracy: 0.7163 - val_loss: 0.8607 - val_accuracy: 0.7233\n",
      "Epoch 29/500\n",
      "157/157 [==============================] - 50s 316ms/step - loss: 0.8223 - accuracy: 0.7177 - val_loss: 0.7368 - val_accuracy: 0.7515\n",
      "Epoch 30/500\n",
      "157/157 [==============================] - 53s 334ms/step - loss: 0.8065 - accuracy: 0.7225 - val_loss: 0.7528 - val_accuracy: 0.7463\n"
     ]
    }
   ],
   "source": [
    "import numpy as np\n",
    "\n",
    "model.compile( \n",
    "    'adam',\n",
    "    loss = losses.SparseCategoricalCrossentropy(from_logits = True),\n",
    "    metrics = ['accuracy'],\n",
    ")\n",
    "\n",
    "epochs = 500\n",
    "\n",
    "tf.random.set_seed(1)\n",
    "history = model.fit_generator(\n",
    "    train_data_gen,\n",
    "    steps_per_epoch = int(np.ceil(train_data_gen.n / float(batch_size))),\n",
    "    epochs = epochs,\n",
    "    validation_data = validation_data_gen,\n",
    "    validation_steps = int(np.ceil(validation_data_gen.n / float(batch_size))),\n",
    "    callbacks = [early_stopping],\n",
    ")"
   ]
  },
  {
   "cell_type": "code",
   "execution_count": 191,
   "id": "01c8d145-284c-44bd-8bc4-1a432b98e05d",
   "metadata": {},
   "outputs": [
    {
     "name": "stdout",
     "output_type": "stream",
     "text": [
      "Validation accuracy max: 0.7575757503509521\n"
     ]
    },
    {
     "data": {
      "text/plain": [
       "<AxesSubplot:title={'center':'Accuracy'}>"
      ]
     },
     "execution_count": 191,
     "metadata": {},
     "output_type": "execute_result"
    },
    {
     "data": {
      "image/png": "[encoded data removed]",
      "text/plain": [
       "<Figure size 432x288 with 1 Axes>"
      ]
     },
     "metadata": {
      "needs_background": "light"
     },
     "output_type": "display_data"
    }
   ],
   "source": [
    "history_df = pd.DataFrame(history.history)\n",
    "\n",
    "print(f\"Validation accuracy max: {history_df.val_accuracy.max()}\")\n",
    "\n",
    "history_df.loc[:, ['accuracy', 'val_accuracy']].plot(title = 'Accuracy')"
   ]
  },
  {
   "cell_type": "code",
   "execution_count": 192,
   "id": "f196e292-32af-47d7-9752-5ee5cd29a8f8",
   "metadata": {},
   "outputs": [],
   "source": [
    "def read_images(images_path):\n",
    "    files = [f for f in os.listdir(images_path)]\n",
    "    images_df = pd.DataFrame()\n",
    "\n",
    "    for i in range(len(files)):\n",
    "        if files[i].endswith('png'):\n",
    "            img = plt.imread(os.path.join(images_path, files[i]))\n",
    "            img_number = int(files[i].split('.')[0])\n",
    "            images_df = images_df.append({'id': img_number, 'img': img}, ignore_index = True)\n",
    "            \n",
    "    images_df.sort_values(by=['id'], inplace = True)\n",
    "    return np.array(list(images_df.img))\n",
    "\n",
    "test_images = read_images('./input/cifar-10/test')"
   ]
  },
  {
   "cell_type": "code",
   "execution_count": 193,
   "id": "decb7079-3e4d-4ef6-8cad-0ef63a44e5ca",
   "metadata": {},
   "outputs": [
    {
     "data": {
      "text/plain": [
       "(300000, 32, 32, 3)"
      ]
     },
     "execution_count": 193,
     "metadata": {},
     "output_type": "execute_result"
    }
   ],
   "source": [
    "test_images.shape"
   ]
  },
  {
   "cell_type": "code",
   "execution_count": 194,
   "id": "e597a05f-196f-4a0f-85d8-dae03e6fc744",
   "metadata": {},
   "outputs": [],
   "source": [
    "predictions = model.predict(test_images)\n",
    "\n",
    "test_labels = list(map(np.argmax, predictions))\n",
    "test_labels = list(map(lambda x: label_names[x], test_labels))"
   ]
  },
  {
   "cell_type": "code",
   "execution_count": 195,
   "id": "c14d55be-1730-461b-91a2-002cd5b9aeac",
   "metadata": {},
   "outputs": [],
   "source": [
    "output = pd.DataFrame({'id': range(1, len(test_labels)+1), 'label': test_labels})\n",
    "output.to_csv(\"cnn_img_aug_submission.csv\", index = False)"
   ]
  },
  {
   "cell_type": "markdown",
   "id": "2e0efb93-4f2d-4d1a-8c9d-99687ab14b52",
   "metadata": {},
   "source": [
    "# Reference\n",
    "\n",
    "[Codelab for Dogs v.s. Cats with Image Augmentation](https://colab.research.google.com/github/tensorflow/examples/blob/master/courses/udacity_intro_to_tensorflow_for_deep_learning/l05c02_dogs_vs_cats_with_augmentation.ipynb)\n",
    "\n",
    "[UD187 - Intro to TensorFlow for Deep Learning - Lession 5 Going Further With CNNS](https://classroom.udacity.com/courses/ud187)"
   ]
  }
 ],
 "metadata": {
  "kernelspec": {
   "display_name": "Python 3",
   "language": "python",
   "name": "python3"
  },
  "language_info": {
   "codemirror_mode": {
    "name": "ipython",
    "version": 3
   },
   "file_extension": ".py",
   "mimetype": "text/x-python",
   "name": "python",
   "nbconvert_exporter": "python",
   "pygments_lexer": "ipython3",
   "version": "3.9.6"
  }
 },
 "nbformat": 4,
 "nbformat_minor": 5
}
