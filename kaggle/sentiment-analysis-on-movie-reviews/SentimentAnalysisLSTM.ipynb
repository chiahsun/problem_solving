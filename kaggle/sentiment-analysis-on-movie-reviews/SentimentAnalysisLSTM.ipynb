{
 "cells": [
  {
   "cell_type": "markdown",
   "id": "f7057d46-1ec5-4fa1-afe2-2df2feec5365",
   "metadata": {},
   "source": [
    "# Sentiment Analysis on Movie Reviews\n",
    "\n",
    "https://www.kaggle.com/c/sentiment-analysis-on-movie-reviews/data"
   ]
  },
  {
   "cell_type": "code",
   "execution_count": 1,
   "id": "5981a3f0-c832-4bac-bb1b-4e8c94b6d648",
   "metadata": {},
   "outputs": [
    {
     "data": {
      "text/plain": [
       "'2.5.0'"
      ]
     },
     "execution_count": 1,
     "metadata": {},
     "output_type": "execute_result"
    }
   ],
   "source": [
    "import tensorflow as tf\n",
    "\n",
    "keras = tf.keras\n",
    "\n",
    "tf.__version__"
   ]
  },
  {
   "cell_type": "markdown",
   "id": "7b1a4509-5cf8-4cfc-adca-56df2cf560c4",
   "metadata": {},
   "source": [
    "# Prepare Data"
   ]
  },
  {
   "cell_type": "code",
   "execution_count": 2,
   "id": "c5237e6a-bdb6-45b3-9200-739ad0fa6506",
   "metadata": {},
   "outputs": [
    {
     "name": "stdout",
     "output_type": "stream",
     "text": [
      "A series of escapades demonstrating the adage that what is good for the goose is also good for the gander , some of which occasionally amuses but none of which amounts to much of a story .\n",
      "A series of escapades demonstrating the adage that what is good for the goose\n",
      "A series\n"
     ]
    },
    {
     "data": {
      "text/html": [
       "<div>\n",
       "<style scoped>\n",
       "    .dataframe tbody tr th:only-of-type {\n",
       "        vertical-align: middle;\n",
       "    }\n",
       "\n",
       "    .dataframe tbody tr th {\n",
       "        vertical-align: top;\n",
       "    }\n",
       "\n",
       "    .dataframe thead th {\n",
       "        text-align: right;\n",
       "    }\n",
       "</style>\n",
       "<table border=\"1\" class=\"dataframe\">\n",
       "  <thead>\n",
       "    <tr style=\"text-align: right;\">\n",
       "      <th></th>\n",
       "      <th>PhraseId</th>\n",
       "      <th>SentenceId</th>\n",
       "      <th>Phrase</th>\n",
       "      <th>Sentiment</th>\n",
       "    </tr>\n",
       "  </thead>\n",
       "  <tbody>\n",
       "    <tr>\n",
       "      <th>0</th>\n",
       "      <td>1</td>\n",
       "      <td>1</td>\n",
       "      <td>A series of escapades demonstrating the adage ...</td>\n",
       "      <td>1</td>\n",
       "    </tr>\n",
       "    <tr>\n",
       "      <th>1</th>\n",
       "      <td>2</td>\n",
       "      <td>1</td>\n",
       "      <td>A series of escapades demonstrating the adage ...</td>\n",
       "      <td>2</td>\n",
       "    </tr>\n",
       "    <tr>\n",
       "      <th>2</th>\n",
       "      <td>3</td>\n",
       "      <td>1</td>\n",
       "      <td>A series</td>\n",
       "      <td>2</td>\n",
       "    </tr>\n",
       "    <tr>\n",
       "      <th>3</th>\n",
       "      <td>4</td>\n",
       "      <td>1</td>\n",
       "      <td>A</td>\n",
       "      <td>2</td>\n",
       "    </tr>\n",
       "    <tr>\n",
       "      <th>4</th>\n",
       "      <td>5</td>\n",
       "      <td>1</td>\n",
       "      <td>series</td>\n",
       "      <td>2</td>\n",
       "    </tr>\n",
       "  </tbody>\n",
       "</table>\n",
       "</div>"
      ],
      "text/plain": [
       "   PhraseId  SentenceId                                             Phrase  \\\n",
       "0         1           1  A series of escapades demonstrating the adage ...   \n",
       "1         2           1  A series of escapades demonstrating the adage ...   \n",
       "2         3           1                                           A series   \n",
       "3         4           1                                                  A   \n",
       "4         5           1                                             series   \n",
       "\n",
       "   Sentiment  \n",
       "0          1  \n",
       "1          2  \n",
       "2          2  \n",
       "3          2  \n",
       "4          2  "
      ]
     },
     "execution_count": 2,
     "metadata": {},
     "output_type": "execute_result"
    }
   ],
   "source": [
    "import pandas as pd\n",
    "train_data = pd.read_csv('../input/sentiment-analysis-on-movie-reviews/train.tsv.zip', sep = '\\t')\n",
    "print(train_data.Phrase[0])\n",
    "print(train_data.Phrase[1])\n",
    "print(train_data.Phrase[2])\n",
    "train_data.head(5)"
   ]
  },
  {
   "cell_type": "code",
   "execution_count": 3,
   "id": "cd3d0859-b389-43ff-9a3b-c9356ad2c034",
   "metadata": {},
   "outputs": [
    {
     "name": "stdout",
     "output_type": "stream",
     "text": [
      "This quiet , introspective and entertaining independent is worth seeking .\n"
     ]
    },
    {
     "data": {
      "text/html": [
       "<div>\n",
       "<style scoped>\n",
       "    .dataframe tbody tr th:only-of-type {\n",
       "        vertical-align: middle;\n",
       "    }\n",
       "\n",
       "    .dataframe tbody tr th {\n",
       "        vertical-align: top;\n",
       "    }\n",
       "\n",
       "    .dataframe thead th {\n",
       "        text-align: right;\n",
       "    }\n",
       "</style>\n",
       "<table border=\"1\" class=\"dataframe\">\n",
       "  <thead>\n",
       "    <tr style=\"text-align: right;\">\n",
       "      <th></th>\n",
       "      <th>PhraseId</th>\n",
       "      <th>SentenceId</th>\n",
       "      <th>Phrase</th>\n",
       "      <th>Sentiment</th>\n",
       "    </tr>\n",
       "  </thead>\n",
       "  <tbody>\n",
       "    <tr>\n",
       "      <th>62</th>\n",
       "      <td>63</td>\n",
       "      <td>1</td>\n",
       "      <td>.</td>\n",
       "      <td>2</td>\n",
       "    </tr>\n",
       "    <tr>\n",
       "      <th>63</th>\n",
       "      <td>64</td>\n",
       "      <td>2</td>\n",
       "      <td>This quiet , introspective and entertaining in...</td>\n",
       "      <td>4</td>\n",
       "    </tr>\n",
       "    <tr>\n",
       "      <th>64</th>\n",
       "      <td>65</td>\n",
       "      <td>2</td>\n",
       "      <td>This quiet , introspective and entertaining in...</td>\n",
       "      <td>3</td>\n",
       "    </tr>\n",
       "    <tr>\n",
       "      <th>65</th>\n",
       "      <td>66</td>\n",
       "      <td>2</td>\n",
       "      <td>This</td>\n",
       "      <td>2</td>\n",
       "    </tr>\n",
       "    <tr>\n",
       "      <th>66</th>\n",
       "      <td>67</td>\n",
       "      <td>2</td>\n",
       "      <td>quiet , introspective and entertaining indepen...</td>\n",
       "      <td>4</td>\n",
       "    </tr>\n",
       "    <tr>\n",
       "      <th>67</th>\n",
       "      <td>68</td>\n",
       "      <td>2</td>\n",
       "      <td>quiet , introspective and entertaining</td>\n",
       "      <td>3</td>\n",
       "    </tr>\n",
       "    <tr>\n",
       "      <th>68</th>\n",
       "      <td>69</td>\n",
       "      <td>2</td>\n",
       "      <td>quiet</td>\n",
       "      <td>2</td>\n",
       "    </tr>\n",
       "  </tbody>\n",
       "</table>\n",
       "</div>"
      ],
      "text/plain": [
       "    PhraseId  SentenceId                                             Phrase  \\\n",
       "62        63           1                                                  .   \n",
       "63        64           2  This quiet , introspective and entertaining in...   \n",
       "64        65           2  This quiet , introspective and entertaining in...   \n",
       "65        66           2                                               This   \n",
       "66        67           2  quiet , introspective and entertaining indepen...   \n",
       "67        68           2             quiet , introspective and entertaining   \n",
       "68        69           2                                              quiet   \n",
       "\n",
       "    Sentiment  \n",
       "62          2  \n",
       "63          4  \n",
       "64          3  \n",
       "65          2  \n",
       "66          4  \n",
       "67          3  \n",
       "68          2  "
      ]
     },
     "execution_count": 3,
     "metadata": {},
     "output_type": "execute_result"
    }
   ],
   "source": [
    "print(train_data.Phrase[63])\n",
    "train_data[62:64+5]"
   ]
  },
  {
   "cell_type": "code",
   "execution_count": 4,
   "id": "bcadf6fe-63ec-4fb5-9a69-434062b83961",
   "metadata": {},
   "outputs": [
    {
     "data": {
      "text/html": [
       "<div>\n",
       "<style scoped>\n",
       "    .dataframe tbody tr th:only-of-type {\n",
       "        vertical-align: middle;\n",
       "    }\n",
       "\n",
       "    .dataframe tbody tr th {\n",
       "        vertical-align: top;\n",
       "    }\n",
       "\n",
       "    .dataframe thead th {\n",
       "        text-align: right;\n",
       "    }\n",
       "</style>\n",
       "<table border=\"1\" class=\"dataframe\">\n",
       "  <thead>\n",
       "    <tr style=\"text-align: right;\">\n",
       "      <th></th>\n",
       "      <th>PhraseId</th>\n",
       "      <th>SentenceId</th>\n",
       "      <th>Phrase</th>\n",
       "    </tr>\n",
       "  </thead>\n",
       "  <tbody>\n",
       "    <tr>\n",
       "      <th>0</th>\n",
       "      <td>156061</td>\n",
       "      <td>8545</td>\n",
       "      <td>An intermittently pleasing but mostly routine ...</td>\n",
       "    </tr>\n",
       "    <tr>\n",
       "      <th>1</th>\n",
       "      <td>156062</td>\n",
       "      <td>8545</td>\n",
       "      <td>An intermittently pleasing but mostly routine ...</td>\n",
       "    </tr>\n",
       "    <tr>\n",
       "      <th>2</th>\n",
       "      <td>156063</td>\n",
       "      <td>8545</td>\n",
       "      <td>An</td>\n",
       "    </tr>\n",
       "    <tr>\n",
       "      <th>3</th>\n",
       "      <td>156064</td>\n",
       "      <td>8545</td>\n",
       "      <td>intermittently pleasing but mostly routine effort</td>\n",
       "    </tr>\n",
       "    <tr>\n",
       "      <th>4</th>\n",
       "      <td>156065</td>\n",
       "      <td>8545</td>\n",
       "      <td>intermittently pleasing but mostly routine</td>\n",
       "    </tr>\n",
       "  </tbody>\n",
       "</table>\n",
       "</div>"
      ],
      "text/plain": [
       "   PhraseId  SentenceId                                             Phrase\n",
       "0    156061        8545  An intermittently pleasing but mostly routine ...\n",
       "1    156062        8545  An intermittently pleasing but mostly routine ...\n",
       "2    156063        8545                                                 An\n",
       "3    156064        8545  intermittently pleasing but mostly routine effort\n",
       "4    156065        8545         intermittently pleasing but mostly routine"
      ]
     },
     "execution_count": 4,
     "metadata": {},
     "output_type": "execute_result"
    }
   ],
   "source": [
    "test_data = pd.read_csv('../input/sentiment-analysis-on-movie-reviews/test.tsv.zip', sep = '\\t')\n",
    "test_data.head()"
   ]
  },
  {
   "cell_type": "code",
   "execution_count": 5,
   "id": "61c59e57-1db2-4d1f-97f3-82a06c48ff5d",
   "metadata": {},
   "outputs": [
    {
     "data": {
      "text/html": [
       "<div>\n",
       "<style scoped>\n",
       "    .dataframe tbody tr th:only-of-type {\n",
       "        vertical-align: middle;\n",
       "    }\n",
       "\n",
       "    .dataframe tbody tr th {\n",
       "        vertical-align: top;\n",
       "    }\n",
       "\n",
       "    .dataframe thead th {\n",
       "        text-align: right;\n",
       "    }\n",
       "</style>\n",
       "<table border=\"1\" class=\"dataframe\">\n",
       "  <thead>\n",
       "    <tr style=\"text-align: right;\">\n",
       "      <th></th>\n",
       "      <th>PhraseId</th>\n",
       "      <th>Sentiment</th>\n",
       "    </tr>\n",
       "  </thead>\n",
       "  <tbody>\n",
       "    <tr>\n",
       "      <th>0</th>\n",
       "      <td>156061</td>\n",
       "      <td>2</td>\n",
       "    </tr>\n",
       "    <tr>\n",
       "      <th>1</th>\n",
       "      <td>156062</td>\n",
       "      <td>2</td>\n",
       "    </tr>\n",
       "    <tr>\n",
       "      <th>2</th>\n",
       "      <td>156063</td>\n",
       "      <td>2</td>\n",
       "    </tr>\n",
       "    <tr>\n",
       "      <th>3</th>\n",
       "      <td>156064</td>\n",
       "      <td>2</td>\n",
       "    </tr>\n",
       "    <tr>\n",
       "      <th>4</th>\n",
       "      <td>156065</td>\n",
       "      <td>2</td>\n",
       "    </tr>\n",
       "  </tbody>\n",
       "</table>\n",
       "</div>"
      ],
      "text/plain": [
       "   PhraseId  Sentiment\n",
       "0    156061          2\n",
       "1    156062          2\n",
       "2    156063          2\n",
       "3    156064          2\n",
       "4    156065          2"
      ]
     },
     "execution_count": 5,
     "metadata": {},
     "output_type": "execute_result"
    }
   ],
   "source": [
    "sample_submission_data = pd.read_csv('../input/sentiment-analysis-on-movie-reviews/sampleSubmission.csv')\n",
    "sample_submission_data.head()"
   ]
  },
  {
   "cell_type": "code",
   "execution_count": 6,
   "id": "91448a41-87b1-4296-95e3-d0088b5b21f7",
   "metadata": {},
   "outputs": [],
   "source": [
    "split_size = int(len(train_data) * 0.8)\n",
    "\n",
    "total_phrases = train_data.Phrase.to_numpy()\n",
    "train_phrases = total_phrases[:split_size]\n",
    "valid_phrases = total_phrases[split_size:]\n",
    "\n",
    "total_sentiments = train_data.Sentiment.to_numpy()\n",
    "train_sentiments = total_sentiments[:split_size]\n",
    "valid_sentiments = total_sentiments[split_size:]"
   ]
  },
  {
   "cell_type": "code",
   "execution_count": 7,
   "id": "a26803ad-99f3-47c8-abb3-19e8911b3281",
   "metadata": {},
   "outputs": [
    {
     "name": "stdout",
     "output_type": "stream",
     "text": [
      "tf.Tensor(b'A series of escapades demonstrating the adage that what is good for the goose is also good for the gander , some of which occasionally amuses but none of which amounts to much of a story .', shape=(), dtype=string) tf.Tensor(1, shape=(), dtype=int64)\n",
      "tf.Tensor(b'A series of escapades demonstrating the adage that what is good for the goose', shape=(), dtype=string) tf.Tensor(2, shape=(), dtype=int64)\n",
      "tf.Tensor(b'A series', shape=(), dtype=string) tf.Tensor(2, shape=(), dtype=int64)\n",
      "tf.Tensor(b'A', shape=(), dtype=string) tf.Tensor(2, shape=(), dtype=int64)\n",
      "\n",
      "tf.Tensor(b\"he 's the best brush in the business\", shape=(), dtype=string) tf.Tensor(4, shape=(), dtype=int64)\n"
     ]
    }
   ],
   "source": [
    "train_ds = tf.data.Dataset.from_tensor_slices((train_phrases, train_sentiments))\n",
    "valid_ds = tf.data.Dataset.from_tensor_slices((valid_phrases, valid_sentiments))\n",
    "total_ds = tf.data.Dataset.from_tensor_slices((total_phrases, total_sentiments))\n",
    "\n",
    "for phrase, sentiment in train_ds.take(4):\n",
    "    print(phrase, sentiment)\n",
    "print()    \n",
    "for phrase, sentiment in valid_ds.take(1):\n",
    "    print(phrase, sentiment)    "
   ]
  },
  {
   "cell_type": "code",
   "execution_count": 8,
   "id": "0d3b5c52-a388-46db-892d-7646a0a9e475",
   "metadata": {},
   "outputs": [
    {
     "name": "stdout",
     "output_type": "stream",
     "text": [
      "16007\n",
      "  0: \n",
      "  1: Ago\n",
      "  2: goth-vampire\n",
      "  3: threatens\n",
      "  4: Represents\n",
      "  5: flip-flop\n",
      "  6: ills\n",
      "  7: frank\n",
      "  8: privy\n",
      "  9: conveys\n"
     ]
    }
   ],
   "source": [
    "word_set = set()\n",
    "lines = []\n",
    "for line, _ in train_ds:\n",
    "    line = line.numpy().decode('utf-8')\n",
    "    lines.append(line)\n",
    "    for w in line.split(' '):\n",
    "        word_set.add(w)\n",
    "\n",
    "print(len(word_set))\n",
    "for index, w in enumerate(word_set):\n",
    "    if index >= 10:\n",
    "        break\n",
    "    print(f'{index:3}: {w}')"
   ]
  },
  {
   "cell_type": "code",
   "execution_count": 9,
   "id": "9ce5da9c-e13d-45cf-9e0e-80fbd2597fcf",
   "metadata": {},
   "outputs": [
    {
     "name": "stdout",
     "output_type": "stream",
     "text": [
      "<OOV> 1\n",
      "the 2\n",
      "a 3\n",
      "of 4\n",
      "and 5\n"
     ]
    }
   ],
   "source": [
    "from tensorflow.keras.preprocessing.text import Tokenizer\n",
    "\n",
    "local = True\n",
    "# vocab_size = 1000\n",
    "vocab_size = 5000\n",
    "# vocab_size = 10000\n",
    "if local:\n",
    "    vocab_size = 1000\n",
    "    \n",
    "tokenizer = Tokenizer(num_words = vocab_size, oov_token = '<OOV>')\n",
    "tokenizer.fit_on_texts(lines)\n",
    "word_index = tokenizer.word_index\n",
    "for index, (a, b) in enumerate(word_index.items()):\n",
    "    if index >= 5:\n",
    "        break\n",
    "    print(a, b)"
   ]
  },
  {
   "cell_type": "code",
   "execution_count": 10,
   "id": "2ab4f83b-b50a-43a6-a38b-6492d855311a",
   "metadata": {},
   "outputs": [],
   "source": [
    "reverse_word_index = dict([(value, key) for (key, value) in word_index.items()])"
   ]
  },
  {
   "cell_type": "code",
   "execution_count": 11,
   "id": "c3af0420-7a04-49e4-ba8a-834af7ed8924",
   "metadata": {},
   "outputs": [
    {
     "name": "stdout",
     "output_type": "stream",
     "text": [
      "A series of escapades demonstrating the adage that what is good for the goose is also good for the gander , some of which occasionally amuses but none of which amounts to much of a story .\n",
      "[3, 318, 4, 1, 1, 2, 1, 10, 52, 9, 46, 14, 2, 1, 9, 179, 46, 14, 2, 1, 65, 4, 79, 597, 1, 20, 516, 4, 79, 1, 6, 55, 4, 3, 43]\n",
      "['3: a', '318: series', '4: of', '1: <OOV>', '1: <OOV>', '2: the', '1: <OOV>', '10: that', '52: what', '9: is', '46: good', '14: for', '2: the', '1: <OOV>', '9: is', '179: also', '46: good', '14: for', '2: the', '1: <OOV>', '65: some', '4: of', '79: which', '597: occasionally', '1: <OOV>', '20: but', '516: none', '4: of', '79: which', '1: <OOV>', '6: to', '55: much', '4: of', '3: a', '43: story']\n"
     ]
    }
   ],
   "source": [
    "for line in lines:\n",
    "    print(line)\n",
    "    sequences = tokenizer.texts_to_sequences([line])[0]\n",
    "    print(sequences)\n",
    "    print([f'{id}: {reverse_word_index[id]}' for id in sequences])\n",
    "    break"
   ]
  },
  {
   "cell_type": "code",
   "execution_count": 12,
   "id": "49a9501c-c2d8-4126-a286-e1186268f068",
   "metadata": {},
   "outputs": [],
   "source": [
    "import numpy as np\n",
    "sequences = tokenizer.texts_to_sequences(lines[:30])\n",
    "np.max(list(map(len, sequences)))\n",
    "\n",
    "maxlen = 50"
   ]
  },
  {
   "cell_type": "code",
   "execution_count": 13,
   "id": "e4acdf61-dc50-4bc2-9459-2c13abeb81d4",
   "metadata": {},
   "outputs": [],
   "source": [
    "from tensorflow.keras.preprocessing.sequence import pad_sequences\n",
    "\n",
    "def pad_f(sequences):\n",
    "    return pad_sequences(sequences, maxlen = maxlen, padding = 'post', truncating = 'post')"
   ]
  },
  {
   "cell_type": "code",
   "execution_count": 14,
   "id": "9abf71b4-c47c-44cd-ba5f-374adc907e48",
   "metadata": {},
   "outputs": [
    {
     "name": "stdout",
     "output_type": "stream",
     "text": [
      "tf.Tensor(b'A series of escapades demonstrating the adage that what is good for the goose is also good for the gander , some of which occasionally amuses but none of which amounts to much of a story .', shape=(), dtype=string)\n",
      "(32,)\n",
      "(32, 50)\n",
      "tf.Tensor(\n",
      "[  3 318   4   1   1   2   1  10  52   9  46  14   2   1   9 179  46  14\n",
      "   2   1  65   4  79 597   1  20 516   4  79   1   6  55   4   3  43   0\n",
      "   0   0   0   0   0   0   0   0   0   0   0   0   0   0], shape=(50,), dtype=int32)\n",
      "3: a\n",
      "318: series\n",
      "4: of\n",
      "1: <OOV>\n",
      "1: <OOV>\n",
      "2: the\n",
      "1: <OOV>\n",
      "10: that\n",
      "52: what\n",
      "9: is\n",
      "46: good\n",
      "14: for\n",
      "2: the\n",
      "1: <OOV>\n",
      "9: is\n",
      "179: also\n",
      "46: good\n",
      "14: for\n",
      "2: the\n",
      "1: <OOV>\n",
      "65: some\n",
      "4: of\n",
      "79: which\n",
      "597: occasionally\n",
      "1: <OOV>\n",
      "20: but\n",
      "516: none\n",
      "4: of\n",
      "79: which\n",
      "1: <OOV>\n",
      "6: to\n",
      "55: much\n",
      "4: of\n",
      "3: a\n",
      "43: story\n"
     ]
    }
   ],
   "source": [
    "batch_size = 32\n",
    "\n",
    "def tokenize_and_pad_sequence(text_batch):\n",
    "    texts = map(lambda t: t.numpy().decode('utf-8'), text_batch)\n",
    "    sequences = tokenizer.texts_to_sequences(texts)\n",
    "    return pad_f(sequences)\n",
    "    \n",
    "# https://www.tensorflow.org/api_docs/python/tf/function\n",
    "@tf.function\n",
    "def encode_text_batch(text_batch):\n",
    "    return tf.py_function(\n",
    "        func = tokenize_and_pad_sequence,\n",
    "        inp = [text_batch],\n",
    "        Tout = tf.int32,\n",
    "    )\n",
    "\n",
    "def create_batch_ds_inner(ds):\n",
    "    ds = ds.batch(batch_size)\n",
    "    ds = ds.map(lambda text_batch, label_batch: (encode_text_batch(text_batch), label_batch))\n",
    "    return ds.cache()\n",
    "\n",
    "def create_batch_ds(ds, do_shuffle = True):\n",
    "    ds = create_batch_ds_inner(ds)\n",
    "    if do_shuffle:\n",
    "        ds = ds.shuffle(100)\n",
    "    return ds.prefetch(tf.data.AUTOTUNE)\n",
    "\n",
    "for text, _ in train_ds:\n",
    "    print(text)\n",
    "    break\n",
    "    \n",
    "train_batch_ds = create_batch_ds(train_ds)\n",
    "valid_batch_ds = create_batch_ds(valid_ds, do_shuffle = False)\n",
    "total_batch_ds = create_batch_ds(total_ds, do_shuffle = False)\n",
    "\n",
    "for text_batch, label_batch in create_batch_ds(train_ds, do_shuffle = False).take(1):\n",
    "    print(label_batch.shape)\n",
    "    print(text_batch.shape)\n",
    "    print(text_batch[0])\n",
    "    for index in text_batch[0]:\n",
    "        index = index.numpy()\n",
    "        if index > 0:\n",
    "            print(f'{index}: {reverse_word_index[index]}')\n",
    "    "
   ]
  },
  {
   "cell_type": "markdown",
   "id": "f895b7b2-7bcd-46dc-83ec-8f2061969bb2",
   "metadata": {},
   "source": [
    "# Build and Train Model"
   ]
  },
  {
   "cell_type": "code",
   "execution_count": 15,
   "id": "f7485719-d3c2-420b-81f8-8edf32e1db47",
   "metadata": {},
   "outputs": [],
   "source": [
    "import pandas as pd\n",
    "import matplotlib.pyplot as plt\n",
    "\n",
    "def plot_item(history_df, colname = 'loss', f = np.min, ax = None):\n",
    "    val_colname = f'val_{colname}'\n",
    "    print(f'{colname}: {f(history_df[colname]):.4f} - {val_colname}: {f(history_df[val_colname]):.4f}')\n",
    "    history_df.loc[:, [colname, val_colname]].plot(title = colname.capitalize() , ax = ax)\n",
    "\n",
    "def show_history(history):\n",
    "    history_df = pd.DataFrame(history.history)\n",
    "    \n",
    "    fig, axes = plt.subplots(nrows = 1, ncols = 2, figsize = (15, 5))\n",
    "    plot_item(history_df, 'loss', ax = axes[0])\n",
    "    plot_item(history_df, 'accuracy', ax = axes[1], f = np.max)"
   ]
  },
  {
   "cell_type": "code",
   "execution_count": 16,
   "id": "f9cbc082-7720-4fbe-852e-fb02da186717",
   "metadata": {},
   "outputs": [],
   "source": [
    "def fit_model(model, train_batch_ds = train_batch_ds, epochs = 500, patience = 2):\n",
    "    model.compile(\n",
    "        optimizer = 'adam',\n",
    "        loss = keras.losses.SparseCategoricalCrossentropy(from_logits = True),\n",
    "        metrics = ['accuracy'],\n",
    "    )\n",
    "\n",
    "    early_stopping = keras.callbacks.EarlyStopping(\n",
    "        patience = patience,\n",
    "        restore_best_weights = True,\n",
    "    )\n",
    "\n",
    "    history = model.fit(\n",
    "        train_batch_ds, \n",
    "        validation_data = valid_batch_ds,\n",
    "        epochs = epochs,\n",
    "        callbacks = [early_stopping],\n",
    "    )\n",
    "    return history "
   ]
  },
  {
   "cell_type": "markdown",
   "id": "835e3f9e-cce3-44a8-ab63-90a7a2c864e5",
   "metadata": {},
   "source": [
    "## DNN"
   ]
  },
  {
   "cell_type": "code",
   "execution_count": 17,
   "id": "5f15f32f-9391-4aec-be9f-ee911ff8f1b5",
   "metadata": {},
   "outputs": [
    {
     "name": "stdout",
     "output_type": "stream",
     "text": [
      "Model: \"sequential\"\n",
      "_________________________________________________________________\n",
      "Layer (type)                 Output Shape              Param #   \n",
      "=================================================================\n",
      "embedding (Embedding)        (None, 50, 16)            16000     \n",
      "_________________________________________________________________\n",
      "global_average_pooling1d (Gl (None, 16)                0         \n",
      "_________________________________________________________________\n",
      "dense (Dense)                (None, 16)                272       \n",
      "_________________________________________________________________\n",
      "dense_1 (Dense)              (None, 5)                 85        \n",
      "=================================================================\n",
      "Total params: 16,357\n",
      "Trainable params: 16,357\n",
      "Non-trainable params: 0\n",
      "_________________________________________________________________\n"
     ]
    }
   ],
   "source": [
    "embedding_dim = 20\n",
    "\n",
    "if local:\n",
    "    embedding_dim = 16\n",
    "\n",
    "# word size: 1000\n",
    "#   6: val_accuracy: 0.5685\n",
    "#   16: val_accuracy: 0.5709\n",
    "#   32: val_accuracy: 0.5696\n",
    "model_dnn = keras.Sequential([\n",
    "    keras.layers.Embedding(vocab_size, embedding_dim, input_length = maxlen),\n",
    "    keras.layers.GlobalAveragePooling1D(),\n",
    "    keras.layers.Dense(16, activation = 'relu'),\n",
    "    keras.layers.Dense(5),\n",
    "])\n",
    "model_dnn.summary()"
   ]
  },
  {
   "cell_type": "code",
   "execution_count": 18,
   "id": "5d49bb44-774d-4b1f-81cf-0e889b1c06af",
   "metadata": {},
   "outputs": [
    {
     "name": "stdout",
     "output_type": "stream",
     "text": [
      "Epoch 1/500\n",
      "3902/3902 [==============================] - 23s 6ms/step - loss: 1.2331 - accuracy: 0.5187 - val_loss: 1.2327 - val_accuracy: 0.4985\n",
      "Epoch 2/500\n",
      "3902/3902 [==============================] - 3s 711us/step - loss: 1.1775 - accuracy: 0.5321 - val_loss: 1.1957 - val_accuracy: 0.5164\n",
      "Epoch 3/500\n",
      "3902/3902 [==============================] - 3s 712us/step - loss: 1.1138 - accuracy: 0.5581 - val_loss: 1.1306 - val_accuracy: 0.5449\n",
      "Epoch 4/500\n",
      "3902/3902 [==============================] - 3s 705us/step - loss: 1.0632 - accuracy: 0.5783 - val_loss: 1.1042 - val_accuracy: 0.5592\n",
      "Epoch 5/500\n",
      "3902/3902 [==============================] - 3s 720us/step - loss: 1.0394 - accuracy: 0.5887 - val_loss: 1.0982 - val_accuracy: 0.5626\n",
      "Epoch 6/500\n",
      "3902/3902 [==============================] - 3s 721us/step - loss: 1.0288 - accuracy: 0.5942 - val_loss: 1.1032 - val_accuracy: 0.5606\n",
      "Epoch 7/500\n",
      "3902/3902 [==============================] - 3s 715us/step - loss: 1.0219 - accuracy: 0.5976 - val_loss: 1.0905 - val_accuracy: 0.5675\n",
      "Epoch 8/500\n",
      "3902/3902 [==============================] - 3s 725us/step - loss: 1.0161 - accuracy: 0.5988 - val_loss: 1.0879 - val_accuracy: 0.5692\n",
      "Epoch 9/500\n",
      "3902/3902 [==============================] - 3s 733us/step - loss: 1.0118 - accuracy: 0.6001 - val_loss: 1.0891 - val_accuracy: 0.5690\n",
      "Epoch 10/500\n",
      "3902/3902 [==============================] - 3s 728us/step - loss: 1.0083 - accuracy: 0.6028 - val_loss: 1.1037 - val_accuracy: 0.5640\n",
      "Epoch 11/500\n",
      "3902/3902 [==============================] - 3s 734us/step - loss: 1.0045 - accuracy: 0.6035 - val_loss: 1.0863 - val_accuracy: 0.5695\n",
      "Epoch 12/500\n",
      "3902/3902 [==============================] - 3s 723us/step - loss: 1.0018 - accuracy: 0.6055 - val_loss: 1.0833 - val_accuracy: 0.5705\n",
      "Epoch 13/500\n",
      "3902/3902 [==============================] - 3s 712us/step - loss: 0.9991 - accuracy: 0.6051 - val_loss: 1.0894 - val_accuracy: 0.5672\n",
      "Epoch 14/500\n",
      "3902/3902 [==============================] - 3s 705us/step - loss: 0.9963 - accuracy: 0.6077 - val_loss: 1.0817 - val_accuracy: 0.5707\n",
      "Epoch 15/500\n",
      "3902/3902 [==============================] - 3s 708us/step - loss: 0.9939 - accuracy: 0.6083 - val_loss: 1.0855 - val_accuracy: 0.5686\n",
      "Epoch 16/500\n",
      "3902/3902 [==============================] - 3s 714us/step - loss: 0.9915 - accuracy: 0.6090 - val_loss: 1.0913 - val_accuracy: 0.5671\n",
      "Epoch 17/500\n",
      "3902/3902 [==============================] - 3s 705us/step - loss: 0.9901 - accuracy: 0.6099 - val_loss: 1.0893 - val_accuracy: 0.5681\n",
      "Epoch 18/500\n",
      "3902/3902 [==============================] - 3s 704us/step - loss: 0.9881 - accuracy: 0.6106 - val_loss: 1.0850 - val_accuracy: 0.5682\n",
      "Epoch 19/500\n",
      "3902/3902 [==============================] - 3s 702us/step - loss: 0.9861 - accuracy: 0.6112 - val_loss: 1.0854 - val_accuracy: 0.5676\n",
      "loss: 0.9861 - val_loss: 1.0817\n",
      "accuracy: 0.6112 - val_accuracy: 0.5707\n"
     ]
    },
    {
     "data": {
      "image/png": "[encoded data removed]",
      "text/plain": [
       "<Figure size 1080x360 with 2 Axes>"
      ]
     },
     "metadata": {
      "needs_background": "light"
     },
     "output_type": "display_data"
    }
   ],
   "source": [
    "history_dnn = fit_model(model_dnn, patience = 5)  \n",
    "show_history(history_dnn)"
   ]
  },
  {
   "cell_type": "markdown",
   "id": "d47b30bf-5e1a-436a-8a41-f0cd0cfe962a",
   "metadata": {},
   "source": [
    "## LSTM"
   ]
  },
  {
   "cell_type": "code",
   "execution_count": null,
   "id": "6d510571-81f2-4061-82fa-cb87a491a677",
   "metadata": {},
   "outputs": [],
   "source": [
    "model_lstm_bi = keras.Sequential([\n",
    "    keras.layers.Embedding(vocab_size, embedding_dim, input_length = maxlen),\n",
    "    keras.layers.Bidirectional(keras.layers.LSTM(embedding_dim)),\n",
    "    keras.layers.Dense(16, activation = 'relu'),\n",
    "    keras.layers.Dense(5),\n",
    "])\n",
    "\n",
    "model_lstm_bi.summary()"
   ]
  },
  {
   "cell_type": "code",
   "execution_count": null,
   "id": "532138ab-1797-406f-8635-8bdc649ed507",
   "metadata": {},
   "outputs": [],
   "source": [
    "history_lstm_bi = fit_model(model_lstm_bi, patience = 5)  \n",
    "show_history(history_lstm_bi)"
   ]
  },
  {
   "cell_type": "code",
   "execution_count": null,
   "id": "8271d2e2-2b62-438f-9f13-e324e174783f",
   "metadata": {},
   "outputs": [],
   "source": [
    "model_lstm_multiple_bi = keras.Sequential([\n",
    "    keras.layers.Embedding(vocab_size, embedding_dim, input_length = maxlen),\n",
    "    keras.layers.Bidirectional(keras.layers.LSTM(embedding_dim, return_sequences = True)),\n",
    "    keras.layers.Bidirectional(keras.layers.LSTM(embedding_dim)),\n",
    "    keras.layers.Dense(16, activation = 'relu'),\n",
    "    keras.layers.Dense(5),\n",
    "])\n",
    "\n",
    "model_lstm_multiple_bi.summary()"
   ]
  },
  {
   "cell_type": "code",
   "execution_count": null,
   "id": "ae393379-b4b5-47ac-97ff-9b201846e84d",
   "metadata": {},
   "outputs": [],
   "source": [
    "history_lstm_multiple_bi = fit_model(model_lstm_multiple_bi, patience = 5)  \n",
    "show_history(history_lstm_multiple_bi)"
   ]
  },
  {
   "cell_type": "markdown",
   "id": "95f23d3f-f1fd-4ba2-b262-345113d5094a",
   "metadata": {},
   "source": [
    "# Predict on Test Data"
   ]
  },
  {
   "cell_type": "code",
   "execution_count": 19,
   "id": "b917ffc0-ecca-4560-a13c-1cb5004f392f",
   "metadata": {},
   "outputs": [
    {
     "name": "stdout",
     "output_type": "stream",
     "text": [
      "(32, 50)\n",
      "tf.Tensor(\n",
      "[ 17   1   1  20 588   1 429   0   0   0   0   0   0   0   0   0   0   0\n",
      "   0   0   0   0   0   0   0   0   0   0   0   0   0   0   0   0   0   0\n",
      "   0   0   0   0   0   0   0   0   0   0   0   0   0   0], shape=(50,), dtype=int32)\n"
     ]
    }
   ],
   "source": [
    "test_ds = tf.data.Dataset.from_tensor_slices(test_data.Phrase.to_numpy())\n",
    "test_ds = test_ds.batch(batch_size)\n",
    "test_ds = test_ds.map(lambda text_batch: encode_text_batch(text_batch))\n",
    "\n",
    "for text_batch in test_ds.take(1):\n",
    "    print(text_batch.shape)\n",
    "    print(text_batch[0])"
   ]
  },
  {
   "cell_type": "code",
   "execution_count": 20,
   "id": "8e1450aa-04d2-4868-aa98-74412547deac",
   "metadata": {},
   "outputs": [],
   "source": [
    "predicted = model_dnn.predict(test_ds)"
   ]
  },
  {
   "cell_type": "code",
   "execution_count": 21,
   "id": "8a288350-55c0-4f79-af5b-312f892c2d05",
   "metadata": {},
   "outputs": [],
   "source": [
    "labels = list(map(tf.argmax, predicted))\n",
    "labels = list(map(lambda x: x.numpy(), labels))"
   ]
  },
  {
   "cell_type": "code",
   "execution_count": 22,
   "id": "784fd8cb-6177-4df7-bd96-9812263f9780",
   "metadata": {},
   "outputs": [
    {
     "data": {
      "text/html": [
       "<div>\n",
       "<style scoped>\n",
       "    .dataframe tbody tr th:only-of-type {\n",
       "        vertical-align: middle;\n",
       "    }\n",
       "\n",
       "    .dataframe tbody tr th {\n",
       "        vertical-align: top;\n",
       "    }\n",
       "\n",
       "    .dataframe thead th {\n",
       "        text-align: right;\n",
       "    }\n",
       "</style>\n",
       "<table border=\"1\" class=\"dataframe\">\n",
       "  <thead>\n",
       "    <tr style=\"text-align: right;\">\n",
       "      <th></th>\n",
       "      <th>PhraseId</th>\n",
       "      <th>Sentiment</th>\n",
       "    </tr>\n",
       "  </thead>\n",
       "  <tbody>\n",
       "    <tr>\n",
       "      <th>0</th>\n",
       "      <td>156061</td>\n",
       "      <td>2</td>\n",
       "    </tr>\n",
       "    <tr>\n",
       "      <th>1</th>\n",
       "      <td>156062</td>\n",
       "      <td>2</td>\n",
       "    </tr>\n",
       "    <tr>\n",
       "      <th>2</th>\n",
       "      <td>156063</td>\n",
       "      <td>2</td>\n",
       "    </tr>\n",
       "    <tr>\n",
       "      <th>3</th>\n",
       "      <td>156064</td>\n",
       "      <td>2</td>\n",
       "    </tr>\n",
       "    <tr>\n",
       "      <th>4</th>\n",
       "      <td>156065</td>\n",
       "      <td>2</td>\n",
       "    </tr>\n",
       "  </tbody>\n",
       "</table>\n",
       "</div>"
      ],
      "text/plain": [
       "   PhraseId  Sentiment\n",
       "0    156061          2\n",
       "1    156062          2\n",
       "2    156063          2\n",
       "3    156064          2\n",
       "4    156065          2"
      ]
     },
     "execution_count": 22,
     "metadata": {},
     "output_type": "execute_result"
    }
   ],
   "source": [
    "result_df = pd.DataFrame({'PhraseId': test_data.PhraseId, 'Sentiment': labels})\n",
    "result_df.head()"
   ]
  },
  {
   "cell_type": "code",
   "execution_count": 23,
   "id": "c6e232be-6e5d-4099-b3b4-339d3ad8c3b1",
   "metadata": {},
   "outputs": [],
   "source": [
    "result_df.to_csv('dnn_submission.csv', index = False)"
   ]
  },
  {
   "cell_type": "code",
   "execution_count": 24,
   "id": "ba8dc905-0584-4ae2-82b0-dc440054a595",
   "metadata": {},
   "outputs": [],
   "source": [
    "def predict_and_write_csv(model, csv_name):\n",
    "    predicted = model.predict(test_ds)\n",
    "    labels = list(map(tf.argmax, predicted))\n",
    "    labels = list(map(lambda x: x.numpy(), labels))\n",
    "    result_df = pd.DataFrame({'PhraseId': test_data.PhraseId, 'Sentiment': labels})\n",
    "    result_df.to_csv(csv_name, index = False)\n",
    "\n",
    "predict_and_write_csv(model_dnn, 'dnn_submission.csv')    "
   ]
  }
 ],
 "metadata": {
  "kernelspec": {
   "display_name": "Python 3",
   "language": "python",
   "name": "python3"
  },
  "language_info": {
   "codemirror_mode": {
    "name": "ipython",
    "version": 3
   },
   "file_extension": ".py",
   "mimetype": "text/x-python",
   "name": "python",
   "nbconvert_exporter": "python",
   "pygments_lexer": "ipython3",
   "version": "3.9.6"
  }
 },
 "nbformat": 4,
 "nbformat_minor": 5
}
