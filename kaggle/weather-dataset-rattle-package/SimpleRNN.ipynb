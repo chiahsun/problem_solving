{
 "cells": [
  {
   "cell_type": "code",
   "execution_count": 1,
   "id": "e3de5935-c154-4353-871a-bd60db059c7a",
   "metadata": {},
   "outputs": [
    {
     "data": {
      "text/plain": [
       "'2.5.0'"
      ]
     },
     "execution_count": 1,
     "metadata": {},
     "output_type": "execute_result"
    }
   ],
   "source": [
    "import tensorflow as tf\n",
    "\n",
    "keras = tf.keras\n",
    "tf.__version__"
   ]
  },
  {
   "cell_type": "code",
   "execution_count": 2,
   "id": "1bf580cd-fbe3-48a2-b3c0-6b2d4dd61c95",
   "metadata": {},
   "outputs": [
    {
     "data": {
      "text/html": [
       "<div>\n",
       "<style scoped>\n",
       "    .dataframe tbody tr th:only-of-type {\n",
       "        vertical-align: middle;\n",
       "    }\n",
       "\n",
       "    .dataframe tbody tr th {\n",
       "        vertical-align: top;\n",
       "    }\n",
       "\n",
       "    .dataframe thead th {\n",
       "        text-align: right;\n",
       "    }\n",
       "</style>\n",
       "<table border=\"1\" class=\"dataframe\">\n",
       "  <thead>\n",
       "    <tr style=\"text-align: right;\">\n",
       "      <th></th>\n",
       "      <th>Date</th>\n",
       "      <th>Location</th>\n",
       "      <th>MinTemp</th>\n",
       "      <th>MaxTemp</th>\n",
       "      <th>Rainfall</th>\n",
       "      <th>Evaporation</th>\n",
       "      <th>Sunshine</th>\n",
       "      <th>WindGustDir</th>\n",
       "      <th>WindGustSpeed</th>\n",
       "      <th>WindDir9am</th>\n",
       "      <th>...</th>\n",
       "      <th>Humidity9am</th>\n",
       "      <th>Humidity3pm</th>\n",
       "      <th>Pressure9am</th>\n",
       "      <th>Pressure3pm</th>\n",
       "      <th>Cloud9am</th>\n",
       "      <th>Cloud3pm</th>\n",
       "      <th>Temp9am</th>\n",
       "      <th>Temp3pm</th>\n",
       "      <th>RainToday</th>\n",
       "      <th>RainTomorrow</th>\n",
       "    </tr>\n",
       "  </thead>\n",
       "  <tbody>\n",
       "    <tr>\n",
       "      <th>0</th>\n",
       "      <td>2008-12-01</td>\n",
       "      <td>Albury</td>\n",
       "      <td>13.4</td>\n",
       "      <td>22.9</td>\n",
       "      <td>0.6</td>\n",
       "      <td>NaN</td>\n",
       "      <td>NaN</td>\n",
       "      <td>W</td>\n",
       "      <td>44.0</td>\n",
       "      <td>W</td>\n",
       "      <td>...</td>\n",
       "      <td>71.0</td>\n",
       "      <td>22.0</td>\n",
       "      <td>1007.7</td>\n",
       "      <td>1007.1</td>\n",
       "      <td>8.0</td>\n",
       "      <td>NaN</td>\n",
       "      <td>16.9</td>\n",
       "      <td>21.8</td>\n",
       "      <td>No</td>\n",
       "      <td>No</td>\n",
       "    </tr>\n",
       "    <tr>\n",
       "      <th>1</th>\n",
       "      <td>2008-12-02</td>\n",
       "      <td>Albury</td>\n",
       "      <td>7.4</td>\n",
       "      <td>25.1</td>\n",
       "      <td>0.0</td>\n",
       "      <td>NaN</td>\n",
       "      <td>NaN</td>\n",
       "      <td>WNW</td>\n",
       "      <td>44.0</td>\n",
       "      <td>NNW</td>\n",
       "      <td>...</td>\n",
       "      <td>44.0</td>\n",
       "      <td>25.0</td>\n",
       "      <td>1010.6</td>\n",
       "      <td>1007.8</td>\n",
       "      <td>NaN</td>\n",
       "      <td>NaN</td>\n",
       "      <td>17.2</td>\n",
       "      <td>24.3</td>\n",
       "      <td>No</td>\n",
       "      <td>No</td>\n",
       "    </tr>\n",
       "    <tr>\n",
       "      <th>2</th>\n",
       "      <td>2008-12-03</td>\n",
       "      <td>Albury</td>\n",
       "      <td>12.9</td>\n",
       "      <td>25.7</td>\n",
       "      <td>0.0</td>\n",
       "      <td>NaN</td>\n",
       "      <td>NaN</td>\n",
       "      <td>WSW</td>\n",
       "      <td>46.0</td>\n",
       "      <td>W</td>\n",
       "      <td>...</td>\n",
       "      <td>38.0</td>\n",
       "      <td>30.0</td>\n",
       "      <td>1007.6</td>\n",
       "      <td>1008.7</td>\n",
       "      <td>NaN</td>\n",
       "      <td>2.0</td>\n",
       "      <td>21.0</td>\n",
       "      <td>23.2</td>\n",
       "      <td>No</td>\n",
       "      <td>No</td>\n",
       "    </tr>\n",
       "    <tr>\n",
       "      <th>3</th>\n",
       "      <td>2008-12-04</td>\n",
       "      <td>Albury</td>\n",
       "      <td>9.2</td>\n",
       "      <td>28.0</td>\n",
       "      <td>0.0</td>\n",
       "      <td>NaN</td>\n",
       "      <td>NaN</td>\n",
       "      <td>NE</td>\n",
       "      <td>24.0</td>\n",
       "      <td>SE</td>\n",
       "      <td>...</td>\n",
       "      <td>45.0</td>\n",
       "      <td>16.0</td>\n",
       "      <td>1017.6</td>\n",
       "      <td>1012.8</td>\n",
       "      <td>NaN</td>\n",
       "      <td>NaN</td>\n",
       "      <td>18.1</td>\n",
       "      <td>26.5</td>\n",
       "      <td>No</td>\n",
       "      <td>No</td>\n",
       "    </tr>\n",
       "    <tr>\n",
       "      <th>4</th>\n",
       "      <td>2008-12-05</td>\n",
       "      <td>Albury</td>\n",
       "      <td>17.5</td>\n",
       "      <td>32.3</td>\n",
       "      <td>1.0</td>\n",
       "      <td>NaN</td>\n",
       "      <td>NaN</td>\n",
       "      <td>W</td>\n",
       "      <td>41.0</td>\n",
       "      <td>ENE</td>\n",
       "      <td>...</td>\n",
       "      <td>82.0</td>\n",
       "      <td>33.0</td>\n",
       "      <td>1010.8</td>\n",
       "      <td>1006.0</td>\n",
       "      <td>7.0</td>\n",
       "      <td>8.0</td>\n",
       "      <td>17.8</td>\n",
       "      <td>29.7</td>\n",
       "      <td>No</td>\n",
       "      <td>No</td>\n",
       "    </tr>\n",
       "  </tbody>\n",
       "</table>\n",
       "<p>5 rows × 23 columns</p>\n",
       "</div>"
      ],
      "text/plain": [
       "         Date Location  MinTemp  MaxTemp  Rainfall  Evaporation  Sunshine  \\\n",
       "0  2008-12-01   Albury     13.4     22.9       0.6          NaN       NaN   \n",
       "1  2008-12-02   Albury      7.4     25.1       0.0          NaN       NaN   \n",
       "2  2008-12-03   Albury     12.9     25.7       0.0          NaN       NaN   \n",
       "3  2008-12-04   Albury      9.2     28.0       0.0          NaN       NaN   \n",
       "4  2008-12-05   Albury     17.5     32.3       1.0          NaN       NaN   \n",
       "\n",
       "  WindGustDir  WindGustSpeed WindDir9am  ... Humidity9am  Humidity3pm  \\\n",
       "0           W           44.0          W  ...        71.0         22.0   \n",
       "1         WNW           44.0        NNW  ...        44.0         25.0   \n",
       "2         WSW           46.0          W  ...        38.0         30.0   \n",
       "3          NE           24.0         SE  ...        45.0         16.0   \n",
       "4           W           41.0        ENE  ...        82.0         33.0   \n",
       "\n",
       "   Pressure9am  Pressure3pm  Cloud9am  Cloud3pm  Temp9am  Temp3pm  RainToday  \\\n",
       "0       1007.7       1007.1       8.0       NaN     16.9     21.8         No   \n",
       "1       1010.6       1007.8       NaN       NaN     17.2     24.3         No   \n",
       "2       1007.6       1008.7       NaN       2.0     21.0     23.2         No   \n",
       "3       1017.6       1012.8       NaN       NaN     18.1     26.5         No   \n",
       "4       1010.8       1006.0       7.0       8.0     17.8     29.7         No   \n",
       "\n",
       "   RainTomorrow  \n",
       "0            No  \n",
       "1            No  \n",
       "2            No  \n",
       "3            No  \n",
       "4            No  \n",
       "\n",
       "[5 rows x 23 columns]"
      ]
     },
     "execution_count": 2,
     "metadata": {},
     "output_type": "execute_result"
    }
   ],
   "source": [
    "import pandas as pd\n",
    "\n",
    "df = pd.read_csv('./input/weatherAUS.csv')\n",
    "df.head()"
   ]
  },
  {
   "cell_type": "code",
   "execution_count": 3,
   "id": "c262b1f2-c8d3-44c3-8d41-85d2487f8798",
   "metadata": {},
   "outputs": [
    {
     "data": {
      "text/plain": [
       "Index(['Date', 'Location', 'MinTemp', 'MaxTemp', 'Rainfall', 'Evaporation',\n",
       "       'Sunshine', 'WindGustDir', 'WindGustSpeed', 'WindDir9am', 'WindDir3pm',\n",
       "       'WindSpeed9am', 'WindSpeed3pm', 'Humidity9am', 'Humidity3pm',\n",
       "       'Pressure9am', 'Pressure3pm', 'Cloud9am', 'Cloud3pm', 'Temp9am',\n",
       "       'Temp3pm', 'RainToday', 'RainTomorrow'],\n",
       "      dtype='object')"
      ]
     },
     "execution_count": 3,
     "metadata": {},
     "output_type": "execute_result"
    }
   ],
   "source": [
    "df.columns"
   ]
  },
  {
   "cell_type": "code",
   "execution_count": 4,
   "id": "b9373ee9-bfa8-4bd0-b6e5-5a7f2ef540fd",
   "metadata": {},
   "outputs": [
    {
     "data": {
      "text/plain": [
       "array(['Albury', 'BadgerysCreek', 'Cobar', 'CoffsHarbour', 'Moree',\n",
       "       'Newcastle', 'NorahHead', 'NorfolkIsland', 'Penrith', 'Richmond',\n",
       "       'Sydney', 'SydneyAirport', 'WaggaWagga', 'Williamtown',\n",
       "       'Wollongong', 'Canberra', 'Tuggeranong', 'MountGinini', 'Ballarat',\n",
       "       'Bendigo', 'Sale', 'MelbourneAirport', 'Melbourne', 'Mildura',\n",
       "       'Nhil', 'Portland', 'Watsonia', 'Dartmoor', 'Brisbane', 'Cairns',\n",
       "       'GoldCoast', 'Townsville', 'Adelaide', 'MountGambier', 'Nuriootpa',\n",
       "       'Woomera', 'Albany', 'Witchcliffe', 'PearceRAAF', 'PerthAirport',\n",
       "       'Perth', 'SalmonGums', 'Walpole', 'Hobart', 'Launceston',\n",
       "       'AliceSprings', 'Darwin', 'Katherine', 'Uluru'], dtype=object)"
      ]
     },
     "execution_count": 4,
     "metadata": {},
     "output_type": "execute_result"
    }
   ],
   "source": [
    "df.Location.unique()"
   ]
  },
  {
   "cell_type": "code",
   "execution_count": 5,
   "id": "eef09da9-fa0b-4068-a08d-1088c895763e",
   "metadata": {},
   "outputs": [
    {
     "data": {
      "text/html": [
       "<div>\n",
       "<style scoped>\n",
       "    .dataframe tbody tr th:only-of-type {\n",
       "        vertical-align: middle;\n",
       "    }\n",
       "\n",
       "    .dataframe tbody tr th {\n",
       "        vertical-align: top;\n",
       "    }\n",
       "\n",
       "    .dataframe thead th {\n",
       "        text-align: right;\n",
       "    }\n",
       "</style>\n",
       "<table border=\"1\" class=\"dataframe\">\n",
       "  <thead>\n",
       "    <tr style=\"text-align: right;\">\n",
       "      <th></th>\n",
       "      <th>Date</th>\n",
       "      <th>Location</th>\n",
       "      <th>MinTemp</th>\n",
       "      <th>MaxTemp</th>\n",
       "      <th>Rainfall</th>\n",
       "      <th>Evaporation</th>\n",
       "      <th>Sunshine</th>\n",
       "      <th>WindGustDir</th>\n",
       "      <th>WindGustSpeed</th>\n",
       "      <th>WindDir9am</th>\n",
       "      <th>...</th>\n",
       "      <th>Humidity9am</th>\n",
       "      <th>Humidity3pm</th>\n",
       "      <th>Pressure9am</th>\n",
       "      <th>Pressure3pm</th>\n",
       "      <th>Cloud9am</th>\n",
       "      <th>Cloud3pm</th>\n",
       "      <th>Temp9am</th>\n",
       "      <th>Temp3pm</th>\n",
       "      <th>RainToday</th>\n",
       "      <th>RainTomorrow</th>\n",
       "    </tr>\n",
       "  </thead>\n",
       "  <tbody>\n",
       "    <tr>\n",
       "      <th>145455</th>\n",
       "      <td>2017-06-21</td>\n",
       "      <td>Uluru</td>\n",
       "      <td>2.8</td>\n",
       "      <td>23.4</td>\n",
       "      <td>0.0</td>\n",
       "      <td>NaN</td>\n",
       "      <td>NaN</td>\n",
       "      <td>E</td>\n",
       "      <td>31.0</td>\n",
       "      <td>SE</td>\n",
       "      <td>...</td>\n",
       "      <td>51.0</td>\n",
       "      <td>24.0</td>\n",
       "      <td>1024.6</td>\n",
       "      <td>1020.3</td>\n",
       "      <td>NaN</td>\n",
       "      <td>NaN</td>\n",
       "      <td>10.1</td>\n",
       "      <td>22.4</td>\n",
       "      <td>No</td>\n",
       "      <td>No</td>\n",
       "    </tr>\n",
       "    <tr>\n",
       "      <th>145456</th>\n",
       "      <td>2017-06-22</td>\n",
       "      <td>Uluru</td>\n",
       "      <td>3.6</td>\n",
       "      <td>25.3</td>\n",
       "      <td>0.0</td>\n",
       "      <td>NaN</td>\n",
       "      <td>NaN</td>\n",
       "      <td>NNW</td>\n",
       "      <td>22.0</td>\n",
       "      <td>SE</td>\n",
       "      <td>...</td>\n",
       "      <td>56.0</td>\n",
       "      <td>21.0</td>\n",
       "      <td>1023.5</td>\n",
       "      <td>1019.1</td>\n",
       "      <td>NaN</td>\n",
       "      <td>NaN</td>\n",
       "      <td>10.9</td>\n",
       "      <td>24.5</td>\n",
       "      <td>No</td>\n",
       "      <td>No</td>\n",
       "    </tr>\n",
       "    <tr>\n",
       "      <th>145457</th>\n",
       "      <td>2017-06-23</td>\n",
       "      <td>Uluru</td>\n",
       "      <td>5.4</td>\n",
       "      <td>26.9</td>\n",
       "      <td>0.0</td>\n",
       "      <td>NaN</td>\n",
       "      <td>NaN</td>\n",
       "      <td>N</td>\n",
       "      <td>37.0</td>\n",
       "      <td>SE</td>\n",
       "      <td>...</td>\n",
       "      <td>53.0</td>\n",
       "      <td>24.0</td>\n",
       "      <td>1021.0</td>\n",
       "      <td>1016.8</td>\n",
       "      <td>NaN</td>\n",
       "      <td>NaN</td>\n",
       "      <td>12.5</td>\n",
       "      <td>26.1</td>\n",
       "      <td>No</td>\n",
       "      <td>No</td>\n",
       "    </tr>\n",
       "    <tr>\n",
       "      <th>145458</th>\n",
       "      <td>2017-06-24</td>\n",
       "      <td>Uluru</td>\n",
       "      <td>7.8</td>\n",
       "      <td>27.0</td>\n",
       "      <td>0.0</td>\n",
       "      <td>NaN</td>\n",
       "      <td>NaN</td>\n",
       "      <td>SE</td>\n",
       "      <td>28.0</td>\n",
       "      <td>SSE</td>\n",
       "      <td>...</td>\n",
       "      <td>51.0</td>\n",
       "      <td>24.0</td>\n",
       "      <td>1019.4</td>\n",
       "      <td>1016.5</td>\n",
       "      <td>3.0</td>\n",
       "      <td>2.0</td>\n",
       "      <td>15.1</td>\n",
       "      <td>26.0</td>\n",
       "      <td>No</td>\n",
       "      <td>No</td>\n",
       "    </tr>\n",
       "    <tr>\n",
       "      <th>145459</th>\n",
       "      <td>2017-06-25</td>\n",
       "      <td>Uluru</td>\n",
       "      <td>14.9</td>\n",
       "      <td>NaN</td>\n",
       "      <td>0.0</td>\n",
       "      <td>NaN</td>\n",
       "      <td>NaN</td>\n",
       "      <td>NaN</td>\n",
       "      <td>NaN</td>\n",
       "      <td>ESE</td>\n",
       "      <td>...</td>\n",
       "      <td>62.0</td>\n",
       "      <td>36.0</td>\n",
       "      <td>1020.2</td>\n",
       "      <td>1017.9</td>\n",
       "      <td>8.0</td>\n",
       "      <td>8.0</td>\n",
       "      <td>15.0</td>\n",
       "      <td>20.9</td>\n",
       "      <td>No</td>\n",
       "      <td>NaN</td>\n",
       "    </tr>\n",
       "  </tbody>\n",
       "</table>\n",
       "<p>5 rows × 23 columns</p>\n",
       "</div>"
      ],
      "text/plain": [
       "              Date Location  MinTemp  MaxTemp  Rainfall  Evaporation  \\\n",
       "145455  2017-06-21    Uluru      2.8     23.4       0.0          NaN   \n",
       "145456  2017-06-22    Uluru      3.6     25.3       0.0          NaN   \n",
       "145457  2017-06-23    Uluru      5.4     26.9       0.0          NaN   \n",
       "145458  2017-06-24    Uluru      7.8     27.0       0.0          NaN   \n",
       "145459  2017-06-25    Uluru     14.9      NaN       0.0          NaN   \n",
       "\n",
       "        Sunshine WindGustDir  WindGustSpeed WindDir9am  ... Humidity9am  \\\n",
       "145455       NaN           E           31.0         SE  ...        51.0   \n",
       "145456       NaN         NNW           22.0         SE  ...        56.0   \n",
       "145457       NaN           N           37.0         SE  ...        53.0   \n",
       "145458       NaN          SE           28.0        SSE  ...        51.0   \n",
       "145459       NaN         NaN            NaN        ESE  ...        62.0   \n",
       "\n",
       "        Humidity3pm  Pressure9am  Pressure3pm  Cloud9am  Cloud3pm  Temp9am  \\\n",
       "145455         24.0       1024.6       1020.3       NaN       NaN     10.1   \n",
       "145456         21.0       1023.5       1019.1       NaN       NaN     10.9   \n",
       "145457         24.0       1021.0       1016.8       NaN       NaN     12.5   \n",
       "145458         24.0       1019.4       1016.5       3.0       2.0     15.1   \n",
       "145459         36.0       1020.2       1017.9       8.0       8.0     15.0   \n",
       "\n",
       "        Temp3pm  RainToday  RainTomorrow  \n",
       "145455     22.4         No            No  \n",
       "145456     24.5         No            No  \n",
       "145457     26.1         No            No  \n",
       "145458     26.0         No            No  \n",
       "145459     20.9         No           NaN  \n",
       "\n",
       "[5 rows x 23 columns]"
      ]
     },
     "execution_count": 5,
     "metadata": {},
     "output_type": "execute_result"
    }
   ],
   "source": [
    "df.tail()"
   ]
  },
  {
   "cell_type": "code",
   "execution_count": 6,
   "id": "524c382e-7942-4c62-8530-2b3b763baf4e",
   "metadata": {},
   "outputs": [
    {
     "data": {
      "text/plain": [
       "69835"
      ]
     },
     "execution_count": 6,
     "metadata": {},
     "output_type": "execute_result"
    }
   ],
   "source": [
    "df.Sunshine.isnull().sum()"
   ]
  },
  {
   "cell_type": "code",
   "execution_count": 7,
   "id": "44a62752-cef3-426f-88e4-54ae340965f2",
   "metadata": {},
   "outputs": [
    {
     "data": {
      "text/plain": [
       "(145460, 23)"
      ]
     },
     "execution_count": 7,
     "metadata": {},
     "output_type": "execute_result"
    }
   ],
   "source": [
    "df.shape"
   ]
  },
  {
   "cell_type": "code",
   "execution_count": 8,
   "id": "64e08d09-6055-4594-8546-a4edc1c211c4",
   "metadata": {},
   "outputs": [],
   "source": [
    "A = df.copy()\n",
    "B = df.dropna(axis = 0)"
   ]
  },
  {
   "cell_type": "code",
   "execution_count": 9,
   "id": "2df7a914-6e69-400d-8342-3616c88a9aa6",
   "metadata": {},
   "outputs": [
    {
     "name": "stdout",
     "output_type": "stream",
     "text": [
      "Albury     0\n",
      "BadgerysCreek 0\n",
      "Cobar      534\n",
      "CoffsHarbour 1380\n",
      "Moree      1913\n",
      "Newcastle  0\n",
      "NorahHead  0\n",
      "NorfolkIsland 2464\n",
      "Penrith    0\n",
      "Richmond   0\n",
      "Sydney     1690\n",
      "SydneyAirport 2870\n",
      "WaggaWagga 2416\n",
      "Williamtown 1198\n",
      "Wollongong 0\n",
      "Canberra   1078\n",
      "Tuggeranong 0\n",
      "MountGinini 0\n",
      "Ballarat   0\n",
      "Bendigo    0\n",
      "Sale       1678\n",
      "MelbourneAirport 2929\n",
      "Melbourne  1898\n",
      "Mildura    2594\n",
      "Nhil       0\n",
      "Portland   1863\n",
      "Watsonia   2730\n",
      "Dartmoor   0\n",
      "Brisbane   2953\n",
      "Cairns     2444\n",
      "GoldCoast  0\n",
      "Townsville 2419\n",
      "Adelaide   0\n",
      "MountGambier 2465\n",
      "Nuriootpa  2008\n",
      "Woomera    1734\n",
      "Albany     0\n",
      "Witchcliffe 0\n",
      "PearceRAAF 0\n",
      "PerthAirport 2913\n",
      "Perth      3025\n",
      "SalmonGums 0\n",
      "Walpole    0\n",
      "Hobart     1939\n",
      "Launceston 0\n",
      "AliceSprings 2223\n",
      "Darwin     3062\n",
      "Katherine  0\n",
      "Uluru      0\n"
     ]
    }
   ],
   "source": [
    "for loc in df.Location.unique():\n",
    "    print(f'{loc:<10} {B[B.Location == loc].shape[0]}')"
   ]
  },
  {
   "cell_type": "code",
   "execution_count": 10,
   "id": "84d80d4f-1038-4480-a544-ca06dd5e3ad7",
   "metadata": {},
   "outputs": [
    {
     "data": {
      "text/plain": [
       "(3062, 23)"
      ]
     },
     "execution_count": 10,
     "metadata": {},
     "output_type": "execute_result"
    }
   ],
   "source": [
    "darwin = B[B.Location == 'Darwin']\n",
    "darwin.shape"
   ]
  },
  {
   "cell_type": "code",
   "execution_count": 11,
   "id": "f86cb651-c633-4764-bc0e-c41b9a75d133",
   "metadata": {},
   "outputs": [
    {
     "data": {
      "text/html": [
       "<div>\n",
       "<style scoped>\n",
       "    .dataframe tbody tr th:only-of-type {\n",
       "        vertical-align: middle;\n",
       "    }\n",
       "\n",
       "    .dataframe tbody tr th {\n",
       "        vertical-align: top;\n",
       "    }\n",
       "\n",
       "    .dataframe thead th {\n",
       "        text-align: right;\n",
       "    }\n",
       "</style>\n",
       "<table border=\"1\" class=\"dataframe\">\n",
       "  <thead>\n",
       "    <tr style=\"text-align: right;\">\n",
       "      <th></th>\n",
       "      <th>Date</th>\n",
       "      <th>Location</th>\n",
       "      <th>MinTemp</th>\n",
       "      <th>MaxTemp</th>\n",
       "      <th>Rainfall</th>\n",
       "      <th>Evaporation</th>\n",
       "      <th>Sunshine</th>\n",
       "      <th>WindGustDir</th>\n",
       "      <th>WindGustSpeed</th>\n",
       "      <th>WindDir9am</th>\n",
       "      <th>...</th>\n",
       "      <th>Humidity9am</th>\n",
       "      <th>Humidity3pm</th>\n",
       "      <th>Pressure9am</th>\n",
       "      <th>Pressure3pm</th>\n",
       "      <th>Cloud9am</th>\n",
       "      <th>Cloud3pm</th>\n",
       "      <th>Temp9am</th>\n",
       "      <th>Temp3pm</th>\n",
       "      <th>RainToday</th>\n",
       "      <th>RainTomorrow</th>\n",
       "    </tr>\n",
       "  </thead>\n",
       "  <tbody>\n",
       "    <tr>\n",
       "      <th>139111</th>\n",
       "      <td>2008-07-01</td>\n",
       "      <td>Darwin</td>\n",
       "      <td>20.0</td>\n",
       "      <td>33.1</td>\n",
       "      <td>0.0</td>\n",
       "      <td>4.4</td>\n",
       "      <td>11.0</td>\n",
       "      <td>E</td>\n",
       "      <td>41.0</td>\n",
       "      <td>ENE</td>\n",
       "      <td>...</td>\n",
       "      <td>81.0</td>\n",
       "      <td>32.0</td>\n",
       "      <td>1016.0</td>\n",
       "      <td>1012.1</td>\n",
       "      <td>1.0</td>\n",
       "      <td>2.0</td>\n",
       "      <td>25.4</td>\n",
       "      <td>32.3</td>\n",
       "      <td>No</td>\n",
       "      <td>No</td>\n",
       "    </tr>\n",
       "    <tr>\n",
       "      <th>139112</th>\n",
       "      <td>2008-07-02</td>\n",
       "      <td>Darwin</td>\n",
       "      <td>19.4</td>\n",
       "      <td>32.4</td>\n",
       "      <td>0.0</td>\n",
       "      <td>6.0</td>\n",
       "      <td>10.4</td>\n",
       "      <td>ENE</td>\n",
       "      <td>50.0</td>\n",
       "      <td>SE</td>\n",
       "      <td>...</td>\n",
       "      <td>81.0</td>\n",
       "      <td>17.0</td>\n",
       "      <td>1016.8</td>\n",
       "      <td>1012.4</td>\n",
       "      <td>1.0</td>\n",
       "      <td>1.0</td>\n",
       "      <td>24.3</td>\n",
       "      <td>31.9</td>\n",
       "      <td>No</td>\n",
       "      <td>No</td>\n",
       "    </tr>\n",
       "    <tr>\n",
       "      <th>139113</th>\n",
       "      <td>2008-07-03</td>\n",
       "      <td>Darwin</td>\n",
       "      <td>18.2</td>\n",
       "      <td>31.8</td>\n",
       "      <td>0.0</td>\n",
       "      <td>8.0</td>\n",
       "      <td>11.0</td>\n",
       "      <td>E</td>\n",
       "      <td>46.0</td>\n",
       "      <td>ESE</td>\n",
       "      <td>...</td>\n",
       "      <td>38.0</td>\n",
       "      <td>24.0</td>\n",
       "      <td>1017.2</td>\n",
       "      <td>1013.0</td>\n",
       "      <td>0.0</td>\n",
       "      <td>1.0</td>\n",
       "      <td>24.3</td>\n",
       "      <td>31.2</td>\n",
       "      <td>No</td>\n",
       "      <td>No</td>\n",
       "    </tr>\n",
       "    <tr>\n",
       "      <th>139114</th>\n",
       "      <td>2008-07-04</td>\n",
       "      <td>Darwin</td>\n",
       "      <td>17.3</td>\n",
       "      <td>30.7</td>\n",
       "      <td>0.0</td>\n",
       "      <td>7.0</td>\n",
       "      <td>10.4</td>\n",
       "      <td>E</td>\n",
       "      <td>44.0</td>\n",
       "      <td>SE</td>\n",
       "      <td>...</td>\n",
       "      <td>55.0</td>\n",
       "      <td>16.0</td>\n",
       "      <td>1017.3</td>\n",
       "      <td>1013.6</td>\n",
       "      <td>2.0</td>\n",
       "      <td>6.0</td>\n",
       "      <td>21.3</td>\n",
       "      <td>29.8</td>\n",
       "      <td>No</td>\n",
       "      <td>No</td>\n",
       "    </tr>\n",
       "    <tr>\n",
       "      <th>139115</th>\n",
       "      <td>2008-07-05</td>\n",
       "      <td>Darwin</td>\n",
       "      <td>15.5</td>\n",
       "      <td>30.8</td>\n",
       "      <td>0.0</td>\n",
       "      <td>7.0</td>\n",
       "      <td>10.8</td>\n",
       "      <td>ESE</td>\n",
       "      <td>46.0</td>\n",
       "      <td>E</td>\n",
       "      <td>...</td>\n",
       "      <td>37.0</td>\n",
       "      <td>16.0</td>\n",
       "      <td>1016.3</td>\n",
       "      <td>1012.6</td>\n",
       "      <td>1.0</td>\n",
       "      <td>1.0</td>\n",
       "      <td>22.2</td>\n",
       "      <td>29.6</td>\n",
       "      <td>No</td>\n",
       "      <td>No</td>\n",
       "    </tr>\n",
       "    <tr>\n",
       "      <th>...</th>\n",
       "      <td>...</td>\n",
       "      <td>...</td>\n",
       "      <td>...</td>\n",
       "      <td>...</td>\n",
       "      <td>...</td>\n",
       "      <td>...</td>\n",
       "      <td>...</td>\n",
       "      <td>...</td>\n",
       "      <td>...</td>\n",
       "      <td>...</td>\n",
       "      <td>...</td>\n",
       "      <td>...</td>\n",
       "      <td>...</td>\n",
       "      <td>...</td>\n",
       "      <td>...</td>\n",
       "      <td>...</td>\n",
       "      <td>...</td>\n",
       "      <td>...</td>\n",
       "      <td>...</td>\n",
       "      <td>...</td>\n",
       "      <td>...</td>\n",
       "    </tr>\n",
       "    <tr>\n",
       "      <th>142298</th>\n",
       "      <td>2017-06-20</td>\n",
       "      <td>Darwin</td>\n",
       "      <td>19.3</td>\n",
       "      <td>33.4</td>\n",
       "      <td>0.0</td>\n",
       "      <td>6.0</td>\n",
       "      <td>11.0</td>\n",
       "      <td>ENE</td>\n",
       "      <td>35.0</td>\n",
       "      <td>SE</td>\n",
       "      <td>...</td>\n",
       "      <td>63.0</td>\n",
       "      <td>32.0</td>\n",
       "      <td>1013.9</td>\n",
       "      <td>1010.5</td>\n",
       "      <td>0.0</td>\n",
       "      <td>1.0</td>\n",
       "      <td>24.5</td>\n",
       "      <td>32.3</td>\n",
       "      <td>No</td>\n",
       "      <td>No</td>\n",
       "    </tr>\n",
       "    <tr>\n",
       "      <th>142299</th>\n",
       "      <td>2017-06-21</td>\n",
       "      <td>Darwin</td>\n",
       "      <td>21.2</td>\n",
       "      <td>32.6</td>\n",
       "      <td>0.0</td>\n",
       "      <td>7.6</td>\n",
       "      <td>8.6</td>\n",
       "      <td>E</td>\n",
       "      <td>37.0</td>\n",
       "      <td>SE</td>\n",
       "      <td>...</td>\n",
       "      <td>56.0</td>\n",
       "      <td>28.0</td>\n",
       "      <td>1014.6</td>\n",
       "      <td>1011.2</td>\n",
       "      <td>7.0</td>\n",
       "      <td>0.0</td>\n",
       "      <td>24.8</td>\n",
       "      <td>32.0</td>\n",
       "      <td>No</td>\n",
       "      <td>No</td>\n",
       "    </tr>\n",
       "    <tr>\n",
       "      <th>142300</th>\n",
       "      <td>2017-06-22</td>\n",
       "      <td>Darwin</td>\n",
       "      <td>20.7</td>\n",
       "      <td>32.8</td>\n",
       "      <td>0.0</td>\n",
       "      <td>5.6</td>\n",
       "      <td>11.0</td>\n",
       "      <td>E</td>\n",
       "      <td>33.0</td>\n",
       "      <td>E</td>\n",
       "      <td>...</td>\n",
       "      <td>46.0</td>\n",
       "      <td>23.0</td>\n",
       "      <td>1015.3</td>\n",
       "      <td>1011.8</td>\n",
       "      <td>0.0</td>\n",
       "      <td>0.0</td>\n",
       "      <td>24.8</td>\n",
       "      <td>32.1</td>\n",
       "      <td>No</td>\n",
       "      <td>No</td>\n",
       "    </tr>\n",
       "    <tr>\n",
       "      <th>142301</th>\n",
       "      <td>2017-06-23</td>\n",
       "      <td>Darwin</td>\n",
       "      <td>19.5</td>\n",
       "      <td>31.8</td>\n",
       "      <td>0.0</td>\n",
       "      <td>6.2</td>\n",
       "      <td>10.6</td>\n",
       "      <td>ESE</td>\n",
       "      <td>26.0</td>\n",
       "      <td>SE</td>\n",
       "      <td>...</td>\n",
       "      <td>62.0</td>\n",
       "      <td>58.0</td>\n",
       "      <td>1014.9</td>\n",
       "      <td>1010.7</td>\n",
       "      <td>1.0</td>\n",
       "      <td>1.0</td>\n",
       "      <td>24.8</td>\n",
       "      <td>29.2</td>\n",
       "      <td>No</td>\n",
       "      <td>No</td>\n",
       "    </tr>\n",
       "    <tr>\n",
       "      <th>142302</th>\n",
       "      <td>2017-06-24</td>\n",
       "      <td>Darwin</td>\n",
       "      <td>20.2</td>\n",
       "      <td>31.7</td>\n",
       "      <td>0.0</td>\n",
       "      <td>5.6</td>\n",
       "      <td>10.7</td>\n",
       "      <td>ENE</td>\n",
       "      <td>30.0</td>\n",
       "      <td>ENE</td>\n",
       "      <td>...</td>\n",
       "      <td>73.0</td>\n",
       "      <td>32.0</td>\n",
       "      <td>1013.9</td>\n",
       "      <td>1009.7</td>\n",
       "      <td>6.0</td>\n",
       "      <td>5.0</td>\n",
       "      <td>25.4</td>\n",
       "      <td>31.0</td>\n",
       "      <td>No</td>\n",
       "      <td>No</td>\n",
       "    </tr>\n",
       "  </tbody>\n",
       "</table>\n",
       "<p>3062 rows × 23 columns</p>\n",
       "</div>"
      ],
      "text/plain": [
       "              Date Location  MinTemp  MaxTemp  Rainfall  Evaporation  \\\n",
       "139111  2008-07-01   Darwin     20.0     33.1       0.0          4.4   \n",
       "139112  2008-07-02   Darwin     19.4     32.4       0.0          6.0   \n",
       "139113  2008-07-03   Darwin     18.2     31.8       0.0          8.0   \n",
       "139114  2008-07-04   Darwin     17.3     30.7       0.0          7.0   \n",
       "139115  2008-07-05   Darwin     15.5     30.8       0.0          7.0   \n",
       "...            ...      ...      ...      ...       ...          ...   \n",
       "142298  2017-06-20   Darwin     19.3     33.4       0.0          6.0   \n",
       "142299  2017-06-21   Darwin     21.2     32.6       0.0          7.6   \n",
       "142300  2017-06-22   Darwin     20.7     32.8       0.0          5.6   \n",
       "142301  2017-06-23   Darwin     19.5     31.8       0.0          6.2   \n",
       "142302  2017-06-24   Darwin     20.2     31.7       0.0          5.6   \n",
       "\n",
       "        Sunshine WindGustDir  WindGustSpeed WindDir9am  ... Humidity9am  \\\n",
       "139111      11.0           E           41.0        ENE  ...        81.0   \n",
       "139112      10.4         ENE           50.0         SE  ...        81.0   \n",
       "139113      11.0           E           46.0        ESE  ...        38.0   \n",
       "139114      10.4           E           44.0         SE  ...        55.0   \n",
       "139115      10.8         ESE           46.0          E  ...        37.0   \n",
       "...          ...         ...            ...        ...  ...         ...   \n",
       "142298      11.0         ENE           35.0         SE  ...        63.0   \n",
       "142299       8.6           E           37.0         SE  ...        56.0   \n",
       "142300      11.0           E           33.0          E  ...        46.0   \n",
       "142301      10.6         ESE           26.0         SE  ...        62.0   \n",
       "142302      10.7         ENE           30.0        ENE  ...        73.0   \n",
       "\n",
       "        Humidity3pm  Pressure9am  Pressure3pm  Cloud9am  Cloud3pm  Temp9am  \\\n",
       "139111         32.0       1016.0       1012.1       1.0       2.0     25.4   \n",
       "139112         17.0       1016.8       1012.4       1.0       1.0     24.3   \n",
       "139113         24.0       1017.2       1013.0       0.0       1.0     24.3   \n",
       "139114         16.0       1017.3       1013.6       2.0       6.0     21.3   \n",
       "139115         16.0       1016.3       1012.6       1.0       1.0     22.2   \n",
       "...             ...          ...          ...       ...       ...      ...   \n",
       "142298         32.0       1013.9       1010.5       0.0       1.0     24.5   \n",
       "142299         28.0       1014.6       1011.2       7.0       0.0     24.8   \n",
       "142300         23.0       1015.3       1011.8       0.0       0.0     24.8   \n",
       "142301         58.0       1014.9       1010.7       1.0       1.0     24.8   \n",
       "142302         32.0       1013.9       1009.7       6.0       5.0     25.4   \n",
       "\n",
       "        Temp3pm  RainToday  RainTomorrow  \n",
       "139111     32.3         No            No  \n",
       "139112     31.9         No            No  \n",
       "139113     31.2         No            No  \n",
       "139114     29.8         No            No  \n",
       "139115     29.6         No            No  \n",
       "...         ...        ...           ...  \n",
       "142298     32.3         No            No  \n",
       "142299     32.0         No            No  \n",
       "142300     32.1         No            No  \n",
       "142301     29.2         No            No  \n",
       "142302     31.0         No            No  \n",
       "\n",
       "[3062 rows x 23 columns]"
      ]
     },
     "execution_count": 11,
     "metadata": {},
     "output_type": "execute_result"
    }
   ],
   "source": [
    "darwin"
   ]
  },
  {
   "cell_type": "code",
   "execution_count": 12,
   "id": "0418e468-f512-4f7d-9768-bba786d831eb",
   "metadata": {},
   "outputs": [
    {
     "data": {
      "text/plain": [
       "Index(['Date', 'Location', 'MinTemp', 'MaxTemp', 'Rainfall', 'Evaporation',\n",
       "       'Sunshine', 'WindGustDir', 'WindGustSpeed', 'WindDir9am', 'WindDir3pm',\n",
       "       'WindSpeed9am', 'WindSpeed3pm', 'Humidity9am', 'Humidity3pm',\n",
       "       'Pressure9am', 'Pressure3pm', 'Cloud9am', 'Cloud3pm', 'Temp9am',\n",
       "       'Temp3pm', 'RainToday', 'RainTomorrow'],\n",
       "      dtype='object')"
      ]
     },
     "execution_count": 12,
     "metadata": {},
     "output_type": "execute_result"
    }
   ],
   "source": [
    "darwin.columns"
   ]
  },
  {
   "cell_type": "code",
   "execution_count": 13,
   "id": "db8fb086-37ba-4993-ba6b-ba14e6031102",
   "metadata": {},
   "outputs": [
    {
     "data": {
      "text/html": [
       "<div>\n",
       "<style scoped>\n",
       "    .dataframe tbody tr th:only-of-type {\n",
       "        vertical-align: middle;\n",
       "    }\n",
       "\n",
       "    .dataframe tbody tr th {\n",
       "        vertical-align: top;\n",
       "    }\n",
       "\n",
       "    .dataframe thead th {\n",
       "        text-align: right;\n",
       "    }\n",
       "</style>\n",
       "<table border=\"1\" class=\"dataframe\">\n",
       "  <thead>\n",
       "    <tr style=\"text-align: right;\">\n",
       "      <th></th>\n",
       "      <th>MinTemp</th>\n",
       "      <th>MaxTemp</th>\n",
       "      <th>Rainfall</th>\n",
       "      <th>Evaporation</th>\n",
       "      <th>Sunshine</th>\n",
       "      <th>WindGustSpeed</th>\n",
       "      <th>WindSpeed9am</th>\n",
       "      <th>WindSpeed3pm</th>\n",
       "      <th>Humidity9am</th>\n",
       "      <th>Humidity3pm</th>\n",
       "      <th>Pressure9am</th>\n",
       "      <th>Pressure3pm</th>\n",
       "      <th>Cloud9am</th>\n",
       "      <th>Cloud3pm</th>\n",
       "      <th>Temp9am</th>\n",
       "      <th>Temp3pm</th>\n",
       "    </tr>\n",
       "  </thead>\n",
       "  <tbody>\n",
       "    <tr>\n",
       "      <th>139111</th>\n",
       "      <td>20.0</td>\n",
       "      <td>33.1</td>\n",
       "      <td>0.0</td>\n",
       "      <td>4.4</td>\n",
       "      <td>11.0</td>\n",
       "      <td>41.0</td>\n",
       "      <td>13.0</td>\n",
       "      <td>17.0</td>\n",
       "      <td>81.0</td>\n",
       "      <td>32.0</td>\n",
       "      <td>1016.0</td>\n",
       "      <td>1012.1</td>\n",
       "      <td>1.0</td>\n",
       "      <td>2.0</td>\n",
       "      <td>25.4</td>\n",
       "      <td>32.3</td>\n",
       "    </tr>\n",
       "    <tr>\n",
       "      <th>139112</th>\n",
       "      <td>19.4</td>\n",
       "      <td>32.4</td>\n",
       "      <td>0.0</td>\n",
       "      <td>6.0</td>\n",
       "      <td>10.4</td>\n",
       "      <td>50.0</td>\n",
       "      <td>15.0</td>\n",
       "      <td>28.0</td>\n",
       "      <td>81.0</td>\n",
       "      <td>17.0</td>\n",
       "      <td>1016.8</td>\n",
       "      <td>1012.4</td>\n",
       "      <td>1.0</td>\n",
       "      <td>1.0</td>\n",
       "      <td>24.3</td>\n",
       "      <td>31.9</td>\n",
       "    </tr>\n",
       "    <tr>\n",
       "      <th>139113</th>\n",
       "      <td>18.2</td>\n",
       "      <td>31.8</td>\n",
       "      <td>0.0</td>\n",
       "      <td>8.0</td>\n",
       "      <td>11.0</td>\n",
       "      <td>46.0</td>\n",
       "      <td>22.0</td>\n",
       "      <td>19.0</td>\n",
       "      <td>38.0</td>\n",
       "      <td>24.0</td>\n",
       "      <td>1017.2</td>\n",
       "      <td>1013.0</td>\n",
       "      <td>0.0</td>\n",
       "      <td>1.0</td>\n",
       "      <td>24.3</td>\n",
       "      <td>31.2</td>\n",
       "    </tr>\n",
       "    <tr>\n",
       "      <th>139114</th>\n",
       "      <td>17.3</td>\n",
       "      <td>30.7</td>\n",
       "      <td>0.0</td>\n",
       "      <td>7.0</td>\n",
       "      <td>10.4</td>\n",
       "      <td>44.0</td>\n",
       "      <td>22.0</td>\n",
       "      <td>13.0</td>\n",
       "      <td>55.0</td>\n",
       "      <td>16.0</td>\n",
       "      <td>1017.3</td>\n",
       "      <td>1013.6</td>\n",
       "      <td>2.0</td>\n",
       "      <td>6.0</td>\n",
       "      <td>21.3</td>\n",
       "      <td>29.8</td>\n",
       "    </tr>\n",
       "    <tr>\n",
       "      <th>139115</th>\n",
       "      <td>15.5</td>\n",
       "      <td>30.8</td>\n",
       "      <td>0.0</td>\n",
       "      <td>7.0</td>\n",
       "      <td>10.8</td>\n",
       "      <td>46.0</td>\n",
       "      <td>20.0</td>\n",
       "      <td>19.0</td>\n",
       "      <td>37.0</td>\n",
       "      <td>16.0</td>\n",
       "      <td>1016.3</td>\n",
       "      <td>1012.6</td>\n",
       "      <td>1.0</td>\n",
       "      <td>1.0</td>\n",
       "      <td>22.2</td>\n",
       "      <td>29.6</td>\n",
       "    </tr>\n",
       "  </tbody>\n",
       "</table>\n",
       "</div>"
      ],
      "text/plain": [
       "        MinTemp  MaxTemp  Rainfall  Evaporation  Sunshine  WindGustSpeed  \\\n",
       "139111     20.0     33.1       0.0          4.4      11.0           41.0   \n",
       "139112     19.4     32.4       0.0          6.0      10.4           50.0   \n",
       "139113     18.2     31.8       0.0          8.0      11.0           46.0   \n",
       "139114     17.3     30.7       0.0          7.0      10.4           44.0   \n",
       "139115     15.5     30.8       0.0          7.0      10.8           46.0   \n",
       "\n",
       "        WindSpeed9am  WindSpeed3pm  Humidity9am  Humidity3pm  Pressure9am  \\\n",
       "139111          13.0          17.0         81.0         32.0       1016.0   \n",
       "139112          15.0          28.0         81.0         17.0       1016.8   \n",
       "139113          22.0          19.0         38.0         24.0       1017.2   \n",
       "139114          22.0          13.0         55.0         16.0       1017.3   \n",
       "139115          20.0          19.0         37.0         16.0       1016.3   \n",
       "\n",
       "        Pressure3pm  Cloud9am  Cloud3pm  Temp9am  Temp3pm  \n",
       "139111       1012.1       1.0       2.0     25.4     32.3  \n",
       "139112       1012.4       1.0       1.0     24.3     31.9  \n",
       "139113       1013.0       0.0       1.0     24.3     31.2  \n",
       "139114       1013.6       2.0       6.0     21.3     29.8  \n",
       "139115       1012.6       1.0       1.0     22.2     29.6  "
      ]
     },
     "execution_count": 13,
     "metadata": {},
     "output_type": "execute_result"
    }
   ],
   "source": [
    "features = ['MinTemp', 'MaxTemp', 'Rainfall', 'Evaporation', 'Sunshine','WindGustSpeed', \n",
    "            'WindSpeed9am', 'WindSpeed3pm', 'Humidity9am', 'Humidity3pm', 'Pressure9am', \n",
    "            'Pressure3pm', 'Cloud9am', 'Cloud3pm', 'Temp9am', 'Temp3pm',\n",
    "            # 'RainToday', 'RainTomorrow'\n",
    "           ]\n",
    "darwin.loc[:,features].head()"
   ]
  },
  {
   "cell_type": "code",
   "execution_count": 14,
   "id": "1d6d7ca3-e9f2-4260-a69c-8c11a20a32a5",
   "metadata": {},
   "outputs": [
    {
     "data": {
      "text/plain": [
       "3062"
      ]
     },
     "execution_count": 14,
     "metadata": {},
     "output_type": "execute_result"
    }
   ],
   "source": [
    "N = len(darwin)\n",
    "N"
   ]
  },
  {
   "cell_type": "code",
   "execution_count": 15,
   "id": "3b8d9920-babe-4d2a-b4bf-ca614734a59c",
   "metadata": {},
   "outputs": [
    {
     "data": {
      "text/plain": [
       "(2143, 612, 307)"
      ]
     },
     "execution_count": 15,
     "metadata": {},
     "output_type": "execute_result"
    }
   ],
   "source": [
    "train = darwin[:int(0.7*N)][features]\n",
    "valid = darwin[int(0.7*N):int(0.9*N)][features]\n",
    "test = darwin[int(0.9*N):][features]\n",
    "\n",
    "len(train), len(valid), len(test)"
   ]
  },
  {
   "cell_type": "code",
   "execution_count": null,
   "id": "e779efea-fd6b-4376-8a51-8d086d387925",
   "metadata": {},
   "outputs": [],
   "source": []
  },
  {
   "cell_type": "code",
   "execution_count": 16,
   "id": "40f56a66-4710-45ed-8d65-cd8b51008ac1",
   "metadata": {},
   "outputs": [
    {
     "data": {
      "text/plain": [
       "(2143, 16)"
      ]
     },
     "execution_count": 16,
     "metadata": {},
     "output_type": "execute_result"
    }
   ],
   "source": [
    "train.shape"
   ]
  },
  {
   "cell_type": "code",
   "execution_count": 17,
   "id": "a7eb6e74-a6ea-47e7-82d2-6e024f7c4492",
   "metadata": {},
   "outputs": [
    {
     "data": {
      "text/html": [
       "<div>\n",
       "<style scoped>\n",
       "    .dataframe tbody tr th:only-of-type {\n",
       "        vertical-align: middle;\n",
       "    }\n",
       "\n",
       "    .dataframe tbody tr th {\n",
       "        vertical-align: top;\n",
       "    }\n",
       "\n",
       "    .dataframe thead th {\n",
       "        text-align: right;\n",
       "    }\n",
       "</style>\n",
       "<table border=\"1\" class=\"dataframe\">\n",
       "  <thead>\n",
       "    <tr style=\"text-align: right;\">\n",
       "      <th></th>\n",
       "      <th>MinTemp</th>\n",
       "      <th>MaxTemp</th>\n",
       "      <th>Rainfall</th>\n",
       "      <th>Evaporation</th>\n",
       "      <th>Sunshine</th>\n",
       "      <th>WindGustSpeed</th>\n",
       "      <th>WindSpeed9am</th>\n",
       "      <th>WindSpeed3pm</th>\n",
       "      <th>Humidity9am</th>\n",
       "      <th>Humidity3pm</th>\n",
       "      <th>Pressure9am</th>\n",
       "      <th>Pressure3pm</th>\n",
       "      <th>Cloud9am</th>\n",
       "      <th>Cloud3pm</th>\n",
       "      <th>Temp9am</th>\n",
       "      <th>Temp3pm</th>\n",
       "    </tr>\n",
       "  </thead>\n",
       "  <tbody>\n",
       "    <tr>\n",
       "      <th>139111</th>\n",
       "      <td>20.0</td>\n",
       "      <td>33.1</td>\n",
       "      <td>0.0</td>\n",
       "      <td>4.4</td>\n",
       "      <td>11.0</td>\n",
       "      <td>41.0</td>\n",
       "      <td>13.0</td>\n",
       "      <td>17.0</td>\n",
       "      <td>81.0</td>\n",
       "      <td>32.0</td>\n",
       "      <td>1016.0</td>\n",
       "      <td>1012.1</td>\n",
       "      <td>1.0</td>\n",
       "      <td>2.0</td>\n",
       "      <td>25.4</td>\n",
       "      <td>32.3</td>\n",
       "    </tr>\n",
       "    <tr>\n",
       "      <th>139112</th>\n",
       "      <td>19.4</td>\n",
       "      <td>32.4</td>\n",
       "      <td>0.0</td>\n",
       "      <td>6.0</td>\n",
       "      <td>10.4</td>\n",
       "      <td>50.0</td>\n",
       "      <td>15.0</td>\n",
       "      <td>28.0</td>\n",
       "      <td>81.0</td>\n",
       "      <td>17.0</td>\n",
       "      <td>1016.8</td>\n",
       "      <td>1012.4</td>\n",
       "      <td>1.0</td>\n",
       "      <td>1.0</td>\n",
       "      <td>24.3</td>\n",
       "      <td>31.9</td>\n",
       "    </tr>\n",
       "    <tr>\n",
       "      <th>139113</th>\n",
       "      <td>18.2</td>\n",
       "      <td>31.8</td>\n",
       "      <td>0.0</td>\n",
       "      <td>8.0</td>\n",
       "      <td>11.0</td>\n",
       "      <td>46.0</td>\n",
       "      <td>22.0</td>\n",
       "      <td>19.0</td>\n",
       "      <td>38.0</td>\n",
       "      <td>24.0</td>\n",
       "      <td>1017.2</td>\n",
       "      <td>1013.0</td>\n",
       "      <td>0.0</td>\n",
       "      <td>1.0</td>\n",
       "      <td>24.3</td>\n",
       "      <td>31.2</td>\n",
       "    </tr>\n",
       "    <tr>\n",
       "      <th>139114</th>\n",
       "      <td>17.3</td>\n",
       "      <td>30.7</td>\n",
       "      <td>0.0</td>\n",
       "      <td>7.0</td>\n",
       "      <td>10.4</td>\n",
       "      <td>44.0</td>\n",
       "      <td>22.0</td>\n",
       "      <td>13.0</td>\n",
       "      <td>55.0</td>\n",
       "      <td>16.0</td>\n",
       "      <td>1017.3</td>\n",
       "      <td>1013.6</td>\n",
       "      <td>2.0</td>\n",
       "      <td>6.0</td>\n",
       "      <td>21.3</td>\n",
       "      <td>29.8</td>\n",
       "    </tr>\n",
       "    <tr>\n",
       "      <th>139115</th>\n",
       "      <td>15.5</td>\n",
       "      <td>30.8</td>\n",
       "      <td>0.0</td>\n",
       "      <td>7.0</td>\n",
       "      <td>10.8</td>\n",
       "      <td>46.0</td>\n",
       "      <td>20.0</td>\n",
       "      <td>19.0</td>\n",
       "      <td>37.0</td>\n",
       "      <td>16.0</td>\n",
       "      <td>1016.3</td>\n",
       "      <td>1012.6</td>\n",
       "      <td>1.0</td>\n",
       "      <td>1.0</td>\n",
       "      <td>22.2</td>\n",
       "      <td>29.6</td>\n",
       "    </tr>\n",
       "  </tbody>\n",
       "</table>\n",
       "</div>"
      ],
      "text/plain": [
       "        MinTemp  MaxTemp  Rainfall  Evaporation  Sunshine  WindGustSpeed  \\\n",
       "139111     20.0     33.1       0.0          4.4      11.0           41.0   \n",
       "139112     19.4     32.4       0.0          6.0      10.4           50.0   \n",
       "139113     18.2     31.8       0.0          8.0      11.0           46.0   \n",
       "139114     17.3     30.7       0.0          7.0      10.4           44.0   \n",
       "139115     15.5     30.8       0.0          7.0      10.8           46.0   \n",
       "\n",
       "        WindSpeed9am  WindSpeed3pm  Humidity9am  Humidity3pm  Pressure9am  \\\n",
       "139111          13.0          17.0         81.0         32.0       1016.0   \n",
       "139112          15.0          28.0         81.0         17.0       1016.8   \n",
       "139113          22.0          19.0         38.0         24.0       1017.2   \n",
       "139114          22.0          13.0         55.0         16.0       1017.3   \n",
       "139115          20.0          19.0         37.0         16.0       1016.3   \n",
       "\n",
       "        Pressure3pm  Cloud9am  Cloud3pm  Temp9am  Temp3pm  \n",
       "139111       1012.1       1.0       2.0     25.4     32.3  \n",
       "139112       1012.4       1.0       1.0     24.3     31.9  \n",
       "139113       1013.0       0.0       1.0     24.3     31.2  \n",
       "139114       1013.6       2.0       6.0     21.3     29.8  \n",
       "139115       1012.6       1.0       1.0     22.2     29.6  "
      ]
     },
     "execution_count": 17,
     "metadata": {},
     "output_type": "execute_result"
    }
   ],
   "source": [
    "train.head()"
   ]
  },
  {
   "cell_type": "code",
   "execution_count": 18,
   "id": "d02e4b75-6861-478a-98b0-baca2831eadd",
   "metadata": {},
   "outputs": [
    {
     "data": {
      "text/html": [
       "<div>\n",
       "<style scoped>\n",
       "    .dataframe tbody tr th:only-of-type {\n",
       "        vertical-align: middle;\n",
       "    }\n",
       "\n",
       "    .dataframe tbody tr th {\n",
       "        vertical-align: top;\n",
       "    }\n",
       "\n",
       "    .dataframe thead th {\n",
       "        text-align: right;\n",
       "    }\n",
       "</style>\n",
       "<table border=\"1\" class=\"dataframe\">\n",
       "  <thead>\n",
       "    <tr style=\"text-align: right;\">\n",
       "      <th></th>\n",
       "      <th>MinTemp</th>\n",
       "      <th>MaxTemp</th>\n",
       "      <th>Rainfall</th>\n",
       "      <th>Evaporation</th>\n",
       "      <th>Sunshine</th>\n",
       "      <th>WindGustSpeed</th>\n",
       "      <th>WindSpeed9am</th>\n",
       "      <th>WindSpeed3pm</th>\n",
       "      <th>Humidity9am</th>\n",
       "      <th>Humidity3pm</th>\n",
       "      <th>Pressure9am</th>\n",
       "      <th>Pressure3pm</th>\n",
       "      <th>Cloud9am</th>\n",
       "      <th>Cloud3pm</th>\n",
       "      <th>Temp9am</th>\n",
       "      <th>Temp3pm</th>\n",
       "    </tr>\n",
       "  </thead>\n",
       "  <tbody>\n",
       "    <tr>\n",
       "      <th>141336</th>\n",
       "      <td>23.2</td>\n",
       "      <td>35.0</td>\n",
       "      <td>0.0</td>\n",
       "      <td>10.6</td>\n",
       "      <td>11.8</td>\n",
       "      <td>37.0</td>\n",
       "      <td>9.0</td>\n",
       "      <td>22.0</td>\n",
       "      <td>64.0</td>\n",
       "      <td>35.0</td>\n",
       "      <td>1012.4</td>\n",
       "      <td>1007.3</td>\n",
       "      <td>1.0</td>\n",
       "      <td>1.0</td>\n",
       "      <td>29.4</td>\n",
       "      <td>34.1</td>\n",
       "    </tr>\n",
       "    <tr>\n",
       "      <th>141337</th>\n",
       "      <td>22.8</td>\n",
       "      <td>35.7</td>\n",
       "      <td>0.0</td>\n",
       "      <td>8.6</td>\n",
       "      <td>11.5</td>\n",
       "      <td>39.0</td>\n",
       "      <td>11.0</td>\n",
       "      <td>30.0</td>\n",
       "      <td>61.0</td>\n",
       "      <td>47.0</td>\n",
       "      <td>1013.1</td>\n",
       "      <td>1009.1</td>\n",
       "      <td>2.0</td>\n",
       "      <td>1.0</td>\n",
       "      <td>29.2</td>\n",
       "      <td>32.7</td>\n",
       "    </tr>\n",
       "    <tr>\n",
       "      <th>141338</th>\n",
       "      <td>26.0</td>\n",
       "      <td>35.6</td>\n",
       "      <td>0.0</td>\n",
       "      <td>7.6</td>\n",
       "      <td>10.2</td>\n",
       "      <td>37.0</td>\n",
       "      <td>20.0</td>\n",
       "      <td>24.0</td>\n",
       "      <td>58.0</td>\n",
       "      <td>52.0</td>\n",
       "      <td>1013.1</td>\n",
       "      <td>1009.5</td>\n",
       "      <td>3.0</td>\n",
       "      <td>6.0</td>\n",
       "      <td>30.3</td>\n",
       "      <td>33.5</td>\n",
       "    </tr>\n",
       "    <tr>\n",
       "      <th>141339</th>\n",
       "      <td>25.8</td>\n",
       "      <td>34.4</td>\n",
       "      <td>0.0</td>\n",
       "      <td>7.8</td>\n",
       "      <td>10.0</td>\n",
       "      <td>33.0</td>\n",
       "      <td>13.0</td>\n",
       "      <td>17.0</td>\n",
       "      <td>69.0</td>\n",
       "      <td>46.0</td>\n",
       "      <td>1013.5</td>\n",
       "      <td>1009.1</td>\n",
       "      <td>8.0</td>\n",
       "      <td>7.0</td>\n",
       "      <td>29.8</td>\n",
       "      <td>34.2</td>\n",
       "    </tr>\n",
       "    <tr>\n",
       "      <th>141340</th>\n",
       "      <td>23.5</td>\n",
       "      <td>33.6</td>\n",
       "      <td>5.6</td>\n",
       "      <td>7.6</td>\n",
       "      <td>8.3</td>\n",
       "      <td>63.0</td>\n",
       "      <td>11.0</td>\n",
       "      <td>17.0</td>\n",
       "      <td>85.0</td>\n",
       "      <td>56.0</td>\n",
       "      <td>1014.0</td>\n",
       "      <td>1010.1</td>\n",
       "      <td>7.0</td>\n",
       "      <td>6.0</td>\n",
       "      <td>25.2</td>\n",
       "      <td>32.7</td>\n",
       "    </tr>\n",
       "  </tbody>\n",
       "</table>\n",
       "</div>"
      ],
      "text/plain": [
       "        MinTemp  MaxTemp  Rainfall  Evaporation  Sunshine  WindGustSpeed  \\\n",
       "141336     23.2     35.0       0.0         10.6      11.8           37.0   \n",
       "141337     22.8     35.7       0.0          8.6      11.5           39.0   \n",
       "141338     26.0     35.6       0.0          7.6      10.2           37.0   \n",
       "141339     25.8     34.4       0.0          7.8      10.0           33.0   \n",
       "141340     23.5     33.6       5.6          7.6       8.3           63.0   \n",
       "\n",
       "        WindSpeed9am  WindSpeed3pm  Humidity9am  Humidity3pm  Pressure9am  \\\n",
       "141336           9.0          22.0         64.0         35.0       1012.4   \n",
       "141337          11.0          30.0         61.0         47.0       1013.1   \n",
       "141338          20.0          24.0         58.0         52.0       1013.1   \n",
       "141339          13.0          17.0         69.0         46.0       1013.5   \n",
       "141340          11.0          17.0         85.0         56.0       1014.0   \n",
       "\n",
       "        Pressure3pm  Cloud9am  Cloud3pm  Temp9am  Temp3pm  \n",
       "141336       1007.3       1.0       1.0     29.4     34.1  \n",
       "141337       1009.1       2.0       1.0     29.2     32.7  \n",
       "141338       1009.5       3.0       6.0     30.3     33.5  \n",
       "141339       1009.1       8.0       7.0     29.8     34.2  \n",
       "141340       1010.1       7.0       6.0     25.2     32.7  "
      ]
     },
     "execution_count": 18,
     "metadata": {},
     "output_type": "execute_result"
    }
   ],
   "source": [
    "train.tail()"
   ]
  },
  {
   "cell_type": "code",
   "execution_count": 19,
   "id": "366308d7-e143-4c09-a3c8-c4adcb5e19a2",
   "metadata": {},
   "outputs": [
    {
     "data": {
      "text/html": [
       "<div>\n",
       "<style scoped>\n",
       "    .dataframe tbody tr th:only-of-type {\n",
       "        vertical-align: middle;\n",
       "    }\n",
       "\n",
       "    .dataframe tbody tr th {\n",
       "        vertical-align: top;\n",
       "    }\n",
       "\n",
       "    .dataframe thead th {\n",
       "        text-align: right;\n",
       "    }\n",
       "</style>\n",
       "<table border=\"1\" class=\"dataframe\">\n",
       "  <thead>\n",
       "    <tr style=\"text-align: right;\">\n",
       "      <th></th>\n",
       "      <th>MinTemp</th>\n",
       "      <th>MaxTemp</th>\n",
       "      <th>Rainfall</th>\n",
       "      <th>Evaporation</th>\n",
       "      <th>Sunshine</th>\n",
       "      <th>WindGustSpeed</th>\n",
       "      <th>WindSpeed9am</th>\n",
       "      <th>WindSpeed3pm</th>\n",
       "      <th>Humidity9am</th>\n",
       "      <th>Humidity3pm</th>\n",
       "      <th>Pressure9am</th>\n",
       "      <th>Pressure3pm</th>\n",
       "      <th>Cloud9am</th>\n",
       "      <th>Cloud3pm</th>\n",
       "      <th>Temp9am</th>\n",
       "      <th>Temp3pm</th>\n",
       "    </tr>\n",
       "  </thead>\n",
       "  <tbody>\n",
       "    <tr>\n",
       "      <th>141341</th>\n",
       "      <td>21.5</td>\n",
       "      <td>33.5</td>\n",
       "      <td>20.0</td>\n",
       "      <td>7.0</td>\n",
       "      <td>10.5</td>\n",
       "      <td>63.0</td>\n",
       "      <td>20.0</td>\n",
       "      <td>22.0</td>\n",
       "      <td>71.0</td>\n",
       "      <td>46.0</td>\n",
       "      <td>1014.1</td>\n",
       "      <td>1008.5</td>\n",
       "      <td>7.0</td>\n",
       "      <td>7.0</td>\n",
       "      <td>27.3</td>\n",
       "      <td>32.6</td>\n",
       "    </tr>\n",
       "    <tr>\n",
       "      <th>141342</th>\n",
       "      <td>24.0</td>\n",
       "      <td>34.2</td>\n",
       "      <td>0.0</td>\n",
       "      <td>6.6</td>\n",
       "      <td>9.4</td>\n",
       "      <td>41.0</td>\n",
       "      <td>15.0</td>\n",
       "      <td>15.0</td>\n",
       "      <td>71.0</td>\n",
       "      <td>56.0</td>\n",
       "      <td>1012.8</td>\n",
       "      <td>1009.9</td>\n",
       "      <td>6.0</td>\n",
       "      <td>3.0</td>\n",
       "      <td>29.7</td>\n",
       "      <td>32.1</td>\n",
       "    </tr>\n",
       "    <tr>\n",
       "      <th>141343</th>\n",
       "      <td>25.2</td>\n",
       "      <td>33.8</td>\n",
       "      <td>0.0</td>\n",
       "      <td>5.0</td>\n",
       "      <td>11.3</td>\n",
       "      <td>35.0</td>\n",
       "      <td>9.0</td>\n",
       "      <td>24.0</td>\n",
       "      <td>63.0</td>\n",
       "      <td>61.0</td>\n",
       "      <td>1013.9</td>\n",
       "      <td>1009.5</td>\n",
       "      <td>4.0</td>\n",
       "      <td>1.0</td>\n",
       "      <td>29.9</td>\n",
       "      <td>32.3</td>\n",
       "    </tr>\n",
       "    <tr>\n",
       "      <th>141344</th>\n",
       "      <td>24.9</td>\n",
       "      <td>33.7</td>\n",
       "      <td>0.0</td>\n",
       "      <td>6.8</td>\n",
       "      <td>11.4</td>\n",
       "      <td>33.0</td>\n",
       "      <td>11.0</td>\n",
       "      <td>19.0</td>\n",
       "      <td>59.0</td>\n",
       "      <td>51.0</td>\n",
       "      <td>1013.5</td>\n",
       "      <td>1009.0</td>\n",
       "      <td>2.0</td>\n",
       "      <td>1.0</td>\n",
       "      <td>30.8</td>\n",
       "      <td>33.4</td>\n",
       "    </tr>\n",
       "    <tr>\n",
       "      <th>141345</th>\n",
       "      <td>26.5</td>\n",
       "      <td>33.9</td>\n",
       "      <td>0.0</td>\n",
       "      <td>7.8</td>\n",
       "      <td>11.7</td>\n",
       "      <td>35.0</td>\n",
       "      <td>11.0</td>\n",
       "      <td>28.0</td>\n",
       "      <td>56.0</td>\n",
       "      <td>50.0</td>\n",
       "      <td>1012.7</td>\n",
       "      <td>1008.6</td>\n",
       "      <td>1.0</td>\n",
       "      <td>1.0</td>\n",
       "      <td>30.6</td>\n",
       "      <td>33.1</td>\n",
       "    </tr>\n",
       "  </tbody>\n",
       "</table>\n",
       "</div>"
      ],
      "text/plain": [
       "        MinTemp  MaxTemp  Rainfall  Evaporation  Sunshine  WindGustSpeed  \\\n",
       "141341     21.5     33.5      20.0          7.0      10.5           63.0   \n",
       "141342     24.0     34.2       0.0          6.6       9.4           41.0   \n",
       "141343     25.2     33.8       0.0          5.0      11.3           35.0   \n",
       "141344     24.9     33.7       0.0          6.8      11.4           33.0   \n",
       "141345     26.5     33.9       0.0          7.8      11.7           35.0   \n",
       "\n",
       "        WindSpeed9am  WindSpeed3pm  Humidity9am  Humidity3pm  Pressure9am  \\\n",
       "141341          20.0          22.0         71.0         46.0       1014.1   \n",
       "141342          15.0          15.0         71.0         56.0       1012.8   \n",
       "141343           9.0          24.0         63.0         61.0       1013.9   \n",
       "141344          11.0          19.0         59.0         51.0       1013.5   \n",
       "141345          11.0          28.0         56.0         50.0       1012.7   \n",
       "\n",
       "        Pressure3pm  Cloud9am  Cloud3pm  Temp9am  Temp3pm  \n",
       "141341       1008.5       7.0       7.0     27.3     32.6  \n",
       "141342       1009.9       6.0       3.0     29.7     32.1  \n",
       "141343       1009.5       4.0       1.0     29.9     32.3  \n",
       "141344       1009.0       2.0       1.0     30.8     33.4  \n",
       "141345       1008.6       1.0       1.0     30.6     33.1  "
      ]
     },
     "execution_count": 19,
     "metadata": {},
     "output_type": "execute_result"
    }
   ],
   "source": [
    "valid.head()"
   ]
  },
  {
   "cell_type": "code",
   "execution_count": 20,
   "id": "81b5ca80-7c2c-4358-a9e4-738676eedb65",
   "metadata": {},
   "outputs": [
    {
     "data": {
      "text/html": [
       "<div>\n",
       "<style scoped>\n",
       "    .dataframe tbody tr th:only-of-type {\n",
       "        vertical-align: middle;\n",
       "    }\n",
       "\n",
       "    .dataframe tbody tr th {\n",
       "        vertical-align: top;\n",
       "    }\n",
       "\n",
       "    .dataframe thead th {\n",
       "        text-align: right;\n",
       "    }\n",
       "</style>\n",
       "<table border=\"1\" class=\"dataframe\">\n",
       "  <thead>\n",
       "    <tr style=\"text-align: right;\">\n",
       "      <th></th>\n",
       "      <th>MinTemp</th>\n",
       "      <th>MaxTemp</th>\n",
       "      <th>Rainfall</th>\n",
       "      <th>Evaporation</th>\n",
       "      <th>Sunshine</th>\n",
       "      <th>WindGustSpeed</th>\n",
       "      <th>WindSpeed9am</th>\n",
       "      <th>WindSpeed3pm</th>\n",
       "      <th>Humidity9am</th>\n",
       "      <th>Humidity3pm</th>\n",
       "      <th>Pressure9am</th>\n",
       "      <th>Pressure3pm</th>\n",
       "      <th>Cloud9am</th>\n",
       "      <th>Cloud3pm</th>\n",
       "      <th>Temp9am</th>\n",
       "      <th>Temp3pm</th>\n",
       "    </tr>\n",
       "  </thead>\n",
       "  <tbody>\n",
       "    <tr>\n",
       "      <th>141969</th>\n",
       "      <td>20.3</td>\n",
       "      <td>33.6</td>\n",
       "      <td>0.0</td>\n",
       "      <td>5.8</td>\n",
       "      <td>11.0</td>\n",
       "      <td>43.0</td>\n",
       "      <td>13.0</td>\n",
       "      <td>20.0</td>\n",
       "      <td>66.0</td>\n",
       "      <td>19.0</td>\n",
       "      <td>1014.0</td>\n",
       "      <td>1010.0</td>\n",
       "      <td>1.0</td>\n",
       "      <td>1.0</td>\n",
       "      <td>26.7</td>\n",
       "      <td>33.2</td>\n",
       "    </tr>\n",
       "    <tr>\n",
       "      <th>141970</th>\n",
       "      <td>19.6</td>\n",
       "      <td>33.3</td>\n",
       "      <td>0.0</td>\n",
       "      <td>7.6</td>\n",
       "      <td>11.1</td>\n",
       "      <td>50.0</td>\n",
       "      <td>20.0</td>\n",
       "      <td>26.0</td>\n",
       "      <td>64.0</td>\n",
       "      <td>21.0</td>\n",
       "      <td>1015.4</td>\n",
       "      <td>1011.0</td>\n",
       "      <td>2.0</td>\n",
       "      <td>1.0</td>\n",
       "      <td>24.7</td>\n",
       "      <td>32.4</td>\n",
       "    </tr>\n",
       "    <tr>\n",
       "      <th>141971</th>\n",
       "      <td>19.1</td>\n",
       "      <td>32.2</td>\n",
       "      <td>0.0</td>\n",
       "      <td>8.8</td>\n",
       "      <td>11.0</td>\n",
       "      <td>44.0</td>\n",
       "      <td>26.0</td>\n",
       "      <td>19.0</td>\n",
       "      <td>32.0</td>\n",
       "      <td>19.0</td>\n",
       "      <td>1016.6</td>\n",
       "      <td>1011.5</td>\n",
       "      <td>1.0</td>\n",
       "      <td>1.0</td>\n",
       "      <td>23.3</td>\n",
       "      <td>31.1</td>\n",
       "    </tr>\n",
       "    <tr>\n",
       "      <th>141972</th>\n",
       "      <td>20.5</td>\n",
       "      <td>33.3</td>\n",
       "      <td>0.0</td>\n",
       "      <td>8.6</td>\n",
       "      <td>11.0</td>\n",
       "      <td>41.0</td>\n",
       "      <td>20.0</td>\n",
       "      <td>24.0</td>\n",
       "      <td>45.0</td>\n",
       "      <td>27.0</td>\n",
       "      <td>1014.5</td>\n",
       "      <td>1010.5</td>\n",
       "      <td>1.0</td>\n",
       "      <td>1.0</td>\n",
       "      <td>23.8</td>\n",
       "      <td>32.2</td>\n",
       "    </tr>\n",
       "    <tr>\n",
       "      <th>141973</th>\n",
       "      <td>18.8</td>\n",
       "      <td>33.6</td>\n",
       "      <td>0.0</td>\n",
       "      <td>8.2</td>\n",
       "      <td>11.0</td>\n",
       "      <td>44.0</td>\n",
       "      <td>19.0</td>\n",
       "      <td>24.0</td>\n",
       "      <td>34.0</td>\n",
       "      <td>37.0</td>\n",
       "      <td>1014.3</td>\n",
       "      <td>1010.0</td>\n",
       "      <td>1.0</td>\n",
       "      <td>1.0</td>\n",
       "      <td>22.8</td>\n",
       "      <td>31.1</td>\n",
       "    </tr>\n",
       "  </tbody>\n",
       "</table>\n",
       "</div>"
      ],
      "text/plain": [
       "        MinTemp  MaxTemp  Rainfall  Evaporation  Sunshine  WindGustSpeed  \\\n",
       "141969     20.3     33.6       0.0          5.8      11.0           43.0   \n",
       "141970     19.6     33.3       0.0          7.6      11.1           50.0   \n",
       "141971     19.1     32.2       0.0          8.8      11.0           44.0   \n",
       "141972     20.5     33.3       0.0          8.6      11.0           41.0   \n",
       "141973     18.8     33.6       0.0          8.2      11.0           44.0   \n",
       "\n",
       "        WindSpeed9am  WindSpeed3pm  Humidity9am  Humidity3pm  Pressure9am  \\\n",
       "141969          13.0          20.0         66.0         19.0       1014.0   \n",
       "141970          20.0          26.0         64.0         21.0       1015.4   \n",
       "141971          26.0          19.0         32.0         19.0       1016.6   \n",
       "141972          20.0          24.0         45.0         27.0       1014.5   \n",
       "141973          19.0          24.0         34.0         37.0       1014.3   \n",
       "\n",
       "        Pressure3pm  Cloud9am  Cloud3pm  Temp9am  Temp3pm  \n",
       "141969       1010.0       1.0       1.0     26.7     33.2  \n",
       "141970       1011.0       2.0       1.0     24.7     32.4  \n",
       "141971       1011.5       1.0       1.0     23.3     31.1  \n",
       "141972       1010.5       1.0       1.0     23.8     32.2  \n",
       "141973       1010.0       1.0       1.0     22.8     31.1  "
      ]
     },
     "execution_count": 20,
     "metadata": {},
     "output_type": "execute_result"
    }
   ],
   "source": [
    "valid.tail()"
   ]
  },
  {
   "cell_type": "code",
   "execution_count": 21,
   "id": "c36abf19-fa41-41f1-954b-e35b02e6ff8e",
   "metadata": {},
   "outputs": [
    {
     "data": {
      "text/html": [
       "<div>\n",
       "<style scoped>\n",
       "    .dataframe tbody tr th:only-of-type {\n",
       "        vertical-align: middle;\n",
       "    }\n",
       "\n",
       "    .dataframe tbody tr th {\n",
       "        vertical-align: top;\n",
       "    }\n",
       "\n",
       "    .dataframe thead th {\n",
       "        text-align: right;\n",
       "    }\n",
       "</style>\n",
       "<table border=\"1\" class=\"dataframe\">\n",
       "  <thead>\n",
       "    <tr style=\"text-align: right;\">\n",
       "      <th></th>\n",
       "      <th>MinTemp</th>\n",
       "      <th>MaxTemp</th>\n",
       "      <th>Rainfall</th>\n",
       "      <th>Evaporation</th>\n",
       "      <th>Sunshine</th>\n",
       "      <th>WindGustSpeed</th>\n",
       "      <th>WindSpeed9am</th>\n",
       "      <th>WindSpeed3pm</th>\n",
       "      <th>Humidity9am</th>\n",
       "      <th>Humidity3pm</th>\n",
       "      <th>Pressure9am</th>\n",
       "      <th>Pressure3pm</th>\n",
       "      <th>Cloud9am</th>\n",
       "      <th>Cloud3pm</th>\n",
       "      <th>Temp9am</th>\n",
       "      <th>Temp3pm</th>\n",
       "    </tr>\n",
       "  </thead>\n",
       "  <tbody>\n",
       "    <tr>\n",
       "      <th>141974</th>\n",
       "      <td>19.0</td>\n",
       "      <td>32.6</td>\n",
       "      <td>0.0</td>\n",
       "      <td>8.0</td>\n",
       "      <td>10.9</td>\n",
       "      <td>35.0</td>\n",
       "      <td>17.0</td>\n",
       "      <td>22.0</td>\n",
       "      <td>39.0</td>\n",
       "      <td>30.0</td>\n",
       "      <td>1013.5</td>\n",
       "      <td>1010.1</td>\n",
       "      <td>1.0</td>\n",
       "      <td>1.0</td>\n",
       "      <td>23.8</td>\n",
       "      <td>30.9</td>\n",
       "    </tr>\n",
       "    <tr>\n",
       "      <th>141975</th>\n",
       "      <td>17.6</td>\n",
       "      <td>31.4</td>\n",
       "      <td>0.0</td>\n",
       "      <td>6.8</td>\n",
       "      <td>10.7</td>\n",
       "      <td>31.0</td>\n",
       "      <td>9.0</td>\n",
       "      <td>19.0</td>\n",
       "      <td>60.0</td>\n",
       "      <td>44.0</td>\n",
       "      <td>1013.1</td>\n",
       "      <td>1010.0</td>\n",
       "      <td>1.0</td>\n",
       "      <td>1.0</td>\n",
       "      <td>24.4</td>\n",
       "      <td>30.3</td>\n",
       "    </tr>\n",
       "    <tr>\n",
       "      <th>141976</th>\n",
       "      <td>18.7</td>\n",
       "      <td>32.6</td>\n",
       "      <td>0.0</td>\n",
       "      <td>4.6</td>\n",
       "      <td>10.8</td>\n",
       "      <td>33.0</td>\n",
       "      <td>13.0</td>\n",
       "      <td>20.0</td>\n",
       "      <td>59.0</td>\n",
       "      <td>48.0</td>\n",
       "      <td>1012.3</td>\n",
       "      <td>1008.7</td>\n",
       "      <td>0.0</td>\n",
       "      <td>2.0</td>\n",
       "      <td>25.1</td>\n",
       "      <td>30.8</td>\n",
       "    </tr>\n",
       "    <tr>\n",
       "      <th>141977</th>\n",
       "      <td>22.1</td>\n",
       "      <td>31.6</td>\n",
       "      <td>0.0</td>\n",
       "      <td>8.0</td>\n",
       "      <td>10.9</td>\n",
       "      <td>48.0</td>\n",
       "      <td>30.0</td>\n",
       "      <td>11.0</td>\n",
       "      <td>25.0</td>\n",
       "      <td>17.0</td>\n",
       "      <td>1013.6</td>\n",
       "      <td>1011.2</td>\n",
       "      <td>1.0</td>\n",
       "      <td>0.0</td>\n",
       "      <td>24.3</td>\n",
       "      <td>30.7</td>\n",
       "    </tr>\n",
       "    <tr>\n",
       "      <th>141978</th>\n",
       "      <td>18.8</td>\n",
       "      <td>30.6</td>\n",
       "      <td>0.0</td>\n",
       "      <td>11.6</td>\n",
       "      <td>10.9</td>\n",
       "      <td>46.0</td>\n",
       "      <td>31.0</td>\n",
       "      <td>13.0</td>\n",
       "      <td>20.0</td>\n",
       "      <td>10.0</td>\n",
       "      <td>1014.9</td>\n",
       "      <td>1011.9</td>\n",
       "      <td>1.0</td>\n",
       "      <td>1.0</td>\n",
       "      <td>20.5</td>\n",
       "      <td>29.3</td>\n",
       "    </tr>\n",
       "  </tbody>\n",
       "</table>\n",
       "</div>"
      ],
      "text/plain": [
       "        MinTemp  MaxTemp  Rainfall  Evaporation  Sunshine  WindGustSpeed  \\\n",
       "141974     19.0     32.6       0.0          8.0      10.9           35.0   \n",
       "141975     17.6     31.4       0.0          6.8      10.7           31.0   \n",
       "141976     18.7     32.6       0.0          4.6      10.8           33.0   \n",
       "141977     22.1     31.6       0.0          8.0      10.9           48.0   \n",
       "141978     18.8     30.6       0.0         11.6      10.9           46.0   \n",
       "\n",
       "        WindSpeed9am  WindSpeed3pm  Humidity9am  Humidity3pm  Pressure9am  \\\n",
       "141974          17.0          22.0         39.0         30.0       1013.5   \n",
       "141975           9.0          19.0         60.0         44.0       1013.1   \n",
       "141976          13.0          20.0         59.0         48.0       1012.3   \n",
       "141977          30.0          11.0         25.0         17.0       1013.6   \n",
       "141978          31.0          13.0         20.0         10.0       1014.9   \n",
       "\n",
       "        Pressure3pm  Cloud9am  Cloud3pm  Temp9am  Temp3pm  \n",
       "141974       1010.1       1.0       1.0     23.8     30.9  \n",
       "141975       1010.0       1.0       1.0     24.4     30.3  \n",
       "141976       1008.7       0.0       2.0     25.1     30.8  \n",
       "141977       1011.2       1.0       0.0     24.3     30.7  \n",
       "141978       1011.9       1.0       1.0     20.5     29.3  "
      ]
     },
     "execution_count": 21,
     "metadata": {},
     "output_type": "execute_result"
    }
   ],
   "source": [
    "test.head()"
   ]
  },
  {
   "cell_type": "code",
   "execution_count": 22,
   "id": "15dcdab8-dfd3-4b5c-8548-0f0fce539515",
   "metadata": {},
   "outputs": [
    {
     "data": {
      "image/png": "[encoded data removed]",
      "text/plain": [
       "<Figure size 432x288 with 1 Axes>"
      ]
     },
     "metadata": {
      "needs_background": "light"
     },
     "output_type": "display_data"
    }
   ],
   "source": [
    "target_feature = 'Temp3pm'\n",
    "target_feature_pos = train.columns.get_loc(target_feature)\n",
    "train_ori = train\n",
    "import seaborn as sns\n",
    "\n",
    "_ = sns.lineplot(data = train, x = train.index, y = target_feature)"
   ]
  },
  {
   "cell_type": "code",
   "execution_count": 23,
   "id": "033e5af5-0e6e-4853-ab32-347e91e6dbc8",
   "metadata": {},
   "outputs": [
    {
     "data": {
      "image/png": "[encoded data removed]",
      "text/plain": [
       "<Figure size 432x288 with 1 Axes>"
      ]
     },
     "metadata": {
      "needs_background": "light"
     },
     "output_type": "display_data"
    }
   ],
   "source": [
    "end = 365 * 2\n",
    "_ = sns.lineplot(data = train[:end], x = train[:end].index, y = target_feature)"
   ]
  },
  {
   "cell_type": "code",
   "execution_count": 24,
   "id": "192744db-31b9-4146-9ae4-230a6d684aee",
   "metadata": {},
   "outputs": [],
   "source": [
    "# Normalization\n",
    "\n",
    "normalize = True #False\n",
    "\n",
    "if normalize:\n",
    "    train_mean = train.mean()\n",
    "    train_std = train.std()\n",
    "    \n",
    "    target_feature_bak = train.iloc[:,target_feature_pos]\n",
    "    train = (train - train_mean)/train_std\n",
    "    train.iloc[:,target_feature_pos] = target_feature_bak\n",
    "    \n",
    "    target_feature_bak = valid.iloc[:,target_feature_pos]\n",
    "    valid = (valid - train_mean)/train_std\n",
    "    valid.iloc[:,target_feature_pos] = target_feature_bak\n",
    "    \n",
    "    target_feature_bak = test.iloc[:,target_feature_pos]\n",
    "    test = (test - train_mean)/train_std\n",
    "    test.iloc[:,target_feature_pos] = target_feature_bak"
   ]
  },
  {
   "cell_type": "code",
   "execution_count": 25,
   "id": "8750b23a-e4f2-4016-84a5-434119764c80",
   "metadata": {},
   "outputs": [
    {
     "name": "stdout",
     "output_type": "stream",
     "text": [
      "<class 'tensorflow.python.framework.ops.EagerTensor'>\n",
      "tf.Tensor([1 2 3], shape=(3,), dtype=int32)\n",
      "<class 'tensorflow.python.framework.ops.EagerTensor'>\n",
      "tf.Tensor([2 3 4], shape=(3,), dtype=int32)\n"
     ]
    }
   ],
   "source": [
    "# https://www.tensorflow.org/api_docs/python/tf/data/Dataset\n",
    "dataset = tf.data.Dataset.from_tensor_slices([[1, 2, 3], [2, 3, 4]])\n",
    "for val in dataset:\n",
    "    print(type(val))\n",
    "    print(val)"
   ]
  },
  {
   "cell_type": "code",
   "execution_count": 26,
   "id": "112f9153-5a64-43e5-a415-0658cfe4ec28",
   "metadata": {},
   "outputs": [
    {
     "name": "stdout",
     "output_type": "stream",
     "text": [
      "<class 'tensorflow.python.framework.ops.EagerTensor'>\n",
      "tf.Tensor(\n",
      "[-9.48438695e-01  3.89286121e-01 -3.62135041e-01 -1.08013904e+00\n",
      "  7.73839691e-01  3.10191624e-02 -3.75547036e-01 -6.81225364e-01\n",
      "  8.52457015e-01 -1.00950940e+00  1.23424853e+00  1.30260234e+00\n",
      " -1.33378144e+00 -9.18630055e-01 -5.42952618e-01  3.23000000e+01], shape=(16,), dtype=float64)\n"
     ]
    }
   ],
   "source": [
    "AA = train\n",
    "\n",
    "dataset = tf.data.Dataset.from_tensor_slices(AA)\n",
    "for val in dataset:\n",
    "    print(type(val))\n",
    "    print(val)\n",
    "    break"
   ]
  },
  {
   "cell_type": "code",
   "execution_count": 27,
   "id": "a76bdbb2-5d16-446f-8288-1d698eda957c",
   "metadata": {},
   "outputs": [
    {
     "name": "stdout",
     "output_type": "stream",
     "text": [
      "<class 'tensorflow.python.data.ops.dataset_ops._VariantDataset'>\n",
      "8\n",
      "----------------------------------------\n",
      "(8, 16)\n",
      "----------------------------------------\n",
      "(32, 7, 16) | (32,)\n"
     ]
    }
   ],
   "source": [
    "# https://www.tensorflow.org/api_docs/python/tf/data/Dataset#window\n",
    "window_size = 7\n",
    "train_dataset = tf.data.Dataset.from_tensor_slices(train)\n",
    "train_dataset = train_dataset.window(window_size+1, shift = 1, drop_remainder = True)\n",
    "for window in train_dataset:\n",
    "    print(type(window))\n",
    "    print(len(list(window.as_numpy_iterator())))\n",
    "    # lambda window: (window[:-1], window[-1])\n",
    "    break\n",
    "print(\"----------------------------------------\")\n",
    "\n",
    "train_dataset = tf.data.Dataset.from_tensor_slices(train)\n",
    "train_dataset = train_dataset.window(window_size+1, shift = 1, drop_remainder = True)\n",
    "train_dataset = train_dataset.flat_map(lambda x: x.batch(window_size+1))    \n",
    "for window in train_dataset:\n",
    "    print(window.shape)\n",
    "    break\n",
    "print(\"----------------------------------------\")\n",
    "    \n",
    "train_dataset = tf.data.Dataset.from_tensor_slices(train)\n",
    "train_dataset = train_dataset.window(window_size+1, shift = 1, drop_remainder = True)    \n",
    "train_dataset = train_dataset.flat_map(lambda x: x.batch(window_size+1))    \n",
    "train_dataset = train_dataset.shuffle(1000)    \n",
    "train_dataset = train_dataset.map(lambda w: (w[:-1], w[-1][target_feature_pos]))    \n",
    "train_dataset = train_dataset.batch(32).prefetch(1)\n",
    "for x, y in train_dataset:\n",
    "    print(x.shape, \"|\", y.shape)\n",
    "    break\n"
   ]
  },
  {
   "cell_type": "code",
   "execution_count": 28,
   "id": "5865e1ed-dd7c-48f5-8851-944b973570bc",
   "metadata": {},
   "outputs": [],
   "source": [
    "def window_dataset(series, window_size, batch_size = 32, shuffle_buffer = 1000):\n",
    "    dataset = tf.data.Dataset.from_tensor_slices(series)\n",
    "    dataset = dataset.window(window_size+1, shift = 1, drop_remainder = True)    \n",
    "    dataset = dataset.flat_map(lambda x: x.batch(window_size+1))    \n",
    "    dataset = dataset.shuffle(shuffle_buffer)    \n",
    "    dataset = dataset.map(lambda w: (w[:-1], w[-1][target_feature_pos]))    \n",
    "    dataset = dataset.batch(batch_size).prefetch(1)\n",
    "    return dataset"
   ]
  },
  {
   "cell_type": "code",
   "execution_count": 29,
   "id": "cad8a8b8-9e21-4cf5-ba80-7e6ae17341d8",
   "metadata": {},
   "outputs": [
    {
     "name": "stdout",
     "output_type": "stream",
     "text": [
      "(TensorSpec(shape=(None, None, 16), dtype=tf.float64, name=None), TensorSpec(shape=(None,), dtype=tf.float64, name=None))\n"
     ]
    },
    {
     "data": {
      "text/plain": [
       "16"
      ]
     },
     "execution_count": 29,
     "metadata": {},
     "output_type": "execute_result"
    }
   ],
   "source": [
    "import numpy as np\n",
    "\n",
    "keras.backend.clear_session()\n",
    "tf.random.set_seed(1)\n",
    "np.random.seed(1)\n",
    "\n",
    "WINDOW_SIZE = 30\n",
    "train_window_dataset = window_dataset(train, WINDOW_SIZE)\n",
    "valid_window_dataset = window_dataset(valid, WINDOW_SIZE)\n",
    "\n",
    "print(train_window_dataset.element_spec)\n",
    "input_shape = train.shape[1]\n",
    "input_shape"
   ]
  },
  {
   "cell_type": "code",
   "execution_count": 30,
   "id": "d4c5e357-464f-403f-8c7a-bc89ee3d3512",
   "metadata": {},
   "outputs": [
    {
     "name": "stdout",
     "output_type": "stream",
     "text": [
      "Model: \"sequential\"\n",
      "_________________________________________________________________\n",
      "Layer (type)                 Output Shape              Param #   \n",
      "=================================================================\n",
      "simple_rnn (SimpleRNN)       (None, None, 100)         11700     \n",
      "_________________________________________________________________\n",
      "simple_rnn_1 (SimpleRNN)     (None, 100)               20100     \n",
      "_________________________________________________________________\n",
      "dense (Dense)                (None, 1)                 101       \n",
      "=================================================================\n",
      "Total params: 31,901\n",
      "Trainable params: 31,901\n",
      "Non-trainable params: 0\n",
      "_________________________________________________________________\n"
     ]
    }
   ],
   "source": [
    "model = keras.models.Sequential([\n",
    "    keras.layers.SimpleRNN(100, return_sequences = True, input_shape = [None, input_shape]),\n",
    "    keras.layers.SimpleRNN(100),\n",
    "    keras.layers.Dense(1),\n",
    "#    keras.layers.Lambda(lambda x: x * 40.0),\n",
    "])\n",
    "\n",
    "model.summary()"
   ]
  },
  {
   "cell_type": "code",
   "execution_count": 31,
   "id": "238a781a-a0e9-4d9f-85fe-cfa446b55857",
   "metadata": {},
   "outputs": [
    {
     "name": "stdout",
     "output_type": "stream",
     "text": [
      "Epoch 1/500\n",
      "67/67 [==============================] - 2s 13ms/step - loss: 17.2225 - mae: 17.7225 - val_loss: 12.3663 - val_mae: 12.8663\n",
      "Epoch 2/500\n",
      "67/67 [==============================] - 1s 9ms/step - loss: 8.3671 - mae: 8.8663 - val_loss: 5.3300 - val_mae: 5.8252\n",
      "Epoch 3/500\n",
      "67/67 [==============================] - 1s 9ms/step - loss: 2.4231 - mae: 2.8941 - val_loss: 1.2680 - val_mae: 1.7145\n",
      "Epoch 4/500\n",
      "67/67 [==============================] - 1s 9ms/step - loss: 1.1415 - mae: 1.5771 - val_loss: 1.1592 - val_mae: 1.5882\n",
      "Epoch 5/500\n",
      "67/67 [==============================] - 1s 9ms/step - loss: 1.1426 - mae: 1.5779 - val_loss: 1.1530 - val_mae: 1.5809\n",
      "Epoch 6/500\n",
      "67/67 [==============================] - 1s 9ms/step - loss: 1.1406 - mae: 1.5769 - val_loss: 1.1495 - val_mae: 1.5765\n",
      "Epoch 7/500\n",
      "67/67 [==============================] - 1s 9ms/step - loss: 1.1429 - mae: 1.5776 - val_loss: 1.1549 - val_mae: 1.5831\n",
      "Epoch 8/500\n",
      "67/67 [==============================] - 1s 9ms/step - loss: 1.1419 - mae: 1.5759 - val_loss: 1.1682 - val_mae: 1.5995\n",
      "Epoch 9/500\n",
      "67/67 [==============================] - 1s 9ms/step - loss: 1.1263 - mae: 1.5605 - val_loss: 1.1065 - val_mae: 1.5391\n",
      "Epoch 10/500\n",
      "67/67 [==============================] - 1s 9ms/step - loss: 0.9151 - mae: 1.3264 - val_loss: 0.8823 - val_mae: 1.2970\n",
      "Epoch 11/500\n",
      "67/67 [==============================] - 1s 9ms/step - loss: 0.8203 - mae: 1.2204 - val_loss: 0.8390 - val_mae: 1.2515\n",
      "Epoch 12/500\n",
      "67/67 [==============================] - 1s 9ms/step - loss: 0.7929 - mae: 1.1892 - val_loss: 0.8267 - val_mae: 1.2345\n",
      "Epoch 13/500\n",
      "67/67 [==============================] - 1s 9ms/step - loss: 0.8094 - mae: 1.2070 - val_loss: 0.8300 - val_mae: 1.2407\n",
      "Epoch 14/500\n",
      "67/67 [==============================] - 1s 9ms/step - loss: 0.7993 - mae: 1.1990 - val_loss: 0.8180 - val_mae: 1.2258\n",
      "Epoch 15/500\n",
      "67/67 [==============================] - 1s 9ms/step - loss: 0.7593 - mae: 1.1529 - val_loss: 0.8166 - val_mae: 1.2247\n",
      "Epoch 16/500\n",
      "67/67 [==============================] - 1s 9ms/step - loss: 0.7900 - mae: 1.1916 - val_loss: 0.8220 - val_mae: 1.2307\n",
      "Epoch 17/500\n",
      "67/67 [==============================] - 1s 9ms/step - loss: 0.7655 - mae: 1.1590 - val_loss: 0.8162 - val_mae: 1.2229\n",
      "Epoch 18/500\n",
      "67/67 [==============================] - 1s 9ms/step - loss: 0.7513 - mae: 1.1439 - val_loss: 0.8126 - val_mae: 1.2174\n",
      "Epoch 19/500\n",
      "67/67 [==============================] - 1s 9ms/step - loss: 0.7562 - mae: 1.1509 - val_loss: 0.8068 - val_mae: 1.2118\n",
      "Epoch 20/500\n",
      "67/67 [==============================] - 1s 9ms/step - loss: 0.7461 - mae: 1.1386 - val_loss: 0.8033 - val_mae: 1.2116\n",
      "Epoch 21/500\n",
      "67/67 [==============================] - 1s 9ms/step - loss: 0.7480 - mae: 1.1400 - val_loss: 0.8137 - val_mae: 1.2200\n",
      "Epoch 22/500\n",
      "67/67 [==============================] - 1s 9ms/step - loss: 0.7278 - mae: 1.1208 - val_loss: 0.8047 - val_mae: 1.2082\n",
      "Epoch 23/500\n",
      "67/67 [==============================] - 1s 9ms/step - loss: 0.7323 - mae: 1.1213 - val_loss: 0.8304 - val_mae: 1.2301\n",
      "Epoch 24/500\n",
      "67/67 [==============================] - 1s 9ms/step - loss: 0.7539 - mae: 1.1498 - val_loss: 0.8216 - val_mae: 1.2233\n",
      "Epoch 25/500\n",
      "67/67 [==============================] - 1s 9ms/step - loss: 0.7285 - mae: 1.1205 - val_loss: 0.8022 - val_mae: 1.2086\n",
      "Epoch 26/500\n",
      "67/67 [==============================] - 1s 9ms/step - loss: 0.7176 - mae: 1.1037 - val_loss: 0.8283 - val_mae: 1.2333\n",
      "Epoch 27/500\n",
      "67/67 [==============================] - 1s 9ms/step - loss: 0.7137 - mae: 1.1065 - val_loss: 0.8155 - val_mae: 1.2183\n",
      "Epoch 28/500\n",
      "67/67 [==============================] - 1s 9ms/step - loss: 0.7040 - mae: 1.0945 - val_loss: 0.8586 - val_mae: 1.2666\n",
      "Epoch 29/500\n",
      "67/67 [==============================] - 1s 9ms/step - loss: 0.7106 - mae: 1.0980 - val_loss: 0.8184 - val_mae: 1.2271\n",
      "Epoch 30/500\n",
      "67/67 [==============================] - 1s 9ms/step - loss: 0.7108 - mae: 1.1025 - val_loss: 0.8114 - val_mae: 1.2149\n",
      "Epoch 31/500\n",
      "67/67 [==============================] - 1s 9ms/step - loss: 0.6777 - mae: 1.0606 - val_loss: 0.8038 - val_mae: 1.2049\n",
      "Epoch 32/500\n",
      "67/67 [==============================] - 1s 9ms/step - loss: 0.6790 - mae: 1.0660 - val_loss: 0.8280 - val_mae: 1.2332\n",
      "Epoch 33/500\n",
      "67/67 [==============================] - 1s 9ms/step - loss: 0.6641 - mae: 1.0480 - val_loss: 0.8021 - val_mae: 1.2045\n",
      "Epoch 34/500\n",
      "67/67 [==============================] - 1s 9ms/step - loss: 0.6824 - mae: 1.0682 - val_loss: 0.8905 - val_mae: 1.3005\n",
      "Epoch 35/500\n",
      "67/67 [==============================] - 1s 9ms/step - loss: 0.6903 - mae: 1.0765 - val_loss: 0.8191 - val_mae: 1.2222\n",
      "Epoch 36/500\n",
      "67/67 [==============================] - 1s 9ms/step - loss: 0.6542 - mae: 1.0377 - val_loss: 0.8466 - val_mae: 1.2591\n",
      "Epoch 37/500\n",
      "67/67 [==============================] - 1s 9ms/step - loss: 0.6563 - mae: 1.0386 - val_loss: 0.8164 - val_mae: 1.2178\n",
      "Epoch 38/500\n",
      "67/67 [==============================] - 1s 9ms/step - loss: 0.7364 - mae: 1.1252 - val_loss: 0.8485 - val_mae: 1.2601\n",
      "Epoch 39/500\n",
      "67/67 [==============================] - 1s 9ms/step - loss: 0.7204 - mae: 1.1085 - val_loss: 0.8353 - val_mae: 1.2420\n",
      "Epoch 40/500\n",
      "67/67 [==============================] - 1s 9ms/step - loss: 0.6511 - mae: 1.0349 - val_loss: 0.8861 - val_mae: 1.2977\n",
      "Epoch 41/500\n",
      "67/67 [==============================] - 1s 9ms/step - loss: 0.6337 - mae: 1.0110 - val_loss: 0.8256 - val_mae: 1.2259\n",
      "Epoch 42/500\n",
      "67/67 [==============================] - 1s 9ms/step - loss: 0.6313 - mae: 1.0070 - val_loss: 0.8025 - val_mae: 1.1996\n",
      "Epoch 43/500\n",
      "67/67 [==============================] - 1s 9ms/step - loss: 0.6255 - mae: 1.0030 - val_loss: 0.8213 - val_mae: 1.2245\n"
     ]
    }
   ],
   "source": [
    "model.compile(\n",
    "    optimizer = 'adam',\n",
    "    loss = 'huber',\n",
    "    metrics = ['mae'],\n",
    ")\n",
    "\n",
    "early_stopping = keras.callbacks.EarlyStopping(patience = 10, restore_best_weights = True)\n",
    "history = model.fit(\n",
    "    train_window_dataset,\n",
    "    epochs = 500,\n",
    "    validation_data = valid_window_dataset,\n",
    "    callbacks = [early_stopping],\n",
    "#    verbose = 0,\n",
    ")"
   ]
  },
  {
   "cell_type": "code",
   "execution_count": 32,
   "id": "0cc891cb-565a-4185-ad77-8289647a4193",
   "metadata": {},
   "outputs": [],
   "source": [
    "def window_x_only_dataset(series, window_size):\n",
    "    ds = tf.data.Dataset.from_tensor_slices(series)\n",
    "    ds = ds.window(window_size, shift = 1, drop_remainder = True)\n",
    "    ds = ds.flat_map(lambda w: w.batch(window_size))\n",
    "    ds = ds.batch(32).prefetch(1)\n",
    "    return ds\n",
    "\n",
    "predicted_train = model.predict(window_x_only_dataset(train, WINDOW_SIZE))"
   ]
  },
  {
   "cell_type": "code",
   "execution_count": 33,
   "id": "0e00ce5a-932c-457f-91c1-69243d0a1150",
   "metadata": {},
   "outputs": [
    {
     "data": {
      "image/png": "[encoded data removed]",
      "text/plain": [
       "<Figure size 432x288 with 1 Axes>"
      ]
     },
     "metadata": {
      "needs_background": "light"
     },
     "output_type": "display_data"
    }
   ],
   "source": [
    "end = 365 * 2\n",
    "_ = sns.lineplot(data = train[:end], x = train[:end].index, y = target_feature)"
   ]
  },
  {
   "cell_type": "code",
   "execution_count": 34,
   "id": "0da207f6-656b-4cf1-b916-d285179ee95c",
   "metadata": {},
   "outputs": [
    {
     "name": "stdout",
     "output_type": "stream",
     "text": [
      "(2143, 16)\n",
      "(2114, 1)\n"
     ]
    }
   ],
   "source": [
    "print(train.shape)\n",
    "print(predicted_train.shape)"
   ]
  },
  {
   "cell_type": "code",
   "execution_count": 35,
   "id": "e9744a8e-7e71-41c0-b9f1-b94c39076290",
   "metadata": {},
   "outputs": [
    {
     "data": {
      "text/plain": [
       "array([28.114145, 29.554737, 31.01006 , 31.118515, 31.4     , 31.442154,\n",
       "       31.036327, 30.168304, 30.393904, 31.02163 , 30.117813, 31.002937,\n",
       "       31.188951, 30.998537, 31.554445, 30.705988, 29.766802, 29.981245,\n",
       "       30.77669 , 31.088257], dtype=float32)"
      ]
     },
     "execution_count": 35,
     "metadata": {},
     "output_type": "execute_result"
    }
   ],
   "source": [
    "predicted = predicted_train[:, 0]\n",
    "predicted[:20]"
   ]
  },
  {
   "cell_type": "code",
   "execution_count": 36,
   "id": "cb85dcf3-8391-4fd9-b89c-4646739f1fc3",
   "metadata": {},
   "outputs": [
    {
     "data": {
      "text/plain": [
       "<AxesSubplot:xlabel='x', ylabel='y'>"
      ]
     },
     "execution_count": 36,
     "metadata": {},
     "output_type": "execute_result"
    },
    {
     "data": {
      "image/png": "[encoded data removed]",
      "text/plain": [
       "<Figure size 432x288 with 1 Axes>"
      ]
     },
     "metadata": {
      "needs_background": "light"
     },
     "output_type": "display_data"
    }
   ],
   "source": [
    "toplot = predicted[:150]\n",
    "AA = pd.DataFrame({'x': range(len(toplot)), 'y': toplot})\n",
    "sns.lineplot(data = AA, x = 'x', y = 'y')\n",
    "# sns.lineplot(x = range(len(toplot)), y = toplot)\n",
    "# predicted[10:35]"
   ]
  },
  {
   "cell_type": "code",
   "execution_count": 37,
   "id": "e4e8ad3b-adda-44a4-b18a-923cbf082aad",
   "metadata": {},
   "outputs": [
    {
     "name": "stdout",
     "output_type": "stream",
     "text": [
      "(2114,)\n",
      "(2114,)\n"
     ]
    },
    {
     "data": {
      "text/plain": [
       "0.94907665"
      ]
     },
     "execution_count": 37,
     "metadata": {},
     "output_type": "execute_result"
    }
   ],
   "source": [
    "real = train[WINDOW_SIZE-1:].to_numpy()[:,target_feature_pos]\n",
    "print(real.shape)\n",
    "print(predicted.shape)\n",
    "keras.metrics.mean_absolute_error(real, predicted).numpy()"
   ]
  },
  {
   "cell_type": "code",
   "execution_count": 38,
   "id": "6f0b2bfa-a55c-49e3-b46f-3454309b784c",
   "metadata": {},
   "outputs": [
    {
     "data": {
      "text/plain": [
       "<AxesSubplot:>"
      ]
     },
     "execution_count": 38,
     "metadata": {},
     "output_type": "execute_result"
    },
    {
     "data": {
      "image/png": "[encoded data removed]",
      "text/plain": [
       "<Figure size 432x288 with 1 Axes>"
      ]
     },
     "metadata": {
      "needs_background": "light"
     },
     "output_type": "display_data"
    }
   ],
   "source": [
    "sns.lineplot(x = range(len(predicted)), y = predicted)\n",
    "sns.lineplot(x = range(len(predicted)), y = real)"
   ]
  },
  {
   "cell_type": "code",
   "execution_count": 39,
   "id": "37438d9b-6d13-43c9-9e47-64edff75612f",
   "metadata": {},
   "outputs": [],
   "source": [
    "# end = 360\n",
    "\n",
    "# A = pd.DataFrame({'x': range(len(predicted[:end])), 'y': (predicted[:end] + train_mean[target_feature_pos]) * train_std[target_feature_pos], 't' : 'predicted'})\n",
    "# B = pd.DataFrame({'x': range(len(predicted[:end])), 'y': (real[:end] + train_mean[target_feature_pos]) * train_std[target_feature_pos], 't': 'real'})\n",
    "# C = pd.concat([A, B])\n",
    "# sns.lineplot(data = C, x = 'x', y = 'y', hue = 't')"
   ]
  },
  {
   "cell_type": "code",
   "execution_count": 40,
   "id": "ee23909d-a1b6-466a-bab0-7ed09190c6f8",
   "metadata": {},
   "outputs": [
    {
     "data": {
      "text/plain": [
       "<AxesSubplot:xlabel='x', ylabel='y'>"
      ]
     },
     "execution_count": 40,
     "metadata": {},
     "output_type": "execute_result"
    },
    {
     "data": {
      "image/png": "[encoded data removed]",
      "text/plain": [
       "<Figure size 432x288 with 1 Axes>"
      ]
     },
     "metadata": {
      "needs_background": "light"
     },
     "output_type": "display_data"
    }
   ],
   "source": [
    "end = 360\n",
    "A = pd.DataFrame({'x': range(len(predicted[:end])), 'y': predicted[:end], 't': 'predicted'})\n",
    "B = pd.DataFrame({'x': range(len(predicted[:end])), 'y': real[:end], 't': 'real'})\n",
    "C = pd.concat([A, B])\n",
    "sns.lineplot(data = C, x = 'x', y = 'y', hue = 't')"
   ]
  },
  {
   "cell_type": "markdown",
   "id": "525247b1-f911-4f66-9694-99670fb779a8",
   "metadata": {},
   "source": [
    "# Sequence to Sequence"
   ]
  },
  {
   "cell_type": "code",
   "execution_count": 237,
   "id": "be96b04b-15ce-4dba-8b54-4141edb81659",
   "metadata": {},
   "outputs": [],
   "source": [
    "# We use batch size 1, and don't suffle for sequential window\n",
    "def sequential_window_dataset(series, window_size):\n",
    "    dataset = tf.data.Dataset.from_tensor_slices(series)\n",
    "    dataset = dataset.window(window_size+1, shift = window_size, drop_remainder = True)\n",
    "    # dataset = dataset.window(window_size+1, shift = 1, drop_remainder = True) # This work, but mae still cannot beat simple ones in short runs\n",
    "    dataset = dataset.flat_map(lambda window: window.batch(window_size+1))\n",
    "    # dataset = dataset.map(lambda window: (window[:-1], window[1:]))\n",
    "    dataset = dataset.map(lambda window: (window[:-1], window[1:, target_feature_pos]))\n",
    "    return dataset.batch(1).prefetch(1)"
   ]
  },
  {
   "cell_type": "code",
   "execution_count": 238,
   "id": "8b7adfb8-c20b-4031-9a08-c4bfa11487ae",
   "metadata": {},
   "outputs": [
    {
     "name": "stdout",
     "output_type": "stream",
     "text": [
      "(1, 30, 16) (1, 30)\n"
     ]
    }
   ],
   "source": [
    "for X, y in sequential_window_dataset(train, WINDOW_SIZE):\n",
    "    print(X.shape, y.shape)\n",
    "    break"
   ]
  },
  {
   "cell_type": "code",
   "execution_count": 239,
   "id": "b6ee9061-2865-41dc-9eb6-fd490ecf8161",
   "metadata": {},
   "outputs": [],
   "source": [
    "class ResetStateCallback(keras.callbacks.Callback):\n",
    "    def on_epoch_end(self, epoch, logs):\n",
    "        self.model.reset_states()"
   ]
  },
  {
   "cell_type": "code",
   "execution_count": 269,
   "id": "15d04c7f-35f9-4bba-85af-9f9c93398e79",
   "metadata": {},
   "outputs": [
    {
     "name": "stdout",
     "output_type": "stream",
     "text": [
      "(TensorSpec(shape=(None, None, 16), dtype=tf.float64, name=None), TensorSpec(shape=(None, None), dtype=tf.float64, name=None))\n",
      "16\n"
     ]
    }
   ],
   "source": [
    "keras.backend.clear_session()\n",
    "tf.random.set_seed(1)\n",
    "np.random.seed(1)\n",
    "\n",
    "train_seq_window_dataset = sequential_window_dataset(train, WINDOW_SIZE)\n",
    "valid_seq_window_dataset = sequential_window_dataset(valid, WINDOW_SIZE)\n",
    "\n",
    "print(train_seq_window_dataset.element_spec)\n",
    "input_shape = train.shape[1]\n",
    "print(input_shape)"
   ]
  },
  {
   "cell_type": "code",
   "execution_count": 270,
   "id": "3e2d1e55-fc06-402c-b588-a380ee2486e6",
   "metadata": {},
   "outputs": [
    {
     "data": {
      "text/plain": [
       "'\\nmodel = keras.models.Sequential([\\n    keras.layers.LSTM(100, return_sequences = True, stateful = True, batch_input_shape = [1, None, input_shape]),\\n    keras.layers.LSTM(100, return_sequences = True, stateful = True),\\n    keras.layers.Dense(100),\\n    keras.layers.BatchNormalization(),\\n    keras.layers.Dense(1),\\n    keras.layers.Lambda(lambda x: x * 40.0),\\n])\\n'"
      ]
     },
     "execution_count": 270,
     "metadata": {},
     "output_type": "execute_result"
    }
   ],
   "source": [
    "\"\"\"\n",
    "model = keras.models.Sequential([\n",
    "    keras.layers.LSTM(100, return_sequences = True, stateful = True, batch_input_shape = [1, None, input_shape]),\n",
    "    keras.layers.LSTM(100, return_sequences = True, stateful = True),\n",
    "    keras.layers.Dense(100),\n",
    "    keras.layers.BatchNormalization(),\n",
    "    keras.layers.Dense(1),\n",
    "    keras.layers.Lambda(lambda x: x * 40.0),\n",
    "])\n",
    "\"\"\""
   ]
  },
  {
   "cell_type": "code",
   "execution_count": 271,
   "id": "ec8399d9-7a2c-45c6-8bf9-391b30652530",
   "metadata": {},
   "outputs": [
    {
     "name": "stdout",
     "output_type": "stream",
     "text": [
      "Model: \"sequential\"\n",
      "_________________________________________________________________\n",
      "Layer (type)                 Output Shape              Param #   \n",
      "=================================================================\n",
      "lstm (LSTM)                  (1, None, 100)            46800     \n",
      "_________________________________________________________________\n",
      "dropout (Dropout)            (1, None, 100)            0         \n",
      "_________________________________________________________________\n",
      "lstm_1 (LSTM)                (1, None, 100)            80400     \n",
      "_________________________________________________________________\n",
      "dropout_1 (Dropout)          (1, None, 100)            0         \n",
      "_________________________________________________________________\n",
      "dense (Dense)                (1, None, 100)            10100     \n",
      "_________________________________________________________________\n",
      "batch_normalization (BatchNo (1, None, 100)            400       \n",
      "_________________________________________________________________\n",
      "dense_1 (Dense)              (1, None, 1)              101       \n",
      "=================================================================\n",
      "Total params: 137,801\n",
      "Trainable params: 137,601\n",
      "Non-trainable params: 200\n",
      "_________________________________________________________________\n"
     ]
    }
   ],
   "source": [
    "model = keras.models.Sequential([\n",
    "    keras.layers.LSTM(100, return_sequences = True, stateful = True, batch_input_shape = [1, None, input_shape]),\n",
    "    keras.layers.Dropout(0.3),\n",
    "    keras.layers.LSTM(100, return_sequences = True, stateful = True),\n",
    "    keras.layers.Dropout(0.3),\n",
    "    keras.layers.Dense(100),\n",
    "    keras.layers.BatchNormalization(),\n",
    "    keras.layers.Dense(1),\n",
    "#    keras.layers.Lambda(lambda x: x * 40.0),\n",
    "])\n",
    "\n",
    "model.summary()"
   ]
  },
  {
   "cell_type": "code",
   "execution_count": 272,
   "id": "88c188ba-5c96-4159-a398-2a05923cefda",
   "metadata": {},
   "outputs": [
    {
     "name": "stdout",
     "output_type": "stream",
     "text": [
      "Epoch 1/500\n",
      "71/71 [==============================] - 3s 17ms/step - loss: 29.7682 - mae: 30.2683 - val_loss: 29.6049 - val_mae: 30.1049\n",
      "Epoch 2/500\n",
      "71/71 [==============================] - 1s 10ms/step - loss: 27.0414 - mae: 27.5414 - val_loss: 26.1535 - val_mae: 26.6535\n",
      "Epoch 3/500\n",
      "71/71 [==============================] - 1s 10ms/step - loss: 21.8201 - mae: 22.3201 - val_loss: 22.2513 - val_mae: 22.7513\n",
      "Epoch 4/500\n",
      "71/71 [==============================] - 1s 10ms/step - loss: 14.0227 - mae: 14.5205 - val_loss: 11.2282 - val_mae: 11.7282\n",
      "Epoch 5/500\n",
      "71/71 [==============================] - 1s 10ms/step - loss: 4.7256 - mae: 5.2066 - val_loss: 1.1657 - val_mae: 1.5881\n",
      "Epoch 6/500\n",
      "71/71 [==============================] - 1s 10ms/step - loss: 1.6650 - mae: 2.1125 - val_loss: 0.9118 - val_mae: 1.3313\n",
      "Epoch 7/500\n",
      "71/71 [==============================] - 1s 10ms/step - loss: 1.4599 - mae: 1.9026 - val_loss: 2.3366 - val_mae: 2.8231\n",
      "Epoch 8/500\n",
      "71/71 [==============================] - 1s 10ms/step - loss: 1.4148 - mae: 1.8509 - val_loss: 0.8931 - val_mae: 1.3126\n",
      "Epoch 9/500\n",
      "71/71 [==============================] - 1s 10ms/step - loss: 1.3451 - mae: 1.7817 - val_loss: 0.8775 - val_mae: 1.3003\n",
      "Epoch 10/500\n",
      "71/71 [==============================] - 1s 10ms/step - loss: 1.3178 - mae: 1.7564 - val_loss: 0.9052 - val_mae: 1.3279\n",
      "Epoch 11/500\n",
      "71/71 [==============================] - 1s 10ms/step - loss: 1.3273 - mae: 1.7648 - val_loss: 0.9878 - val_mae: 1.4014\n",
      "Epoch 12/500\n",
      "71/71 [==============================] - 1s 10ms/step - loss: 1.2963 - mae: 1.7387 - val_loss: 1.0979 - val_mae: 1.5324\n",
      "Epoch 13/500\n",
      "71/71 [==============================] - 1s 10ms/step - loss: 1.3011 - mae: 1.7394 - val_loss: 1.1909 - val_mae: 1.6320\n",
      "Epoch 14/500\n",
      "71/71 [==============================] - 1s 10ms/step - loss: 1.2847 - mae: 1.7180 - val_loss: 1.0195 - val_mae: 1.4516\n",
      "Epoch 15/500\n",
      "71/71 [==============================] - 1s 10ms/step - loss: 1.2905 - mae: 1.7259 - val_loss: 0.9454 - val_mae: 1.3707\n",
      "Epoch 16/500\n",
      "71/71 [==============================] - 1s 10ms/step - loss: 1.3129 - mae: 1.7506 - val_loss: 1.0111 - val_mae: 1.4416\n",
      "Epoch 17/500\n",
      "71/71 [==============================] - 1s 10ms/step - loss: 1.2566 - mae: 1.6919 - val_loss: 0.8711 - val_mae: 1.2929\n",
      "Epoch 18/500\n",
      "71/71 [==============================] - 1s 10ms/step - loss: 1.2551 - mae: 1.6897 - val_loss: 0.8764 - val_mae: 1.2894\n",
      "Epoch 19/500\n",
      "71/71 [==============================] - 1s 10ms/step - loss: 1.2401 - mae: 1.6730 - val_loss: 0.8847 - val_mae: 1.3047\n",
      "Epoch 20/500\n",
      "71/71 [==============================] - 1s 10ms/step - loss: 1.2295 - mae: 1.6647 - val_loss: 1.0171 - val_mae: 1.4276\n",
      "Epoch 21/500\n",
      "71/71 [==============================] - 1s 10ms/step - loss: 1.2652 - mae: 1.7043 - val_loss: 1.2550 - val_mae: 1.7004\n",
      "Epoch 22/500\n",
      "71/71 [==============================] - 1s 10ms/step - loss: 1.2287 - mae: 1.6615 - val_loss: 0.8420 - val_mae: 1.2527\n",
      "Epoch 23/500\n",
      "71/71 [==============================] - 1s 10ms/step - loss: 1.2383 - mae: 1.6682 - val_loss: 0.8324 - val_mae: 1.2396\n",
      "Epoch 24/500\n",
      "71/71 [==============================] - 1s 10ms/step - loss: 1.2295 - mae: 1.6622 - val_loss: 1.0631 - val_mae: 1.4785\n",
      "Epoch 25/500\n",
      "71/71 [==============================] - 1s 10ms/step - loss: 1.2152 - mae: 1.6467 - val_loss: 0.8745 - val_mae: 1.2941\n",
      "Epoch 26/500\n",
      "71/71 [==============================] - 1s 10ms/step - loss: 1.1873 - mae: 1.6183 - val_loss: 0.8716 - val_mae: 1.2832\n",
      "Epoch 27/500\n",
      "71/71 [==============================] - 1s 10ms/step - loss: 1.2077 - mae: 1.6389 - val_loss: 0.9198 - val_mae: 1.3407\n",
      "Epoch 28/500\n",
      "71/71 [==============================] - 1s 10ms/step - loss: 1.1929 - mae: 1.6273 - val_loss: 0.8443 - val_mae: 1.2616\n",
      "Epoch 29/500\n",
      "71/71 [==============================] - 1s 10ms/step - loss: 1.1885 - mae: 1.6159 - val_loss: 0.8791 - val_mae: 1.3006\n",
      "Epoch 30/500\n",
      "71/71 [==============================] - 1s 10ms/step - loss: 1.1979 - mae: 1.6300 - val_loss: 0.8812 - val_mae: 1.2975\n",
      "Epoch 31/500\n",
      "71/71 [==============================] - 1s 10ms/step - loss: 1.1871 - mae: 1.6198 - val_loss: 0.8906 - val_mae: 1.3103\n",
      "Epoch 32/500\n",
      "71/71 [==============================] - 1s 10ms/step - loss: 1.1741 - mae: 1.6081 - val_loss: 0.8802 - val_mae: 1.3012\n",
      "Epoch 33/500\n",
      "71/71 [==============================] - 1s 10ms/step - loss: 1.1841 - mae: 1.6155 - val_loss: 0.9130 - val_mae: 1.3352\n"
     ]
    }
   ],
   "source": [
    "reset_states = ResetStateCallback()\n",
    "early_stopping = keras.callbacks.EarlyStopping(\n",
    "    patience = 10, # TODO: change to 10\n",
    "    restore_best_weights = True,\n",
    ")\n",
    "\n",
    "model.compile(\n",
    "    optimizer = 'adam',\n",
    "    loss = 'huber', # TODO: recover\n",
    "#    loss = 'mae', \n",
    "    metrics = ['mae'],\n",
    ")\n",
    "\n",
    "history = model.fit(\n",
    "    train_seq_window_dataset,\n",
    "    epochs = 500,\n",
    "    validation_data = valid_seq_window_dataset,\n",
    "    callbacks = [early_stopping, reset_states],\n",
    ")"
   ]
  },
  {
   "cell_type": "code",
   "execution_count": 273,
   "id": "17e49e87-b167-493c-8587-1c6875a9425d",
   "metadata": {},
   "outputs": [
    {
     "name": "stdout",
     "output_type": "stream",
     "text": [
      "TensorSpec(shape=(None, None, 16), dtype=tf.float64, name=None)\n"
     ]
    }
   ],
   "source": [
    "# TODO: use sequential_window_dataset and map?\n",
    "def sequential_window_x_only_dataset(series, window_size):\n",
    "    ds = tf.data.Dataset.from_tensor_slices(series)\n",
    "    ds = ds.window(window_size, shift = 1, drop_remainder = True)\n",
    "    ds = ds.flat_map(lambda w: w.batch(window_size))\n",
    "    ds = ds.batch(1).prefetch(1)\n",
    "    return ds\n",
    "\n",
    "ds = sequential_window_x_only_dataset(train, WINDOW_SIZE)\n",
    "print(ds.element_spec)\n",
    "\n",
    "model.reset_states()\n",
    "predicted_train = model.predict(ds)"
   ]
  },
  {
   "cell_type": "code",
   "execution_count": 274,
   "id": "de8b9d8d-ba03-481f-a0ac-43dc830c9e0a",
   "metadata": {},
   "outputs": [
    {
     "name": "stdout",
     "output_type": "stream",
     "text": [
      "(2114, 30, 1)\n",
      "[32.721943 31.979523 30.682182 30.6704   30.10431  31.540792 31.714808\n",
      " 30.259827 29.237547 30.120213 30.305037 30.233257 31.18918  31.093817\n",
      " 32.14754  32.089806 31.696827 31.32599  30.873245 31.354727 31.893068\n",
      " 31.62844  30.395844 29.149075 29.069563 29.705908 30.302626 29.968672\n",
      " 31.052698 29.83855 ]\n",
      "[31.822039 31.030584 30.59729  30.051664 31.34291  31.513317 30.172632\n",
      " 29.206282 30.090008 30.288134 30.218863 31.173182 31.07647  32.124195\n",
      " 32.07246  31.674726 31.316002 30.864918 31.351744 31.884527 31.61933\n",
      " 30.401983 29.151823 29.07583  29.708427 30.303307 29.966684 31.051527\n",
      " 29.835808 29.838247]\n"
     ]
    },
    {
     "data": {
      "text/plain": [
       "array([29.83855 , 29.838247, 31.401012, ..., 32.962395, 32.938282,\n",
       "       32.45922 ], dtype=float32)"
      ]
     },
     "execution_count": 274,
     "metadata": {},
     "output_type": "execute_result"
    }
   ],
   "source": [
    "print(predicted_train.shape)\n",
    "\n",
    "print(predicted_train[0,:,0])\n",
    "print(predicted_train[1,:,0])\n",
    "predicted_train[:,-1,0]\n",
    "# [0]"
   ]
  },
  {
   "cell_type": "code",
   "execution_count": 275,
   "id": "f375dbfc-e75b-41c3-8447-b07c63f01006",
   "metadata": {},
   "outputs": [
    {
     "name": "stdout",
     "output_type": "stream",
     "text": [
      "(2114,)\n"
     ]
    }
   ],
   "source": [
    "selected_predicted_train = tf.squeeze(\n",
    "    predicted_train[:,-1,:],\n",
    "    axis = -1,\n",
    ")\n",
    "print(selected_predicted_train.shape)"
   ]
  },
  {
   "cell_type": "code",
   "execution_count": null,
   "id": "9a418fe6-93b9-4569-a755-387d80eee51a",
   "metadata": {},
   "outputs": [],
   "source": []
  },
  {
   "cell_type": "code",
   "execution_count": 276,
   "id": "12eff489-0d52-4abc-88a0-baf6422c3483",
   "metadata": {},
   "outputs": [
    {
     "name": "stdout",
     "output_type": "stream",
     "text": [
      "(2114,)\n"
     ]
    }
   ],
   "source": [
    "real = train[WINDOW_SIZE-1:].to_numpy()[:,target_feature_pos]\n",
    "print(real.shape)"
   ]
  },
  {
   "cell_type": "code",
   "execution_count": 277,
   "id": "86229a0f-f73f-4fcf-91cb-23ee92b0b0ff",
   "metadata": {},
   "outputs": [
    {
     "data": {
      "text/plain": [
       "<AxesSubplot:xlabel='x', ylabel='y'>"
      ]
     },
     "execution_count": 277,
     "metadata": {},
     "output_type": "execute_result"
    },
    {
     "data": {
      "image/png": "[encoded data removed]",
      "text/plain": [
       "<Figure size 432x288 with 1 Axes>"
      ]
     },
     "metadata": {
      "needs_background": "light"
     },
     "output_type": "display_data"
    }
   ],
   "source": [
    "predicted = selected_predicted_train\n",
    "end = 120\n",
    "A = pd.DataFrame({'x': range(len(predicted[:end])), 'y': predicted[:end], 't': 'predicted'})\n",
    "B = pd.DataFrame({'x': range(len(predicted[:end])), 'y': real[:end], 't': 'real'})\n",
    "C = pd.concat([A, B])\n",
    "sns.lineplot(data = C, x = 'x', y = 'y', hue = 't')"
   ]
  },
  {
   "cell_type": "code",
   "execution_count": 278,
   "id": "b053cdc8-0cef-4e72-b7df-275de6574ce9",
   "metadata": {},
   "outputs": [
    {
     "data": {
      "text/plain": [
       "0.9818832"
      ]
     },
     "execution_count": 278,
     "metadata": {},
     "output_type": "execute_result"
    }
   ],
   "source": [
    "keras.metrics.mean_absolute_error(real, predicted).numpy()"
   ]
  },
  {
   "cell_type": "code",
   "execution_count": 279,
   "id": "4c2f412c-36f8-4fc1-a51c-fdd2596cfc7d",
   "metadata": {},
   "outputs": [],
   "source": [
    "ds = sequential_window_x_only_dataset(test, WINDOW_SIZE)\n",
    "model.reset_states()\n",
    "predicted_test = model.predict(ds)"
   ]
  },
  {
   "cell_type": "code",
   "execution_count": 280,
   "id": "33a082ce-dc92-4288-8adf-69453ae92a6b",
   "metadata": {},
   "outputs": [
    {
     "name": "stdout",
     "output_type": "stream",
     "text": [
      "(278,)\n"
     ]
    }
   ],
   "source": [
    "selected_predicted_test = tf.squeeze(\n",
    "    predicted_test[:,-1,:],\n",
    "    axis = -1,\n",
    ")\n",
    "print(selected_predicted_test.shape)"
   ]
  },
  {
   "cell_type": "code",
   "execution_count": 281,
   "id": "82eb1d9c-8714-4b1d-9ccd-c11e69a6301d",
   "metadata": {},
   "outputs": [
    {
     "name": "stdout",
     "output_type": "stream",
     "text": [
      "(278,)\n"
     ]
    }
   ],
   "source": [
    "real = test[WINDOW_SIZE-1:].to_numpy()[:,target_feature_pos]\n",
    "print(real.shape)"
   ]
  },
  {
   "cell_type": "code",
   "execution_count": 283,
   "id": "0b163b06-5cab-462a-98ac-a2dfeae54382",
   "metadata": {},
   "outputs": [
    {
     "data": {
      "text/plain": [
       "0.96297514"
      ]
     },
     "execution_count": 283,
     "metadata": {},
     "output_type": "execute_result"
    },
    {
     "data": {
      "image/png": "[encoded data removed]",
      "text/plain": [
       "<Figure size 432x288 with 1 Axes>"
      ]
     },
     "metadata": {
      "needs_background": "light"
     },
     "output_type": "display_data"
    }
   ],
   "source": [
    "predicted = selected_predicted_test\n",
    "end = 120\n",
    "A = pd.DataFrame({'x': range(len(predicted[:end])), 'y': predicted[:end], 't': 'predicted'})\n",
    "B = pd.DataFrame({'x': range(len(predicted[:end])), 'y': real[:end], 't': 'real'})\n",
    "C = pd.concat([A, B])\n",
    "sns.lineplot(data = C, x = 'x', y = 'y', hue = 't')\n",
    "keras.metrics.mean_absolute_error(real, predicted).numpy()"
   ]
  },
  {
   "cell_type": "markdown",
   "id": "737dcd42-9ea4-4088-9be5-e02a4fba80f4",
   "metadata": {},
   "source": [
    "# Reference\n",
    "\n",
    "[Lession 8 - Time Series Forecasting](https://classroom.udacity.com/courses/ud187)\n",
    "\n",
    "* RNN"
   ]
  },
  {
   "cell_type": "code",
   "execution_count": null,
   "id": "a19ee777-c538-42e4-af5c-6c9d1ce73e1e",
   "metadata": {},
   "outputs": [],
   "source": []
  },
  {
   "cell_type": "code",
   "execution_count": null,
   "id": "38b93dfc-11db-474d-9d06-3ac6caaebb61",
   "metadata": {},
   "outputs": [],
   "source": []
  }
 ],
 "metadata": {
  "kernelspec": {
   "display_name": "Python 3",
   "language": "python",
   "name": "python3"
  },
  "language_info": {
   "codemirror_mode": {
    "name": "ipython",
    "version": 3
   },
   "file_extension": ".py",
   "mimetype": "text/x-python",
   "name": "python",
   "nbconvert_exporter": "python",
   "pygments_lexer": "ipython3",
   "version": "3.9.6"
  }
 },
 "nbformat": 4,
 "nbformat_minor": 5
}
