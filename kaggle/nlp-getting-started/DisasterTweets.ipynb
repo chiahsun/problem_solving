{
 "cells": [
  {
   "cell_type": "markdown",
   "id": "dc51f51c-cb15-4c3b-b353-ba92d730ba73",
   "metadata": {},
   "source": [
    "# Natural Language Processing with Disaster Tweets\n",
    "\n",
    "[](https://www.kaggle.com/c/nlp-getting-started/data?select=train.csv)"
   ]
  },
  {
   "cell_type": "code",
   "execution_count": 1,
   "id": "3ccf1082-ad71-49fd-a4e6-7a254b53e33e",
   "metadata": {},
   "outputs": [
    {
     "data": {
      "text/plain": [
       "'2.5.0'"
      ]
     },
     "execution_count": 1,
     "metadata": {},
     "output_type": "execute_result"
    }
   ],
   "source": [
    "import tensorflow as tf\n",
    "\n",
    "keras = tf.keras\n",
    "\n",
    "tf.__version__"
   ]
  },
  {
   "cell_type": "markdown",
   "id": "7365e0fc-ba0b-48c8-a20e-69a583754154",
   "metadata": {},
   "source": [
    "# Prepare Data"
   ]
  },
  {
   "cell_type": "code",
   "execution_count": 59,
   "id": "d0c3417d-7e01-4e9b-9d25-2b17f382cbf7",
   "metadata": {},
   "outputs": [
    {
     "name": "stdout",
     "output_type": "stream",
     "text": [
      "7613\n"
     ]
    },
    {
     "data": {
      "text/html": [
       "<div>\n",
       "<style scoped>\n",
       "    .dataframe tbody tr th:only-of-type {\n",
       "        vertical-align: middle;\n",
       "    }\n",
       "\n",
       "    .dataframe tbody tr th {\n",
       "        vertical-align: top;\n",
       "    }\n",
       "\n",
       "    .dataframe thead th {\n",
       "        text-align: right;\n",
       "    }\n",
       "</style>\n",
       "<table border=\"1\" class=\"dataframe\">\n",
       "  <thead>\n",
       "    <tr style=\"text-align: right;\">\n",
       "      <th></th>\n",
       "      <th>id</th>\n",
       "      <th>keyword</th>\n",
       "      <th>location</th>\n",
       "      <th>text</th>\n",
       "      <th>target</th>\n",
       "    </tr>\n",
       "  </thead>\n",
       "  <tbody>\n",
       "    <tr>\n",
       "      <th>0</th>\n",
       "      <td>1</td>\n",
       "      <td>NaN</td>\n",
       "      <td>NaN</td>\n",
       "      <td>Our Deeds are the Reason of this #earthquake M...</td>\n",
       "      <td>1</td>\n",
       "    </tr>\n",
       "    <tr>\n",
       "      <th>1</th>\n",
       "      <td>4</td>\n",
       "      <td>NaN</td>\n",
       "      <td>NaN</td>\n",
       "      <td>Forest fire near La Ronge Sask. Canada</td>\n",
       "      <td>1</td>\n",
       "    </tr>\n",
       "    <tr>\n",
       "      <th>2</th>\n",
       "      <td>5</td>\n",
       "      <td>NaN</td>\n",
       "      <td>NaN</td>\n",
       "      <td>All residents asked to 'shelter in place' are ...</td>\n",
       "      <td>1</td>\n",
       "    </tr>\n",
       "    <tr>\n",
       "      <th>3</th>\n",
       "      <td>6</td>\n",
       "      <td>NaN</td>\n",
       "      <td>NaN</td>\n",
       "      <td>13,000 people receive #wildfires evacuation or...</td>\n",
       "      <td>1</td>\n",
       "    </tr>\n",
       "    <tr>\n",
       "      <th>4</th>\n",
       "      <td>7</td>\n",
       "      <td>NaN</td>\n",
       "      <td>NaN</td>\n",
       "      <td>Just got sent this photo from Ruby #Alaska as ...</td>\n",
       "      <td>1</td>\n",
       "    </tr>\n",
       "  </tbody>\n",
       "</table>\n",
       "</div>"
      ],
      "text/plain": [
       "   id keyword location                                               text  \\\n",
       "0   1     NaN      NaN  Our Deeds are the Reason of this #earthquake M...   \n",
       "1   4     NaN      NaN             Forest fire near La Ronge Sask. Canada   \n",
       "2   5     NaN      NaN  All residents asked to 'shelter in place' are ...   \n",
       "3   6     NaN      NaN  13,000 people receive #wildfires evacuation or...   \n",
       "4   7     NaN      NaN  Just got sent this photo from Ruby #Alaska as ...   \n",
       "\n",
       "   target  \n",
       "0       1  \n",
       "1       1  \n",
       "2       1  \n",
       "3       1  \n",
       "4       1  "
      ]
     },
     "execution_count": 59,
     "metadata": {},
     "output_type": "execute_result"
    }
   ],
   "source": [
    "import pandas as pd\n",
    "\n",
    "train_data = pd.read_csv('../input/nlp-getting-started/train.csv')\n",
    "print(len(train_data))\n",
    "train_data.head(5)"
   ]
  },
  {
   "cell_type": "code",
   "execution_count": 58,
   "id": "3ab0c922-591c-491d-af3b-25ff71e22207",
   "metadata": {},
   "outputs": [
    {
     "name": "stdout",
     "output_type": "stream",
     "text": [
      "3263\n"
     ]
    },
    {
     "data": {
      "text/html": [
       "<div>\n",
       "<style scoped>\n",
       "    .dataframe tbody tr th:only-of-type {\n",
       "        vertical-align: middle;\n",
       "    }\n",
       "\n",
       "    .dataframe tbody tr th {\n",
       "        vertical-align: top;\n",
       "    }\n",
       "\n",
       "    .dataframe thead th {\n",
       "        text-align: right;\n",
       "    }\n",
       "</style>\n",
       "<table border=\"1\" class=\"dataframe\">\n",
       "  <thead>\n",
       "    <tr style=\"text-align: right;\">\n",
       "      <th></th>\n",
       "      <th>id</th>\n",
       "      <th>keyword</th>\n",
       "      <th>location</th>\n",
       "      <th>text</th>\n",
       "    </tr>\n",
       "  </thead>\n",
       "  <tbody>\n",
       "    <tr>\n",
       "      <th>0</th>\n",
       "      <td>0</td>\n",
       "      <td>NaN</td>\n",
       "      <td>NaN</td>\n",
       "      <td>Just happened a terrible car crash</td>\n",
       "    </tr>\n",
       "    <tr>\n",
       "      <th>1</th>\n",
       "      <td>2</td>\n",
       "      <td>NaN</td>\n",
       "      <td>NaN</td>\n",
       "      <td>Heard about #earthquake is different cities, s...</td>\n",
       "    </tr>\n",
       "    <tr>\n",
       "      <th>2</th>\n",
       "      <td>3</td>\n",
       "      <td>NaN</td>\n",
       "      <td>NaN</td>\n",
       "      <td>there is a forest fire at spot pond, geese are...</td>\n",
       "    </tr>\n",
       "    <tr>\n",
       "      <th>3</th>\n",
       "      <td>9</td>\n",
       "      <td>NaN</td>\n",
       "      <td>NaN</td>\n",
       "      <td>Apocalypse lighting. #Spokane #wildfires</td>\n",
       "    </tr>\n",
       "    <tr>\n",
       "      <th>4</th>\n",
       "      <td>11</td>\n",
       "      <td>NaN</td>\n",
       "      <td>NaN</td>\n",
       "      <td>Typhoon Soudelor kills 28 in China and Taiwan</td>\n",
       "    </tr>\n",
       "  </tbody>\n",
       "</table>\n",
       "</div>"
      ],
      "text/plain": [
       "   id keyword location                                               text\n",
       "0   0     NaN      NaN                 Just happened a terrible car crash\n",
       "1   2     NaN      NaN  Heard about #earthquake is different cities, s...\n",
       "2   3     NaN      NaN  there is a forest fire at spot pond, geese are...\n",
       "3   9     NaN      NaN           Apocalypse lighting. #Spokane #wildfires\n",
       "4  11     NaN      NaN      Typhoon Soudelor kills 28 in China and Taiwan"
      ]
     },
     "execution_count": 58,
     "metadata": {},
     "output_type": "execute_result"
    }
   ],
   "source": [
    "test_data = pd.read_csv('../input/nlp-getting-started/test.csv')\n",
    "print(len(test_data))\n",
    "test_data.head(5)"
   ]
  },
  {
   "cell_type": "code",
   "execution_count": 105,
   "id": "4964482e-654d-476f-8292-89672bc52817",
   "metadata": {},
   "outputs": [
    {
     "data": {
      "text/html": [
       "<div>\n",
       "<style scoped>\n",
       "    .dataframe tbody tr th:only-of-type {\n",
       "        vertical-align: middle;\n",
       "    }\n",
       "\n",
       "    .dataframe tbody tr th {\n",
       "        vertical-align: top;\n",
       "    }\n",
       "\n",
       "    .dataframe thead th {\n",
       "        text-align: right;\n",
       "    }\n",
       "</style>\n",
       "<table border=\"1\" class=\"dataframe\">\n",
       "  <thead>\n",
       "    <tr style=\"text-align: right;\">\n",
       "      <th></th>\n",
       "      <th>id</th>\n",
       "      <th>target</th>\n",
       "    </tr>\n",
       "  </thead>\n",
       "  <tbody>\n",
       "    <tr>\n",
       "      <th>0</th>\n",
       "      <td>0</td>\n",
       "      <td>0</td>\n",
       "    </tr>\n",
       "    <tr>\n",
       "      <th>1</th>\n",
       "      <td>2</td>\n",
       "      <td>0</td>\n",
       "    </tr>\n",
       "    <tr>\n",
       "      <th>2</th>\n",
       "      <td>3</td>\n",
       "      <td>0</td>\n",
       "    </tr>\n",
       "    <tr>\n",
       "      <th>3</th>\n",
       "      <td>9</td>\n",
       "      <td>0</td>\n",
       "    </tr>\n",
       "    <tr>\n",
       "      <th>4</th>\n",
       "      <td>11</td>\n",
       "      <td>0</td>\n",
       "    </tr>\n",
       "  </tbody>\n",
       "</table>\n",
       "</div>"
      ],
      "text/plain": [
       "   id  target\n",
       "0   0       0\n",
       "1   2       0\n",
       "2   3       0\n",
       "3   9       0\n",
       "4  11       0"
      ]
     },
     "execution_count": 105,
     "metadata": {},
     "output_type": "execute_result"
    }
   ],
   "source": [
    "sample_submission = pd.read_csv('../input/nlp-getting-started/sample_submission.csv')\n",
    "sample_submission.head(5)"
   ]
  },
  {
   "cell_type": "code",
   "execution_count": 9,
   "id": "54ed6c5a-21ef-4df8-8eb7-5ca2d2989c09",
   "metadata": {},
   "outputs": [],
   "source": [
    "train_texts = train_data.text.to_numpy()\n",
    "train_targets = train_data.target.to_numpy()\n",
    "\n",
    "test_texts = test_data.text.to_numpy()\n",
    "test_ids = test_data.id.to_numpy()"
   ]
  },
  {
   "cell_type": "code",
   "execution_count": 60,
   "id": "127c0a08-21f7-4fb2-afcb-a27fbbbc796b",
   "metadata": {},
   "outputs": [],
   "source": [
    "vocab_size = 7000"
   ]
  },
  {
   "cell_type": "code",
   "execution_count": 61,
   "id": "9bee5166-c3f2-4b67-bf71-842cb202b4bd",
   "metadata": {},
   "outputs": [
    {
     "name": "stdout",
     "output_type": "stream",
     "text": [
      "<OOV> 1\n",
      "t 2\n",
      "co 3\n",
      "http 4\n",
      "the 5\n"
     ]
    }
   ],
   "source": [
    "from keras.preprocessing.text import Tokenizer\n",
    "\n",
    "tokenizer = Tokenizer(num_words = vocab_size, oov_token = '<OOV>')\n",
    "tokenizer.fit_on_texts(train_texts)\n",
    "word_index = tokenizer.word_index\n",
    "for index, (text, text_index) in enumerate(word_index.items()):\n",
    "    if index >= 5:\n",
    "        break\n",
    "    print(text, text_index)"
   ]
  },
  {
   "cell_type": "code",
   "execution_count": 62,
   "id": "613b8a53-8f00-4932-b759-42b04d9a5397",
   "metadata": {},
   "outputs": [],
   "source": [
    "reverse_word_index = dict([(value, key) for (key, value) in word_index.items()])"
   ]
  },
  {
   "cell_type": "code",
   "execution_count": 63,
   "id": "cf2fe2df-1913-4d76-a359-014c0ebefd69",
   "metadata": {},
   "outputs": [
    {
     "name": "stdout",
     "output_type": "stream",
     "text": [
      "Our Deeds are the Reason of this #earthquake May ALLAH Forgive us all\n",
      "[[120, 4634, 25, 5, 869, 9, 22, 264, 139, 1620, 4635, 90, 41]]\n",
      "Forest fire near La Ronge Sask. Canada\n",
      "[[190, 46, 230, 800, 6955, 6956, 1405]]\n",
      "All residents asked to 'shelter in place' are being notified by officers. No other evacuation or shelter in place orders are expected\n",
      "[[41, 1752, 1621, 8, 6957, 7, 6958, 25, 137, 6959, 21, 1753, 40, 442, 257, 58, 2159, 7, 715, 1406, 25, 1107]]\n",
      "13,000 people receive #wildfires evacuation orders in California \n",
      "[[836, 2922, 60, 4636, 1501, 257, 1406, 7, 97]]\n",
      "Just got sent this photo from Ruby #Alaska as smoke from #wildfires pours into a school \n",
      "[[35, 101, 1222, 22, 321, 23, 6960, 2160, 31, 272, 23, 1501, 6961, 70, 6, 188]]\n"
     ]
    }
   ],
   "source": [
    "for index, text in enumerate(train_texts):\n",
    "    if index >= 5:\n",
    "        break\n",
    "    print(text)\n",
    "    print(tokenizer.texts_to_sequences([text]))"
   ]
  },
  {
   "cell_type": "code",
   "execution_count": 64,
   "id": "ba96cc78-2be3-4b0b-83d2-c62f8547ad5c",
   "metadata": {},
   "outputs": [
    {
     "name": "stdout",
     "output_type": "stream",
     "text": [
      "Just happened a terrible car crash\n",
      "[[35, 914, 6, 1952, 131, 93]]\n",
      "Heard about #earthquake is different cities, stay safe everyone.\n",
      "[[475, 57, 264, 12, 1202, 2649, 606, 2322, 246]]\n",
      "there is a forest fire at spot pond, geese are fleeing across the street, I cannot save them all\n",
      "[[78, 12, 6, 190, 46, 20, 826, 3576, 1, 25, 5168, 872, 5, 770, 11, 1415, 506, 98, 41]]\n",
      "Apocalypse lighting. #Spokane #wildfires\n",
      "[[480, 3940, 1, 1501]]\n",
      "Typhoon Soudelor kills 28 in China and Taiwan\n",
      "[[218, 796, 478, 2565, 7, 943, 10, 1207]]\n"
     ]
    }
   ],
   "source": [
    "for index, text in enumerate(test_texts):\n",
    "    if index >= 5:\n",
    "        break\n",
    "    print(text)\n",
    "    print(tokenizer.texts_to_sequences([text]))\n",
    "    "
   ]
  },
  {
   "cell_type": "code",
   "execution_count": 65,
   "id": "9f971dbf-cb29-4d8d-894f-1e1850fc9e85",
   "metadata": {},
   "outputs": [
    {
     "data": {
      "text/plain": [
       "33"
      ]
     },
     "execution_count": 65,
     "metadata": {},
     "output_type": "execute_result"
    }
   ],
   "source": [
    "import numpy as np\n",
    "\n",
    "sequences = tokenizer.texts_to_sequences(train_texts)\n",
    "np.max(list(map(len, sequences)))"
   ]
  },
  {
   "cell_type": "code",
   "execution_count": 66,
   "id": "209b4f40-fe78-4fdd-873f-2dc959e0d7c7",
   "metadata": {},
   "outputs": [],
   "source": [
    "maxlen = 33"
   ]
  },
  {
   "cell_type": "code",
   "execution_count": 67,
   "id": "e591d8de-7209-43c8-9b2d-be760150215f",
   "metadata": {},
   "outputs": [],
   "source": [
    "from keras.preprocessing.sequence import pad_sequences\n",
    "\n",
    "def tokenize_and_pad_sequence(texts):\n",
    "    sequences = tokenizer.texts_to_sequences(texts)\n",
    "    return pad_sequences(\n",
    "        sequences,\n",
    "        maxlen = maxlen,\n",
    "        padding = 'post',\n",
    "        truncating = 'post',\n",
    "    )\n",
    "\n",
    "train_sequences = tokenize_and_pad_sequence(train_texts)\n",
    "test_sequences = tokenize_and_pad_sequence(test_texts)"
   ]
  },
  {
   "cell_type": "markdown",
   "id": "7f5ef6de-cec6-4172-8049-d347f0c00ef2",
   "metadata": {},
   "source": [
    "# Build and Train Model"
   ]
  },
  {
   "cell_type": "code",
   "execution_count": 68,
   "id": "e5529ca7-4254-466f-8039-ed62c8cce8ea",
   "metadata": {},
   "outputs": [],
   "source": [
    "import pandas as pd\n",
    "import matplotlib.pyplot as plt\n",
    "\n",
    "def plot_item(history_df, colname = 'loss', f = np.min, ax = None):\n",
    "    val_colname = f'val_{colname}'\n",
    "    print(f'{colname}: {f(history_df[colname]):.4f} - {val_colname}: {f(history_df[val_colname]):.4f}')\n",
    "    history_df.loc[:, [colname, val_colname]].plot(title = colname.capitalize() , ax = ax)\n",
    "\n",
    "def show_history(history):\n",
    "    history_df = pd.DataFrame(history.history)\n",
    "    \n",
    "    fig, axes = plt.subplots(nrows = 1, ncols = 2, figsize = (15, 5))\n",
    "    plot_item(history_df, 'loss', ax = axes[0])\n",
    "    plot_item(history_df, 'accuracy', ax = axes[1], f = np.max)"
   ]
  },
  {
   "cell_type": "code",
   "execution_count": 98,
   "id": "17a3d209-622c-4006-9967-c3e42a6af525",
   "metadata": {},
   "outputs": [],
   "source": [
    "def fit_model(model, validation_split = 0.8, epochs = 500, patience = 5, verbose = 0):\n",
    "    model.compile(\n",
    "        optimizer = 'adam',\n",
    "        loss = keras.losses.BinaryCrossentropy(from_logits = True),\n",
    "        metrics = ['accuracy'],\n",
    "    )\n",
    "\n",
    "    early_stopping = keras.callbacks.EarlyStopping(\n",
    "        patience = patience,\n",
    "        restore_best_weights = True,\n",
    "    )\n",
    "    \n",
    "    callbacks = [early_stopping]\n",
    "    if validation_split == 0:\n",
    "        callbacks = []\n",
    "\n",
    "    history = model.fit(\n",
    "        train_sequences, train_targets,\n",
    "        validation_split = validation_split,\n",
    "        epochs = epochs,\n",
    "        callbacks = callbacks,\n",
    "        verbose = verbose,\n",
    "    )\n",
    "    return history "
   ]
  },
  {
   "cell_type": "code",
   "execution_count": 82,
   "id": "01d0b8af-8461-45cc-9871-a4c8e315fb5d",
   "metadata": {},
   "outputs": [],
   "source": [
    "embedding_dim = 16"
   ]
  },
  {
   "cell_type": "markdown",
   "id": "f9b7860f-9e22-4a63-8c8c-5a1d064d4b54",
   "metadata": {},
   "source": [
    "## DNN"
   ]
  },
  {
   "cell_type": "code",
   "execution_count": 91,
   "id": "85d4b85a-93ee-4803-91d1-32f71a131528",
   "metadata": {},
   "outputs": [
    {
     "name": "stdout",
     "output_type": "stream",
     "text": [
      "Model: \"sequential_15\"\n",
      "_________________________________________________________________\n",
      "Layer (type)                 Output Shape              Param #   \n",
      "=================================================================\n",
      "embedding_17 (Embedding)     (None, 33, 16)            112000    \n",
      "_________________________________________________________________\n",
      "global_average_pooling1d_10  (None, 16)                0         \n",
      "_________________________________________________________________\n",
      "dense_30 (Dense)             (None, 16)                272       \n",
      "_________________________________________________________________\n",
      "dense_31 (Dense)             (None, 1)                 17        \n",
      "=================================================================\n",
      "Total params: 112,289\n",
      "Trainable params: 112,289\n",
      "Non-trainable params: 0\n",
      "_________________________________________________________________\n"
     ]
    }
   ],
   "source": [
    "tf.random.set_seed(1)\n",
    "model_dnn = keras.Sequential([\n",
    "    keras.layers.Embedding(vocab_size, embedding_dim, input_length = maxlen),\n",
    "    keras.layers.GlobalAveragePooling1D(),\n",
    "    keras.layers.Dense(16, activation = 'relu'),\n",
    "    keras.layers.Dense(1),\n",
    "])\n",
    "model_dnn.summary()"
   ]
  },
  {
   "cell_type": "code",
   "execution_count": 92,
   "id": "1d950a83-daec-474c-9e9a-81632c122fd0",
   "metadata": {},
   "outputs": [
    {
     "name": "stdout",
     "output_type": "stream",
     "text": [
      "loss: 0.1512 - val_loss: 0.5598\n",
      "accuracy: 0.9448 - val_accuracy: 0.7092\n"
     ]
    },
    {
     "data": {
      "image/png": "[encoded data removed]",
      "text/plain": [
       "<Figure size 1080x360 with 2 Axes>"
      ]
     },
     "metadata": {
      "needs_background": "light"
     },
     "output_type": "display_data"
    }
   ],
   "source": [
    "history_dnn = fit_model(model_dnn)\n",
    "show_history(history_dnn)"
   ]
  },
  {
   "cell_type": "markdown",
   "id": "f4063970-c6dd-40ba-9138-28ca2de8b259",
   "metadata": {},
   "source": [
    "## LTSM"
   ]
  },
  {
   "cell_type": "code",
   "execution_count": 93,
   "id": "c3add150-f284-47c4-9c58-25d3c4797341",
   "metadata": {},
   "outputs": [
    {
     "name": "stdout",
     "output_type": "stream",
     "text": [
      "Model: \"sequential_16\"\n",
      "_________________________________________________________________\n",
      "Layer (type)                 Output Shape              Param #   \n",
      "=================================================================\n",
      "embedding_18 (Embedding)     (None, 33, 16)            112000    \n",
      "_________________________________________________________________\n",
      "bidirectional_9 (Bidirection (None, 32)                4224      \n",
      "_________________________________________________________________\n",
      "dense_32 (Dense)             (None, 16)                528       \n",
      "_________________________________________________________________\n",
      "dense_33 (Dense)             (None, 1)                 17        \n",
      "=================================================================\n",
      "Total params: 116,769\n",
      "Trainable params: 116,769\n",
      "Non-trainable params: 0\n",
      "_________________________________________________________________\n"
     ]
    }
   ],
   "source": [
    "tf.random.set_seed(1)\n",
    "model_lstm_bi = keras.Sequential([\n",
    "    keras.layers.Embedding(vocab_size, embedding_dim, input_length = maxlen),\n",
    "    keras.layers.Bidirectional(keras.layers.LSTM(embedding_dim)),\n",
    "    keras.layers.Dense(16, activation = 'relu'),\n",
    "    keras.layers.Dense(1),\n",
    "])\n",
    "\n",
    "model_lstm_bi.summary()"
   ]
  },
  {
   "cell_type": "code",
   "execution_count": 94,
   "id": "e39d7de6-a602-4609-98e1-f4f48e5cdfe6",
   "metadata": {},
   "outputs": [
    {
     "name": "stdout",
     "output_type": "stream",
     "text": [
      "Epoch 1/500\n",
      "48/48 [==============================] - 4s 42ms/step - loss: 0.6768 - accuracy: 0.6216 - val_loss: 0.6889 - val_accuracy: 0.5575\n",
      "Epoch 2/500\n",
      "48/48 [==============================] - 1s 15ms/step - loss: 0.5960 - accuracy: 0.6229 - val_loss: 0.6229 - val_accuracy: 0.5577\n",
      "Epoch 3/500\n",
      "48/48 [==============================] - 1s 15ms/step - loss: 0.4011 - accuracy: 0.8049 - val_loss: 0.5654 - val_accuracy: 0.7104\n",
      "Epoch 4/500\n",
      "48/48 [==============================] - 1s 15ms/step - loss: 0.2478 - accuracy: 0.9028 - val_loss: 0.6220 - val_accuracy: 0.7104\n",
      "Epoch 5/500\n",
      "48/48 [==============================] - 1s 16ms/step - loss: 0.1776 - accuracy: 0.9336 - val_loss: 0.6336 - val_accuracy: 0.7179\n",
      "Epoch 6/500\n",
      "48/48 [==============================] - 1s 16ms/step - loss: 0.1237 - accuracy: 0.9606 - val_loss: 0.7134 - val_accuracy: 0.7140\n",
      "Epoch 7/500\n",
      "48/48 [==============================] - 1s 16ms/step - loss: 0.1005 - accuracy: 0.9645 - val_loss: 0.7598 - val_accuracy: 0.7055\n",
      "Epoch 8/500\n",
      "48/48 [==============================] - 1s 16ms/step - loss: 0.0820 - accuracy: 0.9704 - val_loss: 0.8066 - val_accuracy: 0.7032\n",
      "loss: 0.0820 - val_loss: 0.5654\n",
      "accuracy: 0.9704 - val_accuracy: 0.7179\n"
     ]
    },
    {
     "data": {
      "image/png": "[encoded data removed]",
      "text/plain": [
       "<Figure size 1080x360 with 2 Axes>"
      ]
     },
     "metadata": {
      "needs_background": "light"
     },
     "output_type": "display_data"
    }
   ],
   "source": [
    "history_lstm_bi = fit_model(model_lstm_bi, verbose = 1)  \n",
    "show_history(history_lstm_bi)"
   ]
  },
  {
   "cell_type": "code",
   "execution_count": 95,
   "id": "19cab5e1-c329-4c28-993b-454770937829",
   "metadata": {},
   "outputs": [
    {
     "name": "stdout",
     "output_type": "stream",
     "text": [
      "Model: \"sequential_17\"\n",
      "_________________________________________________________________\n",
      "Layer (type)                 Output Shape              Param #   \n",
      "=================================================================\n",
      "embedding_19 (Embedding)     (None, 33, 16)            112000    \n",
      "_________________________________________________________________\n",
      "bidirectional_10 (Bidirectio (None, 33, 32)            4224      \n",
      "_________________________________________________________________\n",
      "bidirectional_11 (Bidirectio (None, 32)                6272      \n",
      "_________________________________________________________________\n",
      "dense_34 (Dense)             (None, 16)                528       \n",
      "_________________________________________________________________\n",
      "dense_35 (Dense)             (None, 1)                 17        \n",
      "=================================================================\n",
      "Total params: 123,041\n",
      "Trainable params: 123,041\n",
      "Non-trainable params: 0\n",
      "_________________________________________________________________\n"
     ]
    }
   ],
   "source": [
    "tf.random.set_seed(1)\n",
    "model_lstm_multiple_bi = keras.Sequential([\n",
    "    keras.layers.Embedding(vocab_size, embedding_dim, input_length = maxlen),\n",
    "    keras.layers.Bidirectional(keras.layers.LSTM(embedding_dim, return_sequences = True)),\n",
    "    keras.layers.Bidirectional(keras.layers.LSTM(embedding_dim)),\n",
    "    keras.layers.Dense(16, activation = 'relu'),\n",
    "    keras.layers.Dense(1),\n",
    "])\n",
    "\n",
    "model_lstm_multiple_bi.summary()"
   ]
  },
  {
   "cell_type": "code",
   "execution_count": 96,
   "id": "b786c936-f49b-4549-907a-b18392eb0de4",
   "metadata": {},
   "outputs": [
    {
     "name": "stdout",
     "output_type": "stream",
     "text": [
      "loss: 0.0823 - val_loss: 0.6253\n",
      "accuracy: 0.9770 - val_accuracy: 0.7127\n"
     ]
    },
    {
     "data": {
      "image/png": "[encoded data removed]",
      "text/plain": [
       "<Figure size 1080x360 with 2 Axes>"
      ]
     },
     "metadata": {
      "needs_background": "light"
     },
     "output_type": "display_data"
    }
   ],
   "source": [
    "history_lstm_multiple_bi = fit_model(model_lstm_multiple_bi)  \n",
    "show_history(history_lstm_multiple_bi)"
   ]
  },
  {
   "cell_type": "markdown",
   "id": "e15e1a10-789f-48f0-826a-0595bd169120",
   "metadata": {},
   "source": [
    "## Final Model"
   ]
  },
  {
   "cell_type": "code",
   "execution_count": 99,
   "id": "d885cb47-7bcb-4992-bcb3-0f36dcccca19",
   "metadata": {},
   "outputs": [
    {
     "data": {
      "text/plain": [
       "<tensorflow.python.keras.callbacks.History at 0x1a47cadf0>"
      ]
     },
     "execution_count": 99,
     "metadata": {},
     "output_type": "execute_result"
    }
   ],
   "source": [
    "final_model = keras.Sequential([\n",
    "    keras.layers.Embedding(vocab_size, embedding_dim, input_length = maxlen),\n",
    "    keras.layers.Bidirectional(keras.layers.LSTM(embedding_dim)),\n",
    "    keras.layers.Dense(16, activation = 'relu'),\n",
    "    keras.layers.Dense(1),\n",
    "])\n",
    "\n",
    "fit_model(final_model, validation_split = 0, epochs = 5)"
   ]
  },
  {
   "cell_type": "markdown",
   "id": "dae10816-b056-456a-bce9-5e204992c036",
   "metadata": {},
   "source": [
    "# Predict on Test Data"
   ]
  },
  {
   "cell_type": "code",
   "execution_count": 100,
   "id": "46e13428-e267-40a0-934f-681c91cc73d4",
   "metadata": {},
   "outputs": [],
   "source": [
    "predicted = final_model.predict(test_sequences)"
   ]
  },
  {
   "cell_type": "code",
   "execution_count": 104,
   "id": "77db1be9-1e5e-45af-a09e-4be3d2dfe89f",
   "metadata": {},
   "outputs": [
    {
     "name": "stdout",
     "output_type": "stream",
     "text": [
      "[[ 0.9523836]\n",
      " [ 1.2163361]\n",
      " [ 6.66016  ]\n",
      " [ 2.0975704]\n",
      " [ 6.358529 ]\n",
      " [ 4.246822 ]\n",
      " [-4.582698 ]\n",
      " [-2.7803013]\n",
      " [-4.2858844]\n",
      " [-3.0934145]]\n"
     ]
    },
    {
     "data": {
      "text/plain": [
       "[1, 1, 1, 1, 1, 1, 0, 0, 0, 0]"
      ]
     },
     "execution_count": 104,
     "metadata": {},
     "output_type": "execute_result"
    }
   ],
   "source": [
    "print(predicted[:10])\n",
    "test_targets = list(map(lambda x: 1 if x > 0 else 0, predicted))\n",
    "test_targets[:10]"
   ]
  },
  {
   "cell_type": "code",
   "execution_count": 106,
   "id": "e13268bd-35fa-4e49-9e30-acc899079b43",
   "metadata": {},
   "outputs": [],
   "source": [
    "result_df = pd.DataFrame({'id': test_ids, 'target': test_targets})\n",
    "result_df.to_csv('lstm_submission.csv', index = False)"
   ]
  }
 ],
 "metadata": {
  "kernelspec": {
   "display_name": "Python 3",
   "language": "python",
   "name": "python3"
  },
  "language_info": {
   "codemirror_mode": {
    "name": "ipython",
    "version": 3
   },
   "file_extension": ".py",
   "mimetype": "text/x-python",
   "name": "python",
   "nbconvert_exporter": "python",
   "pygments_lexer": "ipython3",
   "version": "3.9.6"
  }
 },
 "nbformat": 4,
 "nbformat_minor": 5
}
