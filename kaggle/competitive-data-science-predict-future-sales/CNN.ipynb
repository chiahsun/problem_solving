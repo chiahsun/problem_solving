{
 "cells": [
  {
   "cell_type": "code",
   "execution_count": 1,
   "id": "77a42429-6ddb-4517-904c-abb2809d8215",
   "metadata": {},
   "outputs": [
    {
     "data": {
      "text/plain": [
       "'2.5.0'"
      ]
     },
     "execution_count": 1,
     "metadata": {},
     "output_type": "execute_result"
    }
   ],
   "source": [
    "import tensorflow as tf\n",
    "\n",
    "keras = tf.keras\n",
    "\n",
    "tf.__version__"
   ]
  },
  {
   "cell_type": "code",
   "execution_count": 365,
   "id": "71b8816a-0bbe-4bd8-832e-fa0f8e8686f7",
   "metadata": {},
   "outputs": [
    {
     "name": "stdout",
     "output_type": "stream",
     "text": [
      "2935849\n"
     ]
    },
    {
     "data": {
      "text/html": [
       "<div>\n",
       "<style scoped>\n",
       "    .dataframe tbody tr th:only-of-type {\n",
       "        vertical-align: middle;\n",
       "    }\n",
       "\n",
       "    .dataframe tbody tr th {\n",
       "        vertical-align: top;\n",
       "    }\n",
       "\n",
       "    .dataframe thead th {\n",
       "        text-align: right;\n",
       "    }\n",
       "</style>\n",
       "<table border=\"1\" class=\"dataframe\">\n",
       "  <thead>\n",
       "    <tr style=\"text-align: right;\">\n",
       "      <th></th>\n",
       "      <th>date</th>\n",
       "      <th>date_block_num</th>\n",
       "      <th>shop_id</th>\n",
       "      <th>item_id</th>\n",
       "      <th>item_price</th>\n",
       "      <th>item_cnt_day</th>\n",
       "    </tr>\n",
       "  </thead>\n",
       "  <tbody>\n",
       "    <tr>\n",
       "      <th>0</th>\n",
       "      <td>02.01.2013</td>\n",
       "      <td>0</td>\n",
       "      <td>59</td>\n",
       "      <td>22154</td>\n",
       "      <td>999.00</td>\n",
       "      <td>1.0</td>\n",
       "    </tr>\n",
       "    <tr>\n",
       "      <th>1</th>\n",
       "      <td>03.01.2013</td>\n",
       "      <td>0</td>\n",
       "      <td>25</td>\n",
       "      <td>2552</td>\n",
       "      <td>899.00</td>\n",
       "      <td>1.0</td>\n",
       "    </tr>\n",
       "    <tr>\n",
       "      <th>2</th>\n",
       "      <td>05.01.2013</td>\n",
       "      <td>0</td>\n",
       "      <td>25</td>\n",
       "      <td>2552</td>\n",
       "      <td>899.00</td>\n",
       "      <td>-1.0</td>\n",
       "    </tr>\n",
       "    <tr>\n",
       "      <th>3</th>\n",
       "      <td>06.01.2013</td>\n",
       "      <td>0</td>\n",
       "      <td>25</td>\n",
       "      <td>2554</td>\n",
       "      <td>1709.05</td>\n",
       "      <td>1.0</td>\n",
       "    </tr>\n",
       "    <tr>\n",
       "      <th>4</th>\n",
       "      <td>15.01.2013</td>\n",
       "      <td>0</td>\n",
       "      <td>25</td>\n",
       "      <td>2555</td>\n",
       "      <td>1099.00</td>\n",
       "      <td>1.0</td>\n",
       "    </tr>\n",
       "  </tbody>\n",
       "</table>\n",
       "</div>"
      ],
      "text/plain": [
       "         date  date_block_num  shop_id  item_id  item_price  item_cnt_day\n",
       "0  02.01.2013               0       59    22154      999.00           1.0\n",
       "1  03.01.2013               0       25     2552      899.00           1.0\n",
       "2  05.01.2013               0       25     2552      899.00          -1.0\n",
       "3  06.01.2013               0       25     2554     1709.05           1.0\n",
       "4  15.01.2013               0       25     2555     1099.00           1.0"
      ]
     },
     "execution_count": 365,
     "metadata": {},
     "output_type": "execute_result"
    }
   ],
   "source": [
    "import pandas as pd\n",
    "\n",
    "train = pd.read_csv('./input/competitive-data-science-predict-future-sales/sales_train.csv')\n",
    "print(len(train))\n",
    "train.head()"
   ]
  },
  {
   "cell_type": "code",
   "execution_count": 24,
   "id": "c57f8d60-1633-4a2f-81b0-5f3b48863082",
   "metadata": {},
   "outputs": [
    {
     "data": {
      "text/html": [
       "<div>\n",
       "<style scoped>\n",
       "    .dataframe tbody tr th:only-of-type {\n",
       "        vertical-align: middle;\n",
       "    }\n",
       "\n",
       "    .dataframe tbody tr th {\n",
       "        vertical-align: top;\n",
       "    }\n",
       "\n",
       "    .dataframe thead th {\n",
       "        text-align: right;\n",
       "    }\n",
       "</style>\n",
       "<table border=\"1\" class=\"dataframe\">\n",
       "  <thead>\n",
       "    <tr style=\"text-align: right;\">\n",
       "      <th></th>\n",
       "      <th>date</th>\n",
       "      <th>date_block_num</th>\n",
       "      <th>shop_id</th>\n",
       "      <th>item_id</th>\n",
       "      <th>item_price</th>\n",
       "      <th>item_cnt_day</th>\n",
       "    </tr>\n",
       "  </thead>\n",
       "  <tbody>\n",
       "    <tr>\n",
       "      <th>155030</th>\n",
       "      <td>25.02.2013</td>\n",
       "      <td>1</td>\n",
       "      <td>23</td>\n",
       "      <td>4128</td>\n",
       "      <td>899.0</td>\n",
       "      <td>1.0</td>\n",
       "    </tr>\n",
       "    <tr>\n",
       "      <th>155031</th>\n",
       "      <td>26.02.2013</td>\n",
       "      <td>1</td>\n",
       "      <td>23</td>\n",
       "      <td>4128</td>\n",
       "      <td>899.0</td>\n",
       "      <td>1.0</td>\n",
       "    </tr>\n",
       "    <tr>\n",
       "      <th>155032</th>\n",
       "      <td>16.02.2013</td>\n",
       "      <td>1</td>\n",
       "      <td>23</td>\n",
       "      <td>4147</td>\n",
       "      <td>2090.0</td>\n",
       "      <td>1.0</td>\n",
       "    </tr>\n",
       "    <tr>\n",
       "      <th>155033</th>\n",
       "      <td>19.02.2013</td>\n",
       "      <td>1</td>\n",
       "      <td>23</td>\n",
       "      <td>4147</td>\n",
       "      <td>2090.0</td>\n",
       "      <td>1.0</td>\n",
       "    </tr>\n",
       "    <tr>\n",
       "      <th>155034</th>\n",
       "      <td>03.02.2013</td>\n",
       "      <td>1</td>\n",
       "      <td>23</td>\n",
       "      <td>4148</td>\n",
       "      <td>1490.0</td>\n",
       "      <td>1.0</td>\n",
       "    </tr>\n",
       "    <tr>\n",
       "      <th>155035</th>\n",
       "      <td>07.02.2013</td>\n",
       "      <td>1</td>\n",
       "      <td>23</td>\n",
       "      <td>4148</td>\n",
       "      <td>1490.0</td>\n",
       "      <td>1.0</td>\n",
       "    </tr>\n",
       "    <tr>\n",
       "      <th>155036</th>\n",
       "      <td>17.02.2013</td>\n",
       "      <td>1</td>\n",
       "      <td>23</td>\n",
       "      <td>4148</td>\n",
       "      <td>1490.0</td>\n",
       "      <td>1.0</td>\n",
       "    </tr>\n",
       "    <tr>\n",
       "      <th>155037</th>\n",
       "      <td>04.02.2013</td>\n",
       "      <td>1</td>\n",
       "      <td>23</td>\n",
       "      <td>4161</td>\n",
       "      <td>849.0</td>\n",
       "      <td>1.0</td>\n",
       "    </tr>\n",
       "    <tr>\n",
       "      <th>155038</th>\n",
       "      <td>05.02.2013</td>\n",
       "      <td>1</td>\n",
       "      <td>23</td>\n",
       "      <td>4161</td>\n",
       "      <td>849.0</td>\n",
       "      <td>1.0</td>\n",
       "    </tr>\n",
       "    <tr>\n",
       "      <th>155039</th>\n",
       "      <td>06.02.2013</td>\n",
       "      <td>1</td>\n",
       "      <td>23</td>\n",
       "      <td>4161</td>\n",
       "      <td>849.0</td>\n",
       "      <td>2.0</td>\n",
       "    </tr>\n",
       "  </tbody>\n",
       "</table>\n",
       "</div>"
      ],
      "text/plain": [
       "              date  date_block_num  shop_id  item_id  item_price  item_cnt_day\n",
       "155030  25.02.2013               1       23     4128       899.0           1.0\n",
       "155031  26.02.2013               1       23     4128       899.0           1.0\n",
       "155032  16.02.2013               1       23     4147      2090.0           1.0\n",
       "155033  19.02.2013               1       23     4147      2090.0           1.0\n",
       "155034  03.02.2013               1       23     4148      1490.0           1.0\n",
       "155035  07.02.2013               1       23     4148      1490.0           1.0\n",
       "155036  17.02.2013               1       23     4148      1490.0           1.0\n",
       "155037  04.02.2013               1       23     4161       849.0           1.0\n",
       "155038  05.02.2013               1       23     4161       849.0           1.0\n",
       "155039  06.02.2013               1       23     4161       849.0           2.0"
      ]
     },
     "execution_count": 24,
     "metadata": {},
     "output_type": "execute_result"
    }
   ],
   "source": [
    "train[155030:155040]"
   ]
  },
  {
   "cell_type": "code",
   "execution_count": 528,
   "id": "671e02f3-5eec-4898-b3e7-326749a96abd",
   "metadata": {},
   "outputs": [
    {
     "name": "stdout",
     "output_type": "stream",
     "text": [
      "214200\n"
     ]
    },
    {
     "data": {
      "text/html": [
       "<div>\n",
       "<style scoped>\n",
       "    .dataframe tbody tr th:only-of-type {\n",
       "        vertical-align: middle;\n",
       "    }\n",
       "\n",
       "    .dataframe tbody tr th {\n",
       "        vertical-align: top;\n",
       "    }\n",
       "\n",
       "    .dataframe thead th {\n",
       "        text-align: right;\n",
       "    }\n",
       "</style>\n",
       "<table border=\"1\" class=\"dataframe\">\n",
       "  <thead>\n",
       "    <tr style=\"text-align: right;\">\n",
       "      <th></th>\n",
       "      <th>ID</th>\n",
       "      <th>shop_id</th>\n",
       "      <th>item_id</th>\n",
       "    </tr>\n",
       "  </thead>\n",
       "  <tbody>\n",
       "    <tr>\n",
       "      <th>0</th>\n",
       "      <td>0</td>\n",
       "      <td>5</td>\n",
       "      <td>5037</td>\n",
       "    </tr>\n",
       "    <tr>\n",
       "      <th>1</th>\n",
       "      <td>1</td>\n",
       "      <td>5</td>\n",
       "      <td>5320</td>\n",
       "    </tr>\n",
       "    <tr>\n",
       "      <th>2</th>\n",
       "      <td>2</td>\n",
       "      <td>5</td>\n",
       "      <td>5233</td>\n",
       "    </tr>\n",
       "    <tr>\n",
       "      <th>3</th>\n",
       "      <td>3</td>\n",
       "      <td>5</td>\n",
       "      <td>5232</td>\n",
       "    </tr>\n",
       "    <tr>\n",
       "      <th>4</th>\n",
       "      <td>4</td>\n",
       "      <td>5</td>\n",
       "      <td>5268</td>\n",
       "    </tr>\n",
       "  </tbody>\n",
       "</table>\n",
       "</div>"
      ],
      "text/plain": [
       "   ID  shop_id  item_id\n",
       "0   0        5     5037\n",
       "1   1        5     5320\n",
       "2   2        5     5233\n",
       "3   3        5     5232\n",
       "4   4        5     5268"
      ]
     },
     "execution_count": 528,
     "metadata": {},
     "output_type": "execute_result"
    }
   ],
   "source": [
    "test = pd.read_csv('./input/competitive-data-science-predict-future-sales/test.csv')\n",
    "print(len(test))\n",
    "test.head()"
   ]
  },
  {
   "cell_type": "code",
   "execution_count": 6,
   "id": "daed72b7-2bb8-42ff-be04-820cb3d08684",
   "metadata": {},
   "outputs": [
    {
     "data": {
      "text/html": [
       "<div>\n",
       "<style scoped>\n",
       "    .dataframe tbody tr th:only-of-type {\n",
       "        vertical-align: middle;\n",
       "    }\n",
       "\n",
       "    .dataframe tbody tr th {\n",
       "        vertical-align: top;\n",
       "    }\n",
       "\n",
       "    .dataframe thead th {\n",
       "        text-align: right;\n",
       "    }\n",
       "</style>\n",
       "<table border=\"1\" class=\"dataframe\">\n",
       "  <thead>\n",
       "    <tr style=\"text-align: right;\">\n",
       "      <th></th>\n",
       "      <th>ID</th>\n",
       "      <th>item_cnt_month</th>\n",
       "    </tr>\n",
       "  </thead>\n",
       "  <tbody>\n",
       "    <tr>\n",
       "      <th>0</th>\n",
       "      <td>0</td>\n",
       "      <td>0.5</td>\n",
       "    </tr>\n",
       "    <tr>\n",
       "      <th>1</th>\n",
       "      <td>1</td>\n",
       "      <td>0.5</td>\n",
       "    </tr>\n",
       "    <tr>\n",
       "      <th>2</th>\n",
       "      <td>2</td>\n",
       "      <td>0.5</td>\n",
       "    </tr>\n",
       "    <tr>\n",
       "      <th>3</th>\n",
       "      <td>3</td>\n",
       "      <td>0.5</td>\n",
       "    </tr>\n",
       "    <tr>\n",
       "      <th>4</th>\n",
       "      <td>4</td>\n",
       "      <td>0.5</td>\n",
       "    </tr>\n",
       "  </tbody>\n",
       "</table>\n",
       "</div>"
      ],
      "text/plain": [
       "   ID  item_cnt_month\n",
       "0   0             0.5\n",
       "1   1             0.5\n",
       "2   2             0.5\n",
       "3   3             0.5\n",
       "4   4             0.5"
      ]
     },
     "execution_count": 6,
     "metadata": {},
     "output_type": "execute_result"
    }
   ],
   "source": [
    "sample_submission = pd.read_csv('./input/competitive-data-science-predict-future-sales/sample_submission.csv')\n",
    "sample_submission.head()"
   ]
  },
  {
   "cell_type": "code",
   "execution_count": 362,
   "id": "ab85eef5-363a-4dce-a599-9efd06bea460",
   "metadata": {},
   "outputs": [
    {
     "name": "stdout",
     "output_type": "stream",
     "text": [
      "Number of items: 22170\n"
     ]
    },
    {
     "data": {
      "text/html": [
       "<div>\n",
       "<style scoped>\n",
       "    .dataframe tbody tr th:only-of-type {\n",
       "        vertical-align: middle;\n",
       "    }\n",
       "\n",
       "    .dataframe tbody tr th {\n",
       "        vertical-align: top;\n",
       "    }\n",
       "\n",
       "    .dataframe thead th {\n",
       "        text-align: right;\n",
       "    }\n",
       "</style>\n",
       "<table border=\"1\" class=\"dataframe\">\n",
       "  <thead>\n",
       "    <tr style=\"text-align: right;\">\n",
       "      <th></th>\n",
       "      <th>item_name</th>\n",
       "      <th>item_id</th>\n",
       "      <th>item_category_id</th>\n",
       "    </tr>\n",
       "  </thead>\n",
       "  <tbody>\n",
       "    <tr>\n",
       "      <th>0</th>\n",
       "      <td>! ВО ВЛАСТИ НАВАЖДЕНИЯ (ПЛАСТ.)         D</td>\n",
       "      <td>0</td>\n",
       "      <td>40</td>\n",
       "    </tr>\n",
       "    <tr>\n",
       "      <th>1</th>\n",
       "      <td>!ABBYY FineReader 12 Professional Edition Full...</td>\n",
       "      <td>1</td>\n",
       "      <td>76</td>\n",
       "    </tr>\n",
       "    <tr>\n",
       "      <th>2</th>\n",
       "      <td>***В ЛУЧАХ СЛАВЫ   (UNV)                    D</td>\n",
       "      <td>2</td>\n",
       "      <td>40</td>\n",
       "    </tr>\n",
       "    <tr>\n",
       "      <th>3</th>\n",
       "      <td>***ГОЛУБАЯ ВОЛНА  (Univ)                      D</td>\n",
       "      <td>3</td>\n",
       "      <td>40</td>\n",
       "    </tr>\n",
       "    <tr>\n",
       "      <th>4</th>\n",
       "      <td>***КОРОБКА (СТЕКЛО)                       D</td>\n",
       "      <td>4</td>\n",
       "      <td>40</td>\n",
       "    </tr>\n",
       "  </tbody>\n",
       "</table>\n",
       "</div>"
      ],
      "text/plain": [
       "                                           item_name  item_id  \\\n",
       "0          ! ВО ВЛАСТИ НАВАЖДЕНИЯ (ПЛАСТ.)         D        0   \n",
       "1  !ABBYY FineReader 12 Professional Edition Full...        1   \n",
       "2      ***В ЛУЧАХ СЛАВЫ   (UNV)                    D        2   \n",
       "3    ***ГОЛУБАЯ ВОЛНА  (Univ)                      D        3   \n",
       "4        ***КОРОБКА (СТЕКЛО)                       D        4   \n",
       "\n",
       "   item_category_id  \n",
       "0                40  \n",
       "1                76  \n",
       "2                40  \n",
       "3                40  \n",
       "4                40  "
      ]
     },
     "execution_count": 362,
     "metadata": {},
     "output_type": "execute_result"
    }
   ],
   "source": [
    "items = pd.read_csv('./input/competitive-data-science-predict-future-sales/items.csv')\n",
    "num_items = len(items)\n",
    "print(f'Number of items: {num_items}')\n",
    "items.head()"
   ]
  },
  {
   "cell_type": "code",
   "execution_count": 377,
   "id": "9b271699-b670-4c43-b030-3a6867234863",
   "metadata": {},
   "outputs": [
    {
     "data": {
      "text/plain": [
       "54"
      ]
     },
     "execution_count": 377,
     "metadata": {},
     "output_type": "execute_result"
    }
   ],
   "source": [
    "arr = list(map(lambda id: train[train.item_id == id].shop_id.nunique(), range(10))) # len(items)\n",
    "max(arr)"
   ]
  },
  {
   "cell_type": "code",
   "execution_count": 379,
   "id": "8974bc0e-d39f-4376-b675-3533a3024faf",
   "metadata": {},
   "outputs": [
    {
     "name": "stdout",
     "output_type": "stream",
     "text": [
      "7084\n",
      "50\n"
     ]
    }
   ],
   "source": [
    "print(train[train.shop_id == 5].item_id.nunique())\n",
    "print(train[train.item_id == 5037].shop_id.nunique())"
   ]
  },
  {
   "cell_type": "code",
   "execution_count": 359,
   "id": "73369196-51cf-4e0d-a8a1-576626d6af01",
   "metadata": {},
   "outputs": [
    {
     "name": "stdout",
     "output_type": "stream",
     "text": [
      "84\n"
     ]
    },
    {
     "data": {
      "text/html": [
       "<div>\n",
       "<style scoped>\n",
       "    .dataframe tbody tr th:only-of-type {\n",
       "        vertical-align: middle;\n",
       "    }\n",
       "\n",
       "    .dataframe tbody tr th {\n",
       "        vertical-align: top;\n",
       "    }\n",
       "\n",
       "    .dataframe thead th {\n",
       "        text-align: right;\n",
       "    }\n",
       "</style>\n",
       "<table border=\"1\" class=\"dataframe\">\n",
       "  <thead>\n",
       "    <tr style=\"text-align: right;\">\n",
       "      <th></th>\n",
       "      <th>item_category_name</th>\n",
       "      <th>item_category_id</th>\n",
       "    </tr>\n",
       "  </thead>\n",
       "  <tbody>\n",
       "    <tr>\n",
       "      <th>0</th>\n",
       "      <td>PC - Гарнитуры/Наушники</td>\n",
       "      <td>0</td>\n",
       "    </tr>\n",
       "    <tr>\n",
       "      <th>1</th>\n",
       "      <td>Аксессуары - PS2</td>\n",
       "      <td>1</td>\n",
       "    </tr>\n",
       "    <tr>\n",
       "      <th>2</th>\n",
       "      <td>Аксессуары - PS3</td>\n",
       "      <td>2</td>\n",
       "    </tr>\n",
       "    <tr>\n",
       "      <th>3</th>\n",
       "      <td>Аксессуары - PS4</td>\n",
       "      <td>3</td>\n",
       "    </tr>\n",
       "    <tr>\n",
       "      <th>4</th>\n",
       "      <td>Аксессуары - PSP</td>\n",
       "      <td>4</td>\n",
       "    </tr>\n",
       "  </tbody>\n",
       "</table>\n",
       "</div>"
      ],
      "text/plain": [
       "        item_category_name  item_category_id\n",
       "0  PC - Гарнитуры/Наушники                 0\n",
       "1         Аксессуары - PS2                 1\n",
       "2         Аксессуары - PS3                 2\n",
       "3         Аксессуары - PS4                 3\n",
       "4         Аксессуары - PSP                 4"
      ]
     },
     "execution_count": 359,
     "metadata": {},
     "output_type": "execute_result"
    }
   ],
   "source": [
    "item_categories = pd.read_csv('./input/competitive-data-science-predict-future-sales/item_categories.csv')\n",
    "print(len(item_categories))\n",
    "item_categories.head()"
   ]
  },
  {
   "cell_type": "code",
   "execution_count": 360,
   "id": "97d18fa9-abfd-408e-925e-b712eb75c663",
   "metadata": {},
   "outputs": [
    {
     "name": "stdout",
     "output_type": "stream",
     "text": [
      "4\n"
     ]
    },
    {
     "data": {
      "text/plain": [
       "5035"
      ]
     },
     "execution_count": 360,
     "metadata": {},
     "output_type": "execute_result"
    }
   ],
   "source": [
    "# items[items.item_id == 0]\n",
    "print(len(items[items.item_category_id == 0]))\n",
    "list(map(lambda id: len(items[items.item_category_id == id]), range(len(item_categories))))[:5]\n",
    "max(list(map(lambda id: len(items[items.item_category_id == id]), range(len(item_categories)))))\n",
    "# def get_related_items_by_category():"
   ]
  },
  {
   "cell_type": "code",
   "execution_count": 72,
   "id": "d6261003-c242-43a8-b7ba-0a8fe030270a",
   "metadata": {},
   "outputs": [
    {
     "name": "stdout",
     "output_type": "stream",
     "text": [
      "Number of shops: 60\n"
     ]
    }
   ],
   "source": [
    "shops = pd.read_csv('./input/competitive-data-science-predict-future-sales/shops.csv')\n",
    "# shops.head()\n",
    "num_shops = len(shops)\n",
    "print(f'Number of shops: {num_shops}')"
   ]
  },
  {
   "cell_type": "code",
   "execution_count": 58,
   "id": "a668e904-b308-48fc-9554-991cd2847c9a",
   "metadata": {},
   "outputs": [
    {
     "name": "stdout",
     "output_type": "stream",
     "text": [
      "Index(['date_block_num', 'shop_id', 'item_id', 'item_cnt_day'], dtype='object')\n"
     ]
    },
    {
     "data": {
      "text/html": [
       "<div>\n",
       "<style scoped>\n",
       "    .dataframe tbody tr th:only-of-type {\n",
       "        vertical-align: middle;\n",
       "    }\n",
       "\n",
       "    .dataframe tbody tr th {\n",
       "        vertical-align: top;\n",
       "    }\n",
       "\n",
       "    .dataframe thead th {\n",
       "        text-align: right;\n",
       "    }\n",
       "</style>\n",
       "<table border=\"1\" class=\"dataframe\">\n",
       "  <thead>\n",
       "    <tr style=\"text-align: right;\">\n",
       "      <th></th>\n",
       "      <th>date_block_num</th>\n",
       "      <th>shop_id</th>\n",
       "      <th>item_id</th>\n",
       "      <th>item_cnt_day</th>\n",
       "    </tr>\n",
       "  </thead>\n",
       "  <tbody>\n",
       "    <tr>\n",
       "      <th>0</th>\n",
       "      <td>0</td>\n",
       "      <td>0</td>\n",
       "      <td>32</td>\n",
       "      <td>6.0</td>\n",
       "    </tr>\n",
       "    <tr>\n",
       "      <th>1</th>\n",
       "      <td>0</td>\n",
       "      <td>0</td>\n",
       "      <td>33</td>\n",
       "      <td>3.0</td>\n",
       "    </tr>\n",
       "    <tr>\n",
       "      <th>2</th>\n",
       "      <td>0</td>\n",
       "      <td>0</td>\n",
       "      <td>35</td>\n",
       "      <td>1.0</td>\n",
       "    </tr>\n",
       "    <tr>\n",
       "      <th>3</th>\n",
       "      <td>0</td>\n",
       "      <td>0</td>\n",
       "      <td>43</td>\n",
       "      <td>1.0</td>\n",
       "    </tr>\n",
       "    <tr>\n",
       "      <th>4</th>\n",
       "      <td>0</td>\n",
       "      <td>0</td>\n",
       "      <td>51</td>\n",
       "      <td>2.0</td>\n",
       "    </tr>\n",
       "  </tbody>\n",
       "</table>\n",
       "</div>"
      ],
      "text/plain": [
       "   date_block_num  shop_id  item_id  item_cnt_day\n",
       "0               0        0       32           6.0\n",
       "1               0        0       33           3.0\n",
       "2               0        0       35           1.0\n",
       "3               0        0       43           1.0\n",
       "4               0        0       51           2.0"
      ]
     },
     "execution_count": 58,
     "metadata": {},
     "output_type": "execute_result"
    }
   ],
   "source": [
    "A = train.copy()\n",
    "A.pop('date')\n",
    "A.pop('item_price')\n",
    "print(A.columns)\n",
    "A = A.groupby(['date_block_num', 'shop_id', 'item_id']).sum() #.item_cnt_day.agg('sum')\n",
    "A = A.reset_index()\n",
    "A.head()"
   ]
  },
  {
   "cell_type": "code",
   "execution_count": 59,
   "id": "4b45c228-d060-4f6f-a258-da163e9ba818",
   "metadata": {},
   "outputs": [
    {
     "data": {
      "text/html": [
       "<div>\n",
       "<style scoped>\n",
       "    .dataframe tbody tr th:only-of-type {\n",
       "        vertical-align: middle;\n",
       "    }\n",
       "\n",
       "    .dataframe tbody tr th {\n",
       "        vertical-align: top;\n",
       "    }\n",
       "\n",
       "    .dataframe thead th {\n",
       "        text-align: right;\n",
       "    }\n",
       "</style>\n",
       "<table border=\"1\" class=\"dataframe\">\n",
       "  <thead>\n",
       "    <tr style=\"text-align: right;\">\n",
       "      <th></th>\n",
       "      <th>date</th>\n",
       "      <th>date_block_num</th>\n",
       "      <th>shop_id</th>\n",
       "      <th>item_id</th>\n",
       "      <th>item_price</th>\n",
       "      <th>item_cnt_day</th>\n",
       "    </tr>\n",
       "  </thead>\n",
       "  <tbody>\n",
       "    <tr>\n",
       "      <th>40085</th>\n",
       "      <td>03.01.2013</td>\n",
       "      <td>0</td>\n",
       "      <td>0</td>\n",
       "      <td>32</td>\n",
       "      <td>221.0</td>\n",
       "      <td>2.0</td>\n",
       "    </tr>\n",
       "    <tr>\n",
       "      <th>40086</th>\n",
       "      <td>21.01.2013</td>\n",
       "      <td>0</td>\n",
       "      <td>0</td>\n",
       "      <td>32</td>\n",
       "      <td>221.0</td>\n",
       "      <td>2.0</td>\n",
       "    </tr>\n",
       "    <tr>\n",
       "      <th>40087</th>\n",
       "      <td>25.01.2013</td>\n",
       "      <td>0</td>\n",
       "      <td>0</td>\n",
       "      <td>32</td>\n",
       "      <td>221.0</td>\n",
       "      <td>1.0</td>\n",
       "    </tr>\n",
       "    <tr>\n",
       "      <th>40088</th>\n",
       "      <td>31.01.2013</td>\n",
       "      <td>0</td>\n",
       "      <td>0</td>\n",
       "      <td>32</td>\n",
       "      <td>221.0</td>\n",
       "      <td>1.0</td>\n",
       "    </tr>\n",
       "  </tbody>\n",
       "</table>\n",
       "</div>"
      ],
      "text/plain": [
       "             date  date_block_num  shop_id  item_id  item_price  item_cnt_day\n",
       "40085  03.01.2013               0        0       32       221.0           2.0\n",
       "40086  21.01.2013               0        0       32       221.0           2.0\n",
       "40087  25.01.2013               0        0       32       221.0           1.0\n",
       "40088  31.01.2013               0        0       32       221.0           1.0"
      ]
     },
     "execution_count": 59,
     "metadata": {},
     "output_type": "execute_result"
    }
   ],
   "source": [
    "train[(train.date_block_num == 0) & (train.shop_id == 0) & (train.item_id == 32)]"
   ]
  },
  {
   "cell_type": "code",
   "execution_count": 60,
   "id": "33294591-4c1b-4859-b463-5b7712592fe9",
   "metadata": {},
   "outputs": [
    {
     "data": {
      "text/html": [
       "<div>\n",
       "<style scoped>\n",
       "    .dataframe tbody tr th:only-of-type {\n",
       "        vertical-align: middle;\n",
       "    }\n",
       "\n",
       "    .dataframe tbody tr th {\n",
       "        vertical-align: top;\n",
       "    }\n",
       "\n",
       "    .dataframe thead th {\n",
       "        text-align: right;\n",
       "    }\n",
       "</style>\n",
       "<table border=\"1\" class=\"dataframe\">\n",
       "  <thead>\n",
       "    <tr style=\"text-align: right;\">\n",
       "      <th></th>\n",
       "      <th>date_block_num</th>\n",
       "      <th>shop_id</th>\n",
       "      <th>item_id</th>\n",
       "      <th>item_cnt_day</th>\n",
       "    </tr>\n",
       "  </thead>\n",
       "  <tbody>\n",
       "    <tr>\n",
       "      <th>75150</th>\n",
       "      <td>1</td>\n",
       "      <td>13</td>\n",
       "      <td>6004</td>\n",
       "      <td>1.0</td>\n",
       "    </tr>\n",
       "    <tr>\n",
       "      <th>75151</th>\n",
       "      <td>1</td>\n",
       "      <td>13</td>\n",
       "      <td>6005</td>\n",
       "      <td>1.0</td>\n",
       "    </tr>\n",
       "    <tr>\n",
       "      <th>75152</th>\n",
       "      <td>1</td>\n",
       "      <td>13</td>\n",
       "      <td>6013</td>\n",
       "      <td>1.0</td>\n",
       "    </tr>\n",
       "    <tr>\n",
       "      <th>75153</th>\n",
       "      <td>1</td>\n",
       "      <td>13</td>\n",
       "      <td>6031</td>\n",
       "      <td>1.0</td>\n",
       "    </tr>\n",
       "    <tr>\n",
       "      <th>75154</th>\n",
       "      <td>1</td>\n",
       "      <td>13</td>\n",
       "      <td>6045</td>\n",
       "      <td>4.0</td>\n",
       "    </tr>\n",
       "  </tbody>\n",
       "</table>\n",
       "</div>"
      ],
      "text/plain": [
       "       date_block_num  shop_id  item_id  item_cnt_day\n",
       "75150               1       13     6004           1.0\n",
       "75151               1       13     6005           1.0\n",
       "75152               1       13     6013           1.0\n",
       "75153               1       13     6031           1.0\n",
       "75154               1       13     6045           4.0"
      ]
     },
     "execution_count": 60,
     "metadata": {},
     "output_type": "execute_result"
    }
   ],
   "source": [
    "A[75150:75155]"
   ]
  },
  {
   "cell_type": "code",
   "execution_count": 61,
   "id": "75ac6edc-fdb6-4358-9f23-2ddb4a0ae6f3",
   "metadata": {},
   "outputs": [
    {
     "data": {
      "text/html": [
       "<div>\n",
       "<style scoped>\n",
       "    .dataframe tbody tr th:only-of-type {\n",
       "        vertical-align: middle;\n",
       "    }\n",
       "\n",
       "    .dataframe tbody tr th {\n",
       "        vertical-align: top;\n",
       "    }\n",
       "\n",
       "    .dataframe thead th {\n",
       "        text-align: right;\n",
       "    }\n",
       "</style>\n",
       "<table border=\"1\" class=\"dataframe\">\n",
       "  <thead>\n",
       "    <tr style=\"text-align: right;\">\n",
       "      <th></th>\n",
       "      <th>date</th>\n",
       "      <th>date_block_num</th>\n",
       "      <th>shop_id</th>\n",
       "      <th>item_id</th>\n",
       "      <th>item_price</th>\n",
       "      <th>item_cnt_day</th>\n",
       "    </tr>\n",
       "  </thead>\n",
       "  <tbody>\n",
       "    <tr>\n",
       "      <th>149057</th>\n",
       "      <td>04.02.2013</td>\n",
       "      <td>1</td>\n",
       "      <td>13</td>\n",
       "      <td>6045</td>\n",
       "      <td>190.0</td>\n",
       "      <td>1.0</td>\n",
       "    </tr>\n",
       "    <tr>\n",
       "      <th>149058</th>\n",
       "      <td>11.02.2013</td>\n",
       "      <td>1</td>\n",
       "      <td>13</td>\n",
       "      <td>6045</td>\n",
       "      <td>190.0</td>\n",
       "      <td>1.0</td>\n",
       "    </tr>\n",
       "    <tr>\n",
       "      <th>149059</th>\n",
       "      <td>20.02.2013</td>\n",
       "      <td>1</td>\n",
       "      <td>13</td>\n",
       "      <td>6045</td>\n",
       "      <td>190.0</td>\n",
       "      <td>1.0</td>\n",
       "    </tr>\n",
       "    <tr>\n",
       "      <th>149060</th>\n",
       "      <td>23.02.2013</td>\n",
       "      <td>1</td>\n",
       "      <td>13</td>\n",
       "      <td>6045</td>\n",
       "      <td>190.0</td>\n",
       "      <td>1.0</td>\n",
       "    </tr>\n",
       "  </tbody>\n",
       "</table>\n",
       "</div>"
      ],
      "text/plain": [
       "              date  date_block_num  shop_id  item_id  item_price  item_cnt_day\n",
       "149057  04.02.2013               1       13     6045       190.0           1.0\n",
       "149058  11.02.2013               1       13     6045       190.0           1.0\n",
       "149059  20.02.2013               1       13     6045       190.0           1.0\n",
       "149060  23.02.2013               1       13     6045       190.0           1.0"
      ]
     },
     "execution_count": 61,
     "metadata": {},
     "output_type": "execute_result"
    }
   ],
   "source": [
    "train[(train.date_block_num == 1) & (train.shop_id == 13) & (train.item_id == 6045)]"
   ]
  },
  {
   "cell_type": "code",
   "execution_count": 62,
   "id": "0eacc87b-371c-4465-93d2-e2db49587674",
   "metadata": {},
   "outputs": [
    {
     "data": {
      "text/plain": [
       "1609124"
      ]
     },
     "execution_count": 62,
     "metadata": {},
     "output_type": "execute_result"
    }
   ],
   "source": [
    "len(A)"
   ]
  },
  {
   "cell_type": "code",
   "execution_count": 76,
   "id": "6943ac5d-7174-41f9-a63d-dddc77b23e0f",
   "metadata": {},
   "outputs": [
    {
     "name": "stdout",
     "output_type": "stream",
     "text": [
      "34\n"
     ]
    },
    {
     "data": {
      "text/html": [
       "<div>\n",
       "<style scoped>\n",
       "    .dataframe tbody tr th:only-of-type {\n",
       "        vertical-align: middle;\n",
       "    }\n",
       "\n",
       "    .dataframe tbody tr th {\n",
       "        vertical-align: top;\n",
       "    }\n",
       "\n",
       "    .dataframe thead th {\n",
       "        text-align: right;\n",
       "    }\n",
       "</style>\n",
       "<table border=\"1\" class=\"dataframe\">\n",
       "  <thead>\n",
       "    <tr style=\"text-align: right;\">\n",
       "      <th></th>\n",
       "      <th>date</th>\n",
       "      <th>date_block_num</th>\n",
       "      <th>shop_id</th>\n",
       "      <th>item_id</th>\n",
       "      <th>item_price</th>\n",
       "      <th>item_cnt_day</th>\n",
       "    </tr>\n",
       "  </thead>\n",
       "  <tbody>\n",
       "    <tr>\n",
       "      <th>2935844</th>\n",
       "      <td>10.10.2015</td>\n",
       "      <td>33</td>\n",
       "      <td>25</td>\n",
       "      <td>7409</td>\n",
       "      <td>299.0</td>\n",
       "      <td>1.0</td>\n",
       "    </tr>\n",
       "    <tr>\n",
       "      <th>2935845</th>\n",
       "      <td>09.10.2015</td>\n",
       "      <td>33</td>\n",
       "      <td>25</td>\n",
       "      <td>7460</td>\n",
       "      <td>299.0</td>\n",
       "      <td>1.0</td>\n",
       "    </tr>\n",
       "    <tr>\n",
       "      <th>2935846</th>\n",
       "      <td>14.10.2015</td>\n",
       "      <td>33</td>\n",
       "      <td>25</td>\n",
       "      <td>7459</td>\n",
       "      <td>349.0</td>\n",
       "      <td>1.0</td>\n",
       "    </tr>\n",
       "    <tr>\n",
       "      <th>2935847</th>\n",
       "      <td>22.10.2015</td>\n",
       "      <td>33</td>\n",
       "      <td>25</td>\n",
       "      <td>7440</td>\n",
       "      <td>299.0</td>\n",
       "      <td>1.0</td>\n",
       "    </tr>\n",
       "    <tr>\n",
       "      <th>2935848</th>\n",
       "      <td>03.10.2015</td>\n",
       "      <td>33</td>\n",
       "      <td>25</td>\n",
       "      <td>7460</td>\n",
       "      <td>299.0</td>\n",
       "      <td>1.0</td>\n",
       "    </tr>\n",
       "  </tbody>\n",
       "</table>\n",
       "</div>"
      ],
      "text/plain": [
       "               date  date_block_num  shop_id  item_id  item_price  \\\n",
       "2935844  10.10.2015              33       25     7409       299.0   \n",
       "2935845  09.10.2015              33       25     7460       299.0   \n",
       "2935846  14.10.2015              33       25     7459       349.0   \n",
       "2935847  22.10.2015              33       25     7440       299.0   \n",
       "2935848  03.10.2015              33       25     7460       299.0   \n",
       "\n",
       "         item_cnt_day  \n",
       "2935844           1.0  \n",
       "2935845           1.0  \n",
       "2935846           1.0  \n",
       "2935847           1.0  \n",
       "2935848           1.0  "
      ]
     },
     "execution_count": 76,
     "metadata": {},
     "output_type": "execute_result"
    }
   ],
   "source": [
    "print(train.date_block_num.nunique())\n",
    "num_date_block_num = 34\n",
    "assert num_date_block_num == train.date_block_num.nunique()\n",
    "train.tail()"
   ]
  },
  {
   "cell_type": "code",
   "execution_count": 79,
   "id": "6903e55d-a455-46bf-ab20-4ed7e38b21b4",
   "metadata": {},
   "outputs": [
    {
     "data": {
      "text/plain": [
       "[[1, 2, 3], [2, [3, 2]]]"
      ]
     },
     "execution_count": 79,
     "metadata": {},
     "output_type": "execute_result"
    }
   ],
   "source": [
    "import numpy as np\n",
    "series = []\n",
    "series.append([1, 2, 3])\n",
    "series.append([2, [3, 2]])\n",
    "series"
   ]
  },
  {
   "cell_type": "code",
   "execution_count": 80,
   "id": "bb57b7ea-e4a8-41f5-b252-4ffc5e22e8d7",
   "metadata": {},
   "outputs": [
    {
     "data": {
      "text/plain": [
       "(60, 22170)"
      ]
     },
     "execution_count": 80,
     "metadata": {},
     "output_type": "execute_result"
    }
   ],
   "source": [
    "num_shops_bak = num_shops\n",
    "num_items_bak = num_items\n",
    "num_date_block_num_bak = num_date_block_num\n",
    "num_shops_bak, num_items_bak, num_date_block_num_bak"
   ]
  },
  {
   "cell_type": "code",
   "execution_count": null,
   "id": "8a0ef17f-98da-4b50-8012-62f48fa9993c",
   "metadata": {},
   "outputs": [],
   "source": [
    "i, k, m = 1, 13, 6045\n",
    "len(A[(A.date_block_num == i) & (A.shop_id == k) & (A.item_id == m)].item_cnt_day)"
   ]
  },
  {
   "cell_type": "code",
   "execution_count": null,
   "id": "5f0b4124-c862-4f74-b831-99e087a58fa8",
   "metadata": {},
   "outputs": [],
   "source": [
    "# 1. Baseline\n",
    "# for each store\n",
    "#   for each item\n",
    "#     (time, item) one-dimentional forecasting \n",
    "#\n",
    "\n",
    "# 2.\n",
    "# For each item\n",
    "#    (time, [store1-item, store2-item, ...]) forecasting\n",
    "\n",
    "# 3.\n",
    "# For each item\n",
    "#    (time, [store1-item, store2-item, ..., mean_price-item-across-stores-monthly]) forecasting\n",
    "\n",
    "# 4.\n",
    "# Add category?\n",
    "\n",
    "# 5.\n",
    "# Across items?"
   ]
  },
  {
   "cell_type": "code",
   "execution_count": 334,
   "id": "d05f8b72-c95d-4270-aa1a-48f3e1ae3205",
   "metadata": {},
   "outputs": [
    {
     "name": "stdout",
     "output_type": "stream",
     "text": [
      "(34, 9)\n"
     ]
    }
   ],
   "source": [
    "num_date_block_num_used = 34\n",
    "shops = [0, 1, 25]\n",
    "items = [6045, 7460, 32]\n",
    "\n",
    "num_shops = len(shops)\n",
    "num_items = len(items)\n",
    "\n",
    "series = np.zeros((num_date_block_num_used, num_shops * num_items))\n",
    "\n",
    "print(series.shape)\n",
    "\n",
    "B = A[(A.shop_id.isin(shops)) & (A.item_id.isin(items)) & (A.date_block_num < num_date_block_num_used)]\n",
    "\n",
    "for index, row in B.iterrows():\n",
    "    shop_pos = shops.index(int(row.shop_id))\n",
    "    item_pos = items.index(int(row.item_id))\n",
    "    feature_pos = shop_pos * num_items + item_pos\n",
    "    series[int(row.date_block_num), feature_pos] = row.item_cnt_day"
   ]
  },
  {
   "cell_type": "code",
   "execution_count": 344,
   "id": "5eff269a-e6a0-40b4-b34b-8abc974dd085",
   "metadata": {},
   "outputs": [
    {
     "data": {
      "text/plain": [
       "array([ 0,  1,  4,  6,  7,  8, 12, 13, 14, 15, 18, 19, 21, 23, 25, 26, 27,\n",
       "       28, 29, 30, 31, 35, 42, 43, 45, 50, 51, 52, 53, 54, 56, 59,  3,  5,\n",
       "       16, 24, 32, 38, 44, 46, 10, 41, 57, 58, 37, 47, 17, 22, 49, 39,  2,\n",
       "       33, 48])"
      ]
     },
     "execution_count": 344,
     "metadata": {},
     "output_type": "execute_result"
    }
   ],
   "source": [
    "items = [6045]\n",
    "A[A.item_id.isin(items)].shop_id.unique()"
   ]
  },
  {
   "cell_type": "code",
   "execution_count": 643,
   "id": "0f9e4899-34d3-44bf-9139-bd3f7e2a5318",
   "metadata": {},
   "outputs": [
    {
     "name": "stdout",
     "output_type": "stream",
     "text": [
      "(34, 3)\n"
     ]
    }
   ],
   "source": [
    "def build_series_type1(A, target_shop_id = 5, target_item_id = 5037, num_date_block_num_used = 34):\n",
    "    series = np.zeros((num_date_block_num_used, 3))\n",
    "\n",
    "    B = A[(A.shop_id == target_shop_id)]\n",
    "    B = B.groupby(['date_block_num', 'shop_id']).item_cnt_day.agg('sum').reset_index()\n",
    "    for index, row in B.iterrows():\n",
    "        series[int(row.date_block_num), 0] = row.iloc[-1]\n",
    "    \n",
    "    C = A[(A.item_id == target_item_id)]\n",
    "    C = C.groupby(['date_block_num']).item_cnt_day.agg('sum').reset_index()\n",
    "    for index, row in C.iterrows():\n",
    "        series[int(row.date_block_num), 1] = row.iloc[-1]\n",
    "    \n",
    "    D = A[(A.shop_id == target_shop_id) & (A.item_id == target_item_id)]\n",
    "    for index, row in D.iterrows():\n",
    "        series[int(row.date_block_num), -1] = row.item_cnt_day    \n",
    "    \n",
    "    return series\n",
    "\n",
    "# series = build_series_type1(A)\n",
    "series = build_series_type1(A, target_shop_id = 5, target_item_id = 5320)\n",
    "print(series.shape)\n",
    "series[:34]\n",
    "\n",
    "def len_A_records(A,  target_shop_id = 5, target_item_id = 5320):\n",
    "    return len(A[(A.shop_id == target_shop_id) & (A.item_id == target_item_id)])\n",
    "\n",
    "# len_A_records(A, target_item_id = 5037)"
   ]
  },
  {
   "cell_type": "code",
   "execution_count": 644,
   "id": "99262dda-7aaa-4725-b5ce-cd3175ba100c",
   "metadata": {},
   "outputs": [
    {
     "name": "stdout",
     "output_type": "stream",
     "text": [
      "(34, 3)\n"
     ]
    },
    {
     "data": {
      "text/plain": [
       "array([0., 0., 0.])"
      ]
     },
     "execution_count": 644,
     "metadata": {},
     "output_type": "execute_result"
    }
   ],
   "source": [
    "print(series.shape)\n",
    "# series\n",
    "series[0]"
   ]
  },
  {
   "cell_type": "code",
   "execution_count": 645,
   "id": "d29ba9f9-bb63-45ae-a4a0-ac542ee2a21c",
   "metadata": {},
   "outputs": [
    {
     "data": {
      "text/plain": [
       "<AxesSubplot:>"
      ]
     },
     "execution_count": 645,
     "metadata": {},
     "output_type": "execute_result"
    },
    {
     "data": {
      "image/png": "[encoded data removed]",
      "text/plain": [
       "<Figure size 432x288 with 1 Axes>"
      ]
     },
     "metadata": {
      "needs_background": "light"
     },
     "output_type": "display_data"
    }
   ],
   "source": [
    "import seaborn as sns\n",
    "\n",
    "df = pd.DataFrame(series[:, :2])\n",
    "\n",
    "sns.lineplot(data = df)"
   ]
  },
  {
   "cell_type": "code",
   "execution_count": 646,
   "id": "21810f40-64e8-45d4-a7ae-dbff8bb91c0f",
   "metadata": {},
   "outputs": [
    {
     "name": "stdout",
     "output_type": "stream",
     "text": [
      "(15, 7, 3)\n",
      "(15, 7)\n",
      "(15, 7, 3)\n"
     ]
    }
   ],
   "source": [
    "def seq2seq_window_dataset_inner(series, window_size = 7):\n",
    "    ds = tf.data.Dataset.from_tensor_slices(series)\n",
    "    ds = ds.window(window_size + 1, shift = 1, drop_remainder = True)\n",
    "    ds = ds.flat_map(lambda w: w.batch(window_size + 1))\n",
    "    ds = ds.map(lambda w: (w[:-1], w[1:,-1]))\n",
    "    return ds\n",
    "    \n",
    "def seq2seq_window_dataset(series, batch_size = 3, shuffle_buffer = 1000):\n",
    "    ds = seq2seq_window_dataset_inner(series)\n",
    "    ds = ds.shuffle(shuffle_buffer)\n",
    "    return ds.batch(batch_size).prefetch(1)\n",
    "    \n",
    "def seq2seq_window_dataset_x_only(series, batch_size = 3, shuffle_buffer = 1000):\n",
    "    ds = seq2seq_window_dataset_inner(series)\n",
    "    ds = ds.map(lambda x, y: x)\n",
    "    return ds.batch(batch_size).prefetch(1)\n",
    "\n",
    "for X, y in seq2seq_window_dataset(series, 15):\n",
    "    print(X.shape)\n",
    "    print(y.shape)\n",
    "    break\n",
    "    \n",
    "for X in seq2seq_window_dataset_x_only(series, 15):\n",
    "    print(X.shape)\n",
    "    break"
   ]
  },
  {
   "cell_type": "markdown",
   "id": "d7e69f39-a0ab-46cd-ad30-58370ee1e275",
   "metadata": {},
   "source": [
    "# CNN"
   ]
  },
  {
   "cell_type": "code",
   "execution_count": 710,
   "id": "74943d5f-97df-4e71-9a80-cc5ad6684779",
   "metadata": {},
   "outputs": [
    {
     "name": "stdout",
     "output_type": "stream",
     "text": [
      "Model: \"sequential\"\n",
      "_________________________________________________________________\n",
      "Layer (type)                 Output Shape              Param #   \n",
      "=================================================================\n",
      "conv1d (Conv1D)              (None, None, 32)          224       \n",
      "_________________________________________________________________\n",
      "conv1d_1 (Conv1D)            (None, None, 32)          2080      \n",
      "_________________________________________________________________\n",
      "conv1d_2 (Conv1D)            (None, None, 32)          2080      \n",
      "_________________________________________________________________\n",
      "conv1d_3 (Conv1D)            (None, None, 32)          2080      \n",
      "_________________________________________________________________\n",
      "dense (Dense)                (None, None, 1)           33        \n",
      "=================================================================\n",
      "Total params: 6,497\n",
      "Trainable params: 6,497\n",
      "Non-trainable params: 0\n",
      "_________________________________________________________________\n"
     ]
    }
   ],
   "source": [
    "def build_model(series, window_size = 7, batch_size = 3):\n",
    "    split = int(len(series) * 0.7)\n",
    "    train = series[:split]\n",
    "    valid = series[split:]\n",
    "    \n",
    "    input_shape = train.shape[1]\n",
    "    # print(input_shape)\n",
    "    \n",
    "    assert window_size < len(train)\n",
    "    assert window_size < len(valid)\n",
    "    \n",
    "    keras.backend.clear_session()\n",
    "    tf.random.set_seed(1)\n",
    "    np.random.seed(1)\n",
    "    \n",
    "    train_set = seq2seq_window_dataset(train)\n",
    "    valid_set = seq2seq_window_dataset(valid)\n",
    "    \n",
    "    early_stopping = keras.callbacks.EarlyStopping(\n",
    "        patience = 10,\n",
    "        restore_best_weights = True,\n",
    "    )\n",
    "\n",
    "    model = keras.models.Sequential([\n",
    "        keras.layers.InputLayer(input_shape = [None, input_shape]),\n",
    "        # keras.layers.BatchNormalization(),\n",
    "    ])\n",
    "\n",
    "    # for dilation_rate in (1, 2, 4, 8, 16):\n",
    "    for dilation_rate in (1, 2, 4, 8):\n",
    "    # for dilation_rate in (1, 2, 4):    \n",
    "        model.add(keras.layers.Conv1D(\n",
    "            filters = 32,\n",
    "            # filters = 48, # 16\n",
    "            kernel_size = 2,\n",
    "            strides = 1,\n",
    "            dilation_rate = dilation_rate,\n",
    "            padding = 'causal',\n",
    "            activation = 'relu',\n",
    "        ))\n",
    "    \n",
    "    model.add(keras.layers.Dense(1))\n",
    "    return model, train_set, valid_set\n",
    "    \n",
    "model, train_set, valid_set = build_model(series)\n",
    "model.summary()"
   ]
  },
  {
   "cell_type": "code",
   "execution_count": 711,
   "id": "2664e390-193e-4234-8980-a4c81626df92",
   "metadata": {},
   "outputs": [
    {
     "data": {
      "text/plain": [
       "(TensorSpec(shape=(None, None, 3), dtype=tf.float64, name=None),\n",
       " TensorSpec(shape=(None, None), dtype=tf.float64, name=None))"
      ]
     },
     "execution_count": 711,
     "metadata": {},
     "output_type": "execute_result"
    }
   ],
   "source": [
    "train_set.element_spec"
   ]
  },
  {
   "cell_type": "code",
   "execution_count": 712,
   "id": "4b670b89-0421-4c93-8035-27d4dfe66352",
   "metadata": {},
   "outputs": [
    {
     "name": "stdout",
     "output_type": "stream",
     "text": [
      "Epoch 1/500\n",
      "6/6 [==============================] - 1s 45ms/step - loss: 26.0975 - mae: 26.5930 - val_loss: 13.9992 - val_mae: 14.4992\n",
      "Epoch 2/500\n",
      "6/6 [==============================] - 0s 7ms/step - loss: 8.9294 - mae: 9.4148 - val_loss: 9.3272 - val_mae: 9.7926\n",
      "Epoch 3/500\n",
      "6/6 [==============================] - 0s 7ms/step - loss: 6.2467 - mae: 6.7186 - val_loss: 5.4208 - val_mae: 5.9045\n",
      "Epoch 4/500\n",
      "6/6 [==============================] - 0s 7ms/step - loss: 3.7252 - mae: 4.1810 - val_loss: 3.7483 - val_mae: 4.2056\n",
      "Epoch 5/500\n",
      "6/6 [==============================] - 0s 7ms/step - loss: 2.5963 - mae: 3.0568 - val_loss: 2.4875 - val_mae: 2.9530\n",
      "Epoch 6/500\n",
      "6/6 [==============================] - 0s 7ms/step - loss: 2.0272 - mae: 2.4623 - val_loss: 1.5254 - val_mae: 1.9824\n",
      "Epoch 7/500\n",
      "6/6 [==============================] - 0s 7ms/step - loss: 1.8502 - mae: 2.3099 - val_loss: 1.6680 - val_mae: 2.0699\n",
      "Epoch 8/500\n",
      "6/6 [==============================] - 0s 7ms/step - loss: 1.5102 - mae: 1.9063 - val_loss: 1.2620 - val_mae: 1.6936\n",
      "Epoch 9/500\n",
      "6/6 [==============================] - 0s 7ms/step - loss: 0.9066 - mae: 1.3117 - val_loss: 1.5839 - val_mae: 2.0289\n",
      "Epoch 10/500\n",
      "6/6 [==============================] - 0s 7ms/step - loss: 0.7916 - mae: 1.1914 - val_loss: 1.3628 - val_mae: 1.8233\n",
      "Epoch 11/500\n",
      "6/6 [==============================] - 0s 9ms/step - loss: 0.6090 - mae: 0.9803 - val_loss: 1.3676 - val_mae: 1.8257\n",
      "Epoch 12/500\n",
      "6/6 [==============================] - 0s 7ms/step - loss: 0.5067 - mae: 0.8710 - val_loss: 1.1475 - val_mae: 1.5944\n",
      "Epoch 13/500\n",
      "6/6 [==============================] - 0s 7ms/step - loss: 0.5550 - mae: 0.9531 - val_loss: 2.2116 - val_mae: 2.6949\n",
      "Epoch 14/500\n",
      "6/6 [==============================] - 0s 7ms/step - loss: 0.8889 - mae: 1.2856 - val_loss: 1.2440 - val_mae: 1.6905\n",
      "Epoch 15/500\n",
      "6/6 [==============================] - 0s 7ms/step - loss: 0.4528 - mae: 0.8199 - val_loss: 1.8223 - val_mae: 2.3045\n",
      "Epoch 16/500\n",
      "6/6 [==============================] - 0s 7ms/step - loss: 0.4149 - mae: 0.7585 - val_loss: 0.8798 - val_mae: 1.3141\n",
      "Epoch 17/500\n",
      "6/6 [==============================] - 0s 8ms/step - loss: 0.5256 - mae: 0.9053 - val_loss: 1.0562 - val_mae: 1.4604\n",
      "Epoch 18/500\n",
      "6/6 [==============================] - 0s 8ms/step - loss: 0.4947 - mae: 0.8559 - val_loss: 1.3419 - val_mae: 1.7765\n",
      "Epoch 19/500\n",
      "6/6 [==============================] - 0s 8ms/step - loss: 0.5340 - mae: 0.9007 - val_loss: 1.8518 - val_mae: 2.3112\n",
      "Epoch 20/500\n",
      "6/6 [==============================] - 0s 7ms/step - loss: 0.4061 - mae: 0.7879 - val_loss: 1.3594 - val_mae: 1.7986\n",
      "Epoch 21/500\n",
      "6/6 [==============================] - 0s 8ms/step - loss: 0.4257 - mae: 0.7929 - val_loss: 0.9597 - val_mae: 1.3784\n",
      "Epoch 22/500\n",
      "6/6 [==============================] - 0s 7ms/step - loss: 0.3621 - mae: 0.7126 - val_loss: 1.0284 - val_mae: 1.4326\n",
      "Epoch 23/500\n",
      "6/6 [==============================] - 0s 8ms/step - loss: 0.3662 - mae: 0.7170 - val_loss: 1.4287 - val_mae: 1.8847\n",
      "Epoch 24/500\n",
      "6/6 [==============================] - 0s 8ms/step - loss: 0.3811 - mae: 0.7347 - val_loss: 2.3802 - val_mae: 2.8553\n",
      "Epoch 25/500\n",
      "6/6 [==============================] - 0s 7ms/step - loss: 0.7471 - mae: 1.1678 - val_loss: 1.0830 - val_mae: 1.5045\n",
      "Epoch 26/500\n",
      "6/6 [==============================] - 0s 8ms/step - loss: 0.4066 - mae: 0.7588 - val_loss: 1.0519 - val_mae: 1.4878\n"
     ]
    }
   ],
   "source": [
    "def fit_model(model, train_set, valid_set, verbose = 1):\n",
    "    model.compile(\n",
    "        optimizer = 'adam',\n",
    "        loss = 'huber',\n",
    "        metrics = ['mae'],\n",
    "    )\n",
    "\n",
    "    history = model.fit(\n",
    "        train_set,\n",
    "        epochs = 500,\n",
    "        validation_data = valid_set,\n",
    "        callbacks = [early_stopping],\n",
    "        verbose = verbose,\n",
    "    )\n",
    "    return history\n",
    "    \n",
    "history = fit_model(model, train_set, valid_set)\n"
   ]
  },
  {
   "cell_type": "code",
   "execution_count": 713,
   "id": "989db705-3b27-42c3-a873-4767d3a9128f",
   "metadata": {},
   "outputs": [
    {
     "name": "stdout",
     "output_type": "stream",
     "text": [
      "Validation MAE min: 1.3141286373138428\n"
     ]
    },
    {
     "data": {
      "image/png": "[encoded data removed]",
      "text/plain": [
       "<Figure size 432x288 with 1 Axes>"
      ]
     },
     "metadata": {
      "needs_background": "light"
     },
     "output_type": "display_data"
    }
   ],
   "source": [
    "history_df = pd.DataFrame(history.history)\n",
    "history_df.loc[:, ['mae', 'val_mae']].plot(title = 'MAE')\n",
    "print(f'Validation MAE min: {history_df.val_mae.min()}')"
   ]
  },
  {
   "cell_type": "code",
   "execution_count": 714,
   "id": "21f42031-dab8-45a2-b68e-4c39e1f38fb5",
   "metadata": {},
   "outputs": [
    {
     "name": "stdout",
     "output_type": "stream",
     "text": [
      "1.317666600699778\n"
     ]
    },
    {
     "data": {
      "image/png": "[encoded data removed]",
      "text/plain": [
       "<Figure size 432x288 with 1 Axes>"
      ]
     },
     "metadata": {
      "needs_background": "light"
     },
     "output_type": "display_data"
    }
   ],
   "source": [
    "import seaborn as sns\n",
    "\n",
    "def model_forecast_inner(model, series, pos = -1):\n",
    "    ds = seq2seq_window_dataset_x_only(series)\n",
    "    cnn_forecast = model.predict(ds)\n",
    "\n",
    "    # print(cnn_forecast.shape)\n",
    "    f = cnn_forecast[:,-1,-1]\n",
    "    return f\n",
    "\n",
    "def model_forecast(model, series):    \n",
    "    pos = -1\n",
    "    f = model_forecast_inner(model, series, pos)\n",
    "    s = series[window_size:,pos] # this should be window_size - 1 ...\n",
    "\n",
    "    T1 = pd.DataFrame({\n",
    "        'x': list(range(window_size, window_size + len(f))),\n",
    "        'y': f,\n",
    "        't': 'forecast',\n",
    "    })\n",
    "    T2 = pd.DataFrame({\n",
    "        'x': list(range(window_size, window_size + len(f))),\n",
    "        'y': s,\n",
    "        't': 'real',\n",
    "    })\n",
    "    T3 = pd.DataFrame({\n",
    "        'x': list(range(window_size, window_size + len(f))),\n",
    "        'y': series[window_size:,-2],\n",
    "        't': 'all',\n",
    "    })\n",
    "    \n",
    "    # df = pd.concat([T1, T2, T3])\n",
    "    df = pd.concat([T1, T2])\n",
    "\n",
    "    sns.lineplot(data = df, x = 'x', y = 'y', hue = 't')\n",
    "    print(keras.metrics.mean_absolute_error(f, s).numpy())\n",
    "    \n",
    "model_forecast(model, series)    "
   ]
  },
  {
   "cell_type": "code",
   "execution_count": 715,
   "id": "8d61a656-8dd5-4696-b2db-6ee0c40d03e7",
   "metadata": {},
   "outputs": [
    {
     "data": {
      "text/plain": [
       "1.9651349"
      ]
     },
     "execution_count": 715,
     "metadata": {},
     "output_type": "execute_result"
    }
   ],
   "source": [
    "model_forecast_inner(model, series)[-1]"
   ]
  },
  {
   "cell_type": "code",
   "execution_count": 716,
   "id": "42e1ea5f-8d82-4044-83b6-8e22a7f1b210",
   "metadata": {},
   "outputs": [
    {
     "data": {
      "text/html": [
       "<div>\n",
       "<style scoped>\n",
       "    .dataframe tbody tr th:only-of-type {\n",
       "        vertical-align: middle;\n",
       "    }\n",
       "\n",
       "    .dataframe tbody tr th {\n",
       "        vertical-align: top;\n",
       "    }\n",
       "\n",
       "    .dataframe thead th {\n",
       "        text-align: right;\n",
       "    }\n",
       "</style>\n",
       "<table border=\"1\" class=\"dataframe\">\n",
       "  <thead>\n",
       "    <tr style=\"text-align: right;\">\n",
       "      <th></th>\n",
       "      <th>ID</th>\n",
       "      <th>item_cnt_month</th>\n",
       "    </tr>\n",
       "  </thead>\n",
       "  <tbody>\n",
       "    <tr>\n",
       "      <th>0</th>\n",
       "      <td>0</td>\n",
       "      <td>1.965135</td>\n",
       "    </tr>\n",
       "    <tr>\n",
       "      <th>1</th>\n",
       "      <td>1</td>\n",
       "      <td>-0.232351</td>\n",
       "    </tr>\n",
       "    <tr>\n",
       "      <th>2</th>\n",
       "      <td>2</td>\n",
       "      <td>1.370037</td>\n",
       "    </tr>\n",
       "    <tr>\n",
       "      <th>3</th>\n",
       "      <td>3</td>\n",
       "      <td>0.691563</td>\n",
       "    </tr>\n",
       "    <tr>\n",
       "      <th>4</th>\n",
       "      <td>4</td>\n",
       "      <td>-0.232351</td>\n",
       "    </tr>\n",
       "    <tr>\n",
       "      <th>5</th>\n",
       "      <td>5</td>\n",
       "      <td>1.556110</td>\n",
       "    </tr>\n",
       "    <tr>\n",
       "      <th>6</th>\n",
       "      <td>6</td>\n",
       "      <td>-1.408920</td>\n",
       "    </tr>\n",
       "    <tr>\n",
       "      <th>7</th>\n",
       "      <td>7</td>\n",
       "      <td>2.695721</td>\n",
       "    </tr>\n",
       "    <tr>\n",
       "      <th>8</th>\n",
       "      <td>8</td>\n",
       "      <td>1.183294</td>\n",
       "    </tr>\n",
       "    <tr>\n",
       "      <th>9</th>\n",
       "      <td>9</td>\n",
       "      <td>-0.020534</td>\n",
       "    </tr>\n",
       "    <tr>\n",
       "      <th>10</th>\n",
       "      <td>10</td>\n",
       "      <td>2.997499</td>\n",
       "    </tr>\n",
       "    <tr>\n",
       "      <th>11</th>\n",
       "      <td>11</td>\n",
       "      <td>-1.485386</td>\n",
       "    </tr>\n",
       "  </tbody>\n",
       "</table>\n",
       "</div>"
      ],
      "text/plain": [
       "    ID  item_cnt_month\n",
       "0    0        1.965135\n",
       "1    1       -0.232351\n",
       "2    2        1.370037\n",
       "3    3        0.691563\n",
       "4    4       -0.232351\n",
       "5    5        1.556110\n",
       "6    6       -1.408920\n",
       "7    7        2.695721\n",
       "8    8        1.183294\n",
       "9    9       -0.020534\n",
       "10  10        2.997499\n",
       "11  11       -1.485386"
      ]
     },
     "execution_count": 716,
     "metadata": {},
     "output_type": "execute_result"
    }
   ],
   "source": [
    "result_df_slow = pd.DataFrame()\n",
    "for index, row in test.iterrows():\n",
    "    ID = int(row.ID)\n",
    "    shop_id = int(row.shop_id)\n",
    "    item_id = int(row.item_id)\n",
    "        \n",
    "    series = build_series_type1(A, shop_id, item_id)\n",
    "    model, train_set, valid_set = build_model(series)\n",
    "    history = fit_model(model, train_set, valid_set, verbose = 0)\n",
    "    res_val = model_forecast_inner(model, series)[-1]\n",
    "    result_df_slow = result_df_slow.append({'ID': ID, 'item_cnt_month': res_val}, ignore_index=True)\n",
    "    if index > 10:\n",
    "        break\n",
    "\n",
    "result_df_slow.ID = result_df_slow.ID.astype(int)\n",
    "result_df_slow"
   ]
  },
  {
   "cell_type": "code",
   "execution_count": 670,
   "id": "8fde3781-7bce-4209-ba36-7171968ef932",
   "metadata": {},
   "outputs": [
    {
     "name": "stdout",
     "output_type": "stream",
     "text": [
      "fit +++ 1326\n",
      "fit ---\n",
      "predict +++\n",
      "predict ---\n",
      "5.903513193130493\n"
     ]
    },
    {
     "data": {
      "text/html": [
       "<div>\n",
       "<style scoped>\n",
       "    .dataframe tbody tr th:only-of-type {\n",
       "        vertical-align: middle;\n",
       "    }\n",
       "\n",
       "    .dataframe tbody tr th {\n",
       "        vertical-align: top;\n",
       "    }\n",
       "\n",
       "    .dataframe thead th {\n",
       "        text-align: right;\n",
       "    }\n",
       "</style>\n",
       "<table border=\"1\" class=\"dataframe\">\n",
       "  <thead>\n",
       "    <tr style=\"text-align: right;\">\n",
       "      <th></th>\n",
       "      <th>ID</th>\n",
       "      <th>item_cnt_month</th>\n",
       "    </tr>\n",
       "  </thead>\n",
       "  <tbody>\n",
       "    <tr>\n",
       "      <th>0</th>\n",
       "      <td>0</td>\n",
       "      <td>1.965135</td>\n",
       "    </tr>\n",
       "    <tr>\n",
       "      <th>1</th>\n",
       "      <td>1</td>\n",
       "      <td>0.000000</td>\n",
       "    </tr>\n",
       "    <tr>\n",
       "      <th>2</th>\n",
       "      <td>2</td>\n",
       "      <td>2.440616</td>\n",
       "    </tr>\n",
       "    <tr>\n",
       "      <th>3</th>\n",
       "      <td>3</td>\n",
       "      <td>0.000000</td>\n",
       "    </tr>\n",
       "    <tr>\n",
       "      <th>4</th>\n",
       "      <td>4</td>\n",
       "      <td>0.000000</td>\n",
       "    </tr>\n",
       "    <tr>\n",
       "      <th>...</th>\n",
       "      <td>...</td>\n",
       "      <td>...</td>\n",
       "    </tr>\n",
       "    <tr>\n",
       "      <th>97</th>\n",
       "      <td>97</td>\n",
       "      <td>2.086292</td>\n",
       "    </tr>\n",
       "    <tr>\n",
       "      <th>98</th>\n",
       "      <td>98</td>\n",
       "      <td>1.974823</td>\n",
       "    </tr>\n",
       "    <tr>\n",
       "      <th>99</th>\n",
       "      <td>99</td>\n",
       "      <td>2.027957</td>\n",
       "    </tr>\n",
       "    <tr>\n",
       "      <th>100</th>\n",
       "      <td>100</td>\n",
       "      <td>1.783574</td>\n",
       "    </tr>\n",
       "    <tr>\n",
       "      <th>101</th>\n",
       "      <td>101</td>\n",
       "      <td>0.000000</td>\n",
       "    </tr>\n",
       "  </tbody>\n",
       "</table>\n",
       "<p>102 rows × 2 columns</p>\n",
       "</div>"
      ],
      "text/plain": [
       "      ID  item_cnt_month\n",
       "0      0        1.965135\n",
       "1      1        0.000000\n",
       "2      2        2.440616\n",
       "3      3        0.000000\n",
       "4      4        0.000000\n",
       "..   ...             ...\n",
       "97    97        2.086292\n",
       "98    98        1.974823\n",
       "99    99        2.027957\n",
       "100  100        1.783574\n",
       "101  101        0.000000\n",
       "\n",
       "[102 rows x 2 columns]"
      ]
     },
     "execution_count": 670,
     "metadata": {},
     "output_type": "execute_result"
    }
   ],
   "source": [
    "model_series = []\n",
    "for index, row in test.iterrows():\n",
    "    shop_id = int(row.shop_id)\n",
    "    item_id = int(row.item_id)\n",
    "    if len_A_records(A, target_shop_id = shop_id, target_item_id = item_id) > 7:\n",
    "        s = build_series_type1(A, shop_id, item_id)\n",
    "        model_series.append(s)\n",
    "    if index > 100:\n",
    "        break\n",
    "\n",
    "model_series = np.concatenate(model_series, axis = 0)\n",
    "print(f\"fit +++ {len(model_series)}\")\n",
    "model, train_set, valid_set = build_model(series)\n",
    "history = fit_model(model, train_set, valid_set, verbose = 0)\n",
    "print(\"fit ---\")\n",
    "\n",
    "# model_series.shape\n",
    "# model_series[:5]\n",
    "import time\n",
    "start = time.time()\n",
    "\n",
    "print(\"predict +++\")\n",
    "\n",
    "result_df = pd.DataFrame()\n",
    "for index, row in test.iterrows():\n",
    "    ID = int(row.ID)\n",
    "    shop_id = int(row.shop_id)\n",
    "    item_id = int(row.item_id)\n",
    "    res_val = 0\n",
    "    if len_A_records(A, target_shop_id = shop_id, target_item_id = item_id) > 1:\n",
    "        s = build_series_type1(A, shop_id, item_id)\n",
    "        res_val = model_forecast_inner(model, s)[-1]\n",
    "    result_df = result_df.append({'ID': ID, 'item_cnt_month': res_val}, ignore_index=True)\n",
    "    if index > 100:\n",
    "        break\n",
    "\n",
    "print(\"predict ---\")\n",
    "end = time.time()\n",
    "print(end - start)\n",
    "\n",
    "result_df.ID = result_df.ID.astype(int)\n",
    "    \n",
    "result_df"
   ]
  },
  {
   "cell_type": "code",
   "execution_count": 756,
   "id": "1879b031-cb5c-4a5c-a3d3-33fa8d29b7b3",
   "metadata": {},
   "outputs": [
    {
     "name": "stdout",
     "output_type": "stream",
     "text": [
      "shop id: 5 item id: 5046\n",
      "real            : 1.0\n",
      "predicted       :        2.2 MAE:      1.202\n",
      "predicted slow  :        2.7 MAE:      1.696\n"
     ]
    },
    {
     "data": {
      "image/png": "[encoded data removed]",
      "text/plain": [
       "<Figure size 432x288 with 1 Axes>"
      ]
     },
     "metadata": {
      "needs_background": "light"
     },
     "output_type": "display_data"
    }
   ],
   "source": [
    "import matplotlib.pyplot as plt\n",
    "\n",
    "ppos = 7\n",
    "test_item_id = test.item_id[ppos]\n",
    "test_shop_id = test.shop_id[ppos]\n",
    "print(f'shop id: {test_shop_id} item id: {test_item_id}')\n",
    "rows = A[(A.item_id == test_item_id) & (A.shop_id == test_shop_id)] \n",
    "real_val = rows.iloc[-1].item_cnt_day if len(rows) > 0 else 0\n",
    "predicted_val = result_df.item_cnt_month[ppos]\n",
    "print(f'real            : {real_val}')\n",
    "print(f'predicted       : {predicted_val:>10.3} MAE: {keras.metrics.mean_absolute_error([real_val], [predicted_val]):>10.4}')\n",
    "\n",
    "F = pd.DataFrame({'x': rows.date_block_num, 'y': rows.item_cnt_day})\n",
    "sns.lineplot(data = F, x = 'x', y = 'y')\n",
    "if len(rows) > 0:\n",
    "    plt.scatter(F.x.iloc[-1], predicted_val, marker='o', s=100, c = 'blue')\n",
    "    \n",
    "if (ppos < len(result_df_slow)):\n",
    "    predicted_val_slow = result_df_slow.item_cnt_month[ppos]\n",
    "    print(f'predicted slow  : {predicted_val_slow:>10.3} MAE: {keras.metrics.mean_absolute_error([real_val], [predicted_val_slow]):>10.4}')\n",
    "    if (len(rows) > 0):\n",
    "        plt.scatter(F.x.iloc[-1], predicted_val_slow, marker='o', s=100, c = 'red')\n",
    "\n",
    "\n",
    "#.iloc[-1].item_cnt_day"
   ]
  },
  {
   "cell_type": "code",
   "execution_count": 530,
   "id": "ef6b7bc1-a8ae-4138-9df6-13c62740138b",
   "metadata": {},
   "outputs": [],
   "source": [
    "result_df.to_csv('cnn_submission.csv', index_label = False)"
   ]
  },
  {
   "cell_type": "code",
   "execution_count": 630,
   "id": "e881e939-beeb-407c-aaf9-e143863830d4",
   "metadata": {},
   "outputs": [
    {
     "data": {
      "text/html": [
       "<div>\n",
       "<style scoped>\n",
       "    .dataframe tbody tr th:only-of-type {\n",
       "        vertical-align: middle;\n",
       "    }\n",
       "\n",
       "    .dataframe tbody tr th {\n",
       "        vertical-align: top;\n",
       "    }\n",
       "\n",
       "    .dataframe thead th {\n",
       "        text-align: right;\n",
       "    }\n",
       "</style>\n",
       "<table border=\"1\" class=\"dataframe\">\n",
       "  <thead>\n",
       "    <tr style=\"text-align: right;\">\n",
       "      <th></th>\n",
       "      <th>date</th>\n",
       "      <th>date_block_num</th>\n",
       "      <th>shop_id</th>\n",
       "      <th>item_id</th>\n",
       "      <th>item_price</th>\n",
       "      <th>item_cnt_day</th>\n",
       "    </tr>\n",
       "  </thead>\n",
       "  <tbody>\n",
       "  </tbody>\n",
       "</table>\n",
       "</div>"
      ],
      "text/plain": [
       "Empty DataFrame\n",
       "Columns: [date, date_block_num, shop_id, item_id, item_price, item_cnt_day]\n",
       "Index: []"
      ]
     },
     "execution_count": 630,
     "metadata": {},
     "output_type": "execute_result"
    }
   ],
   "source": [
    "train[(train.shop_id == 5) & (train.item_id == 5320)]"
   ]
  },
  {
   "cell_type": "code",
   "execution_count": 273,
   "id": "c9b58d4e-329f-4af6-9835-c481ba6a33df",
   "metadata": {},
   "outputs": [
    {
     "data": {
      "text/plain": [
       "(28, 9)"
      ]
     },
     "execution_count": 273,
     "metadata": {},
     "output_type": "execute_result"
    }
   ],
   "source": []
  },
  {
   "cell_type": "code",
   "execution_count": null,
   "id": "9640186c-d82b-4f6b-9fc2-c100a39a137c",
   "metadata": {},
   "outputs": [],
   "source": []
  },
  {
   "cell_type": "code",
   "execution_count": 430,
   "id": "b025f042-c211-485f-b3db-9b08c14919ad",
   "metadata": {},
   "outputs": [
    {
     "data": {
      "text/plain": [
       "[2, 3, 4, 5]"
      ]
     },
     "execution_count": 430,
     "metadata": {},
     "output_type": "execute_result"
    }
   ],
   "source": []
  },
  {
   "cell_type": "markdown",
   "id": "ef3253b9-0de8-4616-9811-3f4d60941b40",
   "metadata": {},
   "source": [
    "# Reference\n",
    "\n",
    "[UD187 - Intro to TensorFlow for Deep Learning - Lesson 8 Time Series Forcasting - 29. Wavenet](https://classroom.udacity.com/courses/ud187)"
   ]
  }
 ],
 "metadata": {
  "kernelspec": {
   "display_name": "Python 3",
   "language": "python",
   "name": "python3"
  },
  "language_info": {
   "codemirror_mode": {
    "name": "ipython",
    "version": 3
   },
   "file_extension": ".py",
   "mimetype": "text/x-python",
   "name": "python",
   "nbconvert_exporter": "python",
   "pygments_lexer": "ipython3",
   "version": "3.9.6"
  }
 },
 "nbformat": 4,
 "nbformat_minor": 5
}
