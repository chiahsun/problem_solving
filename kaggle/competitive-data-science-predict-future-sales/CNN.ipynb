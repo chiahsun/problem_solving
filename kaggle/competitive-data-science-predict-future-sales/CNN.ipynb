{
 "cells": [
  {
   "cell_type": "code",
   "execution_count": 1,
   "id": "77a42429-6ddb-4517-904c-abb2809d8215",
   "metadata": {},
   "outputs": [
    {
     "data": {
      "text/plain": [
       "'2.5.0'"
      ]
     },
     "execution_count": 1,
     "metadata": {},
     "output_type": "execute_result"
    }
   ],
   "source": [
    "import tensorflow as tf\n",
    "\n",
    "keras = tf.keras\n",
    "\n",
    "tf.__version__"
   ]
  },
  {
   "cell_type": "code",
   "execution_count": 54,
   "id": "71b8816a-0bbe-4bd8-832e-fa0f8e8686f7",
   "metadata": {},
   "outputs": [
    {
     "name": "stdout",
     "output_type": "stream",
     "text": [
      "2935849\n"
     ]
    },
    {
     "data": {
      "text/html": [
       "<div>\n",
       "<style scoped>\n",
       "    .dataframe tbody tr th:only-of-type {\n",
       "        vertical-align: middle;\n",
       "    }\n",
       "\n",
       "    .dataframe tbody tr th {\n",
       "        vertical-align: top;\n",
       "    }\n",
       "\n",
       "    .dataframe thead th {\n",
       "        text-align: right;\n",
       "    }\n",
       "</style>\n",
       "<table border=\"1\" class=\"dataframe\">\n",
       "  <thead>\n",
       "    <tr style=\"text-align: right;\">\n",
       "      <th></th>\n",
       "      <th>date</th>\n",
       "      <th>date_block_num</th>\n",
       "      <th>shop_id</th>\n",
       "      <th>item_id</th>\n",
       "      <th>item_price</th>\n",
       "      <th>item_cnt_day</th>\n",
       "    </tr>\n",
       "  </thead>\n",
       "  <tbody>\n",
       "    <tr>\n",
       "      <th>0</th>\n",
       "      <td>02.01.2013</td>\n",
       "      <td>0</td>\n",
       "      <td>59</td>\n",
       "      <td>22154</td>\n",
       "      <td>999.00</td>\n",
       "      <td>1.0</td>\n",
       "    </tr>\n",
       "    <tr>\n",
       "      <th>1</th>\n",
       "      <td>03.01.2013</td>\n",
       "      <td>0</td>\n",
       "      <td>25</td>\n",
       "      <td>2552</td>\n",
       "      <td>899.00</td>\n",
       "      <td>1.0</td>\n",
       "    </tr>\n",
       "    <tr>\n",
       "      <th>2</th>\n",
       "      <td>05.01.2013</td>\n",
       "      <td>0</td>\n",
       "      <td>25</td>\n",
       "      <td>2552</td>\n",
       "      <td>899.00</td>\n",
       "      <td>-1.0</td>\n",
       "    </tr>\n",
       "    <tr>\n",
       "      <th>3</th>\n",
       "      <td>06.01.2013</td>\n",
       "      <td>0</td>\n",
       "      <td>25</td>\n",
       "      <td>2554</td>\n",
       "      <td>1709.05</td>\n",
       "      <td>1.0</td>\n",
       "    </tr>\n",
       "    <tr>\n",
       "      <th>4</th>\n",
       "      <td>15.01.2013</td>\n",
       "      <td>0</td>\n",
       "      <td>25</td>\n",
       "      <td>2555</td>\n",
       "      <td>1099.00</td>\n",
       "      <td>1.0</td>\n",
       "    </tr>\n",
       "  </tbody>\n",
       "</table>\n",
       "</div>"
      ],
      "text/plain": [
       "         date  date_block_num  shop_id  item_id  item_price  item_cnt_day\n",
       "0  02.01.2013               0       59    22154      999.00           1.0\n",
       "1  03.01.2013               0       25     2552      899.00           1.0\n",
       "2  05.01.2013               0       25     2552      899.00          -1.0\n",
       "3  06.01.2013               0       25     2554     1709.05           1.0\n",
       "4  15.01.2013               0       25     2555     1099.00           1.0"
      ]
     },
     "execution_count": 54,
     "metadata": {},
     "output_type": "execute_result"
    }
   ],
   "source": [
    "import pandas as pd\n",
    "\n",
    "train = pd.read_csv('./input/competitive-data-science-predict-future-sales/sales_train.csv')\n",
    "print(len(train))\n",
    "train.head()"
   ]
  },
  {
   "cell_type": "code",
   "execution_count": 24,
   "id": "c57f8d60-1633-4a2f-81b0-5f3b48863082",
   "metadata": {},
   "outputs": [
    {
     "data": {
      "text/html": [
       "<div>\n",
       "<style scoped>\n",
       "    .dataframe tbody tr th:only-of-type {\n",
       "        vertical-align: middle;\n",
       "    }\n",
       "\n",
       "    .dataframe tbody tr th {\n",
       "        vertical-align: top;\n",
       "    }\n",
       "\n",
       "    .dataframe thead th {\n",
       "        text-align: right;\n",
       "    }\n",
       "</style>\n",
       "<table border=\"1\" class=\"dataframe\">\n",
       "  <thead>\n",
       "    <tr style=\"text-align: right;\">\n",
       "      <th></th>\n",
       "      <th>date</th>\n",
       "      <th>date_block_num</th>\n",
       "      <th>shop_id</th>\n",
       "      <th>item_id</th>\n",
       "      <th>item_price</th>\n",
       "      <th>item_cnt_day</th>\n",
       "    </tr>\n",
       "  </thead>\n",
       "  <tbody>\n",
       "    <tr>\n",
       "      <th>155030</th>\n",
       "      <td>25.02.2013</td>\n",
       "      <td>1</td>\n",
       "      <td>23</td>\n",
       "      <td>4128</td>\n",
       "      <td>899.0</td>\n",
       "      <td>1.0</td>\n",
       "    </tr>\n",
       "    <tr>\n",
       "      <th>155031</th>\n",
       "      <td>26.02.2013</td>\n",
       "      <td>1</td>\n",
       "      <td>23</td>\n",
       "      <td>4128</td>\n",
       "      <td>899.0</td>\n",
       "      <td>1.0</td>\n",
       "    </tr>\n",
       "    <tr>\n",
       "      <th>155032</th>\n",
       "      <td>16.02.2013</td>\n",
       "      <td>1</td>\n",
       "      <td>23</td>\n",
       "      <td>4147</td>\n",
       "      <td>2090.0</td>\n",
       "      <td>1.0</td>\n",
       "    </tr>\n",
       "    <tr>\n",
       "      <th>155033</th>\n",
       "      <td>19.02.2013</td>\n",
       "      <td>1</td>\n",
       "      <td>23</td>\n",
       "      <td>4147</td>\n",
       "      <td>2090.0</td>\n",
       "      <td>1.0</td>\n",
       "    </tr>\n",
       "    <tr>\n",
       "      <th>155034</th>\n",
       "      <td>03.02.2013</td>\n",
       "      <td>1</td>\n",
       "      <td>23</td>\n",
       "      <td>4148</td>\n",
       "      <td>1490.0</td>\n",
       "      <td>1.0</td>\n",
       "    </tr>\n",
       "    <tr>\n",
       "      <th>155035</th>\n",
       "      <td>07.02.2013</td>\n",
       "      <td>1</td>\n",
       "      <td>23</td>\n",
       "      <td>4148</td>\n",
       "      <td>1490.0</td>\n",
       "      <td>1.0</td>\n",
       "    </tr>\n",
       "    <tr>\n",
       "      <th>155036</th>\n",
       "      <td>17.02.2013</td>\n",
       "      <td>1</td>\n",
       "      <td>23</td>\n",
       "      <td>4148</td>\n",
       "      <td>1490.0</td>\n",
       "      <td>1.0</td>\n",
       "    </tr>\n",
       "    <tr>\n",
       "      <th>155037</th>\n",
       "      <td>04.02.2013</td>\n",
       "      <td>1</td>\n",
       "      <td>23</td>\n",
       "      <td>4161</td>\n",
       "      <td>849.0</td>\n",
       "      <td>1.0</td>\n",
       "    </tr>\n",
       "    <tr>\n",
       "      <th>155038</th>\n",
       "      <td>05.02.2013</td>\n",
       "      <td>1</td>\n",
       "      <td>23</td>\n",
       "      <td>4161</td>\n",
       "      <td>849.0</td>\n",
       "      <td>1.0</td>\n",
       "    </tr>\n",
       "    <tr>\n",
       "      <th>155039</th>\n",
       "      <td>06.02.2013</td>\n",
       "      <td>1</td>\n",
       "      <td>23</td>\n",
       "      <td>4161</td>\n",
       "      <td>849.0</td>\n",
       "      <td>2.0</td>\n",
       "    </tr>\n",
       "  </tbody>\n",
       "</table>\n",
       "</div>"
      ],
      "text/plain": [
       "              date  date_block_num  shop_id  item_id  item_price  item_cnt_day\n",
       "155030  25.02.2013               1       23     4128       899.0           1.0\n",
       "155031  26.02.2013               1       23     4128       899.0           1.0\n",
       "155032  16.02.2013               1       23     4147      2090.0           1.0\n",
       "155033  19.02.2013               1       23     4147      2090.0           1.0\n",
       "155034  03.02.2013               1       23     4148      1490.0           1.0\n",
       "155035  07.02.2013               1       23     4148      1490.0           1.0\n",
       "155036  17.02.2013               1       23     4148      1490.0           1.0\n",
       "155037  04.02.2013               1       23     4161       849.0           1.0\n",
       "155038  05.02.2013               1       23     4161       849.0           1.0\n",
       "155039  06.02.2013               1       23     4161       849.0           2.0"
      ]
     },
     "execution_count": 24,
     "metadata": {},
     "output_type": "execute_result"
    }
   ],
   "source": [
    "train[155030:155040]"
   ]
  },
  {
   "cell_type": "code",
   "execution_count": 55,
   "id": "671e02f3-5eec-4898-b3e7-326749a96abd",
   "metadata": {},
   "outputs": [
    {
     "data": {
      "text/html": [
       "<div>\n",
       "<style scoped>\n",
       "    .dataframe tbody tr th:only-of-type {\n",
       "        vertical-align: middle;\n",
       "    }\n",
       "\n",
       "    .dataframe tbody tr th {\n",
       "        vertical-align: top;\n",
       "    }\n",
       "\n",
       "    .dataframe thead th {\n",
       "        text-align: right;\n",
       "    }\n",
       "</style>\n",
       "<table border=\"1\" class=\"dataframe\">\n",
       "  <thead>\n",
       "    <tr style=\"text-align: right;\">\n",
       "      <th></th>\n",
       "      <th>ID</th>\n",
       "      <th>shop_id</th>\n",
       "      <th>item_id</th>\n",
       "    </tr>\n",
       "  </thead>\n",
       "  <tbody>\n",
       "    <tr>\n",
       "      <th>0</th>\n",
       "      <td>0</td>\n",
       "      <td>5</td>\n",
       "      <td>5037</td>\n",
       "    </tr>\n",
       "    <tr>\n",
       "      <th>1</th>\n",
       "      <td>1</td>\n",
       "      <td>5</td>\n",
       "      <td>5320</td>\n",
       "    </tr>\n",
       "    <tr>\n",
       "      <th>2</th>\n",
       "      <td>2</td>\n",
       "      <td>5</td>\n",
       "      <td>5233</td>\n",
       "    </tr>\n",
       "    <tr>\n",
       "      <th>3</th>\n",
       "      <td>3</td>\n",
       "      <td>5</td>\n",
       "      <td>5232</td>\n",
       "    </tr>\n",
       "    <tr>\n",
       "      <th>4</th>\n",
       "      <td>4</td>\n",
       "      <td>5</td>\n",
       "      <td>5268</td>\n",
       "    </tr>\n",
       "  </tbody>\n",
       "</table>\n",
       "</div>"
      ],
      "text/plain": [
       "   ID  shop_id  item_id\n",
       "0   0        5     5037\n",
       "1   1        5     5320\n",
       "2   2        5     5233\n",
       "3   3        5     5232\n",
       "4   4        5     5268"
      ]
     },
     "execution_count": 55,
     "metadata": {},
     "output_type": "execute_result"
    }
   ],
   "source": [
    "test = pd.read_csv('./input/competitive-data-science-predict-future-sales/test.csv')\n",
    "test.head()"
   ]
  },
  {
   "cell_type": "code",
   "execution_count": 6,
   "id": "daed72b7-2bb8-42ff-be04-820cb3d08684",
   "metadata": {},
   "outputs": [
    {
     "data": {
      "text/html": [
       "<div>\n",
       "<style scoped>\n",
       "    .dataframe tbody tr th:only-of-type {\n",
       "        vertical-align: middle;\n",
       "    }\n",
       "\n",
       "    .dataframe tbody tr th {\n",
       "        vertical-align: top;\n",
       "    }\n",
       "\n",
       "    .dataframe thead th {\n",
       "        text-align: right;\n",
       "    }\n",
       "</style>\n",
       "<table border=\"1\" class=\"dataframe\">\n",
       "  <thead>\n",
       "    <tr style=\"text-align: right;\">\n",
       "      <th></th>\n",
       "      <th>ID</th>\n",
       "      <th>item_cnt_month</th>\n",
       "    </tr>\n",
       "  </thead>\n",
       "  <tbody>\n",
       "    <tr>\n",
       "      <th>0</th>\n",
       "      <td>0</td>\n",
       "      <td>0.5</td>\n",
       "    </tr>\n",
       "    <tr>\n",
       "      <th>1</th>\n",
       "      <td>1</td>\n",
       "      <td>0.5</td>\n",
       "    </tr>\n",
       "    <tr>\n",
       "      <th>2</th>\n",
       "      <td>2</td>\n",
       "      <td>0.5</td>\n",
       "    </tr>\n",
       "    <tr>\n",
       "      <th>3</th>\n",
       "      <td>3</td>\n",
       "      <td>0.5</td>\n",
       "    </tr>\n",
       "    <tr>\n",
       "      <th>4</th>\n",
       "      <td>4</td>\n",
       "      <td>0.5</td>\n",
       "    </tr>\n",
       "  </tbody>\n",
       "</table>\n",
       "</div>"
      ],
      "text/plain": [
       "   ID  item_cnt_month\n",
       "0   0             0.5\n",
       "1   1             0.5\n",
       "2   2             0.5\n",
       "3   3             0.5\n",
       "4   4             0.5"
      ]
     },
     "execution_count": 6,
     "metadata": {},
     "output_type": "execute_result"
    }
   ],
   "source": [
    "sample_submission = pd.read_csv('./input/competitive-data-science-predict-future-sales/sample_submission.csv')\n",
    "sample_submission.head()"
   ]
  },
  {
   "cell_type": "code",
   "execution_count": 71,
   "id": "ab85eef5-363a-4dce-a599-9efd06bea460",
   "metadata": {},
   "outputs": [
    {
     "name": "stdout",
     "output_type": "stream",
     "text": [
      "Number of items: 22170\n"
     ]
    },
    {
     "data": {
      "text/html": [
       "<div>\n",
       "<style scoped>\n",
       "    .dataframe tbody tr th:only-of-type {\n",
       "        vertical-align: middle;\n",
       "    }\n",
       "\n",
       "    .dataframe tbody tr th {\n",
       "        vertical-align: top;\n",
       "    }\n",
       "\n",
       "    .dataframe thead th {\n",
       "        text-align: right;\n",
       "    }\n",
       "</style>\n",
       "<table border=\"1\" class=\"dataframe\">\n",
       "  <thead>\n",
       "    <tr style=\"text-align: right;\">\n",
       "      <th></th>\n",
       "      <th>item_name</th>\n",
       "      <th>item_id</th>\n",
       "      <th>item_category_id</th>\n",
       "    </tr>\n",
       "  </thead>\n",
       "  <tbody>\n",
       "    <tr>\n",
       "      <th>0</th>\n",
       "      <td>! ВО ВЛАСТИ НАВАЖДЕНИЯ (ПЛАСТ.)         D</td>\n",
       "      <td>0</td>\n",
       "      <td>40</td>\n",
       "    </tr>\n",
       "    <tr>\n",
       "      <th>1</th>\n",
       "      <td>!ABBYY FineReader 12 Professional Edition Full...</td>\n",
       "      <td>1</td>\n",
       "      <td>76</td>\n",
       "    </tr>\n",
       "    <tr>\n",
       "      <th>2</th>\n",
       "      <td>***В ЛУЧАХ СЛАВЫ   (UNV)                    D</td>\n",
       "      <td>2</td>\n",
       "      <td>40</td>\n",
       "    </tr>\n",
       "    <tr>\n",
       "      <th>3</th>\n",
       "      <td>***ГОЛУБАЯ ВОЛНА  (Univ)                      D</td>\n",
       "      <td>3</td>\n",
       "      <td>40</td>\n",
       "    </tr>\n",
       "    <tr>\n",
       "      <th>4</th>\n",
       "      <td>***КОРОБКА (СТЕКЛО)                       D</td>\n",
       "      <td>4</td>\n",
       "      <td>40</td>\n",
       "    </tr>\n",
       "  </tbody>\n",
       "</table>\n",
       "</div>"
      ],
      "text/plain": [
       "                                           item_name  item_id  \\\n",
       "0          ! ВО ВЛАСТИ НАВАЖДЕНИЯ (ПЛАСТ.)         D        0   \n",
       "1  !ABBYY FineReader 12 Professional Edition Full...        1   \n",
       "2      ***В ЛУЧАХ СЛАВЫ   (UNV)                    D        2   \n",
       "3    ***ГОЛУБАЯ ВОЛНА  (Univ)                      D        3   \n",
       "4        ***КОРОБКА (СТЕКЛО)                       D        4   \n",
       "\n",
       "   item_category_id  \n",
       "0                40  \n",
       "1                76  \n",
       "2                40  \n",
       "3                40  \n",
       "4                40  "
      ]
     },
     "execution_count": 71,
     "metadata": {},
     "output_type": "execute_result"
    }
   ],
   "source": [
    "items = pd.read_csv('./input/competitive-data-science-predict-future-sales/items.csv')\n",
    "num_items = len(items)\n",
    "print(f'Number of items: {num_items}')\n",
    "items.head()"
   ]
  },
  {
   "cell_type": "code",
   "execution_count": 72,
   "id": "e5b08ad9-21a3-4c9f-b044-0a3383d789b0",
   "metadata": {},
   "outputs": [
    {
     "name": "stdout",
     "output_type": "stream",
     "text": [
      "Number of shops: 60\n"
     ]
    }
   ],
   "source": [
    "# These seems not so useful for now\n",
    "# item_categories = pd.read_csv('./input/competitive-data-science-predict-future-sales/item_categories.csv')\n",
    "# item_categories.head()\n",
    "shops = pd.read_csv('./input/competitive-data-science-predict-future-sales/shops.csv')\n",
    "# shops.head()\n",
    "num_shops = len(shops)\n",
    "print(f'Number of shops: {num_shops}')"
   ]
  },
  {
   "cell_type": "code",
   "execution_count": 58,
   "id": "a668e904-b308-48fc-9554-991cd2847c9a",
   "metadata": {},
   "outputs": [
    {
     "name": "stdout",
     "output_type": "stream",
     "text": [
      "Index(['date_block_num', 'shop_id', 'item_id', 'item_cnt_day'], dtype='object')\n"
     ]
    },
    {
     "data": {
      "text/html": [
       "<div>\n",
       "<style scoped>\n",
       "    .dataframe tbody tr th:only-of-type {\n",
       "        vertical-align: middle;\n",
       "    }\n",
       "\n",
       "    .dataframe tbody tr th {\n",
       "        vertical-align: top;\n",
       "    }\n",
       "\n",
       "    .dataframe thead th {\n",
       "        text-align: right;\n",
       "    }\n",
       "</style>\n",
       "<table border=\"1\" class=\"dataframe\">\n",
       "  <thead>\n",
       "    <tr style=\"text-align: right;\">\n",
       "      <th></th>\n",
       "      <th>date_block_num</th>\n",
       "      <th>shop_id</th>\n",
       "      <th>item_id</th>\n",
       "      <th>item_cnt_day</th>\n",
       "    </tr>\n",
       "  </thead>\n",
       "  <tbody>\n",
       "    <tr>\n",
       "      <th>0</th>\n",
       "      <td>0</td>\n",
       "      <td>0</td>\n",
       "      <td>32</td>\n",
       "      <td>6.0</td>\n",
       "    </tr>\n",
       "    <tr>\n",
       "      <th>1</th>\n",
       "      <td>0</td>\n",
       "      <td>0</td>\n",
       "      <td>33</td>\n",
       "      <td>3.0</td>\n",
       "    </tr>\n",
       "    <tr>\n",
       "      <th>2</th>\n",
       "      <td>0</td>\n",
       "      <td>0</td>\n",
       "      <td>35</td>\n",
       "      <td>1.0</td>\n",
       "    </tr>\n",
       "    <tr>\n",
       "      <th>3</th>\n",
       "      <td>0</td>\n",
       "      <td>0</td>\n",
       "      <td>43</td>\n",
       "      <td>1.0</td>\n",
       "    </tr>\n",
       "    <tr>\n",
       "      <th>4</th>\n",
       "      <td>0</td>\n",
       "      <td>0</td>\n",
       "      <td>51</td>\n",
       "      <td>2.0</td>\n",
       "    </tr>\n",
       "  </tbody>\n",
       "</table>\n",
       "</div>"
      ],
      "text/plain": [
       "   date_block_num  shop_id  item_id  item_cnt_day\n",
       "0               0        0       32           6.0\n",
       "1               0        0       33           3.0\n",
       "2               0        0       35           1.0\n",
       "3               0        0       43           1.0\n",
       "4               0        0       51           2.0"
      ]
     },
     "execution_count": 58,
     "metadata": {},
     "output_type": "execute_result"
    }
   ],
   "source": [
    "A = train.copy()\n",
    "A.pop('date')\n",
    "A.pop('item_price')\n",
    "print(A.columns)\n",
    "A = A.groupby(['date_block_num', 'shop_id', 'item_id']).sum() #.item_cnt_day.agg('sum')\n",
    "A = A.reset_index()\n",
    "A.head()"
   ]
  },
  {
   "cell_type": "code",
   "execution_count": 59,
   "id": "4b45c228-d060-4f6f-a258-da163e9ba818",
   "metadata": {},
   "outputs": [
    {
     "data": {
      "text/html": [
       "<div>\n",
       "<style scoped>\n",
       "    .dataframe tbody tr th:only-of-type {\n",
       "        vertical-align: middle;\n",
       "    }\n",
       "\n",
       "    .dataframe tbody tr th {\n",
       "        vertical-align: top;\n",
       "    }\n",
       "\n",
       "    .dataframe thead th {\n",
       "        text-align: right;\n",
       "    }\n",
       "</style>\n",
       "<table border=\"1\" class=\"dataframe\">\n",
       "  <thead>\n",
       "    <tr style=\"text-align: right;\">\n",
       "      <th></th>\n",
       "      <th>date</th>\n",
       "      <th>date_block_num</th>\n",
       "      <th>shop_id</th>\n",
       "      <th>item_id</th>\n",
       "      <th>item_price</th>\n",
       "      <th>item_cnt_day</th>\n",
       "    </tr>\n",
       "  </thead>\n",
       "  <tbody>\n",
       "    <tr>\n",
       "      <th>40085</th>\n",
       "      <td>03.01.2013</td>\n",
       "      <td>0</td>\n",
       "      <td>0</td>\n",
       "      <td>32</td>\n",
       "      <td>221.0</td>\n",
       "      <td>2.0</td>\n",
       "    </tr>\n",
       "    <tr>\n",
       "      <th>40086</th>\n",
       "      <td>21.01.2013</td>\n",
       "      <td>0</td>\n",
       "      <td>0</td>\n",
       "      <td>32</td>\n",
       "      <td>221.0</td>\n",
       "      <td>2.0</td>\n",
       "    </tr>\n",
       "    <tr>\n",
       "      <th>40087</th>\n",
       "      <td>25.01.2013</td>\n",
       "      <td>0</td>\n",
       "      <td>0</td>\n",
       "      <td>32</td>\n",
       "      <td>221.0</td>\n",
       "      <td>1.0</td>\n",
       "    </tr>\n",
       "    <tr>\n",
       "      <th>40088</th>\n",
       "      <td>31.01.2013</td>\n",
       "      <td>0</td>\n",
       "      <td>0</td>\n",
       "      <td>32</td>\n",
       "      <td>221.0</td>\n",
       "      <td>1.0</td>\n",
       "    </tr>\n",
       "  </tbody>\n",
       "</table>\n",
       "</div>"
      ],
      "text/plain": [
       "             date  date_block_num  shop_id  item_id  item_price  item_cnt_day\n",
       "40085  03.01.2013               0        0       32       221.0           2.0\n",
       "40086  21.01.2013               0        0       32       221.0           2.0\n",
       "40087  25.01.2013               0        0       32       221.0           1.0\n",
       "40088  31.01.2013               0        0       32       221.0           1.0"
      ]
     },
     "execution_count": 59,
     "metadata": {},
     "output_type": "execute_result"
    }
   ],
   "source": [
    "train[(train.date_block_num == 0) & (train.shop_id == 0) & (train.item_id == 32)]"
   ]
  },
  {
   "cell_type": "code",
   "execution_count": 60,
   "id": "33294591-4c1b-4859-b463-5b7712592fe9",
   "metadata": {},
   "outputs": [
    {
     "data": {
      "text/html": [
       "<div>\n",
       "<style scoped>\n",
       "    .dataframe tbody tr th:only-of-type {\n",
       "        vertical-align: middle;\n",
       "    }\n",
       "\n",
       "    .dataframe tbody tr th {\n",
       "        vertical-align: top;\n",
       "    }\n",
       "\n",
       "    .dataframe thead th {\n",
       "        text-align: right;\n",
       "    }\n",
       "</style>\n",
       "<table border=\"1\" class=\"dataframe\">\n",
       "  <thead>\n",
       "    <tr style=\"text-align: right;\">\n",
       "      <th></th>\n",
       "      <th>date_block_num</th>\n",
       "      <th>shop_id</th>\n",
       "      <th>item_id</th>\n",
       "      <th>item_cnt_day</th>\n",
       "    </tr>\n",
       "  </thead>\n",
       "  <tbody>\n",
       "    <tr>\n",
       "      <th>75150</th>\n",
       "      <td>1</td>\n",
       "      <td>13</td>\n",
       "      <td>6004</td>\n",
       "      <td>1.0</td>\n",
       "    </tr>\n",
       "    <tr>\n",
       "      <th>75151</th>\n",
       "      <td>1</td>\n",
       "      <td>13</td>\n",
       "      <td>6005</td>\n",
       "      <td>1.0</td>\n",
       "    </tr>\n",
       "    <tr>\n",
       "      <th>75152</th>\n",
       "      <td>1</td>\n",
       "      <td>13</td>\n",
       "      <td>6013</td>\n",
       "      <td>1.0</td>\n",
       "    </tr>\n",
       "    <tr>\n",
       "      <th>75153</th>\n",
       "      <td>1</td>\n",
       "      <td>13</td>\n",
       "      <td>6031</td>\n",
       "      <td>1.0</td>\n",
       "    </tr>\n",
       "    <tr>\n",
       "      <th>75154</th>\n",
       "      <td>1</td>\n",
       "      <td>13</td>\n",
       "      <td>6045</td>\n",
       "      <td>4.0</td>\n",
       "    </tr>\n",
       "  </tbody>\n",
       "</table>\n",
       "</div>"
      ],
      "text/plain": [
       "       date_block_num  shop_id  item_id  item_cnt_day\n",
       "75150               1       13     6004           1.0\n",
       "75151               1       13     6005           1.0\n",
       "75152               1       13     6013           1.0\n",
       "75153               1       13     6031           1.0\n",
       "75154               1       13     6045           4.0"
      ]
     },
     "execution_count": 60,
     "metadata": {},
     "output_type": "execute_result"
    }
   ],
   "source": [
    "A[75150:75155]"
   ]
  },
  {
   "cell_type": "code",
   "execution_count": 61,
   "id": "75ac6edc-fdb6-4358-9f23-2ddb4a0ae6f3",
   "metadata": {},
   "outputs": [
    {
     "data": {
      "text/html": [
       "<div>\n",
       "<style scoped>\n",
       "    .dataframe tbody tr th:only-of-type {\n",
       "        vertical-align: middle;\n",
       "    }\n",
       "\n",
       "    .dataframe tbody tr th {\n",
       "        vertical-align: top;\n",
       "    }\n",
       "\n",
       "    .dataframe thead th {\n",
       "        text-align: right;\n",
       "    }\n",
       "</style>\n",
       "<table border=\"1\" class=\"dataframe\">\n",
       "  <thead>\n",
       "    <tr style=\"text-align: right;\">\n",
       "      <th></th>\n",
       "      <th>date</th>\n",
       "      <th>date_block_num</th>\n",
       "      <th>shop_id</th>\n",
       "      <th>item_id</th>\n",
       "      <th>item_price</th>\n",
       "      <th>item_cnt_day</th>\n",
       "    </tr>\n",
       "  </thead>\n",
       "  <tbody>\n",
       "    <tr>\n",
       "      <th>149057</th>\n",
       "      <td>04.02.2013</td>\n",
       "      <td>1</td>\n",
       "      <td>13</td>\n",
       "      <td>6045</td>\n",
       "      <td>190.0</td>\n",
       "      <td>1.0</td>\n",
       "    </tr>\n",
       "    <tr>\n",
       "      <th>149058</th>\n",
       "      <td>11.02.2013</td>\n",
       "      <td>1</td>\n",
       "      <td>13</td>\n",
       "      <td>6045</td>\n",
       "      <td>190.0</td>\n",
       "      <td>1.0</td>\n",
       "    </tr>\n",
       "    <tr>\n",
       "      <th>149059</th>\n",
       "      <td>20.02.2013</td>\n",
       "      <td>1</td>\n",
       "      <td>13</td>\n",
       "      <td>6045</td>\n",
       "      <td>190.0</td>\n",
       "      <td>1.0</td>\n",
       "    </tr>\n",
       "    <tr>\n",
       "      <th>149060</th>\n",
       "      <td>23.02.2013</td>\n",
       "      <td>1</td>\n",
       "      <td>13</td>\n",
       "      <td>6045</td>\n",
       "      <td>190.0</td>\n",
       "      <td>1.0</td>\n",
       "    </tr>\n",
       "  </tbody>\n",
       "</table>\n",
       "</div>"
      ],
      "text/plain": [
       "              date  date_block_num  shop_id  item_id  item_price  item_cnt_day\n",
       "149057  04.02.2013               1       13     6045       190.0           1.0\n",
       "149058  11.02.2013               1       13     6045       190.0           1.0\n",
       "149059  20.02.2013               1       13     6045       190.0           1.0\n",
       "149060  23.02.2013               1       13     6045       190.0           1.0"
      ]
     },
     "execution_count": 61,
     "metadata": {},
     "output_type": "execute_result"
    }
   ],
   "source": [
    "train[(train.date_block_num == 1) & (train.shop_id == 13) & (train.item_id == 6045)]"
   ]
  },
  {
   "cell_type": "code",
   "execution_count": 62,
   "id": "0eacc87b-371c-4465-93d2-e2db49587674",
   "metadata": {},
   "outputs": [
    {
     "data": {
      "text/plain": [
       "1609124"
      ]
     },
     "execution_count": 62,
     "metadata": {},
     "output_type": "execute_result"
    }
   ],
   "source": [
    "len(A)"
   ]
  },
  {
   "cell_type": "code",
   "execution_count": 76,
   "id": "6943ac5d-7174-41f9-a63d-dddc77b23e0f",
   "metadata": {},
   "outputs": [
    {
     "name": "stdout",
     "output_type": "stream",
     "text": [
      "34\n"
     ]
    },
    {
     "data": {
      "text/html": [
       "<div>\n",
       "<style scoped>\n",
       "    .dataframe tbody tr th:only-of-type {\n",
       "        vertical-align: middle;\n",
       "    }\n",
       "\n",
       "    .dataframe tbody tr th {\n",
       "        vertical-align: top;\n",
       "    }\n",
       "\n",
       "    .dataframe thead th {\n",
       "        text-align: right;\n",
       "    }\n",
       "</style>\n",
       "<table border=\"1\" class=\"dataframe\">\n",
       "  <thead>\n",
       "    <tr style=\"text-align: right;\">\n",
       "      <th></th>\n",
       "      <th>date</th>\n",
       "      <th>date_block_num</th>\n",
       "      <th>shop_id</th>\n",
       "      <th>item_id</th>\n",
       "      <th>item_price</th>\n",
       "      <th>item_cnt_day</th>\n",
       "    </tr>\n",
       "  </thead>\n",
       "  <tbody>\n",
       "    <tr>\n",
       "      <th>2935844</th>\n",
       "      <td>10.10.2015</td>\n",
       "      <td>33</td>\n",
       "      <td>25</td>\n",
       "      <td>7409</td>\n",
       "      <td>299.0</td>\n",
       "      <td>1.0</td>\n",
       "    </tr>\n",
       "    <tr>\n",
       "      <th>2935845</th>\n",
       "      <td>09.10.2015</td>\n",
       "      <td>33</td>\n",
       "      <td>25</td>\n",
       "      <td>7460</td>\n",
       "      <td>299.0</td>\n",
       "      <td>1.0</td>\n",
       "    </tr>\n",
       "    <tr>\n",
       "      <th>2935846</th>\n",
       "      <td>14.10.2015</td>\n",
       "      <td>33</td>\n",
       "      <td>25</td>\n",
       "      <td>7459</td>\n",
       "      <td>349.0</td>\n",
       "      <td>1.0</td>\n",
       "    </tr>\n",
       "    <tr>\n",
       "      <th>2935847</th>\n",
       "      <td>22.10.2015</td>\n",
       "      <td>33</td>\n",
       "      <td>25</td>\n",
       "      <td>7440</td>\n",
       "      <td>299.0</td>\n",
       "      <td>1.0</td>\n",
       "    </tr>\n",
       "    <tr>\n",
       "      <th>2935848</th>\n",
       "      <td>03.10.2015</td>\n",
       "      <td>33</td>\n",
       "      <td>25</td>\n",
       "      <td>7460</td>\n",
       "      <td>299.0</td>\n",
       "      <td>1.0</td>\n",
       "    </tr>\n",
       "  </tbody>\n",
       "</table>\n",
       "</div>"
      ],
      "text/plain": [
       "               date  date_block_num  shop_id  item_id  item_price  \\\n",
       "2935844  10.10.2015              33       25     7409       299.0   \n",
       "2935845  09.10.2015              33       25     7460       299.0   \n",
       "2935846  14.10.2015              33       25     7459       349.0   \n",
       "2935847  22.10.2015              33       25     7440       299.0   \n",
       "2935848  03.10.2015              33       25     7460       299.0   \n",
       "\n",
       "         item_cnt_day  \n",
       "2935844           1.0  \n",
       "2935845           1.0  \n",
       "2935846           1.0  \n",
       "2935847           1.0  \n",
       "2935848           1.0  "
      ]
     },
     "execution_count": 76,
     "metadata": {},
     "output_type": "execute_result"
    }
   ],
   "source": [
    "print(train.date_block_num.nunique())\n",
    "num_date_block_num = 34\n",
    "assert num_date_block_num == train.date_block_num.nunique()\n",
    "train.tail()"
   ]
  },
  {
   "cell_type": "code",
   "execution_count": 79,
   "id": "6903e55d-a455-46bf-ab20-4ed7e38b21b4",
   "metadata": {},
   "outputs": [
    {
     "data": {
      "text/plain": [
       "[[1, 2, 3], [2, [3, 2]]]"
      ]
     },
     "execution_count": 79,
     "metadata": {},
     "output_type": "execute_result"
    }
   ],
   "source": [
    "import numpy as np\n",
    "series = []\n",
    "series.append([1, 2, 3])\n",
    "series.append([2, [3, 2]])\n",
    "series"
   ]
  },
  {
   "cell_type": "code",
   "execution_count": 80,
   "id": "bb57b7ea-e4a8-41f5-b252-4ffc5e22e8d7",
   "metadata": {},
   "outputs": [
    {
     "data": {
      "text/plain": [
       "(60, 22170)"
      ]
     },
     "execution_count": 80,
     "metadata": {},
     "output_type": "execute_result"
    }
   ],
   "source": [
    "num_shops_bak = num_shops\n",
    "num_items_bak = num_items\n",
    "num_date_block_num_bak = num_date_block_num\n",
    "num_shops_bak, num_items_bak, num_date_block_num_bak"
   ]
  },
  {
   "cell_type": "code",
   "execution_count": null,
   "id": "8a0ef17f-98da-4b50-8012-62f48fa9993c",
   "metadata": {},
   "outputs": [],
   "source": [
    "i, k, m = 1, 13, 6045\n",
    "len(A[(A.date_block_num == i) & (A.shop_id == k) & (A.item_id == m)].item_cnt_day)"
   ]
  },
  {
   "cell_type": "code",
   "execution_count": null,
   "id": "5f0b4124-c862-4f74-b831-99e087a58fa8",
   "metadata": {},
   "outputs": [],
   "source": [
    "# 1. Baseline\n",
    "# for each store\n",
    "#   for each item\n",
    "#     (time, item) one-dimentional forecasting \n",
    "#\n",
    "\n",
    "# 2.\n",
    "# For each item\n",
    "#    (time, [store1-item, store2-item, ...]) forecasting\n",
    "\n",
    "# 3.\n",
    "# For each item\n",
    "#    (time, [store1-item, store2-item, ..., mean_price-item-across-stores-monthly]) forecasting\n",
    "\n",
    "# 4.\n",
    "# Add category?\n",
    "\n",
    "# 5.\n",
    "# Across items?"
   ]
  },
  {
   "cell_type": "code",
   "execution_count": 210,
   "id": "d05f8b72-c95d-4270-aa1a-48f3e1ae3205",
   "metadata": {},
   "outputs": [
    {
     "name": "stdout",
     "output_type": "stream",
     "text": [
      "(34, 9)\n"
     ]
    }
   ],
   "source": [
    "num_date_block_num_used = 34\n",
    "shops = [0, 1, 25]\n",
    "items = [32, 6045, 7460]\n",
    "\n",
    "num_shops = len(shops)\n",
    "num_items = len(items)\n",
    "\n",
    "series = np.zeros((num_date_block_num_used, num_shops * num_items))\n",
    "\n",
    "print(series.shape)\n",
    "\n",
    "B = A[(A.shop_id.isin(shops)) & (A.item_id.isin(items)) & (A.date_block_num < num_date_block_num_used)]\n",
    "\n",
    "for index, row in B.iterrows():\n",
    "    shop_pos = shops.index(int(row.shop_id))\n",
    "    item_pos = items.index(int(row.item_id))\n",
    "    feature_pos = shop_pos * num_items + item_pos\n",
    "    series[int(row.date_block_num), feature_pos] = row.item_cnt_day"
   ]
  },
  {
   "cell_type": "code",
   "execution_count": 219,
   "id": "99262dda-7aaa-4725-b5ce-cd3175ba100c",
   "metadata": {},
   "outputs": [
    {
     "name": "stdout",
     "output_type": "stream",
     "text": [
      "(34, 9)\n"
     ]
    },
    {
     "data": {
      "text/plain": [
       "array([ 6.,  8.,  0.,  7.,  2.,  0., 41., 15.,  0.])"
      ]
     },
     "execution_count": 219,
     "metadata": {},
     "output_type": "execute_result"
    }
   ],
   "source": [
    "print(series.shape)\n",
    "# series\n",
    "series[0]"
   ]
  },
  {
   "cell_type": "code",
   "execution_count": 213,
   "id": "d29ba9f9-bb63-45ae-a4a0-ac542ee2a21c",
   "metadata": {},
   "outputs": [
    {
     "data": {
      "text/plain": [
       "<AxesSubplot:>"
      ]
     },
     "execution_count": 213,
     "metadata": {},
     "output_type": "execute_result"
    },
    {
     "data": {
      "image/png": "[encoded data removed]",
      "text/plain": [
       "<Figure size 432x288 with 1 Axes>"
      ]
     },
     "metadata": {
      "needs_background": "light"
     },
     "output_type": "display_data"
    }
   ],
   "source": [
    "import seaborn as sns\n",
    "\n",
    "df = pd.DataFrame(series[:, :9])\n",
    "\n",
    "sns.lineplot(data = df)"
   ]
  },
  {
   "cell_type": "code",
   "execution_count": 316,
   "id": "21810f40-64e8-45d4-a7ae-dbff8bb91c0f",
   "metadata": {},
   "outputs": [
    {
     "name": "stdout",
     "output_type": "stream",
     "text": [
      "(15, 7, 9)\n",
      "(15, 7)\n",
      "(15, 7, 9)\n"
     ]
    }
   ],
   "source": [
    "def seq2seq_window_dataset_inner(series, window_size = 7):\n",
    "    ds = tf.data.Dataset.from_tensor_slices(series)\n",
    "    ds = ds.window(window_size + 1, shift = 1, drop_remainder = True)\n",
    "    ds = ds.flat_map(lambda w: w.batch(window_size + 1))\n",
    "    ds = ds.map(lambda w: (w[:-1], w[1:,-1]))\n",
    "    return ds\n",
    "    \n",
    "def seq2seq_window_dataset(series, batch_size = 3, shuffle_buffer = 1000):\n",
    "    ds = seq2seq_window_dataset_inner(series)\n",
    "    ds = ds.shuffle(shuffle_buffer)\n",
    "    return ds.batch(batch_size).prefetch(1)\n",
    "    \n",
    "def seq2seq_window_dataset_x_only(series, batch_size = 3, shuffle_buffer = 1000):\n",
    "    ds = seq2seq_window_dataset_inner(series)\n",
    "    ds = ds.map(lambda x, y: x)\n",
    "    return ds.batch(batch_size).prefetch(1)\n",
    "\n",
    "for X, y in seq2seq_window_dataset(series, 15):\n",
    "    print(X.shape)\n",
    "    print(y.shape)\n",
    "    break\n",
    "    \n",
    "for X in seq2seq_window_dataset_x_only(series, 15):\n",
    "    print(X.shape)\n",
    "    break"
   ]
  },
  {
   "cell_type": "markdown",
   "id": "d7e69f39-a0ab-46cd-ad30-58370ee1e275",
   "metadata": {},
   "source": [
    "# CNN"
   ]
  },
  {
   "cell_type": "code",
   "execution_count": 317,
   "id": "74943d5f-97df-4e71-9a80-cc5ad6684779",
   "metadata": {},
   "outputs": [
    {
     "name": "stdout",
     "output_type": "stream",
     "text": [
      "9\n",
      "Model: \"sequential\"\n",
      "_________________________________________________________________\n",
      "Layer (type)                 Output Shape              Param #   \n",
      "=================================================================\n",
      "conv1d (Conv1D)              (None, None, 32)          608       \n",
      "_________________________________________________________________\n",
      "conv1d_1 (Conv1D)            (None, None, 32)          2080      \n",
      "_________________________________________________________________\n",
      "conv1d_2 (Conv1D)            (None, None, 32)          2080      \n",
      "_________________________________________________________________\n",
      "conv1d_3 (Conv1D)            (None, None, 32)          2080      \n",
      "_________________________________________________________________\n",
      "dense (Dense)                (None, None, 1)           33        \n",
      "=================================================================\n",
      "Total params: 6,881\n",
      "Trainable params: 6,881\n",
      "Non-trainable params: 0\n",
      "_________________________________________________________________\n"
     ]
    }
   ],
   "source": [
    "def build_model(series, window_size = 7, batch_size = 3):\n",
    "    split = int(len(series) * 0.7)\n",
    "    train = series[:split]\n",
    "    valid = series[split:]\n",
    "    \n",
    "    input_shape = train.shape[1]\n",
    "    print(input_shape)\n",
    "    \n",
    "    assert window_size < len(train)\n",
    "    assert window_size < len(valid)\n",
    "    \n",
    "    keras.backend.clear_session()\n",
    "    tf.random.set_seed(1)\n",
    "    np.random.seed(1)\n",
    "    \n",
    "    train_set = seq2seq_window_dataset(train)\n",
    "    valid_set = seq2seq_window_dataset(valid)\n",
    "    \n",
    "    early_stopping = keras.callbacks.EarlyStopping(\n",
    "        patience = 10,\n",
    "        restore_best_weights = True,\n",
    "    )\n",
    "\n",
    "    model = keras.models.Sequential([\n",
    "        keras.layers.InputLayer(input_shape = [None, input_shape]),\n",
    "    ])\n",
    "\n",
    "    for dilation_rate in (1, 2, 4, 8):\n",
    "        model.add(keras.layers.Conv1D(\n",
    "            filters = 32,\n",
    "            kernel_size = 2,\n",
    "            strides = 1,\n",
    "            dilation_rate = dilation_rate,\n",
    "            padding = 'causal',\n",
    "            activation = 'relu',\n",
    "        ))\n",
    "    \n",
    "    model.add(keras.layers.Dense(1))\n",
    "    return model, train_set, valid_set\n",
    "    \n",
    "model, train_set, valid_set = build_model(series)\n",
    "model.summary()"
   ]
  },
  {
   "cell_type": "code",
   "execution_count": 301,
   "id": "2664e390-193e-4234-8980-a4c81626df92",
   "metadata": {},
   "outputs": [
    {
     "data": {
      "text/plain": [
       "(TensorSpec(shape=(None, None, 9), dtype=tf.float64, name=None),\n",
       " TensorSpec(shape=(None, None), dtype=tf.float64, name=None))"
      ]
     },
     "execution_count": 301,
     "metadata": {},
     "output_type": "execute_result"
    }
   ],
   "source": [
    "train_set.element_spec"
   ]
  },
  {
   "cell_type": "code",
   "execution_count": 318,
   "id": "4b670b89-0421-4c93-8035-27d4dfe66352",
   "metadata": {},
   "outputs": [
    {
     "name": "stdout",
     "output_type": "stream",
     "text": [
      "Epoch 1/500\n",
      "6/6 [==============================] - 1s 47ms/step - loss: 0.0383 - mae: 0.1633 - val_loss: 1.7869 - val_mae: 2.2219\n",
      "Epoch 2/500\n",
      "6/6 [==============================] - 0s 7ms/step - loss: 0.0102 - mae: 0.0994 - val_loss: 1.8063 - val_mae: 2.2390\n",
      "Epoch 3/500\n",
      "6/6 [==============================] - 0s 7ms/step - loss: 0.0046 - mae: 0.0658 - val_loss: 1.7647 - val_mae: 2.1985\n",
      "Epoch 4/500\n",
      "6/6 [==============================] - 0s 7ms/step - loss: 0.0029 - mae: 0.0457 - val_loss: 1.7500 - val_mae: 2.1836\n",
      "Epoch 5/500\n",
      "6/6 [==============================] - 0s 7ms/step - loss: 0.0022 - mae: 0.0391 - val_loss: 1.7567 - val_mae: 2.1894\n",
      "Epoch 6/500\n",
      "6/6 [==============================] - 0s 6ms/step - loss: 0.0014 - mae: 0.0314 - val_loss: 1.7710 - val_mae: 2.2033\n",
      "Epoch 7/500\n",
      "6/6 [==============================] - 0s 6ms/step - loss: 0.0011 - mae: 0.0299 - val_loss: 1.7704 - val_mae: 2.2031\n",
      "Epoch 8/500\n",
      "6/6 [==============================] - 0s 6ms/step - loss: 8.2393e-04 - mae: 0.0271 - val_loss: 1.7648 - val_mae: 2.1974\n",
      "Epoch 9/500\n",
      "6/6 [==============================] - 0s 6ms/step - loss: 5.5786e-04 - mae: 0.0219 - val_loss: 1.7595 - val_mae: 2.1918\n",
      "Epoch 10/500\n",
      "6/6 [==============================] - 0s 6ms/step - loss: 4.5153e-04 - mae: 0.0185 - val_loss: 1.7560 - val_mae: 2.1885\n",
      "Epoch 11/500\n",
      "6/6 [==============================] - 0s 7ms/step - loss: 4.0141e-04 - mae: 0.0165 - val_loss: 1.7562 - val_mae: 2.1890\n",
      "Epoch 12/500\n",
      "6/6 [==============================] - 0s 7ms/step - loss: 3.4116e-04 - mae: 0.0154 - val_loss: 1.7599 - val_mae: 2.1926\n",
      "Epoch 13/500\n",
      "6/6 [==============================] - 0s 7ms/step - loss: 2.9215e-04 - mae: 0.0144 - val_loss: 1.7612 - val_mae: 2.1940\n",
      "Epoch 14/500\n",
      "6/6 [==============================] - 0s 7ms/step - loss: 2.5666e-04 - mae: 0.0134 - val_loss: 1.7581 - val_mae: 2.1912\n"
     ]
    }
   ],
   "source": [
    "def fit_model(model, train_set, valid_set):\n",
    "    model.compile(\n",
    "        optimizer = 'adam',\n",
    "        loss = 'huber',\n",
    "        metrics = ['mae'],\n",
    "    )\n",
    "\n",
    "    history = model.fit(\n",
    "        train_set,\n",
    "        epochs = 500,\n",
    "        validation_data = valid_set,\n",
    "        callbacks = [early_stopping],\n",
    "    )\n",
    "    return history\n",
    "    \n",
    "history = fit_model(model, train_set, valid_set)\n"
   ]
  },
  {
   "cell_type": "code",
   "execution_count": 319,
   "id": "989db705-3b27-42c3-a873-4767d3a9128f",
   "metadata": {},
   "outputs": [
    {
     "name": "stdout",
     "output_type": "stream",
     "text": [
      "Validation MAE min: 2.183617353439331\n"
     ]
    },
    {
     "data": {
      "image/png": "[encoded data removed]",
      "text/plain": [
       "<Figure size 432x288 with 1 Axes>"
      ]
     },
     "metadata": {
      "needs_background": "light"
     },
     "output_type": "display_data"
    }
   ],
   "source": [
    "history_df = pd.DataFrame(history.history)\n",
    "history_df.loc[:, ['mae', 'val_mae']].plot(title = 'MAE')\n",
    "print(f'Validation MAE min: {history_df.val_mae.min()}')"
   ]
  },
  {
   "cell_type": "code",
   "execution_count": 328,
   "id": "21f42031-dab8-45a2-b68e-4c39e1f38fb5",
   "metadata": {},
   "outputs": [
    {
     "name": "stdout",
     "output_type": "stream",
     "text": [
      "[-0.03146819 -0.00081512 -0.00805508  0.01103789  0.12704742  0.01140871\n",
      "  0.07651622 -0.01508689  0.05071196 -0.02585742 -0.00286732  0.01885132\n",
      "  0.03742605  0.0846741   0.00974713  0.00840492  0.01460908 -0.00952401\n",
      "  0.0049123   0.0645616  -0.07674325  0.14494197  0.15514518  0.03213113\n",
      " -0.00362762  0.01474282 -0.00622483]\n",
      "[0. 0. 0. 0. 0. 0. 0. 0. 0. 0. 0. 0. 0. 0. 0. 0. 0. 0. 2. 1. 4. 4. 2. 2.\n",
      " 0. 2. 3.]\n",
      "0.7486766488981191\n"
     ]
    },
    {
     "data": {
      "image/png": "[encoded data removed]",
      "text/plain": [
       "<Figure size 432x288 with 1 Axes>"
      ]
     },
     "metadata": {
      "needs_background": "light"
     },
     "output_type": "display_data"
    }
   ],
   "source": [
    "import seaborn as sns\n",
    "\n",
    "def model_forecast(model, series):    \n",
    "    ds = seq2seq_window_dataset_x_only(series)\n",
    "    cnn_forecast = model.predict(ds)\n",
    "\n",
    "    pos = -1\n",
    "    f = cnn_forecast[:,-1,pos]\n",
    "    s = series[window_size:,pos] # this should be window_size - 1 ...\n",
    "\n",
    "    df = pd.DataFrame({\n",
    "        'forecast': f,   \n",
    "        'real': s,\n",
    "    })\n",
    "    sns.lineplot(data = df)\n",
    "    print(keras.metrics.mean_absolute_error(f, s).numpy())\n",
    "    \n",
    "model_forecast(model, series)    "
   ]
  },
  {
   "cell_type": "code",
   "execution_count": 326,
   "id": "8d61a656-8dd5-4696-b2db-6ee0c40d03e7",
   "metadata": {},
   "outputs": [
    {
     "data": {
      "text/plain": [
       "array([0., 0., 0., 0., 0., 0., 0., 0., 0., 0., 0., 0., 0., 0., 0., 0., 0.,\n",
       "       0., 2., 1., 4., 4., 2., 2., 0., 2., 3.])"
      ]
     },
     "execution_count": 326,
     "metadata": {},
     "output_type": "execute_result"
    }
   ],
   "source": [
    "series[7:,-1]"
   ]
  },
  {
   "cell_type": "code",
   "execution_count": 250,
   "id": "42e1ea5f-8d82-4044-83b6-8e22a7f1b210",
   "metadata": {},
   "outputs": [
    {
     "name": "stdout",
     "output_type": "stream",
     "text": [
      "(34, 9)\n"
     ]
    },
    {
     "data": {
      "text/plain": [
       "(28, 7, 9)"
      ]
     },
     "execution_count": 250,
     "metadata": {},
     "output_type": "execute_result"
    }
   ],
   "source": [
    "print(series.shape)\n",
    "cnn_forecast.shape"
   ]
  },
  {
   "cell_type": "code",
   "execution_count": 272,
   "id": "ef6b7bc1-a8ae-4138-9df6-13c62740138b",
   "metadata": {},
   "outputs": [
    {
     "data": {
      "text/plain": [
       "<AxesSubplot:>"
      ]
     },
     "execution_count": 272,
     "metadata": {},
     "output_type": "execute_result"
    },
    {
     "data": {
      "image/png": "[encoded data removed]",
      "text/plain": [
       "<Figure size 432x288 with 1 Axes>"
      ]
     },
     "metadata": {
      "needs_background": "light"
     },
     "output_type": "display_data"
    }
   ],
   "source": [
    "import seaborn as sns\n",
    "\n",
    "pos = 6\n",
    "f = cnn_forecast[:,-1,pos]\n",
    "s = series[window_size-1:,pos]\n",
    "df = pd.DataFrame({\n",
    "    'forecast': f,   \n",
    "    'real': s,\n",
    "})\n",
    "\n",
    "sns.lineplot(data = df)"
   ]
  },
  {
   "cell_type": "code",
   "execution_count": 258,
   "id": "e881e939-beeb-407c-aaf9-e143863830d4",
   "metadata": {},
   "outputs": [
    {
     "data": {
      "text/plain": [
       "(28,)"
      ]
     },
     "execution_count": 258,
     "metadata": {},
     "output_type": "execute_result"
    }
   ],
   "source": [
    "cnn_forecast[:,-1,:].shape\n",
    "cnn_forecast[:,-1,0].shape\n",
    "# tf.squeeze(cnn_forecast[:,-1,:][:0].shape).shape\n",
    "# tf.squeeze(cnn_forecast[:,-1,:], axis = -1).numpy().shape"
   ]
  },
  {
   "cell_type": "code",
   "execution_count": 273,
   "id": "c9b58d4e-329f-4af6-9835-c481ba6a33df",
   "metadata": {},
   "outputs": [
    {
     "data": {
      "text/plain": [
       "(28, 9)"
      ]
     },
     "execution_count": 273,
     "metadata": {},
     "output_type": "execute_result"
    }
   ],
   "source": [
    "series[window_size-1:].shape"
   ]
  },
  {
   "cell_type": "code",
   "execution_count": null,
   "id": "9640186c-d82b-4f6b-9fc2-c100a39a137c",
   "metadata": {},
   "outputs": [],
   "source": [
    "def predict_last_feature(df, shops, items):\n",
    "    num_shops = len(shops)\n",
    "    num_items = len(items)\n",
    "    \n",
    "    series = np.zeros(34, num_shops * num_items)\n",
    "    used_df = df[(df.shop_id.isin(shops)) & (df.item_id.isin(items))]\n",
    "    for _, row in used_df.iterrows():\n",
    "        shop_pos = shops.index(int(row.shop_id))\n",
    "        item_pos = items.index(int(row.item_id))\n",
    "        feature_pos = shop_pos * num_items + item_pos\n",
    "        series[int(row.date_block_num), feature_pos] = row.item_cnt_day\n",
    "        \n",
    "    split = int(len(series) * 0.7)    \n",
    "    train = series[:split]\n",
    "    valid = series[split:]\n",
    "    \n",
    "    tf.random.set_seed(1)\n",
    "    np.random.seed(1)\n",
    "\n",
    "    input_shape = train.shape[1]\n",
    "    window_size = 7\n",
    "    batch_size = 3\n",
    "    \n",
    "    train_set = seq2seq_window_dataset(train, window_size, batch_size)\n",
    "    valid_set = seq2seq_window_dataset(valid, window_size, batch_size)\n",
    "\n",
    "    early_stopping = keras.callbacks.EarlyStopping(\n",
    "        patience = 10,\n",
    "        restore_best_weights = True,\n",
    "    )\n",
    "\n",
    "    model = keras.models.Sequential([\n",
    "        keras.layers.InputLayer(input_shape = [None, input_shape]),\n",
    "    ])\n",
    "    for dilation_rate in (1, 2, 4, 8):\n",
    "    model.add(keras.layers.Conv1D(\n",
    "        filters = 32,\n",
    "        kernel_size = 2,\n",
    "        strides = 1,\n",
    "        dilation_rate = dilation_rate,\n",
    "        padding = 'causal',\n",
    "        activation = 'relu',\n",
    "    ))\n",
    "    \n",
    "    model.add(keras.layers.Dense(input_shape))\n",
    "    \n",
    "    "
   ]
  },
  {
   "cell_type": "code",
   "execution_count": null,
   "id": "b025f042-c211-485f-b3db-9b08c14919ad",
   "metadata": {},
   "outputs": [],
   "source": []
  },
  {
   "cell_type": "markdown",
   "id": "ef3253b9-0de8-4616-9811-3f4d60941b40",
   "metadata": {},
   "source": [
    "# Reference\n",
    "\n",
    "[UD187 - Intro to TensorFlow for Deep Learning - Lesson 8 Time Series Forcasting - 29. Wavenet](https://classroom.udacity.com/courses/ud187)"
   ]
  }
 ],
 "metadata": {
  "kernelspec": {
   "display_name": "Python 3",
   "language": "python",
   "name": "python3"
  },
  "language_info": {
   "codemirror_mode": {
    "name": "ipython",
    "version": 3
   },
   "file_extension": ".py",
   "mimetype": "text/x-python",
   "name": "python",
   "nbconvert_exporter": "python",
   "pygments_lexer": "ipython3",
   "version": "3.9.6"
  }
 },
 "nbformat": 4,
 "nbformat_minor": 5
}
